{
  "cells": [
    {
      "cell_type": "markdown",
      "metadata": {
        "id": "view-in-github",
        "colab_type": "text"
      },
      "source": [
        "<a href=\"https://colab.research.google.com/github/sungjindo/python_study/blob/main/ch12_%EB%8F%84%EC%84%B1%EC%A7%84.ipynb\" target=\"_parent\"><img src=\"https://colab.research.google.com/assets/colab-badge.svg\" alt=\"Open In Colab\"/></a>"
      ]
    },
    {
      "cell_type": "markdown",
      "source": [
        "이름: 도성진"
      ],
      "metadata": {
        "id": "iEx4y23BV1jS"
      }
    },
    {
      "cell_type": "markdown",
      "metadata": {
        "id": "7YzgvQkIEyr7"
      },
      "source": [
        "# address.csv 파일에는 다음과 같이 사람들의 인적사항이 저장되어 있다. csv파일을 불러와서 sqlite로 address 테이블을 생성한 후 age가 30이상인 사람들의 name과 gender만 추출하는 코드를 생성하시오. "
      ]
    },
    {
      "cell_type": "code",
      "execution_count": null,
      "metadata": {
        "id": "A-Ql2OjWec_f"
      },
      "outputs": [],
      "source": [
        "import csv\n",
        "import sqlite3"
      ]
    },
    {
      "cell_type": "code",
      "source": [
        "from google.colab import drive\n",
        "drive.mount('/content/gdrive')"
      ],
      "metadata": {
        "colab": {
          "base_uri": "https://localhost:8080/"
        },
        "id": "z8Gl8yRoIdiY",
        "outputId": "5a475241-ad9d-4f8a-cd91-90bfb9e93c9c"
      },
      "execution_count": null,
      "outputs": [
        {
          "output_type": "stream",
          "name": "stdout",
          "text": [
            "Mounted at /content/gdrive\n"
          ]
        }
      ]
    },
    {
      "cell_type": "code",
      "source": [
        "# con = sqlite3.connect(':memory:')\n",
        "# query = \"\"\"CREATE TABLE IF NOT EXISTS sales (customey VARCHAR(20), product VARCHAR(40), amount FLOAT, date DATE);\"\"\"\n",
        "# con.execute(query)\n",
        "# con.commit()"
      ],
      "metadata": {
        "id": "4YoO6YzYe9xd"
      },
      "execution_count": null,
      "outputs": []
    },
    {
      "cell_type": "code",
      "source": [
        "input_file = \"/content/gdrive/My Drive/data/address.csv\""
      ],
      "metadata": {
        "id": "K63vS_wUIdki"
      },
      "execution_count": null,
      "outputs": []
    },
    {
      "cell_type": "code",
      "source": [
        "# 작업 디렉토리 변경시 해당 경로에 db생성\n",
        "import os\n",
        "os.chdir('/content/gdrive/My Drive/data')"
      ],
      "metadata": {
        "id": "bb9VrvFlO3wM"
      },
      "execution_count": null,
      "outputs": []
    },
    {
      "cell_type": "markdown",
      "source": [
        "### 1. TABLE 생성하고 csv에서 불러온 내용을 db에 입력해보자."
      ],
      "metadata": {
        "id": "WqEfNG4TVa3H"
      }
    },
    {
      "cell_type": "code",
      "source": [
        "#con = sqlite3.connect(':memory:') # RAM에 DB 생성\n",
        "con = sqlite3.connect('Address.db')\n",
        "c = con.cursor()\n",
        "con"
      ],
      "metadata": {
        "id": "fXBDUyCOItkN",
        "colab": {
          "base_uri": "https://localhost:8080/"
        },
        "outputId": "041789e8-bb7c-4f5c-edbd-5781b7d0a8da"
      },
      "execution_count": null,
      "outputs": [
        {
          "output_type": "execute_result",
          "data": {
            "text/plain": [
              "<sqlite3.Connection at 0x7f1131985c70>"
            ]
          },
          "metadata": {},
          "execution_count": 46
        }
      ]
    },
    {
      "cell_type": "code",
      "source": [
        "create_table = \"\"\"CREATE TABLE IF NOT EXISTS address\n",
        "                (name VARCHAR(20),phone FLOAT,address VARCHAR,gender,age FLOAT);\"\"\""
      ],
      "metadata": {
        "id": "Y8rJca_IIu-3"
      },
      "execution_count": null,
      "outputs": []
    },
    {
      "cell_type": "code",
      "source": [
        "c.execute(create_table) # 메모리로 열지 않고 지정한 경로에 데이터파일로 생성\n",
        "con.commit() \n",
        "# commit: 모든 작업을 정상적으로 처리하겠다고 확정하는 명령어이다.\n",
        "# 트랜젝션의 처리 과정을 데이터베이스에 반영하기 위해서, 변경된 내용을 모두 영구 저장한다.\n",
        "# COMMIT 수행하면, 하나의 트랜젝션 과정을 종료하게 된다.\n",
        "# TRANSACTION(INSERT, UPDATE, DELETE)작업 내용을 실제 DB에 저장한다."
      ],
      "metadata": {
        "id": "7Iduvt2QIvf_"
      },
      "execution_count": null,
      "outputs": []
    },
    {
      "cell_type": "code",
      "source": [
        "file_reader = csv.reader(open(input_file, 'r'), delimiter=',')\n",
        "header = next(file_reader, None) # 입력 파일의 첫 iteration 읽고 값 할당 후 넘김\n"
      ],
      "metadata": {
        "id": "pzbOATjtIxHF"
      },
      "execution_count": null,
      "outputs": []
    },
    {
      "cell_type": "code",
      "source": [
        "for row in file_reader:\n",
        "    data = []\n",
        "    for column_index in range(len(header)):\n",
        "        data.append(row[column_index])\n",
        "    print(data)\n",
        "    c.execute(\"INSERT INTO VALUES\", data) #HINT: INSERT\n",
        "con.commit()"
      ],
      "metadata": {
        "id": "ssoXBdHrIycr"
      },
      "execution_count": null,
      "outputs": []
    },
    {
      "cell_type": "markdown",
      "source": [
        "### 2. 전체 DB를 SELECT * 을 활용해 fetch해보자."
      ],
      "metadata": {
        "id": "IUPvWYFuVK3Y"
      }
    },
    {
      "cell_type": "code",
      "execution_count": null,
      "metadata": {
        "id": "R5WEyuEZDCib",
        "colab": {
          "base_uri": "https://localhost:8080/"
        },
        "outputId": "27048bc4-f2cf-4d91-ee7f-8b9501be72ba"
      },
      "outputs": [
        {
          "output_type": "execute_result",
          "data": {
            "text/plain": [
              "[('인성', '080-3333-xxxx', '서울시', '남', 30),\n",
              " ('하진', '090-0000-xxxx', '서울시', '여', 21),\n",
              " ('준', '090-2984-xxxxx', '서울시', '남', 45),\n",
              " ('민', '080-3333-xxxx', '부산시', '남', 32),\n",
              " ('하린', '', '부산시', '여', 55),\n",
              " ('빛나래', '080-5848-xxxx', '인천시', '여', 19),\n",
              " ('인아', '', '인천시', '여', 20),\n",
              " ('아린', '090-1922-xxxx', '속초시', '여', 25),\n",
              " ('기주', '090-0001-xxxx', '서귀포시', '남', 32)]"
            ]
          },
          "metadata": {},
          "execution_count": 42
        }
      ],
      "source": [
        "output = c.execute(\"SELECT * FROM address\") # HINT: SELECT *\n",
        "rows = output.fetchall() #커서의 fetchall() 메서드는 모든 데이타를 한꺼번에 클라이언트로 가져올 때 사용\n",
        "rows"
      ]
    },
    {
      "cell_type": "markdown",
      "source": [
        "### 3. age가 30이상인 사람들의 name과 gender만 추출하는 코드를 생성하시오. "
      ],
      "metadata": {
        "id": "dAWn6OCmVfzU"
      }
    },
    {
      "cell_type": "code",
      "source": [
        "output = c.execute(\"\"\"SELECT name,gender FROM address WHERE age > 30;\"\"\")\n",
        "c.fetchall()"
      ],
      "metadata": {
        "colab": {
          "base_uri": "https://localhost:8080/"
        },
        "id": "TVgJviyLNDWf",
        "outputId": "1850ff6e-1804-4a80-f42c-402a4b7c1345"
      },
      "execution_count": null,
      "outputs": [
        {
          "output_type": "execute_result",
          "data": {
            "text/plain": [
              "[('준', '남'), ('민', '남'), ('하린', '여'), ('기주', '남')]"
            ]
          },
          "metadata": {},
          "execution_count": 44
        }
      ]
    },
    {
      "cell_type": "code",
      "source": [
        "c.close()\n",
        "con.commit()\n",
        "con.close()"
      ],
      "metadata": {
        "id": "hxJBAGyXUR_C"
      },
      "execution_count": null,
      "outputs": []
    },
    {
      "cell_type": "code",
      "source": [
        ""
      ],
      "metadata": {
        "id": "Xa2q8NgwQgUI"
      },
      "execution_count": null,
      "outputs": []
    }
  ],
  "metadata": {
    "colab": {
      "collapsed_sections": [],
      "name": "ch12_도성진.ipynb",
      "provenance": [],
      "include_colab_link": true
    },
    "kernelspec": {
      "display_name": "Python 3",
      "language": "python",
      "name": "python3"
    },
    "language_info": {
      "codemirror_mode": {
        "name": "ipython",
        "version": 3
      },
      "file_extension": ".py",
      "mimetype": "text/x-python",
      "name": "python",
      "nbconvert_exporter": "python",
      "pygments_lexer": "ipython3",
      "version": "3.6.5"
    }
  },
  "nbformat": 4,
  "nbformat_minor": 0
}