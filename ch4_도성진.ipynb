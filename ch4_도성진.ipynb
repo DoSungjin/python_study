{
  "cells": [
    {
      "cell_type": "markdown",
      "metadata": {
        "id": "view-in-github",
        "colab_type": "text"
      },
      "source": [
        "<a href=\"https://colab.research.google.com/github/sungjindo/python_study/blob/main/ch4_%EB%8F%84%EC%84%B1%EC%A7%84.ipynb\" target=\"_parent\"><img src=\"https://colab.research.google.com/assets/colab-badge.svg\" alt=\"Open In Colab\"/></a>"
      ]
    },
    {
      "cell_type": "markdown",
      "source": [
        "**이름: 도성진**"
      ],
      "metadata": {
        "id": "XJZn_sZA_vET"
      }
    },
    {
      "cell_type": "markdown",
      "metadata": {
        "id": "gLn4MnJs_iVN"
      },
      "source": [
        "## 1. 다음은 Calculator 클래스이다. "
      ]
    },
    {
      "cell_type": "code",
      "execution_count": null,
      "metadata": {
        "id": "BR1Wq1szCFSa"
      },
      "outputs": [],
      "source": [
        "class Calculator:\n",
        "    def __init__(self):\n",
        "        self.value = 0\n",
        "\n",
        "    def add(self, val):\n",
        "        self.value += val"
      ]
    },
    {
      "cell_type": "markdown",
      "metadata": {
        "id": "sEjk07jb_iVR"
      },
      "source": [
        "## 위 클래스를 상속하는 UpgradeCalculator를 만들고 값을 뺄 수 있는 minus 메서드를 추가해 보자. 즉, 다음과 같이 동작하는 클래스를 만들어 보자. "
      ]
    },
    {
      "cell_type": "code",
      "execution_count": null,
      "metadata": {
        "id": "WY8AWm-xCVLX"
      },
      "outputs": [],
      "source": [
        "class UpgradeCalculator(Calculator):\n",
        "    def minus(self, val):\n",
        "        self.value -= val"
      ]
    },
    {
      "cell_type": "code",
      "execution_count": null,
      "metadata": {
        "colab": {
          "base_uri": "https://localhost:8080/"
        },
        "id": "oL7I3ZNKCoCL",
        "outputId": "1bf4f457-c729-431b-a178-832c81727c61"
      },
      "outputs": [
        {
          "output_type": "stream",
          "name": "stdout",
          "text": [
            "3\n"
          ]
        }
      ],
      "source": [
        "cal = UpgradeCalculator()\n",
        "cal.add(10)\n",
        "cal.minus(7)\n",
        "\n",
        "print(cal.value)"
      ]
    },
    {
      "cell_type": "markdown",
      "metadata": {
        "id": "CwTBQRLL_iVU"
      },
      "source": [
        "## 2. 객체변수 value가 100이상의 값은 가질 수 없도록 제한하는 MaxLimitCalculator 클래스를 만들어 보자. 즉 다음과 같이 동작해야 한다. 단, 1번 문제의 Calculator클래스를 상속하여 만들어라.  "
      ]
    },
    {
      "cell_type": "code",
      "execution_count": null,
      "metadata": {
        "id": "fW_8cCj4De_J"
      },
      "outputs": [],
      "source": [
        "class MaxLimitCalculator(Calculator):\n",
        "    def add(self, val):\n",
        "        self.value += val\n",
        "        if self.value > 100:\n",
        "           self.value = 100"
      ]
    },
    {
      "cell_type": "code",
      "execution_count": null,
      "metadata": {
        "colab": {
          "base_uri": "https://localhost:8080/"
        },
        "id": "TGMe5bk5EVbX",
        "outputId": "2ad7713b-a993-457a-88d3-17fbe95c7279"
      },
      "outputs": [
        {
          "output_type": "stream",
          "name": "stdout",
          "text": [
            "100\n"
          ]
        }
      ],
      "source": [
        "cal = MaxLimitCalculator()\n",
        "cal.add(50)\n",
        "cal.add(60)\n",
        "\n",
        "print(cal.value)"
      ]
    }
  ],
  "metadata": {
    "colab": {
      "collapsed_sections": [],
      "name": "ch4_도성진.ipynb",
      "provenance": [],
      "include_colab_link": true
    },
    "kernelspec": {
      "display_name": "Python 3",
      "language": "python",
      "name": "python3"
    },
    "language_info": {
      "codemirror_mode": {
        "name": "ipython",
        "version": 3
      },
      "file_extension": ".py",
      "mimetype": "text/x-python",
      "name": "python",
      "nbconvert_exporter": "python",
      "pygments_lexer": "ipython3",
      "version": "3.6.5"
    }
  },
  "nbformat": 4,
  "nbformat_minor": 0
}