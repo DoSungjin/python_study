{
  "cells": [
    {
      "cell_type": "markdown",
      "metadata": {
        "id": "view-in-github",
        "colab_type": "text"
      },
      "source": [
        "<a href=\"https://colab.research.google.com/github/sungjindo/python_study/blob/main/ch5_%EB%8F%84%EC%84%B1%EC%A7%84.ipynb\" target=\"_parent\"><img src=\"https://colab.research.google.com/assets/colab-badge.svg\" alt=\"Open In Colab\"/></a>"
      ]
    },
    {
      "cell_type": "markdown",
      "source": [
        "**이름: 도성진**"
      ],
      "metadata": {
        "id": "CRlHhOl2_1Nw"
      }
    },
    {
      "cell_type": "code",
      "execution_count": null,
      "metadata": {
        "id": "LlvUfw5B_zS_"
      },
      "outputs": [],
      "source": [
        "import numpy as np"
      ]
    },
    {
      "cell_type": "markdown",
      "metadata": {
        "id": "3nSNsY6ULlMv"
      },
      "source": [
        "## 1. 0 부터 8까지의 값을 순차적으로 갖는 3x3 행렬을 생성하시오"
      ]
    },
    {
      "cell_type": "code",
      "execution_count": null,
      "metadata": {
        "colab": {
          "base_uri": "https://localhost:8080/"
        },
        "id": "gp1a-QcPJUiV",
        "outputId": "00c99515-753f-491b-a2fa-c657f0b035e3"
      },
      "outputs": [
        {
          "output_type": "stream",
          "name": "stdout",
          "text": [
            "[[0 1 2]\n",
            " [3 4 5]\n",
            " [6 7 8]]\n"
          ]
        }
      ],
      "source": [
        "z = np.matrix(np.arange(9).reshape(3,3))\n",
        "print(z)\n",
        "#arange로 바로쓰면 행렬이 아닌 배열?"
      ]
    },
    {
      "cell_type": "markdown",
      "metadata": {
        "id": "05x3xuXLLtVT"
      },
      "source": [
        "## 2.  i번째 열은 원소값으로 모두 (i-1)을 갖는 5x5 행렬을 생성하시오\n"
      ]
    },
    {
      "cell_type": "code",
      "execution_count": null,
      "metadata": {
        "id": "RBSxTgt2JX-V"
      },
      "outputs": [],
      "source": [
        "z = np.zeros((5,5))\n",
        "n = np.arange(5)\n",
        "z += n"
      ]
    },
    {
      "cell_type": "code",
      "execution_count": null,
      "metadata": {
        "id": "am9t7R8y_zTE",
        "outputId": "1d7ebc84-b0e1-41b5-826c-0fdb88c0d885",
        "colab": {
          "base_uri": "https://localhost:8080/"
        }
      },
      "outputs": [
        {
          "output_type": "stream",
          "name": "stdout",
          "text": [
            "[[0. 1. 2. 3. 4.]\n",
            " [0. 1. 2. 3. 4.]\n",
            " [0. 1. 2. 3. 4.]\n",
            " [0. 1. 2. 3. 4.]\n",
            " [0. 1. 2. 3. 4.]]\n"
          ]
        }
      ],
      "source": [
        "print(z)"
      ]
    },
    {
      "cell_type": "markdown",
      "metadata": {
        "id": "Id8b4Ry0LuqQ"
      },
      "source": [
        "## 3. integer(32 bit) ndarray를 float(32 bit) ndarray로 바꾸려면 어떻게 해야하는가?"
      ]
    },
    {
      "cell_type": "code",
      "execution_count": null,
      "metadata": {
        "id": "T44n3GT_JYBn"
      },
      "outputs": [],
      "source": [
        "z = np.arange(10, dtype=np.int32)"
      ]
    },
    {
      "cell_type": "code",
      "execution_count": null,
      "metadata": {
        "id": "pi9Dyx96_zTF",
        "outputId": "511bc6ef-8dd5-45e1-8052-f2934bd5820a",
        "colab": {
          "base_uri": "https://localhost:8080/"
        }
      },
      "outputs": [
        {
          "output_type": "stream",
          "name": "stdout",
          "text": [
            "[0. 1. 2. 3. 4. 5. 6. 7. 8. 9.]\n"
          ]
        }
      ],
      "source": [
        "z_new = np.float32(z)\n",
        "print(z_new)"
      ]
    },
    {
      "cell_type": "markdown",
      "metadata": {
        "id": "aDSx43F0_zTG"
      },
      "source": [
        "## 4. quest.pickle 파일에는 5점 만점으로 된 설문조사 결과가 배열로 저장되어 있다. 이 파일을 읽어와서 설문조사 결과 5점 초과하는 값이 있는지 살펴보고 있을 경우 모두 5로 변경하여라. "
      ]
    },
    {
      "cell_type": "code",
      "execution_count": null,
      "metadata": {
        "id": "yU3vUrX4_zTG",
        "colab": {
          "base_uri": "https://localhost:8080/"
        },
        "outputId": "a7f29ee6-3e53-4b97-e62c-104942cbeba2"
      },
      "outputs": [
        {
          "output_type": "stream",
          "name": "stdout",
          "text": [
            "Drive already mounted at /content/gdrive; to attempt to forcibly remount, call drive.mount(\"/content/gdrive\", force_remount=True).\n"
          ]
        }
      ],
      "source": [
        "from google.colab import drive\n",
        "\n",
        "drive.mount('/content/gdrive')\n",
        "quest = np.load('/content/gdrive/My Drive/data/data/quest.pickle', allow_pickle=True)"
      ]
    },
    {
      "cell_type": "code",
      "execution_count": null,
      "metadata": {
        "id": "WNqg9fKD_zTG"
      },
      "outputs": [],
      "source": [
        "q = quest > 5\n",
        "quest_new = quest[q]\n",
        "quest_new[:] = 5"
      ]
    },
    {
      "cell_type": "code",
      "execution_count": null,
      "metadata": {
        "id": "94NLtAY9_zTH",
        "colab": {
          "base_uri": "https://localhost:8080/"
        },
        "outputId": "4db92d12-630f-4b98-b001-7496d85f19e4"
      },
      "outputs": [
        {
          "output_type": "stream",
          "name": "stdout",
          "text": [
            "[5 5 5]\n"
          ]
        }
      ],
      "source": [
        "print(quest_new)\n",
        "# 이 값을 처음에 quest에 넣어서 하는 방법?"
      ]
    }
  ],
  "metadata": {
    "colab": {
      "name": "ch5_도성진.ipynb",
      "provenance": [],
      "collapsed_sections": [],
      "include_colab_link": true
    },
    "kernelspec": {
      "display_name": "Python 3",
      "language": "python",
      "name": "python3"
    },
    "language_info": {
      "codemirror_mode": {
        "name": "ipython",
        "version": 3
      },
      "file_extension": ".py",
      "mimetype": "text/x-python",
      "name": "python",
      "nbconvert_exporter": "python",
      "pygments_lexer": "ipython3",
      "version": "3.6.5"
    }
  },
  "nbformat": 4,
  "nbformat_minor": 0
}