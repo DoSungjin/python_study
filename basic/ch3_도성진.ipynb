{
  "cells": [
    {
      "cell_type": "markdown",
      "metadata": {
        "id": "view-in-github",
        "colab_type": "text"
      },
      "source": [
        "<a href=\"https://colab.research.google.com/github/sungjindo/python_study/blob/main/ch3_%EB%8F%84%EC%84%B1%EC%A7%84.ipynb\" target=\"_parent\"><img src=\"https://colab.research.google.com/assets/colab-badge.svg\" alt=\"Open In Colab\"/></a>"
      ]
    },
    {
      "cell_type": "markdown",
      "source": [
        "**이름: 도성진**"
      ],
      "metadata": {
        "id": "3xmleFTg_Crx"
      }
    },
    {
      "cell_type": "markdown",
      "metadata": {
        "id": "fNYj3jpx-_JY"
      },
      "source": [
        "## 1. 다음은 두 개의 숫자를 입력받아 더하여 돌려주는 프로그램이다. 3과 6을 입력했을 때 9가 아닌 36이라는 결괏값을 돌려주었다. 이 프로그램의 오류를 수정해 보자. "
      ]
    },
    {
      "cell_type": "code",
      "execution_count": null,
      "metadata": {
        "id": "vnhAjq5GVysW",
        "colab": {
          "base_uri": "https://localhost:8080/"
        },
        "outputId": "b3dd834a-1d4e-4320-e22f-6fad1b50b439"
      },
      "outputs": [
        {
          "output_type": "stream",
          "name": "stdout",
          "text": [
            "첫번재 숫자를 입력하세요:3\n",
            "두번째 숫자를 입력하세요:6\n",
            "두 수의 합은 9 입니다\n"
          ]
        }
      ],
      "source": [
        "input1 = input(\"첫번재 숫자를 입력하세요:\")\n",
        "input2 = input(\"두번째 숫자를 입력하세요:\")\n",
        "input1 = int(input1)\n",
        "input2 = int(input2)\n",
        "total = input1 + input2\n",
        "print(\"두 수의 합은 %s 입니다\" % total)"
      ]
    },
    {
      "cell_type": "markdown",
      "metadata": {
        "id": "zc7Qib07-_JZ"
      },
      "source": [
        "6## 2. 아래와 같이 총 10줄로 이루어진 sample.txt 파일이 있다. 아래와 같이 sample.txt 파일의 숫자값을 모두 읽어 총합과 평균값을 구한 후 평균값을  result.txt 라는 파일에 쓰는 프로그램을 작성해 보자. \n",
        "### 아래에 구글 드라이브 파일 읽기에 관한 정보가 필요해 주석 부분을 주의깊게 읽어주세요 :D (local에서 jupyternotebook과 같은 파일로 실행한 분들은 필요가 없습니다.)"
      ]
    },
    {
      "cell_type": "code",
      "source": [
        "#local에서 활용할 분들은 skip해주세요.\n",
        "\n",
        "from google.colab import drive\n",
        "\n",
        "drive.mount('/content/gdrive')\n",
        "## 구글 드라이브에서 파일 연동을 하려면 drive에 연동해야함. https://funfunfuhaha.tistory.com/7 참고 (Enter your authorization code는 필요 없는 것 같습니다.)"
      ],
      "metadata": {
        "colab": {
          "base_uri": "https://localhost:8080/"
        },
        "id": "_5NjKiQuxUDd",
        "outputId": "1e6ed3d9-0627-43cf-b664-ca9bb6dd3612"
      },
      "execution_count": null,
      "outputs": [
        {
          "output_type": "stream",
          "name": "stdout",
          "text": [
            "Mounted at /content/gdrive\n"
          ]
        }
      ]
    },
    {
      "cell_type": "code",
      "execution_count": null,
      "metadata": {
        "id": "mBBHjZu3WWf0"
      },
      "outputs": [],
      "source": [
        "f= open(\"/content/gdrive/My Drive/data/sample.txt\",'r') \n",
        "# 본인의 경로에 맞게 수정하세요! /content/gdrive/My Drive/ 까지가 기본 google drive 내의 내 드라이브 경로이고 그 이후 경로를 본인의 폴더에 맞게 수정해주시면 됩니다.\n",
        "# data 폴더를 다운받아 각자 구글 드라이브에 업로드하시면 됩니다.\n",
        "#f= open(\"/content/gdrive/My Drive/python/data/sample.txt\",'r')\n",
        "lines = f.readlines() \n",
        "for line in lines:\n",
        " f.close()\n",
        "\n",
        "total = 0\n",
        "for line in lines:\n",
        "    score = int(line)\n",
        "    total += score\n",
        "\n",
        "average = total/len(lines)\n",
        "\n",
        "f = open(\"/content/gdrive/My Drive/data/result.txt\", 'w')  ## 본인의 경로에 맞게 수정하세요!\n",
        "f.write(str(average))\n",
        "f.close()\n",
        "# 잘못된 점을 못찾겠습니다. 전체적으로 많이 부족한 것 같습니다.. 복습하면서 다시 확인해보겠습니다...."
      ]
    },
    {
      "cell_type": "code",
      "source": [
        ""
      ],
      "metadata": {
        "id": "RzwKHn9qh16K"
      },
      "execution_count": null,
      "outputs": []
    }
  ],
  "metadata": {
    "colab": {
      "collapsed_sections": [],
      "name": "ch3_도성진.ipynb",
      "provenance": [],
      "include_colab_link": true
    },
    "kernelspec": {
      "display_name": "Python 3",
      "language": "python",
      "name": "python3"
    },
    "language_info": {
      "codemirror_mode": {
        "name": "ipython",
        "version": 3
      },
      "file_extension": ".py",
      "mimetype": "text/x-python",
      "name": "python",
      "nbconvert_exporter": "python",
      "pygments_lexer": "ipython3",
      "version": "3.6.5"
    }
  },
  "nbformat": 4,
  "nbformat_minor": 0
}
