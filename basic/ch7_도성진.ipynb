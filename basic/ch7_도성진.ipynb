{
  "cells": [
    {
      "cell_type": "markdown",
      "metadata": {
        "id": "view-in-github",
        "colab_type": "text"
      },
      "source": [
        "<a href=\"https://colab.research.google.com/github/sungjindo/python_study/blob/main/ch7_%EB%8F%84%EC%84%B1%EC%A7%84.ipynb\" target=\"_parent\"><img src=\"https://colab.research.google.com/assets/colab-badge.svg\" alt=\"Open In Colab\"/></a>"
      ]
    },
    {
      "cell_type": "markdown",
      "source": [
        "**이름: 도성진**"
      ],
      "metadata": {
        "id": "B-qEiIlvAADz"
      }
    },
    {
      "cell_type": "markdown",
      "metadata": {
        "id": "f59po_sv_96D"
      },
      "source": [
        "## 1 DataFrame을 활용해 남성과 여성 각각 Age가 30이상인 사람들의 평균 Height을 구해보자."
      ]
    },
    {
      "cell_type": "code",
      "execution_count": null,
      "metadata": {
        "id": "fmJjU4N9UmV5"
      },
      "outputs": [],
      "source": [
        "import pandas as pd\n",
        "dataframe = pd.DataFrame({\"Age\" : [37, 20, 30, 45, 25, 31, 41],\n",
        "                           \"Height\": [156, 180, 170, 160, 150, 140, 181],\n",
        "                           \"Sex\": [\"f\", \"m\", \"m\", \"f\", \"f\", \"f\", \"m\"]\n",
        "                           })"
      ]
    },
    {
      "cell_type": "markdown",
      "source": [
        ""
      ],
      "metadata": {
        "id": "osGReNl68uVq"
      }
    },
    {
      "cell_type": "code",
      "execution_count": null,
      "metadata": {
        "colab": {
          "base_uri": "https://localhost:8080/"
        },
        "id": "u7lKAi7fVm2f",
        "outputId": "c307a01e-0a48-4c65-e45e-c6533ba83206"
      },
      "outputs": [
        {
          "output_type": "stream",
          "name": "stdout",
          "text": [
            "남성 평균 키, 175.5\n"
          ]
        }
      ],
      "source": [
        "print(\"남성 평균 키,\", dataframe[(dataframe['Age'] >= 30) & (dataframe[\"Sex\"] == \"m\")]['Height'].mean())\n",
        "#175.5가 나와야함"
      ]
    },
    {
      "cell_type": "code",
      "execution_count": null,
      "metadata": {
        "colab": {
          "base_uri": "https://localhost:8080/"
        },
        "id": "8ufXuKiLWt6g",
        "outputId": "1582ebbc-0432-439a-cd84-a5a8959a13c5"
      },
      "outputs": [
        {
          "output_type": "stream",
          "name": "stdout",
          "text": [
            "여성 평균 키, 152.0\n"
          ]
        }
      ],
      "source": [
        "print(\"여성 평균 키,\", dataframe[(dataframe['Age'] >= 30) & (dataframe[\"Sex\"] == \"f\")]['Height'].mean())"
      ]
    },
    {
      "cell_type": "markdown",
      "metadata": {
        "id": "ve9BivpJ_96G"
      },
      "source": [
        "## 2. 프로듀스 회사의 근무자, 성별, 근무지, 연봉이 기록된 “Produce.xlsx”에서 다음과 같은 질문에 답해보도록 하자!"
      ]
    },
    {
      "cell_type": "code",
      "source": [
        "from google.colab import drive\n",
        "drive.mount('/content/drive')"
      ],
      "metadata": {
        "colab": {
          "base_uri": "https://localhost:8080/"
        },
        "id": "NnfECX5k_wv1",
        "outputId": "a8f7cccf-fb41-45a5-d01a-04edaecf4c31"
      },
      "execution_count": null,
      "outputs": [
        {
          "output_type": "stream",
          "name": "stdout",
          "text": [
            "Drive already mounted at /content/drive; to attempt to forcibly remount, call drive.mount(\"/content/drive\", force_remount=True).\n"
          ]
        }
      ]
    },
    {
      "cell_type": "code",
      "execution_count": null,
      "metadata": {
        "colab": {
          "base_uri": "https://localhost:8080/"
        },
        "id": "06MaagKKGMw3",
        "outputId": "b8249113-d131-46ea-ae08-13d2eff51e30"
      },
      "outputs": [
        {
          "output_type": "stream",
          "name": "stdout",
          "text": [
            "        이름 성별     근무지  연봉(만원)\n",
            "0     강다니엘  M   SEOUL    5419\n",
            "1      강동호  M  CICAGO    6443\n",
            "2      강미나  F   SEOUL     445\n",
            "3      권현빈  M      LA    1199\n",
            "4      김도연  F  CICAGO    7579\n",
            "5     김사무엘  M   SEOUL     290\n",
            "6      김세정  F  CICAGO    4113\n",
            "7      김소혜  F   SEOUL    1200\n",
            "8      김청하  F   SEOUL    5447\n",
            "9      노태현  M  CICAGO    3126\n",
            "10    라이관린  M      LA    6890\n",
            "11     박우진  M      LA    2371\n",
            "12     박지훈  M   SEOUL    7980\n",
            "13     배진영  M  CICAGO    8399\n",
            "14     옹성우  M   SEOUL    2477\n",
            "15     유연정  F   SEOUL    8474\n",
            "16     임나영  F   SEOUL    6732\n",
            "17     전소미  F      LA    9828\n",
            "18     정채연  F   SEOUL    2208\n",
            "19     주결경  F   SEOUL    7373\n",
            "20     주학년  M  CICAGO    1379\n",
            "21     최유정  F      LA    7137\n",
            "22  타카다 켄타  M      LA    4091\n",
            "23     하성운  M  CICAGO    8721\n"
          ]
        }
      ],
      "source": [
        "data_frame = pd.read_excel(\"/content/drive/My Drive/data/data/Produce.xlsx\", sheet_name=\"Sheet1\")\n",
        "print(data_frame)"
      ]
    },
    {
      "cell_type": "markdown",
      "metadata": {
        "id": "KhW3cP49_96H"
      },
      "source": [
        "### # 1) 이름이 김사랑, 성별 F, 근무지 CICAGO, 연봉 6000인 직원을 추가하라"
      ]
    },
    {
      "cell_type": "code",
      "execution_count": null,
      "metadata": {
        "colab": {
          "base_uri": "https://localhost:8080/"
        },
        "id": "q14nhcfJZCFX",
        "outputId": "9877b778-775f-41fa-c667-2053e2844808"
      },
      "outputs": [
        {
          "output_type": "stream",
          "name": "stdout",
          "text": [
            "        이름 성별     근무지  연봉(만원)\n",
            "0     강다니엘  M   SEOUL    5419\n",
            "1      강동호  M  CICAGO    6443\n",
            "2      강미나  F   SEOUL     445\n",
            "3      권현빈  M      LA    1199\n",
            "4      김도연  F  CICAGO    7579\n",
            "5     김사무엘  M   SEOUL     290\n",
            "6      김세정  F  CICAGO    4113\n",
            "7      김소혜  F   SEOUL    1200\n",
            "8      김청하  F   SEOUL    5447\n",
            "9      노태현  M  CICAGO    3126\n",
            "10    라이관린  M      LA    6890\n",
            "11     박우진  M      LA    2371\n",
            "12     박지훈  M   SEOUL    7980\n",
            "13     배진영  M  CICAGO    8399\n",
            "14     옹성우  M   SEOUL    2477\n",
            "15     유연정  F   SEOUL    8474\n",
            "16     임나영  F   SEOUL    6732\n",
            "17     전소미  F      LA    9828\n",
            "18     정채연  F   SEOUL    2208\n",
            "19     주결경  F   SEOUL    7373\n",
            "20     주학년  M  CICAGO    1379\n",
            "21     최유정  F      LA    7137\n",
            "22  타카다 켄타  M      LA    4091\n",
            "23     하성운  M  CICAGO    8721\n",
            "24     김사랑  F  CICAGO    6000\n"
          ]
        }
      ],
      "source": [
        "row = pd.Series(['김사랑', 'F', 'CICAGO', 6000], index=['이름','성별','근무지','연봉(만원)'])\n",
        "data_frame = data_frame.append(row, ignore_index=True)\n",
        "print(data_frame)"
      ]
    },
    {
      "cell_type": "markdown",
      "metadata": {
        "id": "h45D6Y4D_96H"
      },
      "source": [
        "### 2) 성별이 M이면 1, 성별이 F이면 0인 Sex 열을 추가하고, 성별 열을 제거하라. "
      ]
    },
    {
      "cell_type": "code",
      "execution_count": null,
      "metadata": {
        "colab": {
          "base_uri": "https://localhost:8080/",
          "height": 833
        },
        "id": "H7lb4Gy9ZTHf",
        "outputId": "4ae870bf-4ef8-4dc7-9ed4-b469f2ad9f23"
      },
      "outputs": [
        {
          "output_type": "execute_result",
          "data": {
            "text/html": [
              "\n",
              "  <div id=\"df-92f37118-66f6-43ba-a11f-ddfdb9eb3619\">\n",
              "    <div class=\"colab-df-container\">\n",
              "      <div>\n",
              "<style scoped>\n",
              "    .dataframe tbody tr th:only-of-type {\n",
              "        vertical-align: middle;\n",
              "    }\n",
              "\n",
              "    .dataframe tbody tr th {\n",
              "        vertical-align: top;\n",
              "    }\n",
              "\n",
              "    .dataframe thead th {\n",
              "        text-align: right;\n",
              "    }\n",
              "</style>\n",
              "<table border=\"1\" class=\"dataframe\">\n",
              "  <thead>\n",
              "    <tr style=\"text-align: right;\">\n",
              "      <th></th>\n",
              "      <th>이름</th>\n",
              "      <th>근무지</th>\n",
              "      <th>연봉(만원)</th>\n",
              "      <th>Sex</th>\n",
              "    </tr>\n",
              "  </thead>\n",
              "  <tbody>\n",
              "    <tr>\n",
              "      <th>0</th>\n",
              "      <td>강다니엘</td>\n",
              "      <td>SEOUL</td>\n",
              "      <td>5419</td>\n",
              "      <td>1</td>\n",
              "    </tr>\n",
              "    <tr>\n",
              "      <th>1</th>\n",
              "      <td>강동호</td>\n",
              "      <td>CICAGO</td>\n",
              "      <td>6443</td>\n",
              "      <td>1</td>\n",
              "    </tr>\n",
              "    <tr>\n",
              "      <th>2</th>\n",
              "      <td>강미나</td>\n",
              "      <td>SEOUL</td>\n",
              "      <td>445</td>\n",
              "      <td>0</td>\n",
              "    </tr>\n",
              "    <tr>\n",
              "      <th>3</th>\n",
              "      <td>권현빈</td>\n",
              "      <td>LA</td>\n",
              "      <td>1199</td>\n",
              "      <td>1</td>\n",
              "    </tr>\n",
              "    <tr>\n",
              "      <th>4</th>\n",
              "      <td>김도연</td>\n",
              "      <td>CICAGO</td>\n",
              "      <td>7579</td>\n",
              "      <td>0</td>\n",
              "    </tr>\n",
              "    <tr>\n",
              "      <th>5</th>\n",
              "      <td>김사무엘</td>\n",
              "      <td>SEOUL</td>\n",
              "      <td>290</td>\n",
              "      <td>1</td>\n",
              "    </tr>\n",
              "    <tr>\n",
              "      <th>6</th>\n",
              "      <td>김세정</td>\n",
              "      <td>CICAGO</td>\n",
              "      <td>4113</td>\n",
              "      <td>0</td>\n",
              "    </tr>\n",
              "    <tr>\n",
              "      <th>7</th>\n",
              "      <td>김소혜</td>\n",
              "      <td>SEOUL</td>\n",
              "      <td>1200</td>\n",
              "      <td>0</td>\n",
              "    </tr>\n",
              "    <tr>\n",
              "      <th>8</th>\n",
              "      <td>김청하</td>\n",
              "      <td>SEOUL</td>\n",
              "      <td>5447</td>\n",
              "      <td>0</td>\n",
              "    </tr>\n",
              "    <tr>\n",
              "      <th>9</th>\n",
              "      <td>노태현</td>\n",
              "      <td>CICAGO</td>\n",
              "      <td>3126</td>\n",
              "      <td>1</td>\n",
              "    </tr>\n",
              "    <tr>\n",
              "      <th>10</th>\n",
              "      <td>라이관린</td>\n",
              "      <td>LA</td>\n",
              "      <td>6890</td>\n",
              "      <td>1</td>\n",
              "    </tr>\n",
              "    <tr>\n",
              "      <th>11</th>\n",
              "      <td>박우진</td>\n",
              "      <td>LA</td>\n",
              "      <td>2371</td>\n",
              "      <td>1</td>\n",
              "    </tr>\n",
              "    <tr>\n",
              "      <th>12</th>\n",
              "      <td>박지훈</td>\n",
              "      <td>SEOUL</td>\n",
              "      <td>7980</td>\n",
              "      <td>1</td>\n",
              "    </tr>\n",
              "    <tr>\n",
              "      <th>13</th>\n",
              "      <td>배진영</td>\n",
              "      <td>CICAGO</td>\n",
              "      <td>8399</td>\n",
              "      <td>1</td>\n",
              "    </tr>\n",
              "    <tr>\n",
              "      <th>14</th>\n",
              "      <td>옹성우</td>\n",
              "      <td>SEOUL</td>\n",
              "      <td>2477</td>\n",
              "      <td>1</td>\n",
              "    </tr>\n",
              "    <tr>\n",
              "      <th>15</th>\n",
              "      <td>유연정</td>\n",
              "      <td>SEOUL</td>\n",
              "      <td>8474</td>\n",
              "      <td>0</td>\n",
              "    </tr>\n",
              "    <tr>\n",
              "      <th>16</th>\n",
              "      <td>임나영</td>\n",
              "      <td>SEOUL</td>\n",
              "      <td>6732</td>\n",
              "      <td>0</td>\n",
              "    </tr>\n",
              "    <tr>\n",
              "      <th>17</th>\n",
              "      <td>전소미</td>\n",
              "      <td>LA</td>\n",
              "      <td>9828</td>\n",
              "      <td>0</td>\n",
              "    </tr>\n",
              "    <tr>\n",
              "      <th>18</th>\n",
              "      <td>정채연</td>\n",
              "      <td>SEOUL</td>\n",
              "      <td>2208</td>\n",
              "      <td>0</td>\n",
              "    </tr>\n",
              "    <tr>\n",
              "      <th>19</th>\n",
              "      <td>주결경</td>\n",
              "      <td>SEOUL</td>\n",
              "      <td>7373</td>\n",
              "      <td>0</td>\n",
              "    </tr>\n",
              "    <tr>\n",
              "      <th>20</th>\n",
              "      <td>주학년</td>\n",
              "      <td>CICAGO</td>\n",
              "      <td>1379</td>\n",
              "      <td>1</td>\n",
              "    </tr>\n",
              "    <tr>\n",
              "      <th>21</th>\n",
              "      <td>최유정</td>\n",
              "      <td>LA</td>\n",
              "      <td>7137</td>\n",
              "      <td>0</td>\n",
              "    </tr>\n",
              "    <tr>\n",
              "      <th>22</th>\n",
              "      <td>타카다 켄타</td>\n",
              "      <td>LA</td>\n",
              "      <td>4091</td>\n",
              "      <td>1</td>\n",
              "    </tr>\n",
              "    <tr>\n",
              "      <th>23</th>\n",
              "      <td>하성운</td>\n",
              "      <td>CICAGO</td>\n",
              "      <td>8721</td>\n",
              "      <td>1</td>\n",
              "    </tr>\n",
              "    <tr>\n",
              "      <th>24</th>\n",
              "      <td>김사랑</td>\n",
              "      <td>CICAGO</td>\n",
              "      <td>6000</td>\n",
              "      <td>0</td>\n",
              "    </tr>\n",
              "  </tbody>\n",
              "</table>\n",
              "</div>\n",
              "      <button class=\"colab-df-convert\" onclick=\"convertToInteractive('df-92f37118-66f6-43ba-a11f-ddfdb9eb3619')\"\n",
              "              title=\"Convert this dataframe to an interactive table.\"\n",
              "              style=\"display:none;\">\n",
              "        \n",
              "  <svg xmlns=\"http://www.w3.org/2000/svg\" height=\"24px\"viewBox=\"0 0 24 24\"\n",
              "       width=\"24px\">\n",
              "    <path d=\"M0 0h24v24H0V0z\" fill=\"none\"/>\n",
              "    <path d=\"M18.56 5.44l.94 2.06.94-2.06 2.06-.94-2.06-.94-.94-2.06-.94 2.06-2.06.94zm-11 1L8.5 8.5l.94-2.06 2.06-.94-2.06-.94L8.5 2.5l-.94 2.06-2.06.94zm10 10l.94 2.06.94-2.06 2.06-.94-2.06-.94-.94-2.06-.94 2.06-2.06.94z\"/><path d=\"M17.41 7.96l-1.37-1.37c-.4-.4-.92-.59-1.43-.59-.52 0-1.04.2-1.43.59L10.3 9.45l-7.72 7.72c-.78.78-.78 2.05 0 2.83L4 21.41c.39.39.9.59 1.41.59.51 0 1.02-.2 1.41-.59l7.78-7.78 2.81-2.81c.8-.78.8-2.07 0-2.86zM5.41 20L4 18.59l7.72-7.72 1.47 1.35L5.41 20z\"/>\n",
              "  </svg>\n",
              "      </button>\n",
              "      \n",
              "  <style>\n",
              "    .colab-df-container {\n",
              "      display:flex;\n",
              "      flex-wrap:wrap;\n",
              "      gap: 12px;\n",
              "    }\n",
              "\n",
              "    .colab-df-convert {\n",
              "      background-color: #E8F0FE;\n",
              "      border: none;\n",
              "      border-radius: 50%;\n",
              "      cursor: pointer;\n",
              "      display: none;\n",
              "      fill: #1967D2;\n",
              "      height: 32px;\n",
              "      padding: 0 0 0 0;\n",
              "      width: 32px;\n",
              "    }\n",
              "\n",
              "    .colab-df-convert:hover {\n",
              "      background-color: #E2EBFA;\n",
              "      box-shadow: 0px 1px 2px rgba(60, 64, 67, 0.3), 0px 1px 3px 1px rgba(60, 64, 67, 0.15);\n",
              "      fill: #174EA6;\n",
              "    }\n",
              "\n",
              "    [theme=dark] .colab-df-convert {\n",
              "      background-color: #3B4455;\n",
              "      fill: #D2E3FC;\n",
              "    }\n",
              "\n",
              "    [theme=dark] .colab-df-convert:hover {\n",
              "      background-color: #434B5C;\n",
              "      box-shadow: 0px 1px 3px 1px rgba(0, 0, 0, 0.15);\n",
              "      filter: drop-shadow(0px 1px 2px rgba(0, 0, 0, 0.3));\n",
              "      fill: #FFFFFF;\n",
              "    }\n",
              "  </style>\n",
              "\n",
              "      <script>\n",
              "        const buttonEl =\n",
              "          document.querySelector('#df-92f37118-66f6-43ba-a11f-ddfdb9eb3619 button.colab-df-convert');\n",
              "        buttonEl.style.display =\n",
              "          google.colab.kernel.accessAllowed ? 'block' : 'none';\n",
              "\n",
              "        async function convertToInteractive(key) {\n",
              "          const element = document.querySelector('#df-92f37118-66f6-43ba-a11f-ddfdb9eb3619');\n",
              "          const dataTable =\n",
              "            await google.colab.kernel.invokeFunction('convertToInteractive',\n",
              "                                                     [key], {});\n",
              "          if (!dataTable) return;\n",
              "\n",
              "          const docLinkHtml = 'Like what you see? Visit the ' +\n",
              "            '<a target=\"_blank\" href=https://colab.research.google.com/notebooks/data_table.ipynb>data table notebook</a>'\n",
              "            + ' to learn more about interactive tables.';\n",
              "          element.innerHTML = '';\n",
              "          dataTable['output_type'] = 'display_data';\n",
              "          await google.colab.output.renderOutput(dataTable, element);\n",
              "          const docLink = document.createElement('div');\n",
              "          docLink.innerHTML = docLinkHtml;\n",
              "          element.appendChild(docLink);\n",
              "        }\n",
              "      </script>\n",
              "    </div>\n",
              "  </div>\n",
              "  "
            ],
            "text/plain": [
              "        이름     근무지  연봉(만원)  Sex\n",
              "0     강다니엘   SEOUL    5419    1\n",
              "1      강동호  CICAGO    6443    1\n",
              "2      강미나   SEOUL     445    0\n",
              "3      권현빈      LA    1199    1\n",
              "4      김도연  CICAGO    7579    0\n",
              "5     김사무엘   SEOUL     290    1\n",
              "6      김세정  CICAGO    4113    0\n",
              "7      김소혜   SEOUL    1200    0\n",
              "8      김청하   SEOUL    5447    0\n",
              "9      노태현  CICAGO    3126    1\n",
              "10    라이관린      LA    6890    1\n",
              "11     박우진      LA    2371    1\n",
              "12     박지훈   SEOUL    7980    1\n",
              "13     배진영  CICAGO    8399    1\n",
              "14     옹성우   SEOUL    2477    1\n",
              "15     유연정   SEOUL    8474    0\n",
              "16     임나영   SEOUL    6732    0\n",
              "17     전소미      LA    9828    0\n",
              "18     정채연   SEOUL    2208    0\n",
              "19     주결경   SEOUL    7373    0\n",
              "20     주학년  CICAGO    1379    1\n",
              "21     최유정      LA    7137    0\n",
              "22  타카다 켄타      LA    4091    1\n",
              "23     하성운  CICAGO    8721    1\n",
              "24     김사랑  CICAGO    6000    0"
            ]
          },
          "metadata": {},
          "execution_count": 82
        }
      ],
      "source": [
        "data_frame['Sex']=data_frame['성별'].replace(['M','F'], [1,0]) \n",
        "data_frame.drop('성별', axis=1)"
      ]
    },
    {
      "cell_type": "markdown",
      "metadata": {
        "id": "7uSgJAoT_96H"
      },
      "source": [
        "### 3) 근무지별, 성별 평균 연봉을 구하라."
      ]
    },
    {
      "cell_type": "code",
      "execution_count": null,
      "metadata": {
        "colab": {
          "base_uri": "https://localhost:8080/"
        },
        "id": "t5b3WM4oaVgN",
        "outputId": "9d72dbea-4d53-4fff-e4e7-794ac8188e62"
      },
      "outputs": [
        {
          "output_type": "stream",
          "name": "stdout",
          "text": [
            "조건별 평균 연봉\n",
            "LA: 5252.67\n",
            "SEOUL: 4367.73\n",
            "CICAGO: 5720.00\n",
            "남자: 4521.92\n",
            "여자: 5544.67\n"
          ]
        }
      ],
      "source": [
        "print(\"조건별 평균 연봉\")\n",
        "print(\"LA: %.2f\" %(data_frame[\"연봉(만원)\"][data_frame['근무지'] == 'LA'].mean()))\n",
        "print(\"SEOUL: %.2f\" %(data_frame[\"연봉(만원)\"][data_frame['근무지'] =='SEOUL'].mean()))\n",
        "print(\"CICAGO: %.2f\" %(data_frame[\"연봉(만원)\"][data_frame['근무지'] == 'CICAGO'].mean()))\n",
        "print(\"남자: %.2f\" %(data_frame[\"연봉(만원)\"][data_frame['Sex'] == 1].mean()))\n",
        "print(\"여자: %.2f\" %(data_frame[\"연봉(만원)\"][data_frame['Sex'] == 0].mean()))"
      ]
    },
    {
      "cell_type": "markdown",
      "metadata": {
        "id": "0abI_NLB_96I"
      },
      "source": [
        "### 4) 성별이 M이고 SEOUL에서 일하는 사람들의 평균 연봉을 구하라."
      ]
    },
    {
      "cell_type": "code",
      "execution_count": null,
      "metadata": {
        "colab": {
          "base_uri": "https://localhost:8080/"
        },
        "id": "X8KuPGvVaVkC",
        "outputId": "999197b8-7de1-44da-faff-579758b7fa55"
      },
      "outputs": [
        {
          "output_type": "execute_result",
          "data": {
            "text/plain": [
              "4041.5"
            ]
          },
          "metadata": {},
          "execution_count": 90
        }
      ],
      "source": [
        "data_frame[\"연봉(만원)\"][(data_frame['Sex']==1) & (data_frame['근무지']=='SEOUL')].mean()\n",
        "#답 4041.5"
      ]
    },
    {
      "cell_type": "markdown",
      "metadata": {
        "id": "xaiFmi_4_96I"
      },
      "source": [
        "### 5) 연봉이 5000이상인 사람들 중 여성의 비율을 구하여라. "
      ]
    },
    {
      "cell_type": "code",
      "execution_count": null,
      "metadata": {
        "colab": {
          "base_uri": "https://localhost:8080/"
        },
        "id": "dNZp7hqOaVtb",
        "outputId": "ba51f4e2-092d-4583-ad63-7b2894626dd4"
      },
      "outputs": [
        {
          "output_type": "execute_result",
          "data": {
            "text/plain": [
              "0.5714285714285714"
            ]
          },
          "metadata": {},
          "execution_count": 96
        }
      ],
      "source": [
        "len(data_frame[(data_frame[\"연봉(만원)\"] >= 5000) & (data_frame['Sex']==0)]) /  len(data_frame[data_frame['연봉(만원)'] >= 5000])\n",
        "    #0.5714285714\n"
      ]
    },
    {
      "cell_type": "code",
      "source": [
        ""
      ],
      "metadata": {
        "id": "Pbpx6SdhRC9u"
      },
      "execution_count": null,
      "outputs": []
    }
  ],
  "metadata": {
    "colab": {
      "collapsed_sections": [],
      "name": "ch7_도성진.ipynb",
      "provenance": [],
      "include_colab_link": true
    },
    "kernelspec": {
      "display_name": "Python 3",
      "language": "python",
      "name": "python3"
    },
    "language_info": {
      "codemirror_mode": {
        "name": "ipython",
        "version": 3
      },
      "file_extension": ".py",
      "mimetype": "text/x-python",
      "name": "python",
      "nbconvert_exporter": "python",
      "pygments_lexer": "ipython3",
      "version": "3.6.5"
    }
  },
  "nbformat": 4,
  "nbformat_minor": 0
}
