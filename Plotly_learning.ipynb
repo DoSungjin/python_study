{
  "nbformat": 4,
  "nbformat_minor": 0,
  "metadata": {
    "colab": {
      "name": "Plotly 한번에 제대로 배우기.ipynb",
      "provenance": [],
      "collapsed_sections": [],
      "include_colab_link": true
    },
    "kernelspec": {
      "name": "python3",
      "display_name": "Python 3"
    }
  },
  "cells": [
    {
      "cell_type": "markdown",
      "metadata": {
        "id": "view-in-github",
        "colab_type": "text"
      },
      "source": [
        "<a href=\"https://colab.research.google.com/github/sungjindo/python_study/blob/main/Plotly_learning.ipynb\" target=\"_parent\"><img src=\"https://colab.research.google.com/assets/colab-badge.svg\" alt=\"Open In Colab\"/></a>"
      ]
    },
    {
      "cell_type": "markdown",
      "metadata": {
        "id": "763YzeSkZ0ue"
      },
      "source": [
        "# Plotly 한번에 제대로 배우기"
      ]
    },
    {
      "cell_type": "markdown",
      "metadata": {
        "id": "2z0BNcMhuyf6"
      },
      "source": [
        "## Plotly 특징\n",
        "\n",
        "* 인터랙티브 그래프 생성\n",
        "* JSON 데이터 형식으로 저장\n",
        "* 벡터 이미지, 래스터 이미지로 Export 가능"
      ]
    },
    {
      "cell_type": "code",
      "metadata": {
        "id": "L7WIOcdCZeMU"
      },
      "source": [
        "import numpy as np\n",
        "import pandas as pd\n",
        "from urllib.request import urlopen\n",
        "import json\n",
        "\n",
        "import plotly.io as pio\n",
        "import plotly.express as px\n",
        "import plotly.graph_objects as go\n",
        "import plotly.figure_factory as ff\n",
        "from plotly.subplots import make_subplots\n",
        "from plotly.validators.scatter.marker import SymbolValidator"
      ],
      "execution_count": null,
      "outputs": []
    },
    {
      "cell_type": "markdown",
      "metadata": {
        "id": "5QWB8-UZqtAz"
      },
      "source": [
        "## Plotly 차트"
      ]
    },
    {
      "cell_type": "code",
      "source": [
        ""
      ],
      "metadata": {
        "id": "unqlyTUIUlGT"
      },
      "execution_count": null,
      "outputs": []
    },
    {
      "cell_type": "markdown",
      "metadata": {
        "id": "tnJd93FSnyJ6"
      },
      "source": [
        "### 산점도(Scatter Plots)"
      ]
    },
    {
      "cell_type": "code",
      "metadata": {
        "id": "BVaa0iOMsUmE",
        "colab": {
          "base_uri": "https://localhost:8080/",
          "height": 424
        },
        "outputId": "29683cb2-c3e2-43de-f979-eb03e77944e0"
      },
      "source": [
        "iris = px.data.iris()\n",
        "iris"
      ],
      "execution_count": null,
      "outputs": [
        {
          "output_type": "execute_result",
          "data": {
            "text/plain": [
              "     sepal_length  sepal_width  petal_length  petal_width    species  \\\n",
              "0             5.1          3.5           1.4          0.2     setosa   \n",
              "1             4.9          3.0           1.4          0.2     setosa   \n",
              "2             4.7          3.2           1.3          0.2     setosa   \n",
              "3             4.6          3.1           1.5          0.2     setosa   \n",
              "4             5.0          3.6           1.4          0.2     setosa   \n",
              "..            ...          ...           ...          ...        ...   \n",
              "145           6.7          3.0           5.2          2.3  virginica   \n",
              "146           6.3          2.5           5.0          1.9  virginica   \n",
              "147           6.5          3.0           5.2          2.0  virginica   \n",
              "148           6.2          3.4           5.4          2.3  virginica   \n",
              "149           5.9          3.0           5.1          1.8  virginica   \n",
              "\n",
              "     species_id  \n",
              "0             1  \n",
              "1             1  \n",
              "2             1  \n",
              "3             1  \n",
              "4             1  \n",
              "..          ...  \n",
              "145           3  \n",
              "146           3  \n",
              "147           3  \n",
              "148           3  \n",
              "149           3  \n",
              "\n",
              "[150 rows x 6 columns]"
            ],
            "text/html": [
              "\n",
              "  <div id=\"df-0c71e30e-57e8-4d9c-b4c5-1f349a5d4246\">\n",
              "    <div class=\"colab-df-container\">\n",
              "      <div>\n",
              "<style scoped>\n",
              "    .dataframe tbody tr th:only-of-type {\n",
              "        vertical-align: middle;\n",
              "    }\n",
              "\n",
              "    .dataframe tbody tr th {\n",
              "        vertical-align: top;\n",
              "    }\n",
              "\n",
              "    .dataframe thead th {\n",
              "        text-align: right;\n",
              "    }\n",
              "</style>\n",
              "<table border=\"1\" class=\"dataframe\">\n",
              "  <thead>\n",
              "    <tr style=\"text-align: right;\">\n",
              "      <th></th>\n",
              "      <th>sepal_length</th>\n",
              "      <th>sepal_width</th>\n",
              "      <th>petal_length</th>\n",
              "      <th>petal_width</th>\n",
              "      <th>species</th>\n",
              "      <th>species_id</th>\n",
              "    </tr>\n",
              "  </thead>\n",
              "  <tbody>\n",
              "    <tr>\n",
              "      <th>0</th>\n",
              "      <td>5.1</td>\n",
              "      <td>3.5</td>\n",
              "      <td>1.4</td>\n",
              "      <td>0.2</td>\n",
              "      <td>setosa</td>\n",
              "      <td>1</td>\n",
              "    </tr>\n",
              "    <tr>\n",
              "      <th>1</th>\n",
              "      <td>4.9</td>\n",
              "      <td>3.0</td>\n",
              "      <td>1.4</td>\n",
              "      <td>0.2</td>\n",
              "      <td>setosa</td>\n",
              "      <td>1</td>\n",
              "    </tr>\n",
              "    <tr>\n",
              "      <th>2</th>\n",
              "      <td>4.7</td>\n",
              "      <td>3.2</td>\n",
              "      <td>1.3</td>\n",
              "      <td>0.2</td>\n",
              "      <td>setosa</td>\n",
              "      <td>1</td>\n",
              "    </tr>\n",
              "    <tr>\n",
              "      <th>3</th>\n",
              "      <td>4.6</td>\n",
              "      <td>3.1</td>\n",
              "      <td>1.5</td>\n",
              "      <td>0.2</td>\n",
              "      <td>setosa</td>\n",
              "      <td>1</td>\n",
              "    </tr>\n",
              "    <tr>\n",
              "      <th>4</th>\n",
              "      <td>5.0</td>\n",
              "      <td>3.6</td>\n",
              "      <td>1.4</td>\n",
              "      <td>0.2</td>\n",
              "      <td>setosa</td>\n",
              "      <td>1</td>\n",
              "    </tr>\n",
              "    <tr>\n",
              "      <th>...</th>\n",
              "      <td>...</td>\n",
              "      <td>...</td>\n",
              "      <td>...</td>\n",
              "      <td>...</td>\n",
              "      <td>...</td>\n",
              "      <td>...</td>\n",
              "    </tr>\n",
              "    <tr>\n",
              "      <th>145</th>\n",
              "      <td>6.7</td>\n",
              "      <td>3.0</td>\n",
              "      <td>5.2</td>\n",
              "      <td>2.3</td>\n",
              "      <td>virginica</td>\n",
              "      <td>3</td>\n",
              "    </tr>\n",
              "    <tr>\n",
              "      <th>146</th>\n",
              "      <td>6.3</td>\n",
              "      <td>2.5</td>\n",
              "      <td>5.0</td>\n",
              "      <td>1.9</td>\n",
              "      <td>virginica</td>\n",
              "      <td>3</td>\n",
              "    </tr>\n",
              "    <tr>\n",
              "      <th>147</th>\n",
              "      <td>6.5</td>\n",
              "      <td>3.0</td>\n",
              "      <td>5.2</td>\n",
              "      <td>2.0</td>\n",
              "      <td>virginica</td>\n",
              "      <td>3</td>\n",
              "    </tr>\n",
              "    <tr>\n",
              "      <th>148</th>\n",
              "      <td>6.2</td>\n",
              "      <td>3.4</td>\n",
              "      <td>5.4</td>\n",
              "      <td>2.3</td>\n",
              "      <td>virginica</td>\n",
              "      <td>3</td>\n",
              "    </tr>\n",
              "    <tr>\n",
              "      <th>149</th>\n",
              "      <td>5.9</td>\n",
              "      <td>3.0</td>\n",
              "      <td>5.1</td>\n",
              "      <td>1.8</td>\n",
              "      <td>virginica</td>\n",
              "      <td>3</td>\n",
              "    </tr>\n",
              "  </tbody>\n",
              "</table>\n",
              "<p>150 rows × 6 columns</p>\n",
              "</div>\n",
              "      <button class=\"colab-df-convert\" onclick=\"convertToInteractive('df-0c71e30e-57e8-4d9c-b4c5-1f349a5d4246')\"\n",
              "              title=\"Convert this dataframe to an interactive table.\"\n",
              "              style=\"display:none;\">\n",
              "        \n",
              "  <svg xmlns=\"http://www.w3.org/2000/svg\" height=\"24px\"viewBox=\"0 0 24 24\"\n",
              "       width=\"24px\">\n",
              "    <path d=\"M0 0h24v24H0V0z\" fill=\"none\"/>\n",
              "    <path d=\"M18.56 5.44l.94 2.06.94-2.06 2.06-.94-2.06-.94-.94-2.06-.94 2.06-2.06.94zm-11 1L8.5 8.5l.94-2.06 2.06-.94-2.06-.94L8.5 2.5l-.94 2.06-2.06.94zm10 10l.94 2.06.94-2.06 2.06-.94-2.06-.94-.94-2.06-.94 2.06-2.06.94z\"/><path d=\"M17.41 7.96l-1.37-1.37c-.4-.4-.92-.59-1.43-.59-.52 0-1.04.2-1.43.59L10.3 9.45l-7.72 7.72c-.78.78-.78 2.05 0 2.83L4 21.41c.39.39.9.59 1.41.59.51 0 1.02-.2 1.41-.59l7.78-7.78 2.81-2.81c.8-.78.8-2.07 0-2.86zM5.41 20L4 18.59l7.72-7.72 1.47 1.35L5.41 20z\"/>\n",
              "  </svg>\n",
              "      </button>\n",
              "      \n",
              "  <style>\n",
              "    .colab-df-container {\n",
              "      display:flex;\n",
              "      flex-wrap:wrap;\n",
              "      gap: 12px;\n",
              "    }\n",
              "\n",
              "    .colab-df-convert {\n",
              "      background-color: #E8F0FE;\n",
              "      border: none;\n",
              "      border-radius: 50%;\n",
              "      cursor: pointer;\n",
              "      display: none;\n",
              "      fill: #1967D2;\n",
              "      height: 32px;\n",
              "      padding: 0 0 0 0;\n",
              "      width: 32px;\n",
              "    }\n",
              "\n",
              "    .colab-df-convert:hover {\n",
              "      background-color: #E2EBFA;\n",
              "      box-shadow: 0px 1px 2px rgba(60, 64, 67, 0.3), 0px 1px 3px 1px rgba(60, 64, 67, 0.15);\n",
              "      fill: #174EA6;\n",
              "    }\n",
              "\n",
              "    [theme=dark] .colab-df-convert {\n",
              "      background-color: #3B4455;\n",
              "      fill: #D2E3FC;\n",
              "    }\n",
              "\n",
              "    [theme=dark] .colab-df-convert:hover {\n",
              "      background-color: #434B5C;\n",
              "      box-shadow: 0px 1px 3px 1px rgba(0, 0, 0, 0.15);\n",
              "      filter: drop-shadow(0px 1px 2px rgba(0, 0, 0, 0.3));\n",
              "      fill: #FFFFFF;\n",
              "    }\n",
              "  </style>\n",
              "\n",
              "      <script>\n",
              "        const buttonEl =\n",
              "          document.querySelector('#df-0c71e30e-57e8-4d9c-b4c5-1f349a5d4246 button.colab-df-convert');\n",
              "        buttonEl.style.display =\n",
              "          google.colab.kernel.accessAllowed ? 'block' : 'none';\n",
              "\n",
              "        async function convertToInteractive(key) {\n",
              "          const element = document.querySelector('#df-0c71e30e-57e8-4d9c-b4c5-1f349a5d4246');\n",
              "          const dataTable =\n",
              "            await google.colab.kernel.invokeFunction('convertToInteractive',\n",
              "                                                     [key], {});\n",
              "          if (!dataTable) return;\n",
              "\n",
              "          const docLinkHtml = 'Like what you see? Visit the ' +\n",
              "            '<a target=\"_blank\" href=https://colab.research.google.com/notebooks/data_table.ipynb>data table notebook</a>'\n",
              "            + ' to learn more about interactive tables.';\n",
              "          element.innerHTML = '';\n",
              "          dataTable['output_type'] = 'display_data';\n",
              "          await google.colab.output.renderOutput(dataTable, element);\n",
              "          const docLink = document.createElement('div');\n",
              "          docLink.innerHTML = docLinkHtml;\n",
              "          element.appendChild(docLink);\n",
              "        }\n",
              "      </script>\n",
              "    </div>\n",
              "  </div>\n",
              "  "
            ]
          },
          "metadata": {},
          "execution_count": 3
        }
      ]
    },
    {
      "cell_type": "code",
      "metadata": {
        "id": "Iht9-PCOovwM",
        "colab": {
          "base_uri": "https://localhost:8080/",
          "height": 542
        },
        "outputId": "70bd8a94-b69d-47a6-8698-fb1e58fcf5d8"
      },
      "source": [
        "fig = px.scatter(iris, x = 'petal_width', y='petal_length')\n",
        "fig.show()"
      ],
      "execution_count": null,
      "outputs": [
        {
          "output_type": "display_data",
          "data": {
            "text/html": [
              "<html>\n",
              "<head><meta charset=\"utf-8\" /></head>\n",
              "<body>\n",
              "    <div>            <script src=\"https://cdnjs.cloudflare.com/ajax/libs/mathjax/2.7.5/MathJax.js?config=TeX-AMS-MML_SVG\"></script><script type=\"text/javascript\">if (window.MathJax) {MathJax.Hub.Config({SVG: {font: \"STIX-Web\"}});}</script>                <script type=\"text/javascript\">window.PlotlyConfig = {MathJaxConfig: 'local'};</script>\n",
              "        <script src=\"https://cdn.plot.ly/plotly-2.8.3.min.js\"></script>                <div id=\"ba532aea-334a-42a7-970f-98b97055f814\" class=\"plotly-graph-div\" style=\"height:525px; width:100%;\"></div>            <script type=\"text/javascript\">                                    window.PLOTLYENV=window.PLOTLYENV || {};                                    if (document.getElementById(\"ba532aea-334a-42a7-970f-98b97055f814\")) {                    Plotly.newPlot(                        \"ba532aea-334a-42a7-970f-98b97055f814\",                        [{\"hovertemplate\":\"petal_width=%{x}<br>petal_length=%{y}<extra></extra>\",\"legendgroup\":\"\",\"marker\":{\"color\":\"#636efa\",\"symbol\":\"circle\"},\"mode\":\"markers\",\"name\":\"\",\"orientation\":\"v\",\"showlegend\":false,\"x\":[0.2,0.2,0.2,0.2,0.2,0.4,0.3,0.2,0.2,0.1,0.2,0.2,0.1,0.1,0.2,0.4,0.4,0.3,0.3,0.3,0.2,0.4,0.2,0.5,0.2,0.2,0.4,0.2,0.2,0.2,0.2,0.4,0.1,0.2,0.1,0.2,0.2,0.1,0.2,0.2,0.3,0.3,0.2,0.6,0.4,0.3,0.2,0.2,0.2,0.2,1.4,1.5,1.5,1.3,1.5,1.3,1.6,1.0,1.3,1.4,1.0,1.5,1.0,1.4,1.3,1.4,1.5,1.0,1.5,1.1,1.8,1.3,1.5,1.2,1.3,1.4,1.4,1.7,1.5,1.0,1.1,1.0,1.2,1.6,1.5,1.6,1.5,1.3,1.3,1.3,1.2,1.4,1.2,1.0,1.3,1.2,1.3,1.3,1.1,1.3,2.5,1.9,2.1,1.8,2.2,2.1,1.7,1.8,1.8,2.5,2.0,1.9,2.1,2.0,2.4,2.3,1.8,2.2,2.3,1.5,2.3,2.0,2.0,1.8,2.1,1.8,1.8,1.8,2.1,1.6,1.9,2.0,2.2,1.5,1.4,2.3,2.4,1.8,1.8,2.1,2.4,2.3,1.9,2.3,2.5,2.3,1.9,2.0,2.3,1.8],\"xaxis\":\"x\",\"y\":[1.4,1.4,1.3,1.5,1.4,1.7,1.4,1.5,1.4,1.5,1.5,1.6,1.4,1.1,1.2,1.5,1.3,1.4,1.7,1.5,1.7,1.5,1.0,1.7,1.9,1.6,1.6,1.5,1.4,1.6,1.6,1.5,1.5,1.4,1.5,1.2,1.3,1.5,1.3,1.5,1.3,1.3,1.3,1.6,1.9,1.4,1.6,1.4,1.5,1.4,4.7,4.5,4.9,4.0,4.6,4.5,4.7,3.3,4.6,3.9,3.5,4.2,4.0,4.7,3.6,4.4,4.5,4.1,4.5,3.9,4.8,4.0,4.9,4.7,4.3,4.4,4.8,5.0,4.5,3.5,3.8,3.7,3.9,5.1,4.5,4.5,4.7,4.4,4.1,4.0,4.4,4.6,4.0,3.3,4.2,4.2,4.2,4.3,3.0,4.1,6.0,5.1,5.9,5.6,5.8,6.6,4.5,6.3,5.8,6.1,5.1,5.3,5.5,5.0,5.1,5.3,5.5,6.7,6.9,5.0,5.7,4.9,6.7,4.9,5.7,6.0,4.8,4.9,5.6,5.8,6.1,6.4,5.6,5.1,5.6,6.1,5.6,5.5,4.8,5.4,5.6,5.1,5.1,5.9,5.7,5.2,5.0,5.2,5.4,5.1],\"yaxis\":\"y\",\"type\":\"scatter\"}],                        {\"template\":{\"data\":{\"bar\":[{\"error_x\":{\"color\":\"#2a3f5f\"},\"error_y\":{\"color\":\"#2a3f5f\"},\"marker\":{\"line\":{\"color\":\"#E5ECF6\",\"width\":0.5},\"pattern\":{\"fillmode\":\"overlay\",\"size\":10,\"solidity\":0.2}},\"type\":\"bar\"}],\"barpolar\":[{\"marker\":{\"line\":{\"color\":\"#E5ECF6\",\"width\":0.5},\"pattern\":{\"fillmode\":\"overlay\",\"size\":10,\"solidity\":0.2}},\"type\":\"barpolar\"}],\"carpet\":[{\"aaxis\":{\"endlinecolor\":\"#2a3f5f\",\"gridcolor\":\"white\",\"linecolor\":\"white\",\"minorgridcolor\":\"white\",\"startlinecolor\":\"#2a3f5f\"},\"baxis\":{\"endlinecolor\":\"#2a3f5f\",\"gridcolor\":\"white\",\"linecolor\":\"white\",\"minorgridcolor\":\"white\",\"startlinecolor\":\"#2a3f5f\"},\"type\":\"carpet\"}],\"choropleth\":[{\"colorbar\":{\"outlinewidth\":0,\"ticks\":\"\"},\"type\":\"choropleth\"}],\"contour\":[{\"colorbar\":{\"outlinewidth\":0,\"ticks\":\"\"},\"colorscale\":[[0.0,\"#0d0887\"],[0.1111111111111111,\"#46039f\"],[0.2222222222222222,\"#7201a8\"],[0.3333333333333333,\"#9c179e\"],[0.4444444444444444,\"#bd3786\"],[0.5555555555555556,\"#d8576b\"],[0.6666666666666666,\"#ed7953\"],[0.7777777777777778,\"#fb9f3a\"],[0.8888888888888888,\"#fdca26\"],[1.0,\"#f0f921\"]],\"type\":\"contour\"}],\"contourcarpet\":[{\"colorbar\":{\"outlinewidth\":0,\"ticks\":\"\"},\"type\":\"contourcarpet\"}],\"heatmap\":[{\"colorbar\":{\"outlinewidth\":0,\"ticks\":\"\"},\"colorscale\":[[0.0,\"#0d0887\"],[0.1111111111111111,\"#46039f\"],[0.2222222222222222,\"#7201a8\"],[0.3333333333333333,\"#9c179e\"],[0.4444444444444444,\"#bd3786\"],[0.5555555555555556,\"#d8576b\"],[0.6666666666666666,\"#ed7953\"],[0.7777777777777778,\"#fb9f3a\"],[0.8888888888888888,\"#fdca26\"],[1.0,\"#f0f921\"]],\"type\":\"heatmap\"}],\"heatmapgl\":[{\"colorbar\":{\"outlinewidth\":0,\"ticks\":\"\"},\"colorscale\":[[0.0,\"#0d0887\"],[0.1111111111111111,\"#46039f\"],[0.2222222222222222,\"#7201a8\"],[0.3333333333333333,\"#9c179e\"],[0.4444444444444444,\"#bd3786\"],[0.5555555555555556,\"#d8576b\"],[0.6666666666666666,\"#ed7953\"],[0.7777777777777778,\"#fb9f3a\"],[0.8888888888888888,\"#fdca26\"],[1.0,\"#f0f921\"]],\"type\":\"heatmapgl\"}],\"histogram\":[{\"marker\":{\"pattern\":{\"fillmode\":\"overlay\",\"size\":10,\"solidity\":0.2}},\"type\":\"histogram\"}],\"histogram2d\":[{\"colorbar\":{\"outlinewidth\":0,\"ticks\":\"\"},\"colorscale\":[[0.0,\"#0d0887\"],[0.1111111111111111,\"#46039f\"],[0.2222222222222222,\"#7201a8\"],[0.3333333333333333,\"#9c179e\"],[0.4444444444444444,\"#bd3786\"],[0.5555555555555556,\"#d8576b\"],[0.6666666666666666,\"#ed7953\"],[0.7777777777777778,\"#fb9f3a\"],[0.8888888888888888,\"#fdca26\"],[1.0,\"#f0f921\"]],\"type\":\"histogram2d\"}],\"histogram2dcontour\":[{\"colorbar\":{\"outlinewidth\":0,\"ticks\":\"\"},\"colorscale\":[[0.0,\"#0d0887\"],[0.1111111111111111,\"#46039f\"],[0.2222222222222222,\"#7201a8\"],[0.3333333333333333,\"#9c179e\"],[0.4444444444444444,\"#bd3786\"],[0.5555555555555556,\"#d8576b\"],[0.6666666666666666,\"#ed7953\"],[0.7777777777777778,\"#fb9f3a\"],[0.8888888888888888,\"#fdca26\"],[1.0,\"#f0f921\"]],\"type\":\"histogram2dcontour\"}],\"mesh3d\":[{\"colorbar\":{\"outlinewidth\":0,\"ticks\":\"\"},\"type\":\"mesh3d\"}],\"parcoords\":[{\"line\":{\"colorbar\":{\"outlinewidth\":0,\"ticks\":\"\"}},\"type\":\"parcoords\"}],\"pie\":[{\"automargin\":true,\"type\":\"pie\"}],\"scatter\":[{\"marker\":{\"colorbar\":{\"outlinewidth\":0,\"ticks\":\"\"}},\"type\":\"scatter\"}],\"scatter3d\":[{\"line\":{\"colorbar\":{\"outlinewidth\":0,\"ticks\":\"\"}},\"marker\":{\"colorbar\":{\"outlinewidth\":0,\"ticks\":\"\"}},\"type\":\"scatter3d\"}],\"scattercarpet\":[{\"marker\":{\"colorbar\":{\"outlinewidth\":0,\"ticks\":\"\"}},\"type\":\"scattercarpet\"}],\"scattergeo\":[{\"marker\":{\"colorbar\":{\"outlinewidth\":0,\"ticks\":\"\"}},\"type\":\"scattergeo\"}],\"scattergl\":[{\"marker\":{\"colorbar\":{\"outlinewidth\":0,\"ticks\":\"\"}},\"type\":\"scattergl\"}],\"scattermapbox\":[{\"marker\":{\"colorbar\":{\"outlinewidth\":0,\"ticks\":\"\"}},\"type\":\"scattermapbox\"}],\"scatterpolar\":[{\"marker\":{\"colorbar\":{\"outlinewidth\":0,\"ticks\":\"\"}},\"type\":\"scatterpolar\"}],\"scatterpolargl\":[{\"marker\":{\"colorbar\":{\"outlinewidth\":0,\"ticks\":\"\"}},\"type\":\"scatterpolargl\"}],\"scatterternary\":[{\"marker\":{\"colorbar\":{\"outlinewidth\":0,\"ticks\":\"\"}},\"type\":\"scatterternary\"}],\"surface\":[{\"colorbar\":{\"outlinewidth\":0,\"ticks\":\"\"},\"colorscale\":[[0.0,\"#0d0887\"],[0.1111111111111111,\"#46039f\"],[0.2222222222222222,\"#7201a8\"],[0.3333333333333333,\"#9c179e\"],[0.4444444444444444,\"#bd3786\"],[0.5555555555555556,\"#d8576b\"],[0.6666666666666666,\"#ed7953\"],[0.7777777777777778,\"#fb9f3a\"],[0.8888888888888888,\"#fdca26\"],[1.0,\"#f0f921\"]],\"type\":\"surface\"}],\"table\":[{\"cells\":{\"fill\":{\"color\":\"#EBF0F8\"},\"line\":{\"color\":\"white\"}},\"header\":{\"fill\":{\"color\":\"#C8D4E3\"},\"line\":{\"color\":\"white\"}},\"type\":\"table\"}]},\"layout\":{\"annotationdefaults\":{\"arrowcolor\":\"#2a3f5f\",\"arrowhead\":0,\"arrowwidth\":1},\"autotypenumbers\":\"strict\",\"coloraxis\":{\"colorbar\":{\"outlinewidth\":0,\"ticks\":\"\"}},\"colorscale\":{\"diverging\":[[0,\"#8e0152\"],[0.1,\"#c51b7d\"],[0.2,\"#de77ae\"],[0.3,\"#f1b6da\"],[0.4,\"#fde0ef\"],[0.5,\"#f7f7f7\"],[0.6,\"#e6f5d0\"],[0.7,\"#b8e186\"],[0.8,\"#7fbc41\"],[0.9,\"#4d9221\"],[1,\"#276419\"]],\"sequential\":[[0.0,\"#0d0887\"],[0.1111111111111111,\"#46039f\"],[0.2222222222222222,\"#7201a8\"],[0.3333333333333333,\"#9c179e\"],[0.4444444444444444,\"#bd3786\"],[0.5555555555555556,\"#d8576b\"],[0.6666666666666666,\"#ed7953\"],[0.7777777777777778,\"#fb9f3a\"],[0.8888888888888888,\"#fdca26\"],[1.0,\"#f0f921\"]],\"sequentialminus\":[[0.0,\"#0d0887\"],[0.1111111111111111,\"#46039f\"],[0.2222222222222222,\"#7201a8\"],[0.3333333333333333,\"#9c179e\"],[0.4444444444444444,\"#bd3786\"],[0.5555555555555556,\"#d8576b\"],[0.6666666666666666,\"#ed7953\"],[0.7777777777777778,\"#fb9f3a\"],[0.8888888888888888,\"#fdca26\"],[1.0,\"#f0f921\"]]},\"colorway\":[\"#636efa\",\"#EF553B\",\"#00cc96\",\"#ab63fa\",\"#FFA15A\",\"#19d3f3\",\"#FF6692\",\"#B6E880\",\"#FF97FF\",\"#FECB52\"],\"font\":{\"color\":\"#2a3f5f\"},\"geo\":{\"bgcolor\":\"white\",\"lakecolor\":\"white\",\"landcolor\":\"#E5ECF6\",\"showlakes\":true,\"showland\":true,\"subunitcolor\":\"white\"},\"hoverlabel\":{\"align\":\"left\"},\"hovermode\":\"closest\",\"mapbox\":{\"style\":\"light\"},\"paper_bgcolor\":\"white\",\"plot_bgcolor\":\"#E5ECF6\",\"polar\":{\"angularaxis\":{\"gridcolor\":\"white\",\"linecolor\":\"white\",\"ticks\":\"\"},\"bgcolor\":\"#E5ECF6\",\"radialaxis\":{\"gridcolor\":\"white\",\"linecolor\":\"white\",\"ticks\":\"\"}},\"scene\":{\"xaxis\":{\"backgroundcolor\":\"#E5ECF6\",\"gridcolor\":\"white\",\"gridwidth\":2,\"linecolor\":\"white\",\"showbackground\":true,\"ticks\":\"\",\"zerolinecolor\":\"white\"},\"yaxis\":{\"backgroundcolor\":\"#E5ECF6\",\"gridcolor\":\"white\",\"gridwidth\":2,\"linecolor\":\"white\",\"showbackground\":true,\"ticks\":\"\",\"zerolinecolor\":\"white\"},\"zaxis\":{\"backgroundcolor\":\"#E5ECF6\",\"gridcolor\":\"white\",\"gridwidth\":2,\"linecolor\":\"white\",\"showbackground\":true,\"ticks\":\"\",\"zerolinecolor\":\"white\"}},\"shapedefaults\":{\"line\":{\"color\":\"#2a3f5f\"}},\"ternary\":{\"aaxis\":{\"gridcolor\":\"white\",\"linecolor\":\"white\",\"ticks\":\"\"},\"baxis\":{\"gridcolor\":\"white\",\"linecolor\":\"white\",\"ticks\":\"\"},\"bgcolor\":\"#E5ECF6\",\"caxis\":{\"gridcolor\":\"white\",\"linecolor\":\"white\",\"ticks\":\"\"}},\"title\":{\"x\":0.05},\"xaxis\":{\"automargin\":true,\"gridcolor\":\"white\",\"linecolor\":\"white\",\"ticks\":\"\",\"title\":{\"standoff\":15},\"zerolinecolor\":\"white\",\"zerolinewidth\":2},\"yaxis\":{\"automargin\":true,\"gridcolor\":\"white\",\"linecolor\":\"white\",\"ticks\":\"\",\"title\":{\"standoff\":15},\"zerolinecolor\":\"white\",\"zerolinewidth\":2}}},\"xaxis\":{\"anchor\":\"y\",\"domain\":[0.0,1.0],\"title\":{\"text\":\"petal_width\"}},\"yaxis\":{\"anchor\":\"x\",\"domain\":[0.0,1.0],\"title\":{\"text\":\"petal_length\"}},\"legend\":{\"tracegroupgap\":0},\"margin\":{\"t\":60}},                        {\"responsive\": true}                    ).then(function(){\n",
              "                            \n",
              "var gd = document.getElementById('ba532aea-334a-42a7-970f-98b97055f814');\n",
              "var x = new MutationObserver(function (mutations, observer) {{\n",
              "        var display = window.getComputedStyle(gd).display;\n",
              "        if (!display || display === 'none') {{\n",
              "            console.log([gd, 'removed!']);\n",
              "            Plotly.purge(gd);\n",
              "            observer.disconnect();\n",
              "        }}\n",
              "}});\n",
              "\n",
              "// Listen for the removal of the full notebook cells\n",
              "var notebookContainer = gd.closest('#notebook-container');\n",
              "if (notebookContainer) {{\n",
              "    x.observe(notebookContainer, {childList: true});\n",
              "}}\n",
              "\n",
              "// Listen for the clearing of the current output cell\n",
              "var outputEl = gd.closest('.output');\n",
              "if (outputEl) {{\n",
              "    x.observe(outputEl, {childList: true});\n",
              "}}\n",
              "\n",
              "                        })                };                            </script>        </div>\n",
              "</body>\n",
              "</html>"
            ]
          },
          "metadata": {}
        }
      ]
    },
    {
      "cell_type": "code",
      "metadata": {
        "id": "OpvNbZAJYELy",
        "colab": {
          "base_uri": "https://localhost:8080/",
          "height": 542
        },
        "outputId": "ba74f8f7-562e-4631-c252-f6a4d08a3e39"
      },
      "source": [
        "fig = px.scatter(iris, x = 'petal_width', y='petal_length',color = 'species')\n",
        "fig.show()"
      ],
      "execution_count": null,
      "outputs": [
        {
          "output_type": "display_data",
          "data": {
            "text/html": [
              "<html>\n",
              "<head><meta charset=\"utf-8\" /></head>\n",
              "<body>\n",
              "    <div>            <script src=\"https://cdnjs.cloudflare.com/ajax/libs/mathjax/2.7.5/MathJax.js?config=TeX-AMS-MML_SVG\"></script><script type=\"text/javascript\">if (window.MathJax) {MathJax.Hub.Config({SVG: {font: \"STIX-Web\"}});}</script>                <script type=\"text/javascript\">window.PlotlyConfig = {MathJaxConfig: 'local'};</script>\n",
              "        <script src=\"https://cdn.plot.ly/plotly-2.8.3.min.js\"></script>                <div id=\"68199124-ebcd-42ea-812a-4f5f1ca18d13\" class=\"plotly-graph-div\" style=\"height:525px; width:100%;\"></div>            <script type=\"text/javascript\">                                    window.PLOTLYENV=window.PLOTLYENV || {};                                    if (document.getElementById(\"68199124-ebcd-42ea-812a-4f5f1ca18d13\")) {                    Plotly.newPlot(                        \"68199124-ebcd-42ea-812a-4f5f1ca18d13\",                        [{\"hovertemplate\":\"species=setosa<br>petal_width=%{x}<br>petal_length=%{y}<extra></extra>\",\"legendgroup\":\"setosa\",\"marker\":{\"color\":\"#636efa\",\"symbol\":\"circle\"},\"mode\":\"markers\",\"name\":\"setosa\",\"orientation\":\"v\",\"showlegend\":true,\"x\":[0.2,0.2,0.2,0.2,0.2,0.4,0.3,0.2,0.2,0.1,0.2,0.2,0.1,0.1,0.2,0.4,0.4,0.3,0.3,0.3,0.2,0.4,0.2,0.5,0.2,0.2,0.4,0.2,0.2,0.2,0.2,0.4,0.1,0.2,0.1,0.2,0.2,0.1,0.2,0.2,0.3,0.3,0.2,0.6,0.4,0.3,0.2,0.2,0.2,0.2],\"xaxis\":\"x\",\"y\":[1.4,1.4,1.3,1.5,1.4,1.7,1.4,1.5,1.4,1.5,1.5,1.6,1.4,1.1,1.2,1.5,1.3,1.4,1.7,1.5,1.7,1.5,1.0,1.7,1.9,1.6,1.6,1.5,1.4,1.6,1.6,1.5,1.5,1.4,1.5,1.2,1.3,1.5,1.3,1.5,1.3,1.3,1.3,1.6,1.9,1.4,1.6,1.4,1.5,1.4],\"yaxis\":\"y\",\"type\":\"scatter\"},{\"hovertemplate\":\"species=versicolor<br>petal_width=%{x}<br>petal_length=%{y}<extra></extra>\",\"legendgroup\":\"versicolor\",\"marker\":{\"color\":\"#EF553B\",\"symbol\":\"circle\"},\"mode\":\"markers\",\"name\":\"versicolor\",\"orientation\":\"v\",\"showlegend\":true,\"x\":[1.4,1.5,1.5,1.3,1.5,1.3,1.6,1.0,1.3,1.4,1.0,1.5,1.0,1.4,1.3,1.4,1.5,1.0,1.5,1.1,1.8,1.3,1.5,1.2,1.3,1.4,1.4,1.7,1.5,1.0,1.1,1.0,1.2,1.6,1.5,1.6,1.5,1.3,1.3,1.3,1.2,1.4,1.2,1.0,1.3,1.2,1.3,1.3,1.1,1.3],\"xaxis\":\"x\",\"y\":[4.7,4.5,4.9,4.0,4.6,4.5,4.7,3.3,4.6,3.9,3.5,4.2,4.0,4.7,3.6,4.4,4.5,4.1,4.5,3.9,4.8,4.0,4.9,4.7,4.3,4.4,4.8,5.0,4.5,3.5,3.8,3.7,3.9,5.1,4.5,4.5,4.7,4.4,4.1,4.0,4.4,4.6,4.0,3.3,4.2,4.2,4.2,4.3,3.0,4.1],\"yaxis\":\"y\",\"type\":\"scatter\"},{\"hovertemplate\":\"species=virginica<br>petal_width=%{x}<br>petal_length=%{y}<extra></extra>\",\"legendgroup\":\"virginica\",\"marker\":{\"color\":\"#00cc96\",\"symbol\":\"circle\"},\"mode\":\"markers\",\"name\":\"virginica\",\"orientation\":\"v\",\"showlegend\":true,\"x\":[2.5,1.9,2.1,1.8,2.2,2.1,1.7,1.8,1.8,2.5,2.0,1.9,2.1,2.0,2.4,2.3,1.8,2.2,2.3,1.5,2.3,2.0,2.0,1.8,2.1,1.8,1.8,1.8,2.1,1.6,1.9,2.0,2.2,1.5,1.4,2.3,2.4,1.8,1.8,2.1,2.4,2.3,1.9,2.3,2.5,2.3,1.9,2.0,2.3,1.8],\"xaxis\":\"x\",\"y\":[6.0,5.1,5.9,5.6,5.8,6.6,4.5,6.3,5.8,6.1,5.1,5.3,5.5,5.0,5.1,5.3,5.5,6.7,6.9,5.0,5.7,4.9,6.7,4.9,5.7,6.0,4.8,4.9,5.6,5.8,6.1,6.4,5.6,5.1,5.6,6.1,5.6,5.5,4.8,5.4,5.6,5.1,5.1,5.9,5.7,5.2,5.0,5.2,5.4,5.1],\"yaxis\":\"y\",\"type\":\"scatter\"}],                        {\"template\":{\"data\":{\"bar\":[{\"error_x\":{\"color\":\"#2a3f5f\"},\"error_y\":{\"color\":\"#2a3f5f\"},\"marker\":{\"line\":{\"color\":\"#E5ECF6\",\"width\":0.5},\"pattern\":{\"fillmode\":\"overlay\",\"size\":10,\"solidity\":0.2}},\"type\":\"bar\"}],\"barpolar\":[{\"marker\":{\"line\":{\"color\":\"#E5ECF6\",\"width\":0.5},\"pattern\":{\"fillmode\":\"overlay\",\"size\":10,\"solidity\":0.2}},\"type\":\"barpolar\"}],\"carpet\":[{\"aaxis\":{\"endlinecolor\":\"#2a3f5f\",\"gridcolor\":\"white\",\"linecolor\":\"white\",\"minorgridcolor\":\"white\",\"startlinecolor\":\"#2a3f5f\"},\"baxis\":{\"endlinecolor\":\"#2a3f5f\",\"gridcolor\":\"white\",\"linecolor\":\"white\",\"minorgridcolor\":\"white\",\"startlinecolor\":\"#2a3f5f\"},\"type\":\"carpet\"}],\"choropleth\":[{\"colorbar\":{\"outlinewidth\":0,\"ticks\":\"\"},\"type\":\"choropleth\"}],\"contour\":[{\"colorbar\":{\"outlinewidth\":0,\"ticks\":\"\"},\"colorscale\":[[0.0,\"#0d0887\"],[0.1111111111111111,\"#46039f\"],[0.2222222222222222,\"#7201a8\"],[0.3333333333333333,\"#9c179e\"],[0.4444444444444444,\"#bd3786\"],[0.5555555555555556,\"#d8576b\"],[0.6666666666666666,\"#ed7953\"],[0.7777777777777778,\"#fb9f3a\"],[0.8888888888888888,\"#fdca26\"],[1.0,\"#f0f921\"]],\"type\":\"contour\"}],\"contourcarpet\":[{\"colorbar\":{\"outlinewidth\":0,\"ticks\":\"\"},\"type\":\"contourcarpet\"}],\"heatmap\":[{\"colorbar\":{\"outlinewidth\":0,\"ticks\":\"\"},\"colorscale\":[[0.0,\"#0d0887\"],[0.1111111111111111,\"#46039f\"],[0.2222222222222222,\"#7201a8\"],[0.3333333333333333,\"#9c179e\"],[0.4444444444444444,\"#bd3786\"],[0.5555555555555556,\"#d8576b\"],[0.6666666666666666,\"#ed7953\"],[0.7777777777777778,\"#fb9f3a\"],[0.8888888888888888,\"#fdca26\"],[1.0,\"#f0f921\"]],\"type\":\"heatmap\"}],\"heatmapgl\":[{\"colorbar\":{\"outlinewidth\":0,\"ticks\":\"\"},\"colorscale\":[[0.0,\"#0d0887\"],[0.1111111111111111,\"#46039f\"],[0.2222222222222222,\"#7201a8\"],[0.3333333333333333,\"#9c179e\"],[0.4444444444444444,\"#bd3786\"],[0.5555555555555556,\"#d8576b\"],[0.6666666666666666,\"#ed7953\"],[0.7777777777777778,\"#fb9f3a\"],[0.8888888888888888,\"#fdca26\"],[1.0,\"#f0f921\"]],\"type\":\"heatmapgl\"}],\"histogram\":[{\"marker\":{\"pattern\":{\"fillmode\":\"overlay\",\"size\":10,\"solidity\":0.2}},\"type\":\"histogram\"}],\"histogram2d\":[{\"colorbar\":{\"outlinewidth\":0,\"ticks\":\"\"},\"colorscale\":[[0.0,\"#0d0887\"],[0.1111111111111111,\"#46039f\"],[0.2222222222222222,\"#7201a8\"],[0.3333333333333333,\"#9c179e\"],[0.4444444444444444,\"#bd3786\"],[0.5555555555555556,\"#d8576b\"],[0.6666666666666666,\"#ed7953\"],[0.7777777777777778,\"#fb9f3a\"],[0.8888888888888888,\"#fdca26\"],[1.0,\"#f0f921\"]],\"type\":\"histogram2d\"}],\"histogram2dcontour\":[{\"colorbar\":{\"outlinewidth\":0,\"ticks\":\"\"},\"colorscale\":[[0.0,\"#0d0887\"],[0.1111111111111111,\"#46039f\"],[0.2222222222222222,\"#7201a8\"],[0.3333333333333333,\"#9c179e\"],[0.4444444444444444,\"#bd3786\"],[0.5555555555555556,\"#d8576b\"],[0.6666666666666666,\"#ed7953\"],[0.7777777777777778,\"#fb9f3a\"],[0.8888888888888888,\"#fdca26\"],[1.0,\"#f0f921\"]],\"type\":\"histogram2dcontour\"}],\"mesh3d\":[{\"colorbar\":{\"outlinewidth\":0,\"ticks\":\"\"},\"type\":\"mesh3d\"}],\"parcoords\":[{\"line\":{\"colorbar\":{\"outlinewidth\":0,\"ticks\":\"\"}},\"type\":\"parcoords\"}],\"pie\":[{\"automargin\":true,\"type\":\"pie\"}],\"scatter\":[{\"marker\":{\"colorbar\":{\"outlinewidth\":0,\"ticks\":\"\"}},\"type\":\"scatter\"}],\"scatter3d\":[{\"line\":{\"colorbar\":{\"outlinewidth\":0,\"ticks\":\"\"}},\"marker\":{\"colorbar\":{\"outlinewidth\":0,\"ticks\":\"\"}},\"type\":\"scatter3d\"}],\"scattercarpet\":[{\"marker\":{\"colorbar\":{\"outlinewidth\":0,\"ticks\":\"\"}},\"type\":\"scattercarpet\"}],\"scattergeo\":[{\"marker\":{\"colorbar\":{\"outlinewidth\":0,\"ticks\":\"\"}},\"type\":\"scattergeo\"}],\"scattergl\":[{\"marker\":{\"colorbar\":{\"outlinewidth\":0,\"ticks\":\"\"}},\"type\":\"scattergl\"}],\"scattermapbox\":[{\"marker\":{\"colorbar\":{\"outlinewidth\":0,\"ticks\":\"\"}},\"type\":\"scattermapbox\"}],\"scatterpolar\":[{\"marker\":{\"colorbar\":{\"outlinewidth\":0,\"ticks\":\"\"}},\"type\":\"scatterpolar\"}],\"scatterpolargl\":[{\"marker\":{\"colorbar\":{\"outlinewidth\":0,\"ticks\":\"\"}},\"type\":\"scatterpolargl\"}],\"scatterternary\":[{\"marker\":{\"colorbar\":{\"outlinewidth\":0,\"ticks\":\"\"}},\"type\":\"scatterternary\"}],\"surface\":[{\"colorbar\":{\"outlinewidth\":0,\"ticks\":\"\"},\"colorscale\":[[0.0,\"#0d0887\"],[0.1111111111111111,\"#46039f\"],[0.2222222222222222,\"#7201a8\"],[0.3333333333333333,\"#9c179e\"],[0.4444444444444444,\"#bd3786\"],[0.5555555555555556,\"#d8576b\"],[0.6666666666666666,\"#ed7953\"],[0.7777777777777778,\"#fb9f3a\"],[0.8888888888888888,\"#fdca26\"],[1.0,\"#f0f921\"]],\"type\":\"surface\"}],\"table\":[{\"cells\":{\"fill\":{\"color\":\"#EBF0F8\"},\"line\":{\"color\":\"white\"}},\"header\":{\"fill\":{\"color\":\"#C8D4E3\"},\"line\":{\"color\":\"white\"}},\"type\":\"table\"}]},\"layout\":{\"annotationdefaults\":{\"arrowcolor\":\"#2a3f5f\",\"arrowhead\":0,\"arrowwidth\":1},\"autotypenumbers\":\"strict\",\"coloraxis\":{\"colorbar\":{\"outlinewidth\":0,\"ticks\":\"\"}},\"colorscale\":{\"diverging\":[[0,\"#8e0152\"],[0.1,\"#c51b7d\"],[0.2,\"#de77ae\"],[0.3,\"#f1b6da\"],[0.4,\"#fde0ef\"],[0.5,\"#f7f7f7\"],[0.6,\"#e6f5d0\"],[0.7,\"#b8e186\"],[0.8,\"#7fbc41\"],[0.9,\"#4d9221\"],[1,\"#276419\"]],\"sequential\":[[0.0,\"#0d0887\"],[0.1111111111111111,\"#46039f\"],[0.2222222222222222,\"#7201a8\"],[0.3333333333333333,\"#9c179e\"],[0.4444444444444444,\"#bd3786\"],[0.5555555555555556,\"#d8576b\"],[0.6666666666666666,\"#ed7953\"],[0.7777777777777778,\"#fb9f3a\"],[0.8888888888888888,\"#fdca26\"],[1.0,\"#f0f921\"]],\"sequentialminus\":[[0.0,\"#0d0887\"],[0.1111111111111111,\"#46039f\"],[0.2222222222222222,\"#7201a8\"],[0.3333333333333333,\"#9c179e\"],[0.4444444444444444,\"#bd3786\"],[0.5555555555555556,\"#d8576b\"],[0.6666666666666666,\"#ed7953\"],[0.7777777777777778,\"#fb9f3a\"],[0.8888888888888888,\"#fdca26\"],[1.0,\"#f0f921\"]]},\"colorway\":[\"#636efa\",\"#EF553B\",\"#00cc96\",\"#ab63fa\",\"#FFA15A\",\"#19d3f3\",\"#FF6692\",\"#B6E880\",\"#FF97FF\",\"#FECB52\"],\"font\":{\"color\":\"#2a3f5f\"},\"geo\":{\"bgcolor\":\"white\",\"lakecolor\":\"white\",\"landcolor\":\"#E5ECF6\",\"showlakes\":true,\"showland\":true,\"subunitcolor\":\"white\"},\"hoverlabel\":{\"align\":\"left\"},\"hovermode\":\"closest\",\"mapbox\":{\"style\":\"light\"},\"paper_bgcolor\":\"white\",\"plot_bgcolor\":\"#E5ECF6\",\"polar\":{\"angularaxis\":{\"gridcolor\":\"white\",\"linecolor\":\"white\",\"ticks\":\"\"},\"bgcolor\":\"#E5ECF6\",\"radialaxis\":{\"gridcolor\":\"white\",\"linecolor\":\"white\",\"ticks\":\"\"}},\"scene\":{\"xaxis\":{\"backgroundcolor\":\"#E5ECF6\",\"gridcolor\":\"white\",\"gridwidth\":2,\"linecolor\":\"white\",\"showbackground\":true,\"ticks\":\"\",\"zerolinecolor\":\"white\"},\"yaxis\":{\"backgroundcolor\":\"#E5ECF6\",\"gridcolor\":\"white\",\"gridwidth\":2,\"linecolor\":\"white\",\"showbackground\":true,\"ticks\":\"\",\"zerolinecolor\":\"white\"},\"zaxis\":{\"backgroundcolor\":\"#E5ECF6\",\"gridcolor\":\"white\",\"gridwidth\":2,\"linecolor\":\"white\",\"showbackground\":true,\"ticks\":\"\",\"zerolinecolor\":\"white\"}},\"shapedefaults\":{\"line\":{\"color\":\"#2a3f5f\"}},\"ternary\":{\"aaxis\":{\"gridcolor\":\"white\",\"linecolor\":\"white\",\"ticks\":\"\"},\"baxis\":{\"gridcolor\":\"white\",\"linecolor\":\"white\",\"ticks\":\"\"},\"bgcolor\":\"#E5ECF6\",\"caxis\":{\"gridcolor\":\"white\",\"linecolor\":\"white\",\"ticks\":\"\"}},\"title\":{\"x\":0.05},\"xaxis\":{\"automargin\":true,\"gridcolor\":\"white\",\"linecolor\":\"white\",\"ticks\":\"\",\"title\":{\"standoff\":15},\"zerolinecolor\":\"white\",\"zerolinewidth\":2},\"yaxis\":{\"automargin\":true,\"gridcolor\":\"white\",\"linecolor\":\"white\",\"ticks\":\"\",\"title\":{\"standoff\":15},\"zerolinecolor\":\"white\",\"zerolinewidth\":2}}},\"xaxis\":{\"anchor\":\"y\",\"domain\":[0.0,1.0],\"title\":{\"text\":\"petal_width\"}},\"yaxis\":{\"anchor\":\"x\",\"domain\":[0.0,1.0],\"title\":{\"text\":\"petal_length\"}},\"legend\":{\"title\":{\"text\":\"species\"},\"tracegroupgap\":0},\"margin\":{\"t\":60}},                        {\"responsive\": true}                    ).then(function(){\n",
              "                            \n",
              "var gd = document.getElementById('68199124-ebcd-42ea-812a-4f5f1ca18d13');\n",
              "var x = new MutationObserver(function (mutations, observer) {{\n",
              "        var display = window.getComputedStyle(gd).display;\n",
              "        if (!display || display === 'none') {{\n",
              "            console.log([gd, 'removed!']);\n",
              "            Plotly.purge(gd);\n",
              "            observer.disconnect();\n",
              "        }}\n",
              "}});\n",
              "\n",
              "// Listen for the removal of the full notebook cells\n",
              "var notebookContainer = gd.closest('#notebook-container');\n",
              "if (notebookContainer) {{\n",
              "    x.observe(notebookContainer, {childList: true});\n",
              "}}\n",
              "\n",
              "// Listen for the clearing of the current output cell\n",
              "var outputEl = gd.closest('.output');\n",
              "if (outputEl) {{\n",
              "    x.observe(outputEl, {childList: true});\n",
              "}}\n",
              "\n",
              "                        })                };                            </script>        </div>\n",
              "</body>\n",
              "</html>"
            ]
          },
          "metadata": {}
        }
      ]
    },
    {
      "cell_type": "code",
      "metadata": {
        "id": "Sa5cEqPlozei",
        "colab": {
          "base_uri": "https://localhost:8080/",
          "height": 542
        },
        "outputId": "2b9b2c19-6a84-4f75-88d2-bd3c11d69fb0"
      },
      "source": [
        "fig = px.scatter(iris, x = 'petal_width', y='petal_length',\n",
        "                 color ='species', size ='sepal_length',\n",
        "                 hover_data = ['sepal_width']#마우스를 올렸을때 보여주는 정보 \n",
        "                 )\n",
        "fig.show()"
      ],
      "execution_count": null,
      "outputs": [
        {
          "output_type": "display_data",
          "data": {
            "text/html": [
              "<html>\n",
              "<head><meta charset=\"utf-8\" /></head>\n",
              "<body>\n",
              "    <div>            <script src=\"https://cdnjs.cloudflare.com/ajax/libs/mathjax/2.7.5/MathJax.js?config=TeX-AMS-MML_SVG\"></script><script type=\"text/javascript\">if (window.MathJax) {MathJax.Hub.Config({SVG: {font: \"STIX-Web\"}});}</script>                <script type=\"text/javascript\">window.PlotlyConfig = {MathJaxConfig: 'local'};</script>\n",
              "        <script src=\"https://cdn.plot.ly/plotly-2.8.3.min.js\"></script>                <div id=\"0d1b1030-ad94-47ad-89e0-8c3b6b9713a7\" class=\"plotly-graph-div\" style=\"height:525px; width:100%;\"></div>            <script type=\"text/javascript\">                                    window.PLOTLYENV=window.PLOTLYENV || {};                                    if (document.getElementById(\"0d1b1030-ad94-47ad-89e0-8c3b6b9713a7\")) {                    Plotly.newPlot(                        \"0d1b1030-ad94-47ad-89e0-8c3b6b9713a7\",                        [{\"customdata\":[[3.5],[3.0],[3.2],[3.1],[3.6],[3.9],[3.4],[3.4],[2.9],[3.1],[3.7],[3.4],[3.0],[3.0],[4.0],[4.4],[3.9],[3.5],[3.8],[3.8],[3.4],[3.7],[3.6],[3.3],[3.4],[3.0],[3.4],[3.5],[3.4],[3.2],[3.1],[3.4],[4.1],[4.2],[3.1],[3.2],[3.5],[3.1],[3.0],[3.4],[3.5],[2.3],[3.2],[3.5],[3.8],[3.0],[3.8],[3.2],[3.7],[3.3]],\"hovertemplate\":\"species=setosa<br>petal_width=%{x}<br>petal_length=%{y}<br>sepal_length=%{marker.size}<br>sepal_width=%{customdata[0]}<extra></extra>\",\"legendgroup\":\"setosa\",\"marker\":{\"color\":\"#636efa\",\"size\":[5.1,4.9,4.7,4.6,5.0,5.4,4.6,5.0,4.4,4.9,5.4,4.8,4.8,4.3,5.8,5.7,5.4,5.1,5.7,5.1,5.4,5.1,4.6,5.1,4.8,5.0,5.0,5.2,5.2,4.7,4.8,5.4,5.2,5.5,4.9,5.0,5.5,4.9,4.4,5.1,5.0,4.5,4.4,5.0,5.1,4.8,5.1,4.6,5.3,5.0],\"sizemode\":\"area\",\"sizeref\":0.01975,\"symbol\":\"circle\"},\"mode\":\"markers\",\"name\":\"setosa\",\"orientation\":\"v\",\"showlegend\":true,\"x\":[0.2,0.2,0.2,0.2,0.2,0.4,0.3,0.2,0.2,0.1,0.2,0.2,0.1,0.1,0.2,0.4,0.4,0.3,0.3,0.3,0.2,0.4,0.2,0.5,0.2,0.2,0.4,0.2,0.2,0.2,0.2,0.4,0.1,0.2,0.1,0.2,0.2,0.1,0.2,0.2,0.3,0.3,0.2,0.6,0.4,0.3,0.2,0.2,0.2,0.2],\"xaxis\":\"x\",\"y\":[1.4,1.4,1.3,1.5,1.4,1.7,1.4,1.5,1.4,1.5,1.5,1.6,1.4,1.1,1.2,1.5,1.3,1.4,1.7,1.5,1.7,1.5,1.0,1.7,1.9,1.6,1.6,1.5,1.4,1.6,1.6,1.5,1.5,1.4,1.5,1.2,1.3,1.5,1.3,1.5,1.3,1.3,1.3,1.6,1.9,1.4,1.6,1.4,1.5,1.4],\"yaxis\":\"y\",\"type\":\"scatter\"},{\"customdata\":[[3.2],[3.2],[3.1],[2.3],[2.8],[2.8],[3.3],[2.4],[2.9],[2.7],[2.0],[3.0],[2.2],[2.9],[2.9],[3.1],[3.0],[2.7],[2.2],[2.5],[3.2],[2.8],[2.5],[2.8],[2.9],[3.0],[2.8],[3.0],[2.9],[2.6],[2.4],[2.4],[2.7],[2.7],[3.0],[3.4],[3.1],[2.3],[3.0],[2.5],[2.6],[3.0],[2.6],[2.3],[2.7],[3.0],[2.9],[2.9],[2.5],[2.8]],\"hovertemplate\":\"species=versicolor<br>petal_width=%{x}<br>petal_length=%{y}<br>sepal_length=%{marker.size}<br>sepal_width=%{customdata[0]}<extra></extra>\",\"legendgroup\":\"versicolor\",\"marker\":{\"color\":\"#EF553B\",\"size\":[7.0,6.4,6.9,5.5,6.5,5.7,6.3,4.9,6.6,5.2,5.0,5.9,6.0,6.1,5.6,6.7,5.6,5.8,6.2,5.6,5.9,6.1,6.3,6.1,6.4,6.6,6.8,6.7,6.0,5.7,5.5,5.5,5.8,6.0,5.4,6.0,6.7,6.3,5.6,5.5,5.5,6.1,5.8,5.0,5.6,5.7,5.7,6.2,5.1,5.7],\"sizemode\":\"area\",\"sizeref\":0.01975,\"symbol\":\"circle\"},\"mode\":\"markers\",\"name\":\"versicolor\",\"orientation\":\"v\",\"showlegend\":true,\"x\":[1.4,1.5,1.5,1.3,1.5,1.3,1.6,1.0,1.3,1.4,1.0,1.5,1.0,1.4,1.3,1.4,1.5,1.0,1.5,1.1,1.8,1.3,1.5,1.2,1.3,1.4,1.4,1.7,1.5,1.0,1.1,1.0,1.2,1.6,1.5,1.6,1.5,1.3,1.3,1.3,1.2,1.4,1.2,1.0,1.3,1.2,1.3,1.3,1.1,1.3],\"xaxis\":\"x\",\"y\":[4.7,4.5,4.9,4.0,4.6,4.5,4.7,3.3,4.6,3.9,3.5,4.2,4.0,4.7,3.6,4.4,4.5,4.1,4.5,3.9,4.8,4.0,4.9,4.7,4.3,4.4,4.8,5.0,4.5,3.5,3.8,3.7,3.9,5.1,4.5,4.5,4.7,4.4,4.1,4.0,4.4,4.6,4.0,3.3,4.2,4.2,4.2,4.3,3.0,4.1],\"yaxis\":\"y\",\"type\":\"scatter\"},{\"customdata\":[[3.3],[2.7],[3.0],[2.9],[3.0],[3.0],[2.5],[2.9],[2.5],[3.6],[3.2],[2.7],[3.0],[2.5],[2.8],[3.2],[3.0],[3.8],[2.6],[2.2],[3.2],[2.8],[2.8],[2.7],[3.3],[3.2],[2.8],[3.0],[2.8],[3.0],[2.8],[3.8],[2.8],[2.8],[2.6],[3.0],[3.4],[3.1],[3.0],[3.1],[3.1],[3.1],[2.7],[3.2],[3.3],[3.0],[2.5],[3.0],[3.4],[3.0]],\"hovertemplate\":\"species=virginica<br>petal_width=%{x}<br>petal_length=%{y}<br>sepal_length=%{marker.size}<br>sepal_width=%{customdata[0]}<extra></extra>\",\"legendgroup\":\"virginica\",\"marker\":{\"color\":\"#00cc96\",\"size\":[6.3,5.8,7.1,6.3,6.5,7.6,4.9,7.3,6.7,7.2,6.5,6.4,6.8,5.7,5.8,6.4,6.5,7.7,7.7,6.0,6.9,5.6,7.7,6.3,6.7,7.2,6.2,6.1,6.4,7.2,7.4,7.9,6.4,6.3,6.1,7.7,6.3,6.4,6.0,6.9,6.7,6.9,5.8,6.8,6.7,6.7,6.3,6.5,6.2,5.9],\"sizemode\":\"area\",\"sizeref\":0.01975,\"symbol\":\"circle\"},\"mode\":\"markers\",\"name\":\"virginica\",\"orientation\":\"v\",\"showlegend\":true,\"x\":[2.5,1.9,2.1,1.8,2.2,2.1,1.7,1.8,1.8,2.5,2.0,1.9,2.1,2.0,2.4,2.3,1.8,2.2,2.3,1.5,2.3,2.0,2.0,1.8,2.1,1.8,1.8,1.8,2.1,1.6,1.9,2.0,2.2,1.5,1.4,2.3,2.4,1.8,1.8,2.1,2.4,2.3,1.9,2.3,2.5,2.3,1.9,2.0,2.3,1.8],\"xaxis\":\"x\",\"y\":[6.0,5.1,5.9,5.6,5.8,6.6,4.5,6.3,5.8,6.1,5.1,5.3,5.5,5.0,5.1,5.3,5.5,6.7,6.9,5.0,5.7,4.9,6.7,4.9,5.7,6.0,4.8,4.9,5.6,5.8,6.1,6.4,5.6,5.1,5.6,6.1,5.6,5.5,4.8,5.4,5.6,5.1,5.1,5.9,5.7,5.2,5.0,5.2,5.4,5.1],\"yaxis\":\"y\",\"type\":\"scatter\"}],                        {\"template\":{\"data\":{\"bar\":[{\"error_x\":{\"color\":\"#2a3f5f\"},\"error_y\":{\"color\":\"#2a3f5f\"},\"marker\":{\"line\":{\"color\":\"#E5ECF6\",\"width\":0.5},\"pattern\":{\"fillmode\":\"overlay\",\"size\":10,\"solidity\":0.2}},\"type\":\"bar\"}],\"barpolar\":[{\"marker\":{\"line\":{\"color\":\"#E5ECF6\",\"width\":0.5},\"pattern\":{\"fillmode\":\"overlay\",\"size\":10,\"solidity\":0.2}},\"type\":\"barpolar\"}],\"carpet\":[{\"aaxis\":{\"endlinecolor\":\"#2a3f5f\",\"gridcolor\":\"white\",\"linecolor\":\"white\",\"minorgridcolor\":\"white\",\"startlinecolor\":\"#2a3f5f\"},\"baxis\":{\"endlinecolor\":\"#2a3f5f\",\"gridcolor\":\"white\",\"linecolor\":\"white\",\"minorgridcolor\":\"white\",\"startlinecolor\":\"#2a3f5f\"},\"type\":\"carpet\"}],\"choropleth\":[{\"colorbar\":{\"outlinewidth\":0,\"ticks\":\"\"},\"type\":\"choropleth\"}],\"contour\":[{\"colorbar\":{\"outlinewidth\":0,\"ticks\":\"\"},\"colorscale\":[[0.0,\"#0d0887\"],[0.1111111111111111,\"#46039f\"],[0.2222222222222222,\"#7201a8\"],[0.3333333333333333,\"#9c179e\"],[0.4444444444444444,\"#bd3786\"],[0.5555555555555556,\"#d8576b\"],[0.6666666666666666,\"#ed7953\"],[0.7777777777777778,\"#fb9f3a\"],[0.8888888888888888,\"#fdca26\"],[1.0,\"#f0f921\"]],\"type\":\"contour\"}],\"contourcarpet\":[{\"colorbar\":{\"outlinewidth\":0,\"ticks\":\"\"},\"type\":\"contourcarpet\"}],\"heatmap\":[{\"colorbar\":{\"outlinewidth\":0,\"ticks\":\"\"},\"colorscale\":[[0.0,\"#0d0887\"],[0.1111111111111111,\"#46039f\"],[0.2222222222222222,\"#7201a8\"],[0.3333333333333333,\"#9c179e\"],[0.4444444444444444,\"#bd3786\"],[0.5555555555555556,\"#d8576b\"],[0.6666666666666666,\"#ed7953\"],[0.7777777777777778,\"#fb9f3a\"],[0.8888888888888888,\"#fdca26\"],[1.0,\"#f0f921\"]],\"type\":\"heatmap\"}],\"heatmapgl\":[{\"colorbar\":{\"outlinewidth\":0,\"ticks\":\"\"},\"colorscale\":[[0.0,\"#0d0887\"],[0.1111111111111111,\"#46039f\"],[0.2222222222222222,\"#7201a8\"],[0.3333333333333333,\"#9c179e\"],[0.4444444444444444,\"#bd3786\"],[0.5555555555555556,\"#d8576b\"],[0.6666666666666666,\"#ed7953\"],[0.7777777777777778,\"#fb9f3a\"],[0.8888888888888888,\"#fdca26\"],[1.0,\"#f0f921\"]],\"type\":\"heatmapgl\"}],\"histogram\":[{\"marker\":{\"pattern\":{\"fillmode\":\"overlay\",\"size\":10,\"solidity\":0.2}},\"type\":\"histogram\"}],\"histogram2d\":[{\"colorbar\":{\"outlinewidth\":0,\"ticks\":\"\"},\"colorscale\":[[0.0,\"#0d0887\"],[0.1111111111111111,\"#46039f\"],[0.2222222222222222,\"#7201a8\"],[0.3333333333333333,\"#9c179e\"],[0.4444444444444444,\"#bd3786\"],[0.5555555555555556,\"#d8576b\"],[0.6666666666666666,\"#ed7953\"],[0.7777777777777778,\"#fb9f3a\"],[0.8888888888888888,\"#fdca26\"],[1.0,\"#f0f921\"]],\"type\":\"histogram2d\"}],\"histogram2dcontour\":[{\"colorbar\":{\"outlinewidth\":0,\"ticks\":\"\"},\"colorscale\":[[0.0,\"#0d0887\"],[0.1111111111111111,\"#46039f\"],[0.2222222222222222,\"#7201a8\"],[0.3333333333333333,\"#9c179e\"],[0.4444444444444444,\"#bd3786\"],[0.5555555555555556,\"#d8576b\"],[0.6666666666666666,\"#ed7953\"],[0.7777777777777778,\"#fb9f3a\"],[0.8888888888888888,\"#fdca26\"],[1.0,\"#f0f921\"]],\"type\":\"histogram2dcontour\"}],\"mesh3d\":[{\"colorbar\":{\"outlinewidth\":0,\"ticks\":\"\"},\"type\":\"mesh3d\"}],\"parcoords\":[{\"line\":{\"colorbar\":{\"outlinewidth\":0,\"ticks\":\"\"}},\"type\":\"parcoords\"}],\"pie\":[{\"automargin\":true,\"type\":\"pie\"}],\"scatter\":[{\"marker\":{\"colorbar\":{\"outlinewidth\":0,\"ticks\":\"\"}},\"type\":\"scatter\"}],\"scatter3d\":[{\"line\":{\"colorbar\":{\"outlinewidth\":0,\"ticks\":\"\"}},\"marker\":{\"colorbar\":{\"outlinewidth\":0,\"ticks\":\"\"}},\"type\":\"scatter3d\"}],\"scattercarpet\":[{\"marker\":{\"colorbar\":{\"outlinewidth\":0,\"ticks\":\"\"}},\"type\":\"scattercarpet\"}],\"scattergeo\":[{\"marker\":{\"colorbar\":{\"outlinewidth\":0,\"ticks\":\"\"}},\"type\":\"scattergeo\"}],\"scattergl\":[{\"marker\":{\"colorbar\":{\"outlinewidth\":0,\"ticks\":\"\"}},\"type\":\"scattergl\"}],\"scattermapbox\":[{\"marker\":{\"colorbar\":{\"outlinewidth\":0,\"ticks\":\"\"}},\"type\":\"scattermapbox\"}],\"scatterpolar\":[{\"marker\":{\"colorbar\":{\"outlinewidth\":0,\"ticks\":\"\"}},\"type\":\"scatterpolar\"}],\"scatterpolargl\":[{\"marker\":{\"colorbar\":{\"outlinewidth\":0,\"ticks\":\"\"}},\"type\":\"scatterpolargl\"}],\"scatterternary\":[{\"marker\":{\"colorbar\":{\"outlinewidth\":0,\"ticks\":\"\"}},\"type\":\"scatterternary\"}],\"surface\":[{\"colorbar\":{\"outlinewidth\":0,\"ticks\":\"\"},\"colorscale\":[[0.0,\"#0d0887\"],[0.1111111111111111,\"#46039f\"],[0.2222222222222222,\"#7201a8\"],[0.3333333333333333,\"#9c179e\"],[0.4444444444444444,\"#bd3786\"],[0.5555555555555556,\"#d8576b\"],[0.6666666666666666,\"#ed7953\"],[0.7777777777777778,\"#fb9f3a\"],[0.8888888888888888,\"#fdca26\"],[1.0,\"#f0f921\"]],\"type\":\"surface\"}],\"table\":[{\"cells\":{\"fill\":{\"color\":\"#EBF0F8\"},\"line\":{\"color\":\"white\"}},\"header\":{\"fill\":{\"color\":\"#C8D4E3\"},\"line\":{\"color\":\"white\"}},\"type\":\"table\"}]},\"layout\":{\"annotationdefaults\":{\"arrowcolor\":\"#2a3f5f\",\"arrowhead\":0,\"arrowwidth\":1},\"autotypenumbers\":\"strict\",\"coloraxis\":{\"colorbar\":{\"outlinewidth\":0,\"ticks\":\"\"}},\"colorscale\":{\"diverging\":[[0,\"#8e0152\"],[0.1,\"#c51b7d\"],[0.2,\"#de77ae\"],[0.3,\"#f1b6da\"],[0.4,\"#fde0ef\"],[0.5,\"#f7f7f7\"],[0.6,\"#e6f5d0\"],[0.7,\"#b8e186\"],[0.8,\"#7fbc41\"],[0.9,\"#4d9221\"],[1,\"#276419\"]],\"sequential\":[[0.0,\"#0d0887\"],[0.1111111111111111,\"#46039f\"],[0.2222222222222222,\"#7201a8\"],[0.3333333333333333,\"#9c179e\"],[0.4444444444444444,\"#bd3786\"],[0.5555555555555556,\"#d8576b\"],[0.6666666666666666,\"#ed7953\"],[0.7777777777777778,\"#fb9f3a\"],[0.8888888888888888,\"#fdca26\"],[1.0,\"#f0f921\"]],\"sequentialminus\":[[0.0,\"#0d0887\"],[0.1111111111111111,\"#46039f\"],[0.2222222222222222,\"#7201a8\"],[0.3333333333333333,\"#9c179e\"],[0.4444444444444444,\"#bd3786\"],[0.5555555555555556,\"#d8576b\"],[0.6666666666666666,\"#ed7953\"],[0.7777777777777778,\"#fb9f3a\"],[0.8888888888888888,\"#fdca26\"],[1.0,\"#f0f921\"]]},\"colorway\":[\"#636efa\",\"#EF553B\",\"#00cc96\",\"#ab63fa\",\"#FFA15A\",\"#19d3f3\",\"#FF6692\",\"#B6E880\",\"#FF97FF\",\"#FECB52\"],\"font\":{\"color\":\"#2a3f5f\"},\"geo\":{\"bgcolor\":\"white\",\"lakecolor\":\"white\",\"landcolor\":\"#E5ECF6\",\"showlakes\":true,\"showland\":true,\"subunitcolor\":\"white\"},\"hoverlabel\":{\"align\":\"left\"},\"hovermode\":\"closest\",\"mapbox\":{\"style\":\"light\"},\"paper_bgcolor\":\"white\",\"plot_bgcolor\":\"#E5ECF6\",\"polar\":{\"angularaxis\":{\"gridcolor\":\"white\",\"linecolor\":\"white\",\"ticks\":\"\"},\"bgcolor\":\"#E5ECF6\",\"radialaxis\":{\"gridcolor\":\"white\",\"linecolor\":\"white\",\"ticks\":\"\"}},\"scene\":{\"xaxis\":{\"backgroundcolor\":\"#E5ECF6\",\"gridcolor\":\"white\",\"gridwidth\":2,\"linecolor\":\"white\",\"showbackground\":true,\"ticks\":\"\",\"zerolinecolor\":\"white\"},\"yaxis\":{\"backgroundcolor\":\"#E5ECF6\",\"gridcolor\":\"white\",\"gridwidth\":2,\"linecolor\":\"white\",\"showbackground\":true,\"ticks\":\"\",\"zerolinecolor\":\"white\"},\"zaxis\":{\"backgroundcolor\":\"#E5ECF6\",\"gridcolor\":\"white\",\"gridwidth\":2,\"linecolor\":\"white\",\"showbackground\":true,\"ticks\":\"\",\"zerolinecolor\":\"white\"}},\"shapedefaults\":{\"line\":{\"color\":\"#2a3f5f\"}},\"ternary\":{\"aaxis\":{\"gridcolor\":\"white\",\"linecolor\":\"white\",\"ticks\":\"\"},\"baxis\":{\"gridcolor\":\"white\",\"linecolor\":\"white\",\"ticks\":\"\"},\"bgcolor\":\"#E5ECF6\",\"caxis\":{\"gridcolor\":\"white\",\"linecolor\":\"white\",\"ticks\":\"\"}},\"title\":{\"x\":0.05},\"xaxis\":{\"automargin\":true,\"gridcolor\":\"white\",\"linecolor\":\"white\",\"ticks\":\"\",\"title\":{\"standoff\":15},\"zerolinecolor\":\"white\",\"zerolinewidth\":2},\"yaxis\":{\"automargin\":true,\"gridcolor\":\"white\",\"linecolor\":\"white\",\"ticks\":\"\",\"title\":{\"standoff\":15},\"zerolinecolor\":\"white\",\"zerolinewidth\":2}}},\"xaxis\":{\"anchor\":\"y\",\"domain\":[0.0,1.0],\"title\":{\"text\":\"petal_width\"}},\"yaxis\":{\"anchor\":\"x\",\"domain\":[0.0,1.0],\"title\":{\"text\":\"petal_length\"}},\"legend\":{\"title\":{\"text\":\"species\"},\"tracegroupgap\":0,\"itemsizing\":\"constant\"},\"margin\":{\"t\":60}},                        {\"responsive\": true}                    ).then(function(){\n",
              "                            \n",
              "var gd = document.getElementById('0d1b1030-ad94-47ad-89e0-8c3b6b9713a7');\n",
              "var x = new MutationObserver(function (mutations, observer) {{\n",
              "        var display = window.getComputedStyle(gd).display;\n",
              "        if (!display || display === 'none') {{\n",
              "            console.log([gd, 'removed!']);\n",
              "            Plotly.purge(gd);\n",
              "            observer.disconnect();\n",
              "        }}\n",
              "}});\n",
              "\n",
              "// Listen for the removal of the full notebook cells\n",
              "var notebookContainer = gd.closest('#notebook-container');\n",
              "if (notebookContainer) {{\n",
              "    x.observe(notebookContainer, {childList: true});\n",
              "}}\n",
              "\n",
              "// Listen for the clearing of the current output cell\n",
              "var outputEl = gd.closest('.output');\n",
              "if (outputEl) {{\n",
              "    x.observe(outputEl, {childList: true});\n",
              "}}\n",
              "\n",
              "                        })                };                            </script>        </div>\n",
              "</body>\n",
              "</html>"
            ]
          },
          "metadata": {}
        }
      ]
    },
    {
      "cell_type": "code",
      "metadata": {
        "id": "_PbCN7NJCPmL",
        "colab": {
          "base_uri": "https://localhost:8080/",
          "height": 424
        },
        "outputId": "bad4e997-7848-4333-8139-23f1659ff8d5"
      },
      "source": [
        "tips = px.data.tips()\n",
        "tips"
      ],
      "execution_count": null,
      "outputs": [
        {
          "output_type": "execute_result",
          "data": {
            "text/plain": [
              "     total_bill   tip     sex smoker   day    time  size\n",
              "0         16.99  1.01  Female     No   Sun  Dinner     2\n",
              "1         10.34  1.66    Male     No   Sun  Dinner     3\n",
              "2         21.01  3.50    Male     No   Sun  Dinner     3\n",
              "3         23.68  3.31    Male     No   Sun  Dinner     2\n",
              "4         24.59  3.61  Female     No   Sun  Dinner     4\n",
              "..          ...   ...     ...    ...   ...     ...   ...\n",
              "239       29.03  5.92    Male     No   Sat  Dinner     3\n",
              "240       27.18  2.00  Female    Yes   Sat  Dinner     2\n",
              "241       22.67  2.00    Male    Yes   Sat  Dinner     2\n",
              "242       17.82  1.75    Male     No   Sat  Dinner     2\n",
              "243       18.78  3.00  Female     No  Thur  Dinner     2\n",
              "\n",
              "[244 rows x 7 columns]"
            ],
            "text/html": [
              "\n",
              "  <div id=\"df-5e948d9a-4670-4dd9-8a65-14e8a1bbc432\">\n",
              "    <div class=\"colab-df-container\">\n",
              "      <div>\n",
              "<style scoped>\n",
              "    .dataframe tbody tr th:only-of-type {\n",
              "        vertical-align: middle;\n",
              "    }\n",
              "\n",
              "    .dataframe tbody tr th {\n",
              "        vertical-align: top;\n",
              "    }\n",
              "\n",
              "    .dataframe thead th {\n",
              "        text-align: right;\n",
              "    }\n",
              "</style>\n",
              "<table border=\"1\" class=\"dataframe\">\n",
              "  <thead>\n",
              "    <tr style=\"text-align: right;\">\n",
              "      <th></th>\n",
              "      <th>total_bill</th>\n",
              "      <th>tip</th>\n",
              "      <th>sex</th>\n",
              "      <th>smoker</th>\n",
              "      <th>day</th>\n",
              "      <th>time</th>\n",
              "      <th>size</th>\n",
              "    </tr>\n",
              "  </thead>\n",
              "  <tbody>\n",
              "    <tr>\n",
              "      <th>0</th>\n",
              "      <td>16.99</td>\n",
              "      <td>1.01</td>\n",
              "      <td>Female</td>\n",
              "      <td>No</td>\n",
              "      <td>Sun</td>\n",
              "      <td>Dinner</td>\n",
              "      <td>2</td>\n",
              "    </tr>\n",
              "    <tr>\n",
              "      <th>1</th>\n",
              "      <td>10.34</td>\n",
              "      <td>1.66</td>\n",
              "      <td>Male</td>\n",
              "      <td>No</td>\n",
              "      <td>Sun</td>\n",
              "      <td>Dinner</td>\n",
              "      <td>3</td>\n",
              "    </tr>\n",
              "    <tr>\n",
              "      <th>2</th>\n",
              "      <td>21.01</td>\n",
              "      <td>3.50</td>\n",
              "      <td>Male</td>\n",
              "      <td>No</td>\n",
              "      <td>Sun</td>\n",
              "      <td>Dinner</td>\n",
              "      <td>3</td>\n",
              "    </tr>\n",
              "    <tr>\n",
              "      <th>3</th>\n",
              "      <td>23.68</td>\n",
              "      <td>3.31</td>\n",
              "      <td>Male</td>\n",
              "      <td>No</td>\n",
              "      <td>Sun</td>\n",
              "      <td>Dinner</td>\n",
              "      <td>2</td>\n",
              "    </tr>\n",
              "    <tr>\n",
              "      <th>4</th>\n",
              "      <td>24.59</td>\n",
              "      <td>3.61</td>\n",
              "      <td>Female</td>\n",
              "      <td>No</td>\n",
              "      <td>Sun</td>\n",
              "      <td>Dinner</td>\n",
              "      <td>4</td>\n",
              "    </tr>\n",
              "    <tr>\n",
              "      <th>...</th>\n",
              "      <td>...</td>\n",
              "      <td>...</td>\n",
              "      <td>...</td>\n",
              "      <td>...</td>\n",
              "      <td>...</td>\n",
              "      <td>...</td>\n",
              "      <td>...</td>\n",
              "    </tr>\n",
              "    <tr>\n",
              "      <th>239</th>\n",
              "      <td>29.03</td>\n",
              "      <td>5.92</td>\n",
              "      <td>Male</td>\n",
              "      <td>No</td>\n",
              "      <td>Sat</td>\n",
              "      <td>Dinner</td>\n",
              "      <td>3</td>\n",
              "    </tr>\n",
              "    <tr>\n",
              "      <th>240</th>\n",
              "      <td>27.18</td>\n",
              "      <td>2.00</td>\n",
              "      <td>Female</td>\n",
              "      <td>Yes</td>\n",
              "      <td>Sat</td>\n",
              "      <td>Dinner</td>\n",
              "      <td>2</td>\n",
              "    </tr>\n",
              "    <tr>\n",
              "      <th>241</th>\n",
              "      <td>22.67</td>\n",
              "      <td>2.00</td>\n",
              "      <td>Male</td>\n",
              "      <td>Yes</td>\n",
              "      <td>Sat</td>\n",
              "      <td>Dinner</td>\n",
              "      <td>2</td>\n",
              "    </tr>\n",
              "    <tr>\n",
              "      <th>242</th>\n",
              "      <td>17.82</td>\n",
              "      <td>1.75</td>\n",
              "      <td>Male</td>\n",
              "      <td>No</td>\n",
              "      <td>Sat</td>\n",
              "      <td>Dinner</td>\n",
              "      <td>2</td>\n",
              "    </tr>\n",
              "    <tr>\n",
              "      <th>243</th>\n",
              "      <td>18.78</td>\n",
              "      <td>3.00</td>\n",
              "      <td>Female</td>\n",
              "      <td>No</td>\n",
              "      <td>Thur</td>\n",
              "      <td>Dinner</td>\n",
              "      <td>2</td>\n",
              "    </tr>\n",
              "  </tbody>\n",
              "</table>\n",
              "<p>244 rows × 7 columns</p>\n",
              "</div>\n",
              "      <button class=\"colab-df-convert\" onclick=\"convertToInteractive('df-5e948d9a-4670-4dd9-8a65-14e8a1bbc432')\"\n",
              "              title=\"Convert this dataframe to an interactive table.\"\n",
              "              style=\"display:none;\">\n",
              "        \n",
              "  <svg xmlns=\"http://www.w3.org/2000/svg\" height=\"24px\"viewBox=\"0 0 24 24\"\n",
              "       width=\"24px\">\n",
              "    <path d=\"M0 0h24v24H0V0z\" fill=\"none\"/>\n",
              "    <path d=\"M18.56 5.44l.94 2.06.94-2.06 2.06-.94-2.06-.94-.94-2.06-.94 2.06-2.06.94zm-11 1L8.5 8.5l.94-2.06 2.06-.94-2.06-.94L8.5 2.5l-.94 2.06-2.06.94zm10 10l.94 2.06.94-2.06 2.06-.94-2.06-.94-.94-2.06-.94 2.06-2.06.94z\"/><path d=\"M17.41 7.96l-1.37-1.37c-.4-.4-.92-.59-1.43-.59-.52 0-1.04.2-1.43.59L10.3 9.45l-7.72 7.72c-.78.78-.78 2.05 0 2.83L4 21.41c.39.39.9.59 1.41.59.51 0 1.02-.2 1.41-.59l7.78-7.78 2.81-2.81c.8-.78.8-2.07 0-2.86zM5.41 20L4 18.59l7.72-7.72 1.47 1.35L5.41 20z\"/>\n",
              "  </svg>\n",
              "      </button>\n",
              "      \n",
              "  <style>\n",
              "    .colab-df-container {\n",
              "      display:flex;\n",
              "      flex-wrap:wrap;\n",
              "      gap: 12px;\n",
              "    }\n",
              "\n",
              "    .colab-df-convert {\n",
              "      background-color: #E8F0FE;\n",
              "      border: none;\n",
              "      border-radius: 50%;\n",
              "      cursor: pointer;\n",
              "      display: none;\n",
              "      fill: #1967D2;\n",
              "      height: 32px;\n",
              "      padding: 0 0 0 0;\n",
              "      width: 32px;\n",
              "    }\n",
              "\n",
              "    .colab-df-convert:hover {\n",
              "      background-color: #E2EBFA;\n",
              "      box-shadow: 0px 1px 2px rgba(60, 64, 67, 0.3), 0px 1px 3px 1px rgba(60, 64, 67, 0.15);\n",
              "      fill: #174EA6;\n",
              "    }\n",
              "\n",
              "    [theme=dark] .colab-df-convert {\n",
              "      background-color: #3B4455;\n",
              "      fill: #D2E3FC;\n",
              "    }\n",
              "\n",
              "    [theme=dark] .colab-df-convert:hover {\n",
              "      background-color: #434B5C;\n",
              "      box-shadow: 0px 1px 3px 1px rgba(0, 0, 0, 0.15);\n",
              "      filter: drop-shadow(0px 1px 2px rgba(0, 0, 0, 0.3));\n",
              "      fill: #FFFFFF;\n",
              "    }\n",
              "  </style>\n",
              "\n",
              "      <script>\n",
              "        const buttonEl =\n",
              "          document.querySelector('#df-5e948d9a-4670-4dd9-8a65-14e8a1bbc432 button.colab-df-convert');\n",
              "        buttonEl.style.display =\n",
              "          google.colab.kernel.accessAllowed ? 'block' : 'none';\n",
              "\n",
              "        async function convertToInteractive(key) {\n",
              "          const element = document.querySelector('#df-5e948d9a-4670-4dd9-8a65-14e8a1bbc432');\n",
              "          const dataTable =\n",
              "            await google.colab.kernel.invokeFunction('convertToInteractive',\n",
              "                                                     [key], {});\n",
              "          if (!dataTable) return;\n",
              "\n",
              "          const docLinkHtml = 'Like what you see? Visit the ' +\n",
              "            '<a target=\"_blank\" href=https://colab.research.google.com/notebooks/data_table.ipynb>data table notebook</a>'\n",
              "            + ' to learn more about interactive tables.';\n",
              "          element.innerHTML = '';\n",
              "          dataTable['output_type'] = 'display_data';\n",
              "          await google.colab.output.renderOutput(dataTable, element);\n",
              "          const docLink = document.createElement('div');\n",
              "          docLink.innerHTML = docLinkHtml;\n",
              "          element.appendChild(docLink);\n",
              "        }\n",
              "      </script>\n",
              "    </div>\n",
              "  </div>\n",
              "  "
            ]
          },
          "metadata": {},
          "execution_count": 7
        }
      ]
    },
    {
      "cell_type": "code",
      "metadata": {
        "id": "2AvYDJhrRNtY",
        "colab": {
          "base_uri": "https://localhost:8080/",
          "height": 542
        },
        "outputId": "225c20ff-6130-43c3-d3d0-447480194fec"
      },
      "source": [
        "fig = px.scatter(tips, x='total_bill', y='tip', color ='sex', facet_row = 'day')\n",
        "fig.show()"
      ],
      "execution_count": null,
      "outputs": [
        {
          "output_type": "display_data",
          "data": {
            "text/html": [
              "<html>\n",
              "<head><meta charset=\"utf-8\" /></head>\n",
              "<body>\n",
              "    <div>            <script src=\"https://cdnjs.cloudflare.com/ajax/libs/mathjax/2.7.5/MathJax.js?config=TeX-AMS-MML_SVG\"></script><script type=\"text/javascript\">if (window.MathJax) {MathJax.Hub.Config({SVG: {font: \"STIX-Web\"}});}</script>                <script type=\"text/javascript\">window.PlotlyConfig = {MathJaxConfig: 'local'};</script>\n",
              "        <script src=\"https://cdn.plot.ly/plotly-2.8.3.min.js\"></script>                <div id=\"8667c8c9-7ead-4f68-9348-34ea4dc296e7\" class=\"plotly-graph-div\" style=\"height:525px; width:100%;\"></div>            <script type=\"text/javascript\">                                    window.PLOTLYENV=window.PLOTLYENV || {};                                    if (document.getElementById(\"8667c8c9-7ead-4f68-9348-34ea4dc296e7\")) {                    Plotly.newPlot(                        \"8667c8c9-7ead-4f68-9348-34ea4dc296e7\",                        [{\"hovertemplate\":\"sex=Female<br>day=Sun<br>total_bill=%{x}<br>tip=%{y}<extra></extra>\",\"legendgroup\":\"Female\",\"marker\":{\"color\":\"#636efa\",\"symbol\":\"circle\"},\"mode\":\"markers\",\"name\":\"Female\",\"orientation\":\"v\",\"showlegend\":true,\"x\":[16.99,24.59,35.26,14.83,10.33,16.97,10.29,34.81,25.71,17.31,29.85,25.0,13.39,16.21,17.51,9.6,20.9,18.15],\"xaxis\":\"x4\",\"y\":[1.01,3.61,5.0,3.02,1.67,3.5,2.6,5.2,4.0,3.5,5.14,3.75,2.61,2.0,3.0,4.0,3.5,3.5],\"yaxis\":\"y4\",\"type\":\"scatter\"},{\"hovertemplate\":\"sex=Female<br>day=Sat<br>total_bill=%{x}<br>tip=%{y}<extra></extra>\",\"legendgroup\":\"Female\",\"marker\":{\"color\":\"#636efa\",\"symbol\":\"circle\"},\"mode\":\"markers\",\"name\":\"Female\",\"orientation\":\"v\",\"showlegend\":false,\"x\":[20.29,15.77,19.65,15.06,20.69,16.93,26.41,16.45,3.07,17.07,26.86,25.28,14.73,44.3,22.42,20.92,14.31,7.25,10.59,10.63,12.76,13.27,28.17,12.9,30.14,22.12,35.83,27.18],\"xaxis\":\"x3\",\"y\":[2.75,2.23,3.0,3.0,2.45,3.07,1.5,2.47,1.0,3.0,3.14,5.0,2.2,2.5,3.48,4.08,4.0,1.0,1.61,2.0,2.23,2.5,6.5,1.1,3.09,2.88,4.67,2.0],\"yaxis\":\"y3\",\"type\":\"scatter\"},{\"hovertemplate\":\"sex=Female<br>day=Thur<br>total_bill=%{x}<br>tip=%{y}<extra></extra>\",\"legendgroup\":\"Female\",\"marker\":{\"color\":\"#636efa\",\"symbol\":\"circle\"},\"mode\":\"markers\",\"name\":\"Female\",\"orientation\":\"v\",\"showlegend\":false,\"x\":[10.07,34.83,10.65,12.43,24.08,13.42,12.48,29.8,14.52,11.38,20.27,11.17,12.26,18.26,8.51,10.33,14.15,13.16,17.47,27.05,16.43,8.35,18.64,11.87,19.81,43.11,13.0,12.74,13.0,16.4,16.47,18.78],\"xaxis\":\"x2\",\"y\":[1.83,5.17,1.5,1.8,2.92,1.68,2.52,4.2,2.0,2.0,2.83,1.5,2.0,3.25,1.25,2.0,2.0,2.75,3.5,5.0,2.3,1.5,1.36,1.63,4.19,5.0,2.0,2.01,2.0,2.5,3.23,3.0],\"yaxis\":\"y2\",\"type\":\"scatter\"},{\"hovertemplate\":\"sex=Female<br>day=Fri<br>total_bill=%{x}<br>tip=%{y}<extra></extra>\",\"legendgroup\":\"Female\",\"marker\":{\"color\":\"#636efa\",\"symbol\":\"circle\"},\"mode\":\"markers\",\"name\":\"Female\",\"orientation\":\"v\",\"showlegend\":false,\"x\":[5.75,16.32,22.75,11.35,15.38,13.42,15.98,16.27,10.09],\"xaxis\":\"x\",\"y\":[1.0,4.3,3.25,2.5,3.0,3.48,3.0,2.5,2.0],\"yaxis\":\"y\",\"type\":\"scatter\"},{\"hovertemplate\":\"sex=Male<br>day=Sun<br>total_bill=%{x}<br>tip=%{y}<extra></extra>\",\"legendgroup\":\"Male\",\"marker\":{\"color\":\"#EF553B\",\"symbol\":\"circle\"},\"mode\":\"markers\",\"name\":\"Male\",\"orientation\":\"v\",\"showlegend\":true,\"x\":[10.34,21.01,23.68,25.29,8.77,26.88,15.04,14.78,10.27,15.42,18.43,21.58,16.29,17.46,13.94,9.68,30.4,18.29,22.23,32.4,28.55,18.04,12.54,9.94,25.56,19.49,38.07,23.95,29.93,14.07,13.13,17.26,24.55,19.77,48.17,16.49,21.5,12.66,13.81,24.52,20.76,31.71,7.25,31.85,16.82,32.9,17.89,14.48,34.63,34.65,23.33,45.35,23.17,40.55,20.69,30.46,23.1,15.69],\"xaxis\":\"x4\",\"y\":[1.66,3.5,3.31,4.71,2.0,3.12,1.96,3.23,1.71,1.57,3.0,3.92,3.71,2.54,3.06,1.32,5.6,3.0,5.0,6.0,2.05,3.0,2.5,1.56,4.34,3.51,4.0,2.55,5.07,2.5,2.0,2.74,2.0,2.0,5.0,2.0,3.5,2.5,2.0,3.48,2.24,4.5,5.15,3.18,4.0,3.11,2.0,2.0,3.55,3.68,5.65,3.5,6.5,3.0,5.0,2.0,4.0,1.5],\"yaxis\":\"y4\",\"type\":\"scatter\"},{\"hovertemplate\":\"sex=Male<br>day=Sat<br>total_bill=%{x}<br>tip=%{y}<extra></extra>\",\"legendgroup\":\"Male\",\"marker\":{\"color\":\"#EF553B\",\"symbol\":\"circle\"},\"mode\":\"markers\",\"name\":\"Male\",\"orientation\":\"v\",\"showlegend\":false,\"x\":[20.65,17.92,39.42,19.82,17.81,13.37,12.69,21.7,9.55,18.35,17.78,24.06,16.31,18.69,31.27,16.04,38.01,11.24,48.27,20.29,13.81,11.02,18.29,17.59,20.08,20.23,15.01,12.02,10.51,17.92,15.36,20.49,25.21,18.24,14.0,50.81,15.81,26.59,38.73,24.27,30.06,25.89,48.33,28.15,11.59,7.74,20.45,13.28,24.01,15.69,11.61,10.77,15.53,10.07,12.6,32.83,29.03,22.67,17.82],\"xaxis\":\"x3\",\"y\":[3.35,4.08,7.58,3.18,2.34,2.0,2.0,4.3,1.45,2.5,3.27,3.6,2.0,2.31,5.0,2.24,3.0,1.76,6.73,3.21,2.0,1.98,3.76,2.64,3.15,2.01,2.09,1.97,1.25,3.08,1.64,4.06,4.29,3.76,3.0,10.0,3.16,3.41,3.0,2.03,2.0,5.16,9.0,3.0,1.5,1.44,3.0,2.72,2.0,3.0,3.39,1.47,3.0,1.25,1.0,1.17,5.92,2.0,1.75],\"yaxis\":\"y3\",\"type\":\"scatter\"},{\"hovertemplate\":\"sex=Male<br>day=Thur<br>total_bill=%{x}<br>tip=%{y}<extra></extra>\",\"legendgroup\":\"Male\",\"marker\":{\"color\":\"#EF553B\",\"symbol\":\"circle\"},\"mode\":\"markers\",\"name\":\"Male\",\"orientation\":\"v\",\"showlegend\":false,\"x\":[27.2,22.76,17.29,19.44,16.66,32.68,15.98,13.03,18.28,24.71,21.16,11.69,14.26,15.95,8.52,22.82,19.08,16.0,34.3,41.19,9.78,7.51,28.44,15.48,16.58,7.56,10.34,13.51,18.71,20.53],\"xaxis\":\"x2\",\"y\":[4.0,3.0,2.71,3.0,3.4,5.0,2.03,2.0,4.0,5.85,3.0,2.31,2.5,2.0,1.48,2.18,1.5,2.0,6.7,5.0,1.73,2.0,2.56,2.02,4.0,1.44,2.0,2.0,4.0,4.0],\"yaxis\":\"y2\",\"type\":\"scatter\"},{\"hovertemplate\":\"sex=Male<br>day=Fri<br>total_bill=%{x}<br>tip=%{y}<extra></extra>\",\"legendgroup\":\"Male\",\"marker\":{\"color\":\"#EF553B\",\"symbol\":\"circle\"},\"mode\":\"markers\",\"name\":\"Male\",\"orientation\":\"v\",\"showlegend\":false,\"x\":[28.97,22.49,40.17,27.28,12.03,21.01,12.46,12.16,8.58,13.42],\"xaxis\":\"x\",\"y\":[3.0,3.5,4.73,4.0,1.5,3.0,1.5,2.2,1.92,1.58],\"yaxis\":\"y\",\"type\":\"scatter\"}],                        {\"template\":{\"data\":{\"bar\":[{\"error_x\":{\"color\":\"#2a3f5f\"},\"error_y\":{\"color\":\"#2a3f5f\"},\"marker\":{\"line\":{\"color\":\"#E5ECF6\",\"width\":0.5},\"pattern\":{\"fillmode\":\"overlay\",\"size\":10,\"solidity\":0.2}},\"type\":\"bar\"}],\"barpolar\":[{\"marker\":{\"line\":{\"color\":\"#E5ECF6\",\"width\":0.5},\"pattern\":{\"fillmode\":\"overlay\",\"size\":10,\"solidity\":0.2}},\"type\":\"barpolar\"}],\"carpet\":[{\"aaxis\":{\"endlinecolor\":\"#2a3f5f\",\"gridcolor\":\"white\",\"linecolor\":\"white\",\"minorgridcolor\":\"white\",\"startlinecolor\":\"#2a3f5f\"},\"baxis\":{\"endlinecolor\":\"#2a3f5f\",\"gridcolor\":\"white\",\"linecolor\":\"white\",\"minorgridcolor\":\"white\",\"startlinecolor\":\"#2a3f5f\"},\"type\":\"carpet\"}],\"choropleth\":[{\"colorbar\":{\"outlinewidth\":0,\"ticks\":\"\"},\"type\":\"choropleth\"}],\"contour\":[{\"colorbar\":{\"outlinewidth\":0,\"ticks\":\"\"},\"colorscale\":[[0.0,\"#0d0887\"],[0.1111111111111111,\"#46039f\"],[0.2222222222222222,\"#7201a8\"],[0.3333333333333333,\"#9c179e\"],[0.4444444444444444,\"#bd3786\"],[0.5555555555555556,\"#d8576b\"],[0.6666666666666666,\"#ed7953\"],[0.7777777777777778,\"#fb9f3a\"],[0.8888888888888888,\"#fdca26\"],[1.0,\"#f0f921\"]],\"type\":\"contour\"}],\"contourcarpet\":[{\"colorbar\":{\"outlinewidth\":0,\"ticks\":\"\"},\"type\":\"contourcarpet\"}],\"heatmap\":[{\"colorbar\":{\"outlinewidth\":0,\"ticks\":\"\"},\"colorscale\":[[0.0,\"#0d0887\"],[0.1111111111111111,\"#46039f\"],[0.2222222222222222,\"#7201a8\"],[0.3333333333333333,\"#9c179e\"],[0.4444444444444444,\"#bd3786\"],[0.5555555555555556,\"#d8576b\"],[0.6666666666666666,\"#ed7953\"],[0.7777777777777778,\"#fb9f3a\"],[0.8888888888888888,\"#fdca26\"],[1.0,\"#f0f921\"]],\"type\":\"heatmap\"}],\"heatmapgl\":[{\"colorbar\":{\"outlinewidth\":0,\"ticks\":\"\"},\"colorscale\":[[0.0,\"#0d0887\"],[0.1111111111111111,\"#46039f\"],[0.2222222222222222,\"#7201a8\"],[0.3333333333333333,\"#9c179e\"],[0.4444444444444444,\"#bd3786\"],[0.5555555555555556,\"#d8576b\"],[0.6666666666666666,\"#ed7953\"],[0.7777777777777778,\"#fb9f3a\"],[0.8888888888888888,\"#fdca26\"],[1.0,\"#f0f921\"]],\"type\":\"heatmapgl\"}],\"histogram\":[{\"marker\":{\"pattern\":{\"fillmode\":\"overlay\",\"size\":10,\"solidity\":0.2}},\"type\":\"histogram\"}],\"histogram2d\":[{\"colorbar\":{\"outlinewidth\":0,\"ticks\":\"\"},\"colorscale\":[[0.0,\"#0d0887\"],[0.1111111111111111,\"#46039f\"],[0.2222222222222222,\"#7201a8\"],[0.3333333333333333,\"#9c179e\"],[0.4444444444444444,\"#bd3786\"],[0.5555555555555556,\"#d8576b\"],[0.6666666666666666,\"#ed7953\"],[0.7777777777777778,\"#fb9f3a\"],[0.8888888888888888,\"#fdca26\"],[1.0,\"#f0f921\"]],\"type\":\"histogram2d\"}],\"histogram2dcontour\":[{\"colorbar\":{\"outlinewidth\":0,\"ticks\":\"\"},\"colorscale\":[[0.0,\"#0d0887\"],[0.1111111111111111,\"#46039f\"],[0.2222222222222222,\"#7201a8\"],[0.3333333333333333,\"#9c179e\"],[0.4444444444444444,\"#bd3786\"],[0.5555555555555556,\"#d8576b\"],[0.6666666666666666,\"#ed7953\"],[0.7777777777777778,\"#fb9f3a\"],[0.8888888888888888,\"#fdca26\"],[1.0,\"#f0f921\"]],\"type\":\"histogram2dcontour\"}],\"mesh3d\":[{\"colorbar\":{\"outlinewidth\":0,\"ticks\":\"\"},\"type\":\"mesh3d\"}],\"parcoords\":[{\"line\":{\"colorbar\":{\"outlinewidth\":0,\"ticks\":\"\"}},\"type\":\"parcoords\"}],\"pie\":[{\"automargin\":true,\"type\":\"pie\"}],\"scatter\":[{\"marker\":{\"colorbar\":{\"outlinewidth\":0,\"ticks\":\"\"}},\"type\":\"scatter\"}],\"scatter3d\":[{\"line\":{\"colorbar\":{\"outlinewidth\":0,\"ticks\":\"\"}},\"marker\":{\"colorbar\":{\"outlinewidth\":0,\"ticks\":\"\"}},\"type\":\"scatter3d\"}],\"scattercarpet\":[{\"marker\":{\"colorbar\":{\"outlinewidth\":0,\"ticks\":\"\"}},\"type\":\"scattercarpet\"}],\"scattergeo\":[{\"marker\":{\"colorbar\":{\"outlinewidth\":0,\"ticks\":\"\"}},\"type\":\"scattergeo\"}],\"scattergl\":[{\"marker\":{\"colorbar\":{\"outlinewidth\":0,\"ticks\":\"\"}},\"type\":\"scattergl\"}],\"scattermapbox\":[{\"marker\":{\"colorbar\":{\"outlinewidth\":0,\"ticks\":\"\"}},\"type\":\"scattermapbox\"}],\"scatterpolar\":[{\"marker\":{\"colorbar\":{\"outlinewidth\":0,\"ticks\":\"\"}},\"type\":\"scatterpolar\"}],\"scatterpolargl\":[{\"marker\":{\"colorbar\":{\"outlinewidth\":0,\"ticks\":\"\"}},\"type\":\"scatterpolargl\"}],\"scatterternary\":[{\"marker\":{\"colorbar\":{\"outlinewidth\":0,\"ticks\":\"\"}},\"type\":\"scatterternary\"}],\"surface\":[{\"colorbar\":{\"outlinewidth\":0,\"ticks\":\"\"},\"colorscale\":[[0.0,\"#0d0887\"],[0.1111111111111111,\"#46039f\"],[0.2222222222222222,\"#7201a8\"],[0.3333333333333333,\"#9c179e\"],[0.4444444444444444,\"#bd3786\"],[0.5555555555555556,\"#d8576b\"],[0.6666666666666666,\"#ed7953\"],[0.7777777777777778,\"#fb9f3a\"],[0.8888888888888888,\"#fdca26\"],[1.0,\"#f0f921\"]],\"type\":\"surface\"}],\"table\":[{\"cells\":{\"fill\":{\"color\":\"#EBF0F8\"},\"line\":{\"color\":\"white\"}},\"header\":{\"fill\":{\"color\":\"#C8D4E3\"},\"line\":{\"color\":\"white\"}},\"type\":\"table\"}]},\"layout\":{\"annotationdefaults\":{\"arrowcolor\":\"#2a3f5f\",\"arrowhead\":0,\"arrowwidth\":1},\"autotypenumbers\":\"strict\",\"coloraxis\":{\"colorbar\":{\"outlinewidth\":0,\"ticks\":\"\"}},\"colorscale\":{\"diverging\":[[0,\"#8e0152\"],[0.1,\"#c51b7d\"],[0.2,\"#de77ae\"],[0.3,\"#f1b6da\"],[0.4,\"#fde0ef\"],[0.5,\"#f7f7f7\"],[0.6,\"#e6f5d0\"],[0.7,\"#b8e186\"],[0.8,\"#7fbc41\"],[0.9,\"#4d9221\"],[1,\"#276419\"]],\"sequential\":[[0.0,\"#0d0887\"],[0.1111111111111111,\"#46039f\"],[0.2222222222222222,\"#7201a8\"],[0.3333333333333333,\"#9c179e\"],[0.4444444444444444,\"#bd3786\"],[0.5555555555555556,\"#d8576b\"],[0.6666666666666666,\"#ed7953\"],[0.7777777777777778,\"#fb9f3a\"],[0.8888888888888888,\"#fdca26\"],[1.0,\"#f0f921\"]],\"sequentialminus\":[[0.0,\"#0d0887\"],[0.1111111111111111,\"#46039f\"],[0.2222222222222222,\"#7201a8\"],[0.3333333333333333,\"#9c179e\"],[0.4444444444444444,\"#bd3786\"],[0.5555555555555556,\"#d8576b\"],[0.6666666666666666,\"#ed7953\"],[0.7777777777777778,\"#fb9f3a\"],[0.8888888888888888,\"#fdca26\"],[1.0,\"#f0f921\"]]},\"colorway\":[\"#636efa\",\"#EF553B\",\"#00cc96\",\"#ab63fa\",\"#FFA15A\",\"#19d3f3\",\"#FF6692\",\"#B6E880\",\"#FF97FF\",\"#FECB52\"],\"font\":{\"color\":\"#2a3f5f\"},\"geo\":{\"bgcolor\":\"white\",\"lakecolor\":\"white\",\"landcolor\":\"#E5ECF6\",\"showlakes\":true,\"showland\":true,\"subunitcolor\":\"white\"},\"hoverlabel\":{\"align\":\"left\"},\"hovermode\":\"closest\",\"mapbox\":{\"style\":\"light\"},\"paper_bgcolor\":\"white\",\"plot_bgcolor\":\"#E5ECF6\",\"polar\":{\"angularaxis\":{\"gridcolor\":\"white\",\"linecolor\":\"white\",\"ticks\":\"\"},\"bgcolor\":\"#E5ECF6\",\"radialaxis\":{\"gridcolor\":\"white\",\"linecolor\":\"white\",\"ticks\":\"\"}},\"scene\":{\"xaxis\":{\"backgroundcolor\":\"#E5ECF6\",\"gridcolor\":\"white\",\"gridwidth\":2,\"linecolor\":\"white\",\"showbackground\":true,\"ticks\":\"\",\"zerolinecolor\":\"white\"},\"yaxis\":{\"backgroundcolor\":\"#E5ECF6\",\"gridcolor\":\"white\",\"gridwidth\":2,\"linecolor\":\"white\",\"showbackground\":true,\"ticks\":\"\",\"zerolinecolor\":\"white\"},\"zaxis\":{\"backgroundcolor\":\"#E5ECF6\",\"gridcolor\":\"white\",\"gridwidth\":2,\"linecolor\":\"white\",\"showbackground\":true,\"ticks\":\"\",\"zerolinecolor\":\"white\"}},\"shapedefaults\":{\"line\":{\"color\":\"#2a3f5f\"}},\"ternary\":{\"aaxis\":{\"gridcolor\":\"white\",\"linecolor\":\"white\",\"ticks\":\"\"},\"baxis\":{\"gridcolor\":\"white\",\"linecolor\":\"white\",\"ticks\":\"\"},\"bgcolor\":\"#E5ECF6\",\"caxis\":{\"gridcolor\":\"white\",\"linecolor\":\"white\",\"ticks\":\"\"}},\"title\":{\"x\":0.05},\"xaxis\":{\"automargin\":true,\"gridcolor\":\"white\",\"linecolor\":\"white\",\"ticks\":\"\",\"title\":{\"standoff\":15},\"zerolinecolor\":\"white\",\"zerolinewidth\":2},\"yaxis\":{\"automargin\":true,\"gridcolor\":\"white\",\"linecolor\":\"white\",\"ticks\":\"\",\"title\":{\"standoff\":15},\"zerolinecolor\":\"white\",\"zerolinewidth\":2}}},\"xaxis\":{\"anchor\":\"y\",\"domain\":[0.0,0.98],\"title\":{\"text\":\"total_bill\"}},\"yaxis\":{\"anchor\":\"x\",\"domain\":[0.0,0.2275],\"title\":{\"text\":\"tip\"}},\"xaxis2\":{\"anchor\":\"y2\",\"domain\":[0.0,0.98],\"matches\":\"x\",\"showticklabels\":false},\"yaxis2\":{\"anchor\":\"x2\",\"domain\":[0.2575,0.485],\"matches\":\"y\",\"title\":{\"text\":\"tip\"}},\"xaxis3\":{\"anchor\":\"y3\",\"domain\":[0.0,0.98],\"matches\":\"x\",\"showticklabels\":false},\"yaxis3\":{\"anchor\":\"x3\",\"domain\":[0.515,0.7425],\"matches\":\"y\",\"title\":{\"text\":\"tip\"}},\"xaxis4\":{\"anchor\":\"y4\",\"domain\":[0.0,0.98],\"matches\":\"x\",\"showticklabels\":false},\"yaxis4\":{\"anchor\":\"x4\",\"domain\":[0.7725,1.0],\"matches\":\"y\",\"title\":{\"text\":\"tip\"}},\"annotations\":[{\"font\":{},\"showarrow\":false,\"text\":\"day=Fri\",\"textangle\":90,\"x\":0.98,\"xanchor\":\"left\",\"xref\":\"paper\",\"y\":0.11375,\"yanchor\":\"middle\",\"yref\":\"paper\"},{\"font\":{},\"showarrow\":false,\"text\":\"day=Thur\",\"textangle\":90,\"x\":0.98,\"xanchor\":\"left\",\"xref\":\"paper\",\"y\":0.37124999999999997,\"yanchor\":\"middle\",\"yref\":\"paper\"},{\"font\":{},\"showarrow\":false,\"text\":\"day=Sat\",\"textangle\":90,\"x\":0.98,\"xanchor\":\"left\",\"xref\":\"paper\",\"y\":0.62875,\"yanchor\":\"middle\",\"yref\":\"paper\"},{\"font\":{},\"showarrow\":false,\"text\":\"day=Sun\",\"textangle\":90,\"x\":0.98,\"xanchor\":\"left\",\"xref\":\"paper\",\"y\":0.88625,\"yanchor\":\"middle\",\"yref\":\"paper\"}],\"legend\":{\"title\":{\"text\":\"sex\"},\"tracegroupgap\":0},\"margin\":{\"t\":60}},                        {\"responsive\": true}                    ).then(function(){\n",
              "                            \n",
              "var gd = document.getElementById('8667c8c9-7ead-4f68-9348-34ea4dc296e7');\n",
              "var x = new MutationObserver(function (mutations, observer) {{\n",
              "        var display = window.getComputedStyle(gd).display;\n",
              "        if (!display || display === 'none') {{\n",
              "            console.log([gd, 'removed!']);\n",
              "            Plotly.purge(gd);\n",
              "            observer.disconnect();\n",
              "        }}\n",
              "}});\n",
              "\n",
              "// Listen for the removal of the full notebook cells\n",
              "var notebookContainer = gd.closest('#notebook-container');\n",
              "if (notebookContainer) {{\n",
              "    x.observe(notebookContainer, {childList: true});\n",
              "}}\n",
              "\n",
              "// Listen for the clearing of the current output cell\n",
              "var outputEl = gd.closest('.output');\n",
              "if (outputEl) {{\n",
              "    x.observe(outputEl, {childList: true});\n",
              "}}\n",
              "\n",
              "                        })                };                            </script>        </div>\n",
              "</body>\n",
              "</html>"
            ]
          },
          "metadata": {}
        }
      ]
    },
    {
      "cell_type": "code",
      "metadata": {
        "id": "sSFqhieNRfo9",
        "colab": {
          "base_uri": "https://localhost:8080/",
          "height": 542
        },
        "outputId": "80451e94-d2d0-4747-c84a-1804e894c070"
      },
      "source": [
        "fig = px.scatter(tips, x='total_bill', y='tip', color ='sex', facet_col = 'day')\n",
        "fig.show()"
      ],
      "execution_count": null,
      "outputs": [
        {
          "output_type": "display_data",
          "data": {
            "text/html": [
              "<html>\n",
              "<head><meta charset=\"utf-8\" /></head>\n",
              "<body>\n",
              "    <div>            <script src=\"https://cdnjs.cloudflare.com/ajax/libs/mathjax/2.7.5/MathJax.js?config=TeX-AMS-MML_SVG\"></script><script type=\"text/javascript\">if (window.MathJax) {MathJax.Hub.Config({SVG: {font: \"STIX-Web\"}});}</script>                <script type=\"text/javascript\">window.PlotlyConfig = {MathJaxConfig: 'local'};</script>\n",
              "        <script src=\"https://cdn.plot.ly/plotly-2.8.3.min.js\"></script>                <div id=\"d66cdc01-a2de-4e02-b8ef-64a8bc34915d\" class=\"plotly-graph-div\" style=\"height:525px; width:100%;\"></div>            <script type=\"text/javascript\">                                    window.PLOTLYENV=window.PLOTLYENV || {};                                    if (document.getElementById(\"d66cdc01-a2de-4e02-b8ef-64a8bc34915d\")) {                    Plotly.newPlot(                        \"d66cdc01-a2de-4e02-b8ef-64a8bc34915d\",                        [{\"hovertemplate\":\"sex=Female<br>day=Sun<br>total_bill=%{x}<br>tip=%{y}<extra></extra>\",\"legendgroup\":\"Female\",\"marker\":{\"color\":\"#636efa\",\"symbol\":\"circle\"},\"mode\":\"markers\",\"name\":\"Female\",\"orientation\":\"v\",\"showlegend\":true,\"x\":[16.99,24.59,35.26,14.83,10.33,16.97,10.29,34.81,25.71,17.31,29.85,25.0,13.39,16.21,17.51,9.6,20.9,18.15],\"xaxis\":\"x\",\"y\":[1.01,3.61,5.0,3.02,1.67,3.5,2.6,5.2,4.0,3.5,5.14,3.75,2.61,2.0,3.0,4.0,3.5,3.5],\"yaxis\":\"y\",\"type\":\"scatter\"},{\"hovertemplate\":\"sex=Female<br>day=Sat<br>total_bill=%{x}<br>tip=%{y}<extra></extra>\",\"legendgroup\":\"Female\",\"marker\":{\"color\":\"#636efa\",\"symbol\":\"circle\"},\"mode\":\"markers\",\"name\":\"Female\",\"orientation\":\"v\",\"showlegend\":false,\"x\":[20.29,15.77,19.65,15.06,20.69,16.93,26.41,16.45,3.07,17.07,26.86,25.28,14.73,44.3,22.42,20.92,14.31,7.25,10.59,10.63,12.76,13.27,28.17,12.9,30.14,22.12,35.83,27.18],\"xaxis\":\"x2\",\"y\":[2.75,2.23,3.0,3.0,2.45,3.07,1.5,2.47,1.0,3.0,3.14,5.0,2.2,2.5,3.48,4.08,4.0,1.0,1.61,2.0,2.23,2.5,6.5,1.1,3.09,2.88,4.67,2.0],\"yaxis\":\"y2\",\"type\":\"scatter\"},{\"hovertemplate\":\"sex=Female<br>day=Thur<br>total_bill=%{x}<br>tip=%{y}<extra></extra>\",\"legendgroup\":\"Female\",\"marker\":{\"color\":\"#636efa\",\"symbol\":\"circle\"},\"mode\":\"markers\",\"name\":\"Female\",\"orientation\":\"v\",\"showlegend\":false,\"x\":[10.07,34.83,10.65,12.43,24.08,13.42,12.48,29.8,14.52,11.38,20.27,11.17,12.26,18.26,8.51,10.33,14.15,13.16,17.47,27.05,16.43,8.35,18.64,11.87,19.81,43.11,13.0,12.74,13.0,16.4,16.47,18.78],\"xaxis\":\"x3\",\"y\":[1.83,5.17,1.5,1.8,2.92,1.68,2.52,4.2,2.0,2.0,2.83,1.5,2.0,3.25,1.25,2.0,2.0,2.75,3.5,5.0,2.3,1.5,1.36,1.63,4.19,5.0,2.0,2.01,2.0,2.5,3.23,3.0],\"yaxis\":\"y3\",\"type\":\"scatter\"},{\"hovertemplate\":\"sex=Female<br>day=Fri<br>total_bill=%{x}<br>tip=%{y}<extra></extra>\",\"legendgroup\":\"Female\",\"marker\":{\"color\":\"#636efa\",\"symbol\":\"circle\"},\"mode\":\"markers\",\"name\":\"Female\",\"orientation\":\"v\",\"showlegend\":false,\"x\":[5.75,16.32,22.75,11.35,15.38,13.42,15.98,16.27,10.09],\"xaxis\":\"x4\",\"y\":[1.0,4.3,3.25,2.5,3.0,3.48,3.0,2.5,2.0],\"yaxis\":\"y4\",\"type\":\"scatter\"},{\"hovertemplate\":\"sex=Male<br>day=Sun<br>total_bill=%{x}<br>tip=%{y}<extra></extra>\",\"legendgroup\":\"Male\",\"marker\":{\"color\":\"#EF553B\",\"symbol\":\"circle\"},\"mode\":\"markers\",\"name\":\"Male\",\"orientation\":\"v\",\"showlegend\":true,\"x\":[10.34,21.01,23.68,25.29,8.77,26.88,15.04,14.78,10.27,15.42,18.43,21.58,16.29,17.46,13.94,9.68,30.4,18.29,22.23,32.4,28.55,18.04,12.54,9.94,25.56,19.49,38.07,23.95,29.93,14.07,13.13,17.26,24.55,19.77,48.17,16.49,21.5,12.66,13.81,24.52,20.76,31.71,7.25,31.85,16.82,32.9,17.89,14.48,34.63,34.65,23.33,45.35,23.17,40.55,20.69,30.46,23.1,15.69],\"xaxis\":\"x\",\"y\":[1.66,3.5,3.31,4.71,2.0,3.12,1.96,3.23,1.71,1.57,3.0,3.92,3.71,2.54,3.06,1.32,5.6,3.0,5.0,6.0,2.05,3.0,2.5,1.56,4.34,3.51,4.0,2.55,5.07,2.5,2.0,2.74,2.0,2.0,5.0,2.0,3.5,2.5,2.0,3.48,2.24,4.5,5.15,3.18,4.0,3.11,2.0,2.0,3.55,3.68,5.65,3.5,6.5,3.0,5.0,2.0,4.0,1.5],\"yaxis\":\"y\",\"type\":\"scatter\"},{\"hovertemplate\":\"sex=Male<br>day=Sat<br>total_bill=%{x}<br>tip=%{y}<extra></extra>\",\"legendgroup\":\"Male\",\"marker\":{\"color\":\"#EF553B\",\"symbol\":\"circle\"},\"mode\":\"markers\",\"name\":\"Male\",\"orientation\":\"v\",\"showlegend\":false,\"x\":[20.65,17.92,39.42,19.82,17.81,13.37,12.69,21.7,9.55,18.35,17.78,24.06,16.31,18.69,31.27,16.04,38.01,11.24,48.27,20.29,13.81,11.02,18.29,17.59,20.08,20.23,15.01,12.02,10.51,17.92,15.36,20.49,25.21,18.24,14.0,50.81,15.81,26.59,38.73,24.27,30.06,25.89,48.33,28.15,11.59,7.74,20.45,13.28,24.01,15.69,11.61,10.77,15.53,10.07,12.6,32.83,29.03,22.67,17.82],\"xaxis\":\"x2\",\"y\":[3.35,4.08,7.58,3.18,2.34,2.0,2.0,4.3,1.45,2.5,3.27,3.6,2.0,2.31,5.0,2.24,3.0,1.76,6.73,3.21,2.0,1.98,3.76,2.64,3.15,2.01,2.09,1.97,1.25,3.08,1.64,4.06,4.29,3.76,3.0,10.0,3.16,3.41,3.0,2.03,2.0,5.16,9.0,3.0,1.5,1.44,3.0,2.72,2.0,3.0,3.39,1.47,3.0,1.25,1.0,1.17,5.92,2.0,1.75],\"yaxis\":\"y2\",\"type\":\"scatter\"},{\"hovertemplate\":\"sex=Male<br>day=Thur<br>total_bill=%{x}<br>tip=%{y}<extra></extra>\",\"legendgroup\":\"Male\",\"marker\":{\"color\":\"#EF553B\",\"symbol\":\"circle\"},\"mode\":\"markers\",\"name\":\"Male\",\"orientation\":\"v\",\"showlegend\":false,\"x\":[27.2,22.76,17.29,19.44,16.66,32.68,15.98,13.03,18.28,24.71,21.16,11.69,14.26,15.95,8.52,22.82,19.08,16.0,34.3,41.19,9.78,7.51,28.44,15.48,16.58,7.56,10.34,13.51,18.71,20.53],\"xaxis\":\"x3\",\"y\":[4.0,3.0,2.71,3.0,3.4,5.0,2.03,2.0,4.0,5.85,3.0,2.31,2.5,2.0,1.48,2.18,1.5,2.0,6.7,5.0,1.73,2.0,2.56,2.02,4.0,1.44,2.0,2.0,4.0,4.0],\"yaxis\":\"y3\",\"type\":\"scatter\"},{\"hovertemplate\":\"sex=Male<br>day=Fri<br>total_bill=%{x}<br>tip=%{y}<extra></extra>\",\"legendgroup\":\"Male\",\"marker\":{\"color\":\"#EF553B\",\"symbol\":\"circle\"},\"mode\":\"markers\",\"name\":\"Male\",\"orientation\":\"v\",\"showlegend\":false,\"x\":[28.97,22.49,40.17,27.28,12.03,21.01,12.46,12.16,8.58,13.42],\"xaxis\":\"x4\",\"y\":[3.0,3.5,4.73,4.0,1.5,3.0,1.5,2.2,1.92,1.58],\"yaxis\":\"y4\",\"type\":\"scatter\"}],                        {\"template\":{\"data\":{\"bar\":[{\"error_x\":{\"color\":\"#2a3f5f\"},\"error_y\":{\"color\":\"#2a3f5f\"},\"marker\":{\"line\":{\"color\":\"#E5ECF6\",\"width\":0.5},\"pattern\":{\"fillmode\":\"overlay\",\"size\":10,\"solidity\":0.2}},\"type\":\"bar\"}],\"barpolar\":[{\"marker\":{\"line\":{\"color\":\"#E5ECF6\",\"width\":0.5},\"pattern\":{\"fillmode\":\"overlay\",\"size\":10,\"solidity\":0.2}},\"type\":\"barpolar\"}],\"carpet\":[{\"aaxis\":{\"endlinecolor\":\"#2a3f5f\",\"gridcolor\":\"white\",\"linecolor\":\"white\",\"minorgridcolor\":\"white\",\"startlinecolor\":\"#2a3f5f\"},\"baxis\":{\"endlinecolor\":\"#2a3f5f\",\"gridcolor\":\"white\",\"linecolor\":\"white\",\"minorgridcolor\":\"white\",\"startlinecolor\":\"#2a3f5f\"},\"type\":\"carpet\"}],\"choropleth\":[{\"colorbar\":{\"outlinewidth\":0,\"ticks\":\"\"},\"type\":\"choropleth\"}],\"contour\":[{\"colorbar\":{\"outlinewidth\":0,\"ticks\":\"\"},\"colorscale\":[[0.0,\"#0d0887\"],[0.1111111111111111,\"#46039f\"],[0.2222222222222222,\"#7201a8\"],[0.3333333333333333,\"#9c179e\"],[0.4444444444444444,\"#bd3786\"],[0.5555555555555556,\"#d8576b\"],[0.6666666666666666,\"#ed7953\"],[0.7777777777777778,\"#fb9f3a\"],[0.8888888888888888,\"#fdca26\"],[1.0,\"#f0f921\"]],\"type\":\"contour\"}],\"contourcarpet\":[{\"colorbar\":{\"outlinewidth\":0,\"ticks\":\"\"},\"type\":\"contourcarpet\"}],\"heatmap\":[{\"colorbar\":{\"outlinewidth\":0,\"ticks\":\"\"},\"colorscale\":[[0.0,\"#0d0887\"],[0.1111111111111111,\"#46039f\"],[0.2222222222222222,\"#7201a8\"],[0.3333333333333333,\"#9c179e\"],[0.4444444444444444,\"#bd3786\"],[0.5555555555555556,\"#d8576b\"],[0.6666666666666666,\"#ed7953\"],[0.7777777777777778,\"#fb9f3a\"],[0.8888888888888888,\"#fdca26\"],[1.0,\"#f0f921\"]],\"type\":\"heatmap\"}],\"heatmapgl\":[{\"colorbar\":{\"outlinewidth\":0,\"ticks\":\"\"},\"colorscale\":[[0.0,\"#0d0887\"],[0.1111111111111111,\"#46039f\"],[0.2222222222222222,\"#7201a8\"],[0.3333333333333333,\"#9c179e\"],[0.4444444444444444,\"#bd3786\"],[0.5555555555555556,\"#d8576b\"],[0.6666666666666666,\"#ed7953\"],[0.7777777777777778,\"#fb9f3a\"],[0.8888888888888888,\"#fdca26\"],[1.0,\"#f0f921\"]],\"type\":\"heatmapgl\"}],\"histogram\":[{\"marker\":{\"pattern\":{\"fillmode\":\"overlay\",\"size\":10,\"solidity\":0.2}},\"type\":\"histogram\"}],\"histogram2d\":[{\"colorbar\":{\"outlinewidth\":0,\"ticks\":\"\"},\"colorscale\":[[0.0,\"#0d0887\"],[0.1111111111111111,\"#46039f\"],[0.2222222222222222,\"#7201a8\"],[0.3333333333333333,\"#9c179e\"],[0.4444444444444444,\"#bd3786\"],[0.5555555555555556,\"#d8576b\"],[0.6666666666666666,\"#ed7953\"],[0.7777777777777778,\"#fb9f3a\"],[0.8888888888888888,\"#fdca26\"],[1.0,\"#f0f921\"]],\"type\":\"histogram2d\"}],\"histogram2dcontour\":[{\"colorbar\":{\"outlinewidth\":0,\"ticks\":\"\"},\"colorscale\":[[0.0,\"#0d0887\"],[0.1111111111111111,\"#46039f\"],[0.2222222222222222,\"#7201a8\"],[0.3333333333333333,\"#9c179e\"],[0.4444444444444444,\"#bd3786\"],[0.5555555555555556,\"#d8576b\"],[0.6666666666666666,\"#ed7953\"],[0.7777777777777778,\"#fb9f3a\"],[0.8888888888888888,\"#fdca26\"],[1.0,\"#f0f921\"]],\"type\":\"histogram2dcontour\"}],\"mesh3d\":[{\"colorbar\":{\"outlinewidth\":0,\"ticks\":\"\"},\"type\":\"mesh3d\"}],\"parcoords\":[{\"line\":{\"colorbar\":{\"outlinewidth\":0,\"ticks\":\"\"}},\"type\":\"parcoords\"}],\"pie\":[{\"automargin\":true,\"type\":\"pie\"}],\"scatter\":[{\"marker\":{\"colorbar\":{\"outlinewidth\":0,\"ticks\":\"\"}},\"type\":\"scatter\"}],\"scatter3d\":[{\"line\":{\"colorbar\":{\"outlinewidth\":0,\"ticks\":\"\"}},\"marker\":{\"colorbar\":{\"outlinewidth\":0,\"ticks\":\"\"}},\"type\":\"scatter3d\"}],\"scattercarpet\":[{\"marker\":{\"colorbar\":{\"outlinewidth\":0,\"ticks\":\"\"}},\"type\":\"scattercarpet\"}],\"scattergeo\":[{\"marker\":{\"colorbar\":{\"outlinewidth\":0,\"ticks\":\"\"}},\"type\":\"scattergeo\"}],\"scattergl\":[{\"marker\":{\"colorbar\":{\"outlinewidth\":0,\"ticks\":\"\"}},\"type\":\"scattergl\"}],\"scattermapbox\":[{\"marker\":{\"colorbar\":{\"outlinewidth\":0,\"ticks\":\"\"}},\"type\":\"scattermapbox\"}],\"scatterpolar\":[{\"marker\":{\"colorbar\":{\"outlinewidth\":0,\"ticks\":\"\"}},\"type\":\"scatterpolar\"}],\"scatterpolargl\":[{\"marker\":{\"colorbar\":{\"outlinewidth\":0,\"ticks\":\"\"}},\"type\":\"scatterpolargl\"}],\"scatterternary\":[{\"marker\":{\"colorbar\":{\"outlinewidth\":0,\"ticks\":\"\"}},\"type\":\"scatterternary\"}],\"surface\":[{\"colorbar\":{\"outlinewidth\":0,\"ticks\":\"\"},\"colorscale\":[[0.0,\"#0d0887\"],[0.1111111111111111,\"#46039f\"],[0.2222222222222222,\"#7201a8\"],[0.3333333333333333,\"#9c179e\"],[0.4444444444444444,\"#bd3786\"],[0.5555555555555556,\"#d8576b\"],[0.6666666666666666,\"#ed7953\"],[0.7777777777777778,\"#fb9f3a\"],[0.8888888888888888,\"#fdca26\"],[1.0,\"#f0f921\"]],\"type\":\"surface\"}],\"table\":[{\"cells\":{\"fill\":{\"color\":\"#EBF0F8\"},\"line\":{\"color\":\"white\"}},\"header\":{\"fill\":{\"color\":\"#C8D4E3\"},\"line\":{\"color\":\"white\"}},\"type\":\"table\"}]},\"layout\":{\"annotationdefaults\":{\"arrowcolor\":\"#2a3f5f\",\"arrowhead\":0,\"arrowwidth\":1},\"autotypenumbers\":\"strict\",\"coloraxis\":{\"colorbar\":{\"outlinewidth\":0,\"ticks\":\"\"}},\"colorscale\":{\"diverging\":[[0,\"#8e0152\"],[0.1,\"#c51b7d\"],[0.2,\"#de77ae\"],[0.3,\"#f1b6da\"],[0.4,\"#fde0ef\"],[0.5,\"#f7f7f7\"],[0.6,\"#e6f5d0\"],[0.7,\"#b8e186\"],[0.8,\"#7fbc41\"],[0.9,\"#4d9221\"],[1,\"#276419\"]],\"sequential\":[[0.0,\"#0d0887\"],[0.1111111111111111,\"#46039f\"],[0.2222222222222222,\"#7201a8\"],[0.3333333333333333,\"#9c179e\"],[0.4444444444444444,\"#bd3786\"],[0.5555555555555556,\"#d8576b\"],[0.6666666666666666,\"#ed7953\"],[0.7777777777777778,\"#fb9f3a\"],[0.8888888888888888,\"#fdca26\"],[1.0,\"#f0f921\"]],\"sequentialminus\":[[0.0,\"#0d0887\"],[0.1111111111111111,\"#46039f\"],[0.2222222222222222,\"#7201a8\"],[0.3333333333333333,\"#9c179e\"],[0.4444444444444444,\"#bd3786\"],[0.5555555555555556,\"#d8576b\"],[0.6666666666666666,\"#ed7953\"],[0.7777777777777778,\"#fb9f3a\"],[0.8888888888888888,\"#fdca26\"],[1.0,\"#f0f921\"]]},\"colorway\":[\"#636efa\",\"#EF553B\",\"#00cc96\",\"#ab63fa\",\"#FFA15A\",\"#19d3f3\",\"#FF6692\",\"#B6E880\",\"#FF97FF\",\"#FECB52\"],\"font\":{\"color\":\"#2a3f5f\"},\"geo\":{\"bgcolor\":\"white\",\"lakecolor\":\"white\",\"landcolor\":\"#E5ECF6\",\"showlakes\":true,\"showland\":true,\"subunitcolor\":\"white\"},\"hoverlabel\":{\"align\":\"left\"},\"hovermode\":\"closest\",\"mapbox\":{\"style\":\"light\"},\"paper_bgcolor\":\"white\",\"plot_bgcolor\":\"#E5ECF6\",\"polar\":{\"angularaxis\":{\"gridcolor\":\"white\",\"linecolor\":\"white\",\"ticks\":\"\"},\"bgcolor\":\"#E5ECF6\",\"radialaxis\":{\"gridcolor\":\"white\",\"linecolor\":\"white\",\"ticks\":\"\"}},\"scene\":{\"xaxis\":{\"backgroundcolor\":\"#E5ECF6\",\"gridcolor\":\"white\",\"gridwidth\":2,\"linecolor\":\"white\",\"showbackground\":true,\"ticks\":\"\",\"zerolinecolor\":\"white\"},\"yaxis\":{\"backgroundcolor\":\"#E5ECF6\",\"gridcolor\":\"white\",\"gridwidth\":2,\"linecolor\":\"white\",\"showbackground\":true,\"ticks\":\"\",\"zerolinecolor\":\"white\"},\"zaxis\":{\"backgroundcolor\":\"#E5ECF6\",\"gridcolor\":\"white\",\"gridwidth\":2,\"linecolor\":\"white\",\"showbackground\":true,\"ticks\":\"\",\"zerolinecolor\":\"white\"}},\"shapedefaults\":{\"line\":{\"color\":\"#2a3f5f\"}},\"ternary\":{\"aaxis\":{\"gridcolor\":\"white\",\"linecolor\":\"white\",\"ticks\":\"\"},\"baxis\":{\"gridcolor\":\"white\",\"linecolor\":\"white\",\"ticks\":\"\"},\"bgcolor\":\"#E5ECF6\",\"caxis\":{\"gridcolor\":\"white\",\"linecolor\":\"white\",\"ticks\":\"\"}},\"title\":{\"x\":0.05},\"xaxis\":{\"automargin\":true,\"gridcolor\":\"white\",\"linecolor\":\"white\",\"ticks\":\"\",\"title\":{\"standoff\":15},\"zerolinecolor\":\"white\",\"zerolinewidth\":2},\"yaxis\":{\"automargin\":true,\"gridcolor\":\"white\",\"linecolor\":\"white\",\"ticks\":\"\",\"title\":{\"standoff\":15},\"zerolinecolor\":\"white\",\"zerolinewidth\":2}}},\"xaxis\":{\"anchor\":\"y\",\"domain\":[0.0,0.235],\"title\":{\"text\":\"total_bill\"}},\"yaxis\":{\"anchor\":\"x\",\"domain\":[0.0,1.0],\"title\":{\"text\":\"tip\"}},\"xaxis2\":{\"anchor\":\"y2\",\"domain\":[0.255,0.49],\"matches\":\"x\",\"title\":{\"text\":\"total_bill\"}},\"yaxis2\":{\"anchor\":\"x2\",\"domain\":[0.0,1.0],\"matches\":\"y\",\"showticklabels\":false},\"xaxis3\":{\"anchor\":\"y3\",\"domain\":[0.51,0.745],\"matches\":\"x\",\"title\":{\"text\":\"total_bill\"}},\"yaxis3\":{\"anchor\":\"x3\",\"domain\":[0.0,1.0],\"matches\":\"y\",\"showticklabels\":false},\"xaxis4\":{\"anchor\":\"y4\",\"domain\":[0.7649999999999999,0.9999999999999999],\"matches\":\"x\",\"title\":{\"text\":\"total_bill\"}},\"yaxis4\":{\"anchor\":\"x4\",\"domain\":[0.0,1.0],\"matches\":\"y\",\"showticklabels\":false},\"annotations\":[{\"font\":{},\"showarrow\":false,\"text\":\"day=Sun\",\"x\":0.1175,\"xanchor\":\"center\",\"xref\":\"paper\",\"y\":1.0,\"yanchor\":\"bottom\",\"yref\":\"paper\"},{\"font\":{},\"showarrow\":false,\"text\":\"day=Sat\",\"x\":0.3725,\"xanchor\":\"center\",\"xref\":\"paper\",\"y\":1.0,\"yanchor\":\"bottom\",\"yref\":\"paper\"},{\"font\":{},\"showarrow\":false,\"text\":\"day=Thur\",\"x\":0.6275,\"xanchor\":\"center\",\"xref\":\"paper\",\"y\":1.0,\"yanchor\":\"bottom\",\"yref\":\"paper\"},{\"font\":{},\"showarrow\":false,\"text\":\"day=Fri\",\"x\":0.8824999999999998,\"xanchor\":\"center\",\"xref\":\"paper\",\"y\":1.0,\"yanchor\":\"bottom\",\"yref\":\"paper\"}],\"legend\":{\"title\":{\"text\":\"sex\"},\"tracegroupgap\":0},\"margin\":{\"t\":60}},                        {\"responsive\": true}                    ).then(function(){\n",
              "                            \n",
              "var gd = document.getElementById('d66cdc01-a2de-4e02-b8ef-64a8bc34915d');\n",
              "var x = new MutationObserver(function (mutations, observer) {{\n",
              "        var display = window.getComputedStyle(gd).display;\n",
              "        if (!display || display === 'none') {{\n",
              "            console.log([gd, 'removed!']);\n",
              "            Plotly.purge(gd);\n",
              "            observer.disconnect();\n",
              "        }}\n",
              "}});\n",
              "\n",
              "// Listen for the removal of the full notebook cells\n",
              "var notebookContainer = gd.closest('#notebook-container');\n",
              "if (notebookContainer) {{\n",
              "    x.observe(notebookContainer, {childList: true});\n",
              "}}\n",
              "\n",
              "// Listen for the clearing of the current output cell\n",
              "var outputEl = gd.closest('.output');\n",
              "if (outputEl) {{\n",
              "    x.observe(outputEl, {childList: true});\n",
              "}}\n",
              "\n",
              "                        })                };                            </script>        </div>\n",
              "</body>\n",
              "</html>"
            ]
          },
          "metadata": {}
        }
      ]
    },
    {
      "cell_type": "code",
      "metadata": {
        "id": "DIRxyNzWrskO",
        "colab": {
          "base_uri": "https://localhost:8080/",
          "height": 542
        },
        "outputId": "3a202547-83cc-4780-f6fb-287f8b72cbc8"
      },
      "source": [
        "t= np.linspace(0,10,100)\n",
        "y1 = np.random.randn(100).cumsum()\n",
        "y2 = np.random.randn(100).cumsum()\n",
        "\n",
        "fig = go.Figure()\n",
        "fig.add_trace(go.Scatter(x=t, y=y2, name='blue', mode= 'markers', marker_color='darkblue'))\n",
        "fig.add_trace(go.Scatter(x=t, y=y1, name='red', mode= 'markers', marker_color='darkred'))\n",
        "fig.update_traces(mode='markers', marker_line_width=1, marker_size=10)\n",
        "fig.show()"
      ],
      "execution_count": null,
      "outputs": [
        {
          "output_type": "display_data",
          "data": {
            "text/html": [
              "<html>\n",
              "<head><meta charset=\"utf-8\" /></head>\n",
              "<body>\n",
              "    <div>            <script src=\"https://cdnjs.cloudflare.com/ajax/libs/mathjax/2.7.5/MathJax.js?config=TeX-AMS-MML_SVG\"></script><script type=\"text/javascript\">if (window.MathJax) {MathJax.Hub.Config({SVG: {font: \"STIX-Web\"}});}</script>                <script type=\"text/javascript\">window.PlotlyConfig = {MathJaxConfig: 'local'};</script>\n",
              "        <script src=\"https://cdn.plot.ly/plotly-2.8.3.min.js\"></script>                <div id=\"e1504a8f-4fe5-4b88-922e-43706814c47f\" class=\"plotly-graph-div\" style=\"height:525px; width:100%;\"></div>            <script type=\"text/javascript\">                                    window.PLOTLYENV=window.PLOTLYENV || {};                                    if (document.getElementById(\"e1504a8f-4fe5-4b88-922e-43706814c47f\")) {                    Plotly.newPlot(                        \"e1504a8f-4fe5-4b88-922e-43706814c47f\",                        [{\"marker\":{\"color\":\"darkblue\",\"line\":{\"width\":1},\"size\":10},\"mode\":\"markers\",\"name\":\"blue\",\"x\":[0.0,0.10101010101010101,0.20202020202020202,0.30303030303030304,0.40404040404040403,0.5050505050505051,0.6060606060606061,0.7070707070707071,0.8080808080808081,0.9090909090909091,1.0101010101010102,1.1111111111111112,1.2121212121212122,1.3131313131313131,1.4141414141414141,1.5151515151515151,1.6161616161616161,1.7171717171717171,1.8181818181818181,1.9191919191919191,2.0202020202020203,2.121212121212121,2.2222222222222223,2.323232323232323,2.4242424242424243,2.525252525252525,2.6262626262626263,2.727272727272727,2.8282828282828283,2.929292929292929,3.0303030303030303,3.131313131313131,3.2323232323232323,3.3333333333333335,3.4343434343434343,3.5353535353535355,3.6363636363636362,3.7373737373737375,3.8383838383838382,3.9393939393939394,4.040404040404041,4.141414141414141,4.242424242424242,4.343434343434343,4.444444444444445,4.545454545454545,4.646464646464646,4.747474747474747,4.848484848484849,4.94949494949495,5.05050505050505,5.151515151515151,5.252525252525253,5.353535353535354,5.454545454545454,5.555555555555555,5.656565656565657,5.757575757575758,5.858585858585858,5.959595959595959,6.0606060606060606,6.161616161616162,6.262626262626262,6.363636363636363,6.4646464646464645,6.565656565656566,6.666666666666667,6.767676767676767,6.8686868686868685,6.96969696969697,7.070707070707071,7.171717171717171,7.2727272727272725,7.373737373737374,7.474747474747475,7.575757575757575,7.6767676767676765,7.777777777777778,7.878787878787879,7.979797979797979,8.080808080808081,8.181818181818182,8.282828282828282,8.383838383838384,8.484848484848484,8.585858585858587,8.686868686868687,8.787878787878787,8.88888888888889,8.98989898989899,9.09090909090909,9.191919191919192,9.292929292929292,9.393939393939394,9.494949494949495,9.595959595959595,9.696969696969697,9.797979797979798,9.8989898989899,10.0],\"y\":[1.1203713505785033,-0.1747363892761693,-0.4530966478613237,-1.8581513894562662,-2.1139712542271707,-1.5412566208639356,-1.014522369800964,-1.3720148652849167,-2.115490157990542,-2.84209538324474,-2.5062084060250025,-2.9976843583661514,-4.026338196256973,-3.3580507272672655,-2.743196275154708,-2.686193342690015,-2.7879085520627056,-2.8336739808802713,-3.2270839072412008,-4.188164764389327,-2.814977948124427,-1.4918979805785797,-0.9820356110994413,-0.15030506105778418,-2.337638419294402,-2.371532859105096,-3.722438498071665,-2.5622853898908557,-2.93500868274976,-1.4225260986542263,-1.6261197020758684,-2.19851042843918,-0.48095014041189077,1.4687637712503134,2.2764946791343483,0.9348792093076135,1.2733442327107343,-0.149534882231257,-0.17873560702380292,-1.795516469395022,-1.9431395559951008,-0.9088036264050576,-0.3590014495887862,-1.3562458851343961,-0.4588509890738812,-0.6813113844804766,0.7592787229868678,1.8521196912487732,2.8516021486113,4.142418873402439,4.242980901532627,5.06359203525512,4.678685985306316,4.446745350895152,4.021525710078592,2.8825658667645784,2.086675196601157,2.6328341750652866,0.7517844807393093,1.5577258441617712,0.8054076442159217,2.037553906746556,1.2945382732270283,2.0169396626214886,1.3521192862002525,0.6463780814172692,0.48615206824793633,-1.1799056563770831,-1.9703907941466066,-1.7728631753519233,-2.999860063317053,-2.744494877414812,-1.9279100604463992,-2.7630472078693735,-2.2645475581886934,-2.1700334725573716,-2.2304131239196434,-3.8423693316234893,-1.7990894901603087,-2.5024622485406143,-2.918044572853293,-1.9705564209605453,-1.9518839342542755,-0.8870720052543468,-2.945922815018597,-2.030360037751656,-1.3602982856291947,-1.7459393211125742,0.2763077077778955,1.8314988846562779,1.3437606144841205,-0.4348126873689442,-0.26780585141227803,-1.2444922258548985,-0.36994151898422,-0.15937479865857415,-0.22990505332558428,-1.702293551062863,-0.951415199841167,-2.249754137323652],\"type\":\"scatter\"},{\"marker\":{\"color\":\"darkred\",\"line\":{\"width\":1},\"size\":10},\"mode\":\"markers\",\"name\":\"red\",\"x\":[0.0,0.10101010101010101,0.20202020202020202,0.30303030303030304,0.40404040404040403,0.5050505050505051,0.6060606060606061,0.7070707070707071,0.8080808080808081,0.9090909090909091,1.0101010101010102,1.1111111111111112,1.2121212121212122,1.3131313131313131,1.4141414141414141,1.5151515151515151,1.6161616161616161,1.7171717171717171,1.8181818181818181,1.9191919191919191,2.0202020202020203,2.121212121212121,2.2222222222222223,2.323232323232323,2.4242424242424243,2.525252525252525,2.6262626262626263,2.727272727272727,2.8282828282828283,2.929292929292929,3.0303030303030303,3.131313131313131,3.2323232323232323,3.3333333333333335,3.4343434343434343,3.5353535353535355,3.6363636363636362,3.7373737373737375,3.8383838383838382,3.9393939393939394,4.040404040404041,4.141414141414141,4.242424242424242,4.343434343434343,4.444444444444445,4.545454545454545,4.646464646464646,4.747474747474747,4.848484848484849,4.94949494949495,5.05050505050505,5.151515151515151,5.252525252525253,5.353535353535354,5.454545454545454,5.555555555555555,5.656565656565657,5.757575757575758,5.858585858585858,5.959595959595959,6.0606060606060606,6.161616161616162,6.262626262626262,6.363636363636363,6.4646464646464645,6.565656565656566,6.666666666666667,6.767676767676767,6.8686868686868685,6.96969696969697,7.070707070707071,7.171717171717171,7.2727272727272725,7.373737373737374,7.474747474747475,7.575757575757575,7.6767676767676765,7.777777777777778,7.878787878787879,7.979797979797979,8.080808080808081,8.181818181818182,8.282828282828282,8.383838383838384,8.484848484848484,8.585858585858587,8.686868686868687,8.787878787878787,8.88888888888889,8.98989898989899,9.09090909090909,9.191919191919192,9.292929292929292,9.393939393939394,9.494949494949495,9.595959595959595,9.696969696969697,9.797979797979798,9.8989898989899,10.0],\"y\":[-0.7039552755691095,-0.8937295232857896,-3.3078692375100305,-2.8319473691286277,-1.6105953345898512,-1.3720347332862617,-1.4269637312754242,-2.1281126465277733,-0.7591481485434632,0.3848873487881468,0.11207447090971806,1.3851480208311415,1.3393940394697483,-0.9284050177460932,-1.7392730946267538,-2.253723624909988,-0.9549946967840235,-0.3397778230074099,0.36872710441984413,1.6020938175041253,0.08344116922640876,-0.9753798685036419,-1.194142616408917,-0.4228687849144208,0.20775325583033266,-1.8406725686702385,-3.130105400135926,-6.1477676645579145,-6.730218248999774,-7.370988196042395,-8.31407086471026,-7.862679070263274,-6.693255177702281,-7.269838943820967,-6.48487193463713,-6.493380405671662,-6.5992476897800945,-7.65324669976494,-7.498888496378862,-6.061270611659827,-5.016932767745123,-2.8532030947303895,-1.5765696155195137,-0.6477417473638597,0.575197497623262,0.5738487180008871,0.8796873638214288,0.11133287065446029,-0.3618306193348752,-0.6443721790337908,-0.18537553241830285,-0.8292922271696341,-1.8386425179307073,-0.2887641358582833,-1.679850774948849,-2.325731038331601,-2.09725917597317,-0.8021709349872894,0.17612885466068662,0.4960329385502924,1.3698452319329342,0.2317614022856347,-1.2933339636846857,-0.6783575316119014,-0.5825123724965382,0.6738330207594523,-0.6388368834480938,1.1019041473536615,1.7314671356741251,0.04311140115628831,-1.5228223979516593,-2.962439534018329,-1.0425273474631331,1.0301771745475063,2.437187103807263,2.081970689393187,-0.6200400811690572,-0.5986428759296147,-1.0171901311549134,-1.5178257024553314,-1.1349335143893264,-1.1407287691371137,-1.758627305879731,-1.5383475628432954,-1.2357871362792765,-1.4909261302037962,-2.4225827972206213,-3.234010765116551,-3.144555439272596,-4.48397364629285,-4.657183692738402,-4.636758712936863,-5.634781458993496,-6.018348896442917,-5.289247052403139,-5.717951245822606,-6.832208748157744,-5.714076416951637,-6.771415603147406,-7.6969030811004036],\"type\":\"scatter\"}],                        {\"template\":{\"data\":{\"bar\":[{\"error_x\":{\"color\":\"#2a3f5f\"},\"error_y\":{\"color\":\"#2a3f5f\"},\"marker\":{\"line\":{\"color\":\"#E5ECF6\",\"width\":0.5},\"pattern\":{\"fillmode\":\"overlay\",\"size\":10,\"solidity\":0.2}},\"type\":\"bar\"}],\"barpolar\":[{\"marker\":{\"line\":{\"color\":\"#E5ECF6\",\"width\":0.5},\"pattern\":{\"fillmode\":\"overlay\",\"size\":10,\"solidity\":0.2}},\"type\":\"barpolar\"}],\"carpet\":[{\"aaxis\":{\"endlinecolor\":\"#2a3f5f\",\"gridcolor\":\"white\",\"linecolor\":\"white\",\"minorgridcolor\":\"white\",\"startlinecolor\":\"#2a3f5f\"},\"baxis\":{\"endlinecolor\":\"#2a3f5f\",\"gridcolor\":\"white\",\"linecolor\":\"white\",\"minorgridcolor\":\"white\",\"startlinecolor\":\"#2a3f5f\"},\"type\":\"carpet\"}],\"choropleth\":[{\"colorbar\":{\"outlinewidth\":0,\"ticks\":\"\"},\"type\":\"choropleth\"}],\"contour\":[{\"colorbar\":{\"outlinewidth\":0,\"ticks\":\"\"},\"colorscale\":[[0.0,\"#0d0887\"],[0.1111111111111111,\"#46039f\"],[0.2222222222222222,\"#7201a8\"],[0.3333333333333333,\"#9c179e\"],[0.4444444444444444,\"#bd3786\"],[0.5555555555555556,\"#d8576b\"],[0.6666666666666666,\"#ed7953\"],[0.7777777777777778,\"#fb9f3a\"],[0.8888888888888888,\"#fdca26\"],[1.0,\"#f0f921\"]],\"type\":\"contour\"}],\"contourcarpet\":[{\"colorbar\":{\"outlinewidth\":0,\"ticks\":\"\"},\"type\":\"contourcarpet\"}],\"heatmap\":[{\"colorbar\":{\"outlinewidth\":0,\"ticks\":\"\"},\"colorscale\":[[0.0,\"#0d0887\"],[0.1111111111111111,\"#46039f\"],[0.2222222222222222,\"#7201a8\"],[0.3333333333333333,\"#9c179e\"],[0.4444444444444444,\"#bd3786\"],[0.5555555555555556,\"#d8576b\"],[0.6666666666666666,\"#ed7953\"],[0.7777777777777778,\"#fb9f3a\"],[0.8888888888888888,\"#fdca26\"],[1.0,\"#f0f921\"]],\"type\":\"heatmap\"}],\"heatmapgl\":[{\"colorbar\":{\"outlinewidth\":0,\"ticks\":\"\"},\"colorscale\":[[0.0,\"#0d0887\"],[0.1111111111111111,\"#46039f\"],[0.2222222222222222,\"#7201a8\"],[0.3333333333333333,\"#9c179e\"],[0.4444444444444444,\"#bd3786\"],[0.5555555555555556,\"#d8576b\"],[0.6666666666666666,\"#ed7953\"],[0.7777777777777778,\"#fb9f3a\"],[0.8888888888888888,\"#fdca26\"],[1.0,\"#f0f921\"]],\"type\":\"heatmapgl\"}],\"histogram\":[{\"marker\":{\"pattern\":{\"fillmode\":\"overlay\",\"size\":10,\"solidity\":0.2}},\"type\":\"histogram\"}],\"histogram2d\":[{\"colorbar\":{\"outlinewidth\":0,\"ticks\":\"\"},\"colorscale\":[[0.0,\"#0d0887\"],[0.1111111111111111,\"#46039f\"],[0.2222222222222222,\"#7201a8\"],[0.3333333333333333,\"#9c179e\"],[0.4444444444444444,\"#bd3786\"],[0.5555555555555556,\"#d8576b\"],[0.6666666666666666,\"#ed7953\"],[0.7777777777777778,\"#fb9f3a\"],[0.8888888888888888,\"#fdca26\"],[1.0,\"#f0f921\"]],\"type\":\"histogram2d\"}],\"histogram2dcontour\":[{\"colorbar\":{\"outlinewidth\":0,\"ticks\":\"\"},\"colorscale\":[[0.0,\"#0d0887\"],[0.1111111111111111,\"#46039f\"],[0.2222222222222222,\"#7201a8\"],[0.3333333333333333,\"#9c179e\"],[0.4444444444444444,\"#bd3786\"],[0.5555555555555556,\"#d8576b\"],[0.6666666666666666,\"#ed7953\"],[0.7777777777777778,\"#fb9f3a\"],[0.8888888888888888,\"#fdca26\"],[1.0,\"#f0f921\"]],\"type\":\"histogram2dcontour\"}],\"mesh3d\":[{\"colorbar\":{\"outlinewidth\":0,\"ticks\":\"\"},\"type\":\"mesh3d\"}],\"parcoords\":[{\"line\":{\"colorbar\":{\"outlinewidth\":0,\"ticks\":\"\"}},\"type\":\"parcoords\"}],\"pie\":[{\"automargin\":true,\"type\":\"pie\"}],\"scatter\":[{\"marker\":{\"colorbar\":{\"outlinewidth\":0,\"ticks\":\"\"}},\"type\":\"scatter\"}],\"scatter3d\":[{\"line\":{\"colorbar\":{\"outlinewidth\":0,\"ticks\":\"\"}},\"marker\":{\"colorbar\":{\"outlinewidth\":0,\"ticks\":\"\"}},\"type\":\"scatter3d\"}],\"scattercarpet\":[{\"marker\":{\"colorbar\":{\"outlinewidth\":0,\"ticks\":\"\"}},\"type\":\"scattercarpet\"}],\"scattergeo\":[{\"marker\":{\"colorbar\":{\"outlinewidth\":0,\"ticks\":\"\"}},\"type\":\"scattergeo\"}],\"scattergl\":[{\"marker\":{\"colorbar\":{\"outlinewidth\":0,\"ticks\":\"\"}},\"type\":\"scattergl\"}],\"scattermapbox\":[{\"marker\":{\"colorbar\":{\"outlinewidth\":0,\"ticks\":\"\"}},\"type\":\"scattermapbox\"}],\"scatterpolar\":[{\"marker\":{\"colorbar\":{\"outlinewidth\":0,\"ticks\":\"\"}},\"type\":\"scatterpolar\"}],\"scatterpolargl\":[{\"marker\":{\"colorbar\":{\"outlinewidth\":0,\"ticks\":\"\"}},\"type\":\"scatterpolargl\"}],\"scatterternary\":[{\"marker\":{\"colorbar\":{\"outlinewidth\":0,\"ticks\":\"\"}},\"type\":\"scatterternary\"}],\"surface\":[{\"colorbar\":{\"outlinewidth\":0,\"ticks\":\"\"},\"colorscale\":[[0.0,\"#0d0887\"],[0.1111111111111111,\"#46039f\"],[0.2222222222222222,\"#7201a8\"],[0.3333333333333333,\"#9c179e\"],[0.4444444444444444,\"#bd3786\"],[0.5555555555555556,\"#d8576b\"],[0.6666666666666666,\"#ed7953\"],[0.7777777777777778,\"#fb9f3a\"],[0.8888888888888888,\"#fdca26\"],[1.0,\"#f0f921\"]],\"type\":\"surface\"}],\"table\":[{\"cells\":{\"fill\":{\"color\":\"#EBF0F8\"},\"line\":{\"color\":\"white\"}},\"header\":{\"fill\":{\"color\":\"#C8D4E3\"},\"line\":{\"color\":\"white\"}},\"type\":\"table\"}]},\"layout\":{\"annotationdefaults\":{\"arrowcolor\":\"#2a3f5f\",\"arrowhead\":0,\"arrowwidth\":1},\"autotypenumbers\":\"strict\",\"coloraxis\":{\"colorbar\":{\"outlinewidth\":0,\"ticks\":\"\"}},\"colorscale\":{\"diverging\":[[0,\"#8e0152\"],[0.1,\"#c51b7d\"],[0.2,\"#de77ae\"],[0.3,\"#f1b6da\"],[0.4,\"#fde0ef\"],[0.5,\"#f7f7f7\"],[0.6,\"#e6f5d0\"],[0.7,\"#b8e186\"],[0.8,\"#7fbc41\"],[0.9,\"#4d9221\"],[1,\"#276419\"]],\"sequential\":[[0.0,\"#0d0887\"],[0.1111111111111111,\"#46039f\"],[0.2222222222222222,\"#7201a8\"],[0.3333333333333333,\"#9c179e\"],[0.4444444444444444,\"#bd3786\"],[0.5555555555555556,\"#d8576b\"],[0.6666666666666666,\"#ed7953\"],[0.7777777777777778,\"#fb9f3a\"],[0.8888888888888888,\"#fdca26\"],[1.0,\"#f0f921\"]],\"sequentialminus\":[[0.0,\"#0d0887\"],[0.1111111111111111,\"#46039f\"],[0.2222222222222222,\"#7201a8\"],[0.3333333333333333,\"#9c179e\"],[0.4444444444444444,\"#bd3786\"],[0.5555555555555556,\"#d8576b\"],[0.6666666666666666,\"#ed7953\"],[0.7777777777777778,\"#fb9f3a\"],[0.8888888888888888,\"#fdca26\"],[1.0,\"#f0f921\"]]},\"colorway\":[\"#636efa\",\"#EF553B\",\"#00cc96\",\"#ab63fa\",\"#FFA15A\",\"#19d3f3\",\"#FF6692\",\"#B6E880\",\"#FF97FF\",\"#FECB52\"],\"font\":{\"color\":\"#2a3f5f\"},\"geo\":{\"bgcolor\":\"white\",\"lakecolor\":\"white\",\"landcolor\":\"#E5ECF6\",\"showlakes\":true,\"showland\":true,\"subunitcolor\":\"white\"},\"hoverlabel\":{\"align\":\"left\"},\"hovermode\":\"closest\",\"mapbox\":{\"style\":\"light\"},\"paper_bgcolor\":\"white\",\"plot_bgcolor\":\"#E5ECF6\",\"polar\":{\"angularaxis\":{\"gridcolor\":\"white\",\"linecolor\":\"white\",\"ticks\":\"\"},\"bgcolor\":\"#E5ECF6\",\"radialaxis\":{\"gridcolor\":\"white\",\"linecolor\":\"white\",\"ticks\":\"\"}},\"scene\":{\"xaxis\":{\"backgroundcolor\":\"#E5ECF6\",\"gridcolor\":\"white\",\"gridwidth\":2,\"linecolor\":\"white\",\"showbackground\":true,\"ticks\":\"\",\"zerolinecolor\":\"white\"},\"yaxis\":{\"backgroundcolor\":\"#E5ECF6\",\"gridcolor\":\"white\",\"gridwidth\":2,\"linecolor\":\"white\",\"showbackground\":true,\"ticks\":\"\",\"zerolinecolor\":\"white\"},\"zaxis\":{\"backgroundcolor\":\"#E5ECF6\",\"gridcolor\":\"white\",\"gridwidth\":2,\"linecolor\":\"white\",\"showbackground\":true,\"ticks\":\"\",\"zerolinecolor\":\"white\"}},\"shapedefaults\":{\"line\":{\"color\":\"#2a3f5f\"}},\"ternary\":{\"aaxis\":{\"gridcolor\":\"white\",\"linecolor\":\"white\",\"ticks\":\"\"},\"baxis\":{\"gridcolor\":\"white\",\"linecolor\":\"white\",\"ticks\":\"\"},\"bgcolor\":\"#E5ECF6\",\"caxis\":{\"gridcolor\":\"white\",\"linecolor\":\"white\",\"ticks\":\"\"}},\"title\":{\"x\":0.05},\"xaxis\":{\"automargin\":true,\"gridcolor\":\"white\",\"linecolor\":\"white\",\"ticks\":\"\",\"title\":{\"standoff\":15},\"zerolinecolor\":\"white\",\"zerolinewidth\":2},\"yaxis\":{\"automargin\":true,\"gridcolor\":\"white\",\"linecolor\":\"white\",\"ticks\":\"\",\"title\":{\"standoff\":15},\"zerolinecolor\":\"white\",\"zerolinewidth\":2}}}},                        {\"responsive\": true}                    ).then(function(){\n",
              "                            \n",
              "var gd = document.getElementById('e1504a8f-4fe5-4b88-922e-43706814c47f');\n",
              "var x = new MutationObserver(function (mutations, observer) {{\n",
              "        var display = window.getComputedStyle(gd).display;\n",
              "        if (!display || display === 'none') {{\n",
              "            console.log([gd, 'removed!']);\n",
              "            Plotly.purge(gd);\n",
              "            observer.disconnect();\n",
              "        }}\n",
              "}});\n",
              "\n",
              "// Listen for the removal of the full notebook cells\n",
              "var notebookContainer = gd.closest('#notebook-container');\n",
              "if (notebookContainer) {{\n",
              "    x.observe(notebookContainer, {childList: true});\n",
              "}}\n",
              "\n",
              "// Listen for the clearing of the current output cell\n",
              "var outputEl = gd.closest('.output');\n",
              "if (outputEl) {{\n",
              "    x.observe(outputEl, {childList: true});\n",
              "}}\n",
              "\n",
              "                        })                };                            </script>        </div>\n",
              "</body>\n",
              "</html>"
            ]
          },
          "metadata": {}
        }
      ]
    },
    {
      "cell_type": "code",
      "metadata": {
        "id": "IIAvCqktpXbx",
        "colab": {
          "base_uri": "https://localhost:8080/",
          "height": 542
        },
        "outputId": "fd79e9ce-a6df-4ca8-a871-e3142fe5bf41"
      },
      "source": [
        "fig=go.Figure(data=go.Scatter(x=[1,2,3,4,5],\n",
        "                              y=[11,12,13,14,15],\n",
        "                              mode='markers',\n",
        "                              marker=dict(size=[20,40,60,80,200],\n",
        "                                          color=[1,2,3,4,5,])))\n",
        "fig.show()"
      ],
      "execution_count": null,
      "outputs": [
        {
          "output_type": "display_data",
          "data": {
            "text/html": [
              "<html>\n",
              "<head><meta charset=\"utf-8\" /></head>\n",
              "<body>\n",
              "    <div>            <script src=\"https://cdnjs.cloudflare.com/ajax/libs/mathjax/2.7.5/MathJax.js?config=TeX-AMS-MML_SVG\"></script><script type=\"text/javascript\">if (window.MathJax) {MathJax.Hub.Config({SVG: {font: \"STIX-Web\"}});}</script>                <script type=\"text/javascript\">window.PlotlyConfig = {MathJaxConfig: 'local'};</script>\n",
              "        <script src=\"https://cdn.plot.ly/plotly-2.8.3.min.js\"></script>                <div id=\"d0c4a933-e452-49d7-a860-1b3ea326bf22\" class=\"plotly-graph-div\" style=\"height:525px; width:100%;\"></div>            <script type=\"text/javascript\">                                    window.PLOTLYENV=window.PLOTLYENV || {};                                    if (document.getElementById(\"d0c4a933-e452-49d7-a860-1b3ea326bf22\")) {                    Plotly.newPlot(                        \"d0c4a933-e452-49d7-a860-1b3ea326bf22\",                        [{\"marker\":{\"color\":[1,2,3,4,5],\"size\":[20,40,60,80,200]},\"mode\":\"markers\",\"x\":[1,2,3,4,5],\"y\":[11,12,13,14,15],\"type\":\"scatter\"}],                        {\"template\":{\"data\":{\"bar\":[{\"error_x\":{\"color\":\"#2a3f5f\"},\"error_y\":{\"color\":\"#2a3f5f\"},\"marker\":{\"line\":{\"color\":\"#E5ECF6\",\"width\":0.5},\"pattern\":{\"fillmode\":\"overlay\",\"size\":10,\"solidity\":0.2}},\"type\":\"bar\"}],\"barpolar\":[{\"marker\":{\"line\":{\"color\":\"#E5ECF6\",\"width\":0.5},\"pattern\":{\"fillmode\":\"overlay\",\"size\":10,\"solidity\":0.2}},\"type\":\"barpolar\"}],\"carpet\":[{\"aaxis\":{\"endlinecolor\":\"#2a3f5f\",\"gridcolor\":\"white\",\"linecolor\":\"white\",\"minorgridcolor\":\"white\",\"startlinecolor\":\"#2a3f5f\"},\"baxis\":{\"endlinecolor\":\"#2a3f5f\",\"gridcolor\":\"white\",\"linecolor\":\"white\",\"minorgridcolor\":\"white\",\"startlinecolor\":\"#2a3f5f\"},\"type\":\"carpet\"}],\"choropleth\":[{\"colorbar\":{\"outlinewidth\":0,\"ticks\":\"\"},\"type\":\"choropleth\"}],\"contour\":[{\"colorbar\":{\"outlinewidth\":0,\"ticks\":\"\"},\"colorscale\":[[0.0,\"#0d0887\"],[0.1111111111111111,\"#46039f\"],[0.2222222222222222,\"#7201a8\"],[0.3333333333333333,\"#9c179e\"],[0.4444444444444444,\"#bd3786\"],[0.5555555555555556,\"#d8576b\"],[0.6666666666666666,\"#ed7953\"],[0.7777777777777778,\"#fb9f3a\"],[0.8888888888888888,\"#fdca26\"],[1.0,\"#f0f921\"]],\"type\":\"contour\"}],\"contourcarpet\":[{\"colorbar\":{\"outlinewidth\":0,\"ticks\":\"\"},\"type\":\"contourcarpet\"}],\"heatmap\":[{\"colorbar\":{\"outlinewidth\":0,\"ticks\":\"\"},\"colorscale\":[[0.0,\"#0d0887\"],[0.1111111111111111,\"#46039f\"],[0.2222222222222222,\"#7201a8\"],[0.3333333333333333,\"#9c179e\"],[0.4444444444444444,\"#bd3786\"],[0.5555555555555556,\"#d8576b\"],[0.6666666666666666,\"#ed7953\"],[0.7777777777777778,\"#fb9f3a\"],[0.8888888888888888,\"#fdca26\"],[1.0,\"#f0f921\"]],\"type\":\"heatmap\"}],\"heatmapgl\":[{\"colorbar\":{\"outlinewidth\":0,\"ticks\":\"\"},\"colorscale\":[[0.0,\"#0d0887\"],[0.1111111111111111,\"#46039f\"],[0.2222222222222222,\"#7201a8\"],[0.3333333333333333,\"#9c179e\"],[0.4444444444444444,\"#bd3786\"],[0.5555555555555556,\"#d8576b\"],[0.6666666666666666,\"#ed7953\"],[0.7777777777777778,\"#fb9f3a\"],[0.8888888888888888,\"#fdca26\"],[1.0,\"#f0f921\"]],\"type\":\"heatmapgl\"}],\"histogram\":[{\"marker\":{\"pattern\":{\"fillmode\":\"overlay\",\"size\":10,\"solidity\":0.2}},\"type\":\"histogram\"}],\"histogram2d\":[{\"colorbar\":{\"outlinewidth\":0,\"ticks\":\"\"},\"colorscale\":[[0.0,\"#0d0887\"],[0.1111111111111111,\"#46039f\"],[0.2222222222222222,\"#7201a8\"],[0.3333333333333333,\"#9c179e\"],[0.4444444444444444,\"#bd3786\"],[0.5555555555555556,\"#d8576b\"],[0.6666666666666666,\"#ed7953\"],[0.7777777777777778,\"#fb9f3a\"],[0.8888888888888888,\"#fdca26\"],[1.0,\"#f0f921\"]],\"type\":\"histogram2d\"}],\"histogram2dcontour\":[{\"colorbar\":{\"outlinewidth\":0,\"ticks\":\"\"},\"colorscale\":[[0.0,\"#0d0887\"],[0.1111111111111111,\"#46039f\"],[0.2222222222222222,\"#7201a8\"],[0.3333333333333333,\"#9c179e\"],[0.4444444444444444,\"#bd3786\"],[0.5555555555555556,\"#d8576b\"],[0.6666666666666666,\"#ed7953\"],[0.7777777777777778,\"#fb9f3a\"],[0.8888888888888888,\"#fdca26\"],[1.0,\"#f0f921\"]],\"type\":\"histogram2dcontour\"}],\"mesh3d\":[{\"colorbar\":{\"outlinewidth\":0,\"ticks\":\"\"},\"type\":\"mesh3d\"}],\"parcoords\":[{\"line\":{\"colorbar\":{\"outlinewidth\":0,\"ticks\":\"\"}},\"type\":\"parcoords\"}],\"pie\":[{\"automargin\":true,\"type\":\"pie\"}],\"scatter\":[{\"marker\":{\"colorbar\":{\"outlinewidth\":0,\"ticks\":\"\"}},\"type\":\"scatter\"}],\"scatter3d\":[{\"line\":{\"colorbar\":{\"outlinewidth\":0,\"ticks\":\"\"}},\"marker\":{\"colorbar\":{\"outlinewidth\":0,\"ticks\":\"\"}},\"type\":\"scatter3d\"}],\"scattercarpet\":[{\"marker\":{\"colorbar\":{\"outlinewidth\":0,\"ticks\":\"\"}},\"type\":\"scattercarpet\"}],\"scattergeo\":[{\"marker\":{\"colorbar\":{\"outlinewidth\":0,\"ticks\":\"\"}},\"type\":\"scattergeo\"}],\"scattergl\":[{\"marker\":{\"colorbar\":{\"outlinewidth\":0,\"ticks\":\"\"}},\"type\":\"scattergl\"}],\"scattermapbox\":[{\"marker\":{\"colorbar\":{\"outlinewidth\":0,\"ticks\":\"\"}},\"type\":\"scattermapbox\"}],\"scatterpolar\":[{\"marker\":{\"colorbar\":{\"outlinewidth\":0,\"ticks\":\"\"}},\"type\":\"scatterpolar\"}],\"scatterpolargl\":[{\"marker\":{\"colorbar\":{\"outlinewidth\":0,\"ticks\":\"\"}},\"type\":\"scatterpolargl\"}],\"scatterternary\":[{\"marker\":{\"colorbar\":{\"outlinewidth\":0,\"ticks\":\"\"}},\"type\":\"scatterternary\"}],\"surface\":[{\"colorbar\":{\"outlinewidth\":0,\"ticks\":\"\"},\"colorscale\":[[0.0,\"#0d0887\"],[0.1111111111111111,\"#46039f\"],[0.2222222222222222,\"#7201a8\"],[0.3333333333333333,\"#9c179e\"],[0.4444444444444444,\"#bd3786\"],[0.5555555555555556,\"#d8576b\"],[0.6666666666666666,\"#ed7953\"],[0.7777777777777778,\"#fb9f3a\"],[0.8888888888888888,\"#fdca26\"],[1.0,\"#f0f921\"]],\"type\":\"surface\"}],\"table\":[{\"cells\":{\"fill\":{\"color\":\"#EBF0F8\"},\"line\":{\"color\":\"white\"}},\"header\":{\"fill\":{\"color\":\"#C8D4E3\"},\"line\":{\"color\":\"white\"}},\"type\":\"table\"}]},\"layout\":{\"annotationdefaults\":{\"arrowcolor\":\"#2a3f5f\",\"arrowhead\":0,\"arrowwidth\":1},\"autotypenumbers\":\"strict\",\"coloraxis\":{\"colorbar\":{\"outlinewidth\":0,\"ticks\":\"\"}},\"colorscale\":{\"diverging\":[[0,\"#8e0152\"],[0.1,\"#c51b7d\"],[0.2,\"#de77ae\"],[0.3,\"#f1b6da\"],[0.4,\"#fde0ef\"],[0.5,\"#f7f7f7\"],[0.6,\"#e6f5d0\"],[0.7,\"#b8e186\"],[0.8,\"#7fbc41\"],[0.9,\"#4d9221\"],[1,\"#276419\"]],\"sequential\":[[0.0,\"#0d0887\"],[0.1111111111111111,\"#46039f\"],[0.2222222222222222,\"#7201a8\"],[0.3333333333333333,\"#9c179e\"],[0.4444444444444444,\"#bd3786\"],[0.5555555555555556,\"#d8576b\"],[0.6666666666666666,\"#ed7953\"],[0.7777777777777778,\"#fb9f3a\"],[0.8888888888888888,\"#fdca26\"],[1.0,\"#f0f921\"]],\"sequentialminus\":[[0.0,\"#0d0887\"],[0.1111111111111111,\"#46039f\"],[0.2222222222222222,\"#7201a8\"],[0.3333333333333333,\"#9c179e\"],[0.4444444444444444,\"#bd3786\"],[0.5555555555555556,\"#d8576b\"],[0.6666666666666666,\"#ed7953\"],[0.7777777777777778,\"#fb9f3a\"],[0.8888888888888888,\"#fdca26\"],[1.0,\"#f0f921\"]]},\"colorway\":[\"#636efa\",\"#EF553B\",\"#00cc96\",\"#ab63fa\",\"#FFA15A\",\"#19d3f3\",\"#FF6692\",\"#B6E880\",\"#FF97FF\",\"#FECB52\"],\"font\":{\"color\":\"#2a3f5f\"},\"geo\":{\"bgcolor\":\"white\",\"lakecolor\":\"white\",\"landcolor\":\"#E5ECF6\",\"showlakes\":true,\"showland\":true,\"subunitcolor\":\"white\"},\"hoverlabel\":{\"align\":\"left\"},\"hovermode\":\"closest\",\"mapbox\":{\"style\":\"light\"},\"paper_bgcolor\":\"white\",\"plot_bgcolor\":\"#E5ECF6\",\"polar\":{\"angularaxis\":{\"gridcolor\":\"white\",\"linecolor\":\"white\",\"ticks\":\"\"},\"bgcolor\":\"#E5ECF6\",\"radialaxis\":{\"gridcolor\":\"white\",\"linecolor\":\"white\",\"ticks\":\"\"}},\"scene\":{\"xaxis\":{\"backgroundcolor\":\"#E5ECF6\",\"gridcolor\":\"white\",\"gridwidth\":2,\"linecolor\":\"white\",\"showbackground\":true,\"ticks\":\"\",\"zerolinecolor\":\"white\"},\"yaxis\":{\"backgroundcolor\":\"#E5ECF6\",\"gridcolor\":\"white\",\"gridwidth\":2,\"linecolor\":\"white\",\"showbackground\":true,\"ticks\":\"\",\"zerolinecolor\":\"white\"},\"zaxis\":{\"backgroundcolor\":\"#E5ECF6\",\"gridcolor\":\"white\",\"gridwidth\":2,\"linecolor\":\"white\",\"showbackground\":true,\"ticks\":\"\",\"zerolinecolor\":\"white\"}},\"shapedefaults\":{\"line\":{\"color\":\"#2a3f5f\"}},\"ternary\":{\"aaxis\":{\"gridcolor\":\"white\",\"linecolor\":\"white\",\"ticks\":\"\"},\"baxis\":{\"gridcolor\":\"white\",\"linecolor\":\"white\",\"ticks\":\"\"},\"bgcolor\":\"#E5ECF6\",\"caxis\":{\"gridcolor\":\"white\",\"linecolor\":\"white\",\"ticks\":\"\"}},\"title\":{\"x\":0.05},\"xaxis\":{\"automargin\":true,\"gridcolor\":\"white\",\"linecolor\":\"white\",\"ticks\":\"\",\"title\":{\"standoff\":15},\"zerolinecolor\":\"white\",\"zerolinewidth\":2},\"yaxis\":{\"automargin\":true,\"gridcolor\":\"white\",\"linecolor\":\"white\",\"ticks\":\"\",\"title\":{\"standoff\":15},\"zerolinecolor\":\"white\",\"zerolinewidth\":2}}}},                        {\"responsive\": true}                    ).then(function(){\n",
              "                            \n",
              "var gd = document.getElementById('d0c4a933-e452-49d7-a860-1b3ea326bf22');\n",
              "var x = new MutationObserver(function (mutations, observer) {{\n",
              "        var display = window.getComputedStyle(gd).display;\n",
              "        if (!display || display === 'none') {{\n",
              "            console.log([gd, 'removed!']);\n",
              "            Plotly.purge(gd);\n",
              "            observer.disconnect();\n",
              "        }}\n",
              "}});\n",
              "\n",
              "// Listen for the removal of the full notebook cells\n",
              "var notebookContainer = gd.closest('#notebook-container');\n",
              "if (notebookContainer) {{\n",
              "    x.observe(notebookContainer, {childList: true});\n",
              "}}\n",
              "\n",
              "// Listen for the clearing of the current output cell\n",
              "var outputEl = gd.closest('.output');\n",
              "if (outputEl) {{\n",
              "    x.observe(outputEl, {childList: true});\n",
              "}}\n",
              "\n",
              "                        })                };                            </script>        </div>\n",
              "</body>\n",
              "</html>"
            ]
          },
          "metadata": {}
        }
      ]
    },
    {
      "cell_type": "code",
      "metadata": {
        "id": "zOwZi7Z9ClCJ",
        "colab": {
          "base_uri": "https://localhost:8080/",
          "height": 424
        },
        "outputId": "25ca8c31-b851-4797-b2a8-7e94ad9c114d"
      },
      "source": [
        "gapminder = px.data.gapminder()\n",
        "gapminder\n",
        "# 나라들 마다 인구수/수명 gdp를 조사한 데이터"
      ],
      "execution_count": null,
      "outputs": [
        {
          "output_type": "execute_result",
          "data": {
            "text/plain": [
              "          country continent  year  lifeExp       pop   gdpPercap iso_alpha  \\\n",
              "0     Afghanistan      Asia  1952   28.801   8425333  779.445314       AFG   \n",
              "1     Afghanistan      Asia  1957   30.332   9240934  820.853030       AFG   \n",
              "2     Afghanistan      Asia  1962   31.997  10267083  853.100710       AFG   \n",
              "3     Afghanistan      Asia  1967   34.020  11537966  836.197138       AFG   \n",
              "4     Afghanistan      Asia  1972   36.088  13079460  739.981106       AFG   \n",
              "...           ...       ...   ...      ...       ...         ...       ...   \n",
              "1699     Zimbabwe    Africa  1987   62.351   9216418  706.157306       ZWE   \n",
              "1700     Zimbabwe    Africa  1992   60.377  10704340  693.420786       ZWE   \n",
              "1701     Zimbabwe    Africa  1997   46.809  11404948  792.449960       ZWE   \n",
              "1702     Zimbabwe    Africa  2002   39.989  11926563  672.038623       ZWE   \n",
              "1703     Zimbabwe    Africa  2007   43.487  12311143  469.709298       ZWE   \n",
              "\n",
              "      iso_num  \n",
              "0           4  \n",
              "1           4  \n",
              "2           4  \n",
              "3           4  \n",
              "4           4  \n",
              "...       ...  \n",
              "1699      716  \n",
              "1700      716  \n",
              "1701      716  \n",
              "1702      716  \n",
              "1703      716  \n",
              "\n",
              "[1704 rows x 8 columns]"
            ],
            "text/html": [
              "\n",
              "  <div id=\"df-f1d44c4f-331b-4981-8196-855c58906e0a\">\n",
              "    <div class=\"colab-df-container\">\n",
              "      <div>\n",
              "<style scoped>\n",
              "    .dataframe tbody tr th:only-of-type {\n",
              "        vertical-align: middle;\n",
              "    }\n",
              "\n",
              "    .dataframe tbody tr th {\n",
              "        vertical-align: top;\n",
              "    }\n",
              "\n",
              "    .dataframe thead th {\n",
              "        text-align: right;\n",
              "    }\n",
              "</style>\n",
              "<table border=\"1\" class=\"dataframe\">\n",
              "  <thead>\n",
              "    <tr style=\"text-align: right;\">\n",
              "      <th></th>\n",
              "      <th>country</th>\n",
              "      <th>continent</th>\n",
              "      <th>year</th>\n",
              "      <th>lifeExp</th>\n",
              "      <th>pop</th>\n",
              "      <th>gdpPercap</th>\n",
              "      <th>iso_alpha</th>\n",
              "      <th>iso_num</th>\n",
              "    </tr>\n",
              "  </thead>\n",
              "  <tbody>\n",
              "    <tr>\n",
              "      <th>0</th>\n",
              "      <td>Afghanistan</td>\n",
              "      <td>Asia</td>\n",
              "      <td>1952</td>\n",
              "      <td>28.801</td>\n",
              "      <td>8425333</td>\n",
              "      <td>779.445314</td>\n",
              "      <td>AFG</td>\n",
              "      <td>4</td>\n",
              "    </tr>\n",
              "    <tr>\n",
              "      <th>1</th>\n",
              "      <td>Afghanistan</td>\n",
              "      <td>Asia</td>\n",
              "      <td>1957</td>\n",
              "      <td>30.332</td>\n",
              "      <td>9240934</td>\n",
              "      <td>820.853030</td>\n",
              "      <td>AFG</td>\n",
              "      <td>4</td>\n",
              "    </tr>\n",
              "    <tr>\n",
              "      <th>2</th>\n",
              "      <td>Afghanistan</td>\n",
              "      <td>Asia</td>\n",
              "      <td>1962</td>\n",
              "      <td>31.997</td>\n",
              "      <td>10267083</td>\n",
              "      <td>853.100710</td>\n",
              "      <td>AFG</td>\n",
              "      <td>4</td>\n",
              "    </tr>\n",
              "    <tr>\n",
              "      <th>3</th>\n",
              "      <td>Afghanistan</td>\n",
              "      <td>Asia</td>\n",
              "      <td>1967</td>\n",
              "      <td>34.020</td>\n",
              "      <td>11537966</td>\n",
              "      <td>836.197138</td>\n",
              "      <td>AFG</td>\n",
              "      <td>4</td>\n",
              "    </tr>\n",
              "    <tr>\n",
              "      <th>4</th>\n",
              "      <td>Afghanistan</td>\n",
              "      <td>Asia</td>\n",
              "      <td>1972</td>\n",
              "      <td>36.088</td>\n",
              "      <td>13079460</td>\n",
              "      <td>739.981106</td>\n",
              "      <td>AFG</td>\n",
              "      <td>4</td>\n",
              "    </tr>\n",
              "    <tr>\n",
              "      <th>...</th>\n",
              "      <td>...</td>\n",
              "      <td>...</td>\n",
              "      <td>...</td>\n",
              "      <td>...</td>\n",
              "      <td>...</td>\n",
              "      <td>...</td>\n",
              "      <td>...</td>\n",
              "      <td>...</td>\n",
              "    </tr>\n",
              "    <tr>\n",
              "      <th>1699</th>\n",
              "      <td>Zimbabwe</td>\n",
              "      <td>Africa</td>\n",
              "      <td>1987</td>\n",
              "      <td>62.351</td>\n",
              "      <td>9216418</td>\n",
              "      <td>706.157306</td>\n",
              "      <td>ZWE</td>\n",
              "      <td>716</td>\n",
              "    </tr>\n",
              "    <tr>\n",
              "      <th>1700</th>\n",
              "      <td>Zimbabwe</td>\n",
              "      <td>Africa</td>\n",
              "      <td>1992</td>\n",
              "      <td>60.377</td>\n",
              "      <td>10704340</td>\n",
              "      <td>693.420786</td>\n",
              "      <td>ZWE</td>\n",
              "      <td>716</td>\n",
              "    </tr>\n",
              "    <tr>\n",
              "      <th>1701</th>\n",
              "      <td>Zimbabwe</td>\n",
              "      <td>Africa</td>\n",
              "      <td>1997</td>\n",
              "      <td>46.809</td>\n",
              "      <td>11404948</td>\n",
              "      <td>792.449960</td>\n",
              "      <td>ZWE</td>\n",
              "      <td>716</td>\n",
              "    </tr>\n",
              "    <tr>\n",
              "      <th>1702</th>\n",
              "      <td>Zimbabwe</td>\n",
              "      <td>Africa</td>\n",
              "      <td>2002</td>\n",
              "      <td>39.989</td>\n",
              "      <td>11926563</td>\n",
              "      <td>672.038623</td>\n",
              "      <td>ZWE</td>\n",
              "      <td>716</td>\n",
              "    </tr>\n",
              "    <tr>\n",
              "      <th>1703</th>\n",
              "      <td>Zimbabwe</td>\n",
              "      <td>Africa</td>\n",
              "      <td>2007</td>\n",
              "      <td>43.487</td>\n",
              "      <td>12311143</td>\n",
              "      <td>469.709298</td>\n",
              "      <td>ZWE</td>\n",
              "      <td>716</td>\n",
              "    </tr>\n",
              "  </tbody>\n",
              "</table>\n",
              "<p>1704 rows × 8 columns</p>\n",
              "</div>\n",
              "      <button class=\"colab-df-convert\" onclick=\"convertToInteractive('df-f1d44c4f-331b-4981-8196-855c58906e0a')\"\n",
              "              title=\"Convert this dataframe to an interactive table.\"\n",
              "              style=\"display:none;\">\n",
              "        \n",
              "  <svg xmlns=\"http://www.w3.org/2000/svg\" height=\"24px\"viewBox=\"0 0 24 24\"\n",
              "       width=\"24px\">\n",
              "    <path d=\"M0 0h24v24H0V0z\" fill=\"none\"/>\n",
              "    <path d=\"M18.56 5.44l.94 2.06.94-2.06 2.06-.94-2.06-.94-.94-2.06-.94 2.06-2.06.94zm-11 1L8.5 8.5l.94-2.06 2.06-.94-2.06-.94L8.5 2.5l-.94 2.06-2.06.94zm10 10l.94 2.06.94-2.06 2.06-.94-2.06-.94-.94-2.06-.94 2.06-2.06.94z\"/><path d=\"M17.41 7.96l-1.37-1.37c-.4-.4-.92-.59-1.43-.59-.52 0-1.04.2-1.43.59L10.3 9.45l-7.72 7.72c-.78.78-.78 2.05 0 2.83L4 21.41c.39.39.9.59 1.41.59.51 0 1.02-.2 1.41-.59l7.78-7.78 2.81-2.81c.8-.78.8-2.07 0-2.86zM5.41 20L4 18.59l7.72-7.72 1.47 1.35L5.41 20z\"/>\n",
              "  </svg>\n",
              "      </button>\n",
              "      \n",
              "  <style>\n",
              "    .colab-df-container {\n",
              "      display:flex;\n",
              "      flex-wrap:wrap;\n",
              "      gap: 12px;\n",
              "    }\n",
              "\n",
              "    .colab-df-convert {\n",
              "      background-color: #E8F0FE;\n",
              "      border: none;\n",
              "      border-radius: 50%;\n",
              "      cursor: pointer;\n",
              "      display: none;\n",
              "      fill: #1967D2;\n",
              "      height: 32px;\n",
              "      padding: 0 0 0 0;\n",
              "      width: 32px;\n",
              "    }\n",
              "\n",
              "    .colab-df-convert:hover {\n",
              "      background-color: #E2EBFA;\n",
              "      box-shadow: 0px 1px 2px rgba(60, 64, 67, 0.3), 0px 1px 3px 1px rgba(60, 64, 67, 0.15);\n",
              "      fill: #174EA6;\n",
              "    }\n",
              "\n",
              "    [theme=dark] .colab-df-convert {\n",
              "      background-color: #3B4455;\n",
              "      fill: #D2E3FC;\n",
              "    }\n",
              "\n",
              "    [theme=dark] .colab-df-convert:hover {\n",
              "      background-color: #434B5C;\n",
              "      box-shadow: 0px 1px 3px 1px rgba(0, 0, 0, 0.15);\n",
              "      filter: drop-shadow(0px 1px 2px rgba(0, 0, 0, 0.3));\n",
              "      fill: #FFFFFF;\n",
              "    }\n",
              "  </style>\n",
              "\n",
              "      <script>\n",
              "        const buttonEl =\n",
              "          document.querySelector('#df-f1d44c4f-331b-4981-8196-855c58906e0a button.colab-df-convert');\n",
              "        buttonEl.style.display =\n",
              "          google.colab.kernel.accessAllowed ? 'block' : 'none';\n",
              "\n",
              "        async function convertToInteractive(key) {\n",
              "          const element = document.querySelector('#df-f1d44c4f-331b-4981-8196-855c58906e0a');\n",
              "          const dataTable =\n",
              "            await google.colab.kernel.invokeFunction('convertToInteractive',\n",
              "                                                     [key], {});\n",
              "          if (!dataTable) return;\n",
              "\n",
              "          const docLinkHtml = 'Like what you see? Visit the ' +\n",
              "            '<a target=\"_blank\" href=https://colab.research.google.com/notebooks/data_table.ipynb>data table notebook</a>'\n",
              "            + ' to learn more about interactive tables.';\n",
              "          element.innerHTML = '';\n",
              "          dataTable['output_type'] = 'display_data';\n",
              "          await google.colab.output.renderOutput(dataTable, element);\n",
              "          const docLink = document.createElement('div');\n",
              "          docLink.innerHTML = docLinkHtml;\n",
              "          element.appendChild(docLink);\n",
              "        }\n",
              "      </script>\n",
              "    </div>\n",
              "  </div>\n",
              "  "
            ]
          },
          "metadata": {},
          "execution_count": 16
        }
      ]
    },
    {
      "cell_type": "code",
      "metadata": {
        "id": "L0k4FcyNCmar",
        "colab": {
          "base_uri": "https://localhost:8080/",
          "height": 424
        },
        "outputId": "d7c499f9-c485-4560-f81c-9d1230a2454e"
      },
      "source": [
        "gapminder_2007= gapminder.query(\"year ==2007\")\n",
        "gapminder_2007"
      ],
      "execution_count": null,
      "outputs": [
        {
          "output_type": "execute_result",
          "data": {
            "text/plain": [
              "                 country continent  year  lifeExp       pop     gdpPercap  \\\n",
              "11           Afghanistan      Asia  2007   43.828  31889923    974.580338   \n",
              "23               Albania    Europe  2007   76.423   3600523   5937.029526   \n",
              "35               Algeria    Africa  2007   72.301  33333216   6223.367465   \n",
              "47                Angola    Africa  2007   42.731  12420476   4797.231267   \n",
              "59             Argentina  Americas  2007   75.320  40301927  12779.379640   \n",
              "...                  ...       ...   ...      ...       ...           ...   \n",
              "1655             Vietnam      Asia  2007   74.249  85262356   2441.576404   \n",
              "1667  West Bank and Gaza      Asia  2007   73.422   4018332   3025.349798   \n",
              "1679         Yemen, Rep.      Asia  2007   62.698  22211743   2280.769906   \n",
              "1691              Zambia    Africa  2007   42.384  11746035   1271.211593   \n",
              "1703            Zimbabwe    Africa  2007   43.487  12311143    469.709298   \n",
              "\n",
              "     iso_alpha  iso_num  \n",
              "11         AFG        4  \n",
              "23         ALB        8  \n",
              "35         DZA       12  \n",
              "47         AGO       24  \n",
              "59         ARG       32  \n",
              "...        ...      ...  \n",
              "1655       VNM      704  \n",
              "1667       PSE      275  \n",
              "1679       YEM      887  \n",
              "1691       ZMB      894  \n",
              "1703       ZWE      716  \n",
              "\n",
              "[142 rows x 8 columns]"
            ],
            "text/html": [
              "\n",
              "  <div id=\"df-add84894-cd6b-451e-ad01-6c92bfbddd4d\">\n",
              "    <div class=\"colab-df-container\">\n",
              "      <div>\n",
              "<style scoped>\n",
              "    .dataframe tbody tr th:only-of-type {\n",
              "        vertical-align: middle;\n",
              "    }\n",
              "\n",
              "    .dataframe tbody tr th {\n",
              "        vertical-align: top;\n",
              "    }\n",
              "\n",
              "    .dataframe thead th {\n",
              "        text-align: right;\n",
              "    }\n",
              "</style>\n",
              "<table border=\"1\" class=\"dataframe\">\n",
              "  <thead>\n",
              "    <tr style=\"text-align: right;\">\n",
              "      <th></th>\n",
              "      <th>country</th>\n",
              "      <th>continent</th>\n",
              "      <th>year</th>\n",
              "      <th>lifeExp</th>\n",
              "      <th>pop</th>\n",
              "      <th>gdpPercap</th>\n",
              "      <th>iso_alpha</th>\n",
              "      <th>iso_num</th>\n",
              "    </tr>\n",
              "  </thead>\n",
              "  <tbody>\n",
              "    <tr>\n",
              "      <th>11</th>\n",
              "      <td>Afghanistan</td>\n",
              "      <td>Asia</td>\n",
              "      <td>2007</td>\n",
              "      <td>43.828</td>\n",
              "      <td>31889923</td>\n",
              "      <td>974.580338</td>\n",
              "      <td>AFG</td>\n",
              "      <td>4</td>\n",
              "    </tr>\n",
              "    <tr>\n",
              "      <th>23</th>\n",
              "      <td>Albania</td>\n",
              "      <td>Europe</td>\n",
              "      <td>2007</td>\n",
              "      <td>76.423</td>\n",
              "      <td>3600523</td>\n",
              "      <td>5937.029526</td>\n",
              "      <td>ALB</td>\n",
              "      <td>8</td>\n",
              "    </tr>\n",
              "    <tr>\n",
              "      <th>35</th>\n",
              "      <td>Algeria</td>\n",
              "      <td>Africa</td>\n",
              "      <td>2007</td>\n",
              "      <td>72.301</td>\n",
              "      <td>33333216</td>\n",
              "      <td>6223.367465</td>\n",
              "      <td>DZA</td>\n",
              "      <td>12</td>\n",
              "    </tr>\n",
              "    <tr>\n",
              "      <th>47</th>\n",
              "      <td>Angola</td>\n",
              "      <td>Africa</td>\n",
              "      <td>2007</td>\n",
              "      <td>42.731</td>\n",
              "      <td>12420476</td>\n",
              "      <td>4797.231267</td>\n",
              "      <td>AGO</td>\n",
              "      <td>24</td>\n",
              "    </tr>\n",
              "    <tr>\n",
              "      <th>59</th>\n",
              "      <td>Argentina</td>\n",
              "      <td>Americas</td>\n",
              "      <td>2007</td>\n",
              "      <td>75.320</td>\n",
              "      <td>40301927</td>\n",
              "      <td>12779.379640</td>\n",
              "      <td>ARG</td>\n",
              "      <td>32</td>\n",
              "    </tr>\n",
              "    <tr>\n",
              "      <th>...</th>\n",
              "      <td>...</td>\n",
              "      <td>...</td>\n",
              "      <td>...</td>\n",
              "      <td>...</td>\n",
              "      <td>...</td>\n",
              "      <td>...</td>\n",
              "      <td>...</td>\n",
              "      <td>...</td>\n",
              "    </tr>\n",
              "    <tr>\n",
              "      <th>1655</th>\n",
              "      <td>Vietnam</td>\n",
              "      <td>Asia</td>\n",
              "      <td>2007</td>\n",
              "      <td>74.249</td>\n",
              "      <td>85262356</td>\n",
              "      <td>2441.576404</td>\n",
              "      <td>VNM</td>\n",
              "      <td>704</td>\n",
              "    </tr>\n",
              "    <tr>\n",
              "      <th>1667</th>\n",
              "      <td>West Bank and Gaza</td>\n",
              "      <td>Asia</td>\n",
              "      <td>2007</td>\n",
              "      <td>73.422</td>\n",
              "      <td>4018332</td>\n",
              "      <td>3025.349798</td>\n",
              "      <td>PSE</td>\n",
              "      <td>275</td>\n",
              "    </tr>\n",
              "    <tr>\n",
              "      <th>1679</th>\n",
              "      <td>Yemen, Rep.</td>\n",
              "      <td>Asia</td>\n",
              "      <td>2007</td>\n",
              "      <td>62.698</td>\n",
              "      <td>22211743</td>\n",
              "      <td>2280.769906</td>\n",
              "      <td>YEM</td>\n",
              "      <td>887</td>\n",
              "    </tr>\n",
              "    <tr>\n",
              "      <th>1691</th>\n",
              "      <td>Zambia</td>\n",
              "      <td>Africa</td>\n",
              "      <td>2007</td>\n",
              "      <td>42.384</td>\n",
              "      <td>11746035</td>\n",
              "      <td>1271.211593</td>\n",
              "      <td>ZMB</td>\n",
              "      <td>894</td>\n",
              "    </tr>\n",
              "    <tr>\n",
              "      <th>1703</th>\n",
              "      <td>Zimbabwe</td>\n",
              "      <td>Africa</td>\n",
              "      <td>2007</td>\n",
              "      <td>43.487</td>\n",
              "      <td>12311143</td>\n",
              "      <td>469.709298</td>\n",
              "      <td>ZWE</td>\n",
              "      <td>716</td>\n",
              "    </tr>\n",
              "  </tbody>\n",
              "</table>\n",
              "<p>142 rows × 8 columns</p>\n",
              "</div>\n",
              "      <button class=\"colab-df-convert\" onclick=\"convertToInteractive('df-add84894-cd6b-451e-ad01-6c92bfbddd4d')\"\n",
              "              title=\"Convert this dataframe to an interactive table.\"\n",
              "              style=\"display:none;\">\n",
              "        \n",
              "  <svg xmlns=\"http://www.w3.org/2000/svg\" height=\"24px\"viewBox=\"0 0 24 24\"\n",
              "       width=\"24px\">\n",
              "    <path d=\"M0 0h24v24H0V0z\" fill=\"none\"/>\n",
              "    <path d=\"M18.56 5.44l.94 2.06.94-2.06 2.06-.94-2.06-.94-.94-2.06-.94 2.06-2.06.94zm-11 1L8.5 8.5l.94-2.06 2.06-.94-2.06-.94L8.5 2.5l-.94 2.06-2.06.94zm10 10l.94 2.06.94-2.06 2.06-.94-2.06-.94-.94-2.06-.94 2.06-2.06.94z\"/><path d=\"M17.41 7.96l-1.37-1.37c-.4-.4-.92-.59-1.43-.59-.52 0-1.04.2-1.43.59L10.3 9.45l-7.72 7.72c-.78.78-.78 2.05 0 2.83L4 21.41c.39.39.9.59 1.41.59.51 0 1.02-.2 1.41-.59l7.78-7.78 2.81-2.81c.8-.78.8-2.07 0-2.86zM5.41 20L4 18.59l7.72-7.72 1.47 1.35L5.41 20z\"/>\n",
              "  </svg>\n",
              "      </button>\n",
              "      \n",
              "  <style>\n",
              "    .colab-df-container {\n",
              "      display:flex;\n",
              "      flex-wrap:wrap;\n",
              "      gap: 12px;\n",
              "    }\n",
              "\n",
              "    .colab-df-convert {\n",
              "      background-color: #E8F0FE;\n",
              "      border: none;\n",
              "      border-radius: 50%;\n",
              "      cursor: pointer;\n",
              "      display: none;\n",
              "      fill: #1967D2;\n",
              "      height: 32px;\n",
              "      padding: 0 0 0 0;\n",
              "      width: 32px;\n",
              "    }\n",
              "\n",
              "    .colab-df-convert:hover {\n",
              "      background-color: #E2EBFA;\n",
              "      box-shadow: 0px 1px 2px rgba(60, 64, 67, 0.3), 0px 1px 3px 1px rgba(60, 64, 67, 0.15);\n",
              "      fill: #174EA6;\n",
              "    }\n",
              "\n",
              "    [theme=dark] .colab-df-convert {\n",
              "      background-color: #3B4455;\n",
              "      fill: #D2E3FC;\n",
              "    }\n",
              "\n",
              "    [theme=dark] .colab-df-convert:hover {\n",
              "      background-color: #434B5C;\n",
              "      box-shadow: 0px 1px 3px 1px rgba(0, 0, 0, 0.15);\n",
              "      filter: drop-shadow(0px 1px 2px rgba(0, 0, 0, 0.3));\n",
              "      fill: #FFFFFF;\n",
              "    }\n",
              "  </style>\n",
              "\n",
              "      <script>\n",
              "        const buttonEl =\n",
              "          document.querySelector('#df-add84894-cd6b-451e-ad01-6c92bfbddd4d button.colab-df-convert');\n",
              "        buttonEl.style.display =\n",
              "          google.colab.kernel.accessAllowed ? 'block' : 'none';\n",
              "\n",
              "        async function convertToInteractive(key) {\n",
              "          const element = document.querySelector('#df-add84894-cd6b-451e-ad01-6c92bfbddd4d');\n",
              "          const dataTable =\n",
              "            await google.colab.kernel.invokeFunction('convertToInteractive',\n",
              "                                                     [key], {});\n",
              "          if (!dataTable) return;\n",
              "\n",
              "          const docLinkHtml = 'Like what you see? Visit the ' +\n",
              "            '<a target=\"_blank\" href=https://colab.research.google.com/notebooks/data_table.ipynb>data table notebook</a>'\n",
              "            + ' to learn more about interactive tables.';\n",
              "          element.innerHTML = '';\n",
              "          dataTable['output_type'] = 'display_data';\n",
              "          await google.colab.output.renderOutput(dataTable, element);\n",
              "          const docLink = document.createElement('div');\n",
              "          docLink.innerHTML = docLinkHtml;\n",
              "          element.appendChild(docLink);\n",
              "        }\n",
              "      </script>\n",
              "    </div>\n",
              "  </div>\n",
              "  "
            ]
          },
          "metadata": {},
          "execution_count": 17
        }
      ]
    },
    {
      "cell_type": "code",
      "metadata": {
        "id": "4QryHTKvq-JI",
        "colab": {
          "base_uri": "https://localhost:8080/",
          "height": 542
        },
        "outputId": "436daa61-fd8e-4fd3-b63d-180d7ce6732d"
      },
      "source": [
        "fig = px.scatter(gapminder_2007,\n",
        "                 x='gdpPercap',\n",
        "                 y='lifeExp',\n",
        "                 size='pop', color='continent',\n",
        "                 hover_name='country', log_x=True, size_max=60)\n",
        "fig.show()"
      ],
      "execution_count": null,
      "outputs": [
        {
          "output_type": "display_data",
          "data": {
            "text/html": [
              "<html>\n",
              "<head><meta charset=\"utf-8\" /></head>\n",
              "<body>\n",
              "    <div>            <script src=\"https://cdnjs.cloudflare.com/ajax/libs/mathjax/2.7.5/MathJax.js?config=TeX-AMS-MML_SVG\"></script><script type=\"text/javascript\">if (window.MathJax) {MathJax.Hub.Config({SVG: {font: \"STIX-Web\"}});}</script>                <script type=\"text/javascript\">window.PlotlyConfig = {MathJaxConfig: 'local'};</script>\n",
              "        <script src=\"https://cdn.plot.ly/plotly-2.8.3.min.js\"></script>                <div id=\"b4a2b3dc-71d0-40b7-b4c3-a17c8a896db8\" class=\"plotly-graph-div\" style=\"height:525px; width:100%;\"></div>            <script type=\"text/javascript\">                                    window.PLOTLYENV=window.PLOTLYENV || {};                                    if (document.getElementById(\"b4a2b3dc-71d0-40b7-b4c3-a17c8a896db8\")) {                    Plotly.newPlot(                        \"b4a2b3dc-71d0-40b7-b4c3-a17c8a896db8\",                        [{\"hovertemplate\":\"<b>%{hovertext}</b><br><br>continent=Asia<br>gdpPercap=%{x}<br>lifeExp=%{y}<br>pop=%{marker.size}<extra></extra>\",\"hovertext\":[\"Afghanistan\",\"Bahrain\",\"Bangladesh\",\"Cambodia\",\"China\",\"Hong Kong, China\",\"India\",\"Indonesia\",\"Iran\",\"Iraq\",\"Israel\",\"Japan\",\"Jordan\",\"Korea, Dem. Rep.\",\"Korea, Rep.\",\"Kuwait\",\"Lebanon\",\"Malaysia\",\"Mongolia\",\"Myanmar\",\"Nepal\",\"Oman\",\"Pakistan\",\"Philippines\",\"Saudi Arabia\",\"Singapore\",\"Sri Lanka\",\"Syria\",\"Taiwan\",\"Thailand\",\"Vietnam\",\"West Bank and Gaza\",\"Yemen, Rep.\"],\"legendgroup\":\"Asia\",\"marker\":{\"color\":\"#636efa\",\"size\":[31889923,708573,150448339,14131858,1318683096,6980412,1110396331,223547000,69453570,27499638,6426679,127467972,6053193,23301725,49044790,2505559,3921278,24821286,2874127,47761980,28901790,3204897,169270617,91077287,27601038,4553009,20378239,19314747,23174294,65068149,85262356,4018332,22211743],\"sizemode\":\"area\",\"sizeref\":366300.86,\"symbol\":\"circle\"},\"mode\":\"markers\",\"name\":\"Asia\",\"orientation\":\"v\",\"showlegend\":true,\"x\":[974.5803384,29796.04834,1391.253792,1713.778686,4959.114854,39724.97867,2452.210407,3540.651564,11605.71449,4471.061906,25523.2771,31656.06806,4519.461171,1593.06548,23348.139730000006,47306.98978,10461.05868,12451.6558,3095.7722710000007,944.0,1091.359778,22316.19287,2605.94758,3190.481016,21654.83194,47143.17964,3970.095407,4184.548089,28718.27684,7458.396326999998,2441.576404,3025.349798,2280.769906],\"xaxis\":\"x\",\"y\":[43.828,75.635,64.062,59.723,72.961,82.208,64.69800000000001,70.65,70.964,59.545,80.745,82.603,72.535,67.297,78.623,77.58800000000002,71.993,74.241,66.803,62.069,63.785,75.64,65.483,71.688,72.777,79.972,72.396,74.143,78.4,70.616,74.249,73.422,62.698],\"yaxis\":\"y\",\"type\":\"scatter\"},{\"hovertemplate\":\"<b>%{hovertext}</b><br><br>continent=Europe<br>gdpPercap=%{x}<br>lifeExp=%{y}<br>pop=%{marker.size}<extra></extra>\",\"hovertext\":[\"Albania\",\"Austria\",\"Belgium\",\"Bosnia and Herzegovina\",\"Bulgaria\",\"Croatia\",\"Czech Republic\",\"Denmark\",\"Finland\",\"France\",\"Germany\",\"Greece\",\"Hungary\",\"Iceland\",\"Ireland\",\"Italy\",\"Montenegro\",\"Netherlands\",\"Norway\",\"Poland\",\"Portugal\",\"Romania\",\"Serbia\",\"Slovak Republic\",\"Slovenia\",\"Spain\",\"Sweden\",\"Switzerland\",\"Turkey\",\"United Kingdom\"],\"legendgroup\":\"Europe\",\"marker\":{\"color\":\"#EF553B\",\"size\":[3600523,8199783,10392226,4552198,7322858,4493312,10228744,5468120,5238460,61083916,82400996,10706290,9956108,301931,4109086,58147733,684736,16570613,4627926,38518241,10642836,22276056,10150265,5447502,2009245,40448191,9031088,7554661,71158647,60776238],\"sizemode\":\"area\",\"sizeref\":366300.86,\"symbol\":\"circle\"},\"mode\":\"markers\",\"name\":\"Europe\",\"orientation\":\"v\",\"showlegend\":true,\"x\":[5937.029525999998,36126.4927,33692.60508,7446.298803,10680.79282,14619.222719999998,22833.30851,35278.41874,33207.0844,30470.0167,32170.37442,27538.41188,18008.94444,36180.78919,40675.99635,28569.7197,9253.896111,36797.93332,49357.19017,15389.924680000002,20509.64777,10808.47561,9786.534714,18678.31435,25768.25759,28821.0637,33859.74835,37506.41907,8458.276384,33203.26128],\"xaxis\":\"x\",\"y\":[76.423,79.829,79.441,74.852,73.005,75.748,76.486,78.332,79.313,80.657,79.406,79.483,73.33800000000002,81.757,78.885,80.546,74.543,79.762,80.196,75.563,78.098,72.476,74.002,74.663,77.926,80.941,80.884,81.70100000000002,71.777,79.425],\"yaxis\":\"y\",\"type\":\"scatter\"},{\"hovertemplate\":\"<b>%{hovertext}</b><br><br>continent=Africa<br>gdpPercap=%{x}<br>lifeExp=%{y}<br>pop=%{marker.size}<extra></extra>\",\"hovertext\":[\"Algeria\",\"Angola\",\"Benin\",\"Botswana\",\"Burkina Faso\",\"Burundi\",\"Cameroon\",\"Central African Republic\",\"Chad\",\"Comoros\",\"Congo, Dem. Rep.\",\"Congo, Rep.\",\"Cote d'Ivoire\",\"Djibouti\",\"Egypt\",\"Equatorial Guinea\",\"Eritrea\",\"Ethiopia\",\"Gabon\",\"Gambia\",\"Ghana\",\"Guinea\",\"Guinea-Bissau\",\"Kenya\",\"Lesotho\",\"Liberia\",\"Libya\",\"Madagascar\",\"Malawi\",\"Mali\",\"Mauritania\",\"Mauritius\",\"Morocco\",\"Mozambique\",\"Namibia\",\"Niger\",\"Nigeria\",\"Reunion\",\"Rwanda\",\"Sao Tome and Principe\",\"Senegal\",\"Sierra Leone\",\"Somalia\",\"South Africa\",\"Sudan\",\"Swaziland\",\"Tanzania\",\"Togo\",\"Tunisia\",\"Uganda\",\"Zambia\",\"Zimbabwe\"],\"legendgroup\":\"Africa\",\"marker\":{\"color\":\"#00cc96\",\"size\":[33333216,12420476,8078314,1639131,14326203,8390505,17696293,4369038,10238807,710960,64606759,3800610,18013409,496374,80264543,551201,4906585,76511887,1454867,1688359,22873338,9947814,1472041,35610177,2012649,3193942,6036914,19167654,13327079,12031795,3270065,1250882,33757175,19951656,2055080,12894865,135031164,798094,8860588,199579,12267493,6144562,9118773,43997828,42292929,1133066,38139640,5701579,10276158,29170398,11746035,12311143],\"sizemode\":\"area\",\"sizeref\":366300.86,\"symbol\":\"circle\"},\"mode\":\"markers\",\"name\":\"Africa\",\"orientation\":\"v\",\"showlegend\":true,\"x\":[6223.367465,4797.231267,1441.284873,12569.85177,1217.032994,430.0706916,2042.09524,706.016537,1704.063724,986.1478792,277.5518587,3632.557798,1544.750112,2082.4815670000007,5581.180998,12154.08975,641.3695236000002,690.8055759,13206.48452,752.7497265,1327.60891,942.6542111,579.2317429999998,1463.249282,1569.331442,414.5073415,12057.49928,1044.770126,759.3499101,1042.581557,1803.151496,10956.99112,3820.17523,823.6856205,4811.060429,619.6768923999998,2013.977305,7670.122558,863.0884639000002,1598.435089,1712.472136,862.5407561000002,926.1410683,9269.657808,2602.394995,4513.480643,1107.482182,882.9699437999999,7092.923025,1056.380121,1271.211593,469.70929810000007],\"xaxis\":\"x\",\"y\":[72.301,42.731,56.728,50.728,52.295,49.58,50.43,44.74100000000001,50.651,65.152,46.462,55.322,48.328,54.791,71.33800000000002,51.57899999999999,58.04,52.947,56.735,59.448,60.022,56.007,46.38800000000001,54.11,42.592,45.678,73.952,59.44300000000001,48.303,54.467,64.164,72.801,71.164,42.082,52.90600000000001,56.867,46.859,76.442,46.242,65.528,63.062,42.56800000000001,48.159,49.339,58.556,39.613,52.517,58.42,73.923,51.542,42.38399999999999,43.487],\"yaxis\":\"y\",\"type\":\"scatter\"},{\"hovertemplate\":\"<b>%{hovertext}</b><br><br>continent=Americas<br>gdpPercap=%{x}<br>lifeExp=%{y}<br>pop=%{marker.size}<extra></extra>\",\"hovertext\":[\"Argentina\",\"Bolivia\",\"Brazil\",\"Canada\",\"Chile\",\"Colombia\",\"Costa Rica\",\"Cuba\",\"Dominican Republic\",\"Ecuador\",\"El Salvador\",\"Guatemala\",\"Haiti\",\"Honduras\",\"Jamaica\",\"Mexico\",\"Nicaragua\",\"Panama\",\"Paraguay\",\"Peru\",\"Puerto Rico\",\"Trinidad and Tobago\",\"United States\",\"Uruguay\",\"Venezuela\"],\"legendgroup\":\"Americas\",\"marker\":{\"color\":\"#ab63fa\",\"size\":[40301927,9119152,190010647,33390141,16284741,44227550,4133884,11416987,9319622,13755680,6939688,12572928,8502814,7483763,2780132,108700891,5675356,3242173,6667147,28674757,3942491,1056608,301139947,3447496,26084662],\"sizemode\":\"area\",\"sizeref\":366300.86,\"symbol\":\"circle\"},\"mode\":\"markers\",\"name\":\"Americas\",\"orientation\":\"v\",\"showlegend\":true,\"x\":[12779.37964,3822.137084,9065.800825,36319.23501,13171.63885,7006.580419,9645.06142,8948.102923,6025.3747520000015,6873.262326000001,5728.353514,5186.050003,1201.637154,3548.3308460000007,7320.8802620000015,11977.57496,2749.320965,9809.185636,4172.838464,7408.905561,19328.70901,18008.50924,42951.65309,10611.46299,11415.80569],\"xaxis\":\"x\",\"y\":[75.32,65.554,72.39,80.653,78.553,72.889,78.782,78.273,72.235,74.994,71.878,70.259,60.916,70.19800000000001,72.567,76.195,72.899,75.53699999999998,71.752,71.421,78.74600000000002,69.819,78.242,76.384,73.747],\"yaxis\":\"y\",\"type\":\"scatter\"},{\"hovertemplate\":\"<b>%{hovertext}</b><br><br>continent=Oceania<br>gdpPercap=%{x}<br>lifeExp=%{y}<br>pop=%{marker.size}<extra></extra>\",\"hovertext\":[\"Australia\",\"New Zealand\"],\"legendgroup\":\"Oceania\",\"marker\":{\"color\":\"#FFA15A\",\"size\":[20434176,4115771],\"sizemode\":\"area\",\"sizeref\":366300.86,\"symbol\":\"circle\"},\"mode\":\"markers\",\"name\":\"Oceania\",\"orientation\":\"v\",\"showlegend\":true,\"x\":[34435.367439999995,25185.00911],\"xaxis\":\"x\",\"y\":[81.235,80.204],\"yaxis\":\"y\",\"type\":\"scatter\"}],                        {\"template\":{\"data\":{\"bar\":[{\"error_x\":{\"color\":\"#2a3f5f\"},\"error_y\":{\"color\":\"#2a3f5f\"},\"marker\":{\"line\":{\"color\":\"#E5ECF6\",\"width\":0.5},\"pattern\":{\"fillmode\":\"overlay\",\"size\":10,\"solidity\":0.2}},\"type\":\"bar\"}],\"barpolar\":[{\"marker\":{\"line\":{\"color\":\"#E5ECF6\",\"width\":0.5},\"pattern\":{\"fillmode\":\"overlay\",\"size\":10,\"solidity\":0.2}},\"type\":\"barpolar\"}],\"carpet\":[{\"aaxis\":{\"endlinecolor\":\"#2a3f5f\",\"gridcolor\":\"white\",\"linecolor\":\"white\",\"minorgridcolor\":\"white\",\"startlinecolor\":\"#2a3f5f\"},\"baxis\":{\"endlinecolor\":\"#2a3f5f\",\"gridcolor\":\"white\",\"linecolor\":\"white\",\"minorgridcolor\":\"white\",\"startlinecolor\":\"#2a3f5f\"},\"type\":\"carpet\"}],\"choropleth\":[{\"colorbar\":{\"outlinewidth\":0,\"ticks\":\"\"},\"type\":\"choropleth\"}],\"contour\":[{\"colorbar\":{\"outlinewidth\":0,\"ticks\":\"\"},\"colorscale\":[[0.0,\"#0d0887\"],[0.1111111111111111,\"#46039f\"],[0.2222222222222222,\"#7201a8\"],[0.3333333333333333,\"#9c179e\"],[0.4444444444444444,\"#bd3786\"],[0.5555555555555556,\"#d8576b\"],[0.6666666666666666,\"#ed7953\"],[0.7777777777777778,\"#fb9f3a\"],[0.8888888888888888,\"#fdca26\"],[1.0,\"#f0f921\"]],\"type\":\"contour\"}],\"contourcarpet\":[{\"colorbar\":{\"outlinewidth\":0,\"ticks\":\"\"},\"type\":\"contourcarpet\"}],\"heatmap\":[{\"colorbar\":{\"outlinewidth\":0,\"ticks\":\"\"},\"colorscale\":[[0.0,\"#0d0887\"],[0.1111111111111111,\"#46039f\"],[0.2222222222222222,\"#7201a8\"],[0.3333333333333333,\"#9c179e\"],[0.4444444444444444,\"#bd3786\"],[0.5555555555555556,\"#d8576b\"],[0.6666666666666666,\"#ed7953\"],[0.7777777777777778,\"#fb9f3a\"],[0.8888888888888888,\"#fdca26\"],[1.0,\"#f0f921\"]],\"type\":\"heatmap\"}],\"heatmapgl\":[{\"colorbar\":{\"outlinewidth\":0,\"ticks\":\"\"},\"colorscale\":[[0.0,\"#0d0887\"],[0.1111111111111111,\"#46039f\"],[0.2222222222222222,\"#7201a8\"],[0.3333333333333333,\"#9c179e\"],[0.4444444444444444,\"#bd3786\"],[0.5555555555555556,\"#d8576b\"],[0.6666666666666666,\"#ed7953\"],[0.7777777777777778,\"#fb9f3a\"],[0.8888888888888888,\"#fdca26\"],[1.0,\"#f0f921\"]],\"type\":\"heatmapgl\"}],\"histogram\":[{\"marker\":{\"pattern\":{\"fillmode\":\"overlay\",\"size\":10,\"solidity\":0.2}},\"type\":\"histogram\"}],\"histogram2d\":[{\"colorbar\":{\"outlinewidth\":0,\"ticks\":\"\"},\"colorscale\":[[0.0,\"#0d0887\"],[0.1111111111111111,\"#46039f\"],[0.2222222222222222,\"#7201a8\"],[0.3333333333333333,\"#9c179e\"],[0.4444444444444444,\"#bd3786\"],[0.5555555555555556,\"#d8576b\"],[0.6666666666666666,\"#ed7953\"],[0.7777777777777778,\"#fb9f3a\"],[0.8888888888888888,\"#fdca26\"],[1.0,\"#f0f921\"]],\"type\":\"histogram2d\"}],\"histogram2dcontour\":[{\"colorbar\":{\"outlinewidth\":0,\"ticks\":\"\"},\"colorscale\":[[0.0,\"#0d0887\"],[0.1111111111111111,\"#46039f\"],[0.2222222222222222,\"#7201a8\"],[0.3333333333333333,\"#9c179e\"],[0.4444444444444444,\"#bd3786\"],[0.5555555555555556,\"#d8576b\"],[0.6666666666666666,\"#ed7953\"],[0.7777777777777778,\"#fb9f3a\"],[0.8888888888888888,\"#fdca26\"],[1.0,\"#f0f921\"]],\"type\":\"histogram2dcontour\"}],\"mesh3d\":[{\"colorbar\":{\"outlinewidth\":0,\"ticks\":\"\"},\"type\":\"mesh3d\"}],\"parcoords\":[{\"line\":{\"colorbar\":{\"outlinewidth\":0,\"ticks\":\"\"}},\"type\":\"parcoords\"}],\"pie\":[{\"automargin\":true,\"type\":\"pie\"}],\"scatter\":[{\"marker\":{\"colorbar\":{\"outlinewidth\":0,\"ticks\":\"\"}},\"type\":\"scatter\"}],\"scatter3d\":[{\"line\":{\"colorbar\":{\"outlinewidth\":0,\"ticks\":\"\"}},\"marker\":{\"colorbar\":{\"outlinewidth\":0,\"ticks\":\"\"}},\"type\":\"scatter3d\"}],\"scattercarpet\":[{\"marker\":{\"colorbar\":{\"outlinewidth\":0,\"ticks\":\"\"}},\"type\":\"scattercarpet\"}],\"scattergeo\":[{\"marker\":{\"colorbar\":{\"outlinewidth\":0,\"ticks\":\"\"}},\"type\":\"scattergeo\"}],\"scattergl\":[{\"marker\":{\"colorbar\":{\"outlinewidth\":0,\"ticks\":\"\"}},\"type\":\"scattergl\"}],\"scattermapbox\":[{\"marker\":{\"colorbar\":{\"outlinewidth\":0,\"ticks\":\"\"}},\"type\":\"scattermapbox\"}],\"scatterpolar\":[{\"marker\":{\"colorbar\":{\"outlinewidth\":0,\"ticks\":\"\"}},\"type\":\"scatterpolar\"}],\"scatterpolargl\":[{\"marker\":{\"colorbar\":{\"outlinewidth\":0,\"ticks\":\"\"}},\"type\":\"scatterpolargl\"}],\"scatterternary\":[{\"marker\":{\"colorbar\":{\"outlinewidth\":0,\"ticks\":\"\"}},\"type\":\"scatterternary\"}],\"surface\":[{\"colorbar\":{\"outlinewidth\":0,\"ticks\":\"\"},\"colorscale\":[[0.0,\"#0d0887\"],[0.1111111111111111,\"#46039f\"],[0.2222222222222222,\"#7201a8\"],[0.3333333333333333,\"#9c179e\"],[0.4444444444444444,\"#bd3786\"],[0.5555555555555556,\"#d8576b\"],[0.6666666666666666,\"#ed7953\"],[0.7777777777777778,\"#fb9f3a\"],[0.8888888888888888,\"#fdca26\"],[1.0,\"#f0f921\"]],\"type\":\"surface\"}],\"table\":[{\"cells\":{\"fill\":{\"color\":\"#EBF0F8\"},\"line\":{\"color\":\"white\"}},\"header\":{\"fill\":{\"color\":\"#C8D4E3\"},\"line\":{\"color\":\"white\"}},\"type\":\"table\"}]},\"layout\":{\"annotationdefaults\":{\"arrowcolor\":\"#2a3f5f\",\"arrowhead\":0,\"arrowwidth\":1},\"autotypenumbers\":\"strict\",\"coloraxis\":{\"colorbar\":{\"outlinewidth\":0,\"ticks\":\"\"}},\"colorscale\":{\"diverging\":[[0,\"#8e0152\"],[0.1,\"#c51b7d\"],[0.2,\"#de77ae\"],[0.3,\"#f1b6da\"],[0.4,\"#fde0ef\"],[0.5,\"#f7f7f7\"],[0.6,\"#e6f5d0\"],[0.7,\"#b8e186\"],[0.8,\"#7fbc41\"],[0.9,\"#4d9221\"],[1,\"#276419\"]],\"sequential\":[[0.0,\"#0d0887\"],[0.1111111111111111,\"#46039f\"],[0.2222222222222222,\"#7201a8\"],[0.3333333333333333,\"#9c179e\"],[0.4444444444444444,\"#bd3786\"],[0.5555555555555556,\"#d8576b\"],[0.6666666666666666,\"#ed7953\"],[0.7777777777777778,\"#fb9f3a\"],[0.8888888888888888,\"#fdca26\"],[1.0,\"#f0f921\"]],\"sequentialminus\":[[0.0,\"#0d0887\"],[0.1111111111111111,\"#46039f\"],[0.2222222222222222,\"#7201a8\"],[0.3333333333333333,\"#9c179e\"],[0.4444444444444444,\"#bd3786\"],[0.5555555555555556,\"#d8576b\"],[0.6666666666666666,\"#ed7953\"],[0.7777777777777778,\"#fb9f3a\"],[0.8888888888888888,\"#fdca26\"],[1.0,\"#f0f921\"]]},\"colorway\":[\"#636efa\",\"#EF553B\",\"#00cc96\",\"#ab63fa\",\"#FFA15A\",\"#19d3f3\",\"#FF6692\",\"#B6E880\",\"#FF97FF\",\"#FECB52\"],\"font\":{\"color\":\"#2a3f5f\"},\"geo\":{\"bgcolor\":\"white\",\"lakecolor\":\"white\",\"landcolor\":\"#E5ECF6\",\"showlakes\":true,\"showland\":true,\"subunitcolor\":\"white\"},\"hoverlabel\":{\"align\":\"left\"},\"hovermode\":\"closest\",\"mapbox\":{\"style\":\"light\"},\"paper_bgcolor\":\"white\",\"plot_bgcolor\":\"#E5ECF6\",\"polar\":{\"angularaxis\":{\"gridcolor\":\"white\",\"linecolor\":\"white\",\"ticks\":\"\"},\"bgcolor\":\"#E5ECF6\",\"radialaxis\":{\"gridcolor\":\"white\",\"linecolor\":\"white\",\"ticks\":\"\"}},\"scene\":{\"xaxis\":{\"backgroundcolor\":\"#E5ECF6\",\"gridcolor\":\"white\",\"gridwidth\":2,\"linecolor\":\"white\",\"showbackground\":true,\"ticks\":\"\",\"zerolinecolor\":\"white\"},\"yaxis\":{\"backgroundcolor\":\"#E5ECF6\",\"gridcolor\":\"white\",\"gridwidth\":2,\"linecolor\":\"white\",\"showbackground\":true,\"ticks\":\"\",\"zerolinecolor\":\"white\"},\"zaxis\":{\"backgroundcolor\":\"#E5ECF6\",\"gridcolor\":\"white\",\"gridwidth\":2,\"linecolor\":\"white\",\"showbackground\":true,\"ticks\":\"\",\"zerolinecolor\":\"white\"}},\"shapedefaults\":{\"line\":{\"color\":\"#2a3f5f\"}},\"ternary\":{\"aaxis\":{\"gridcolor\":\"white\",\"linecolor\":\"white\",\"ticks\":\"\"},\"baxis\":{\"gridcolor\":\"white\",\"linecolor\":\"white\",\"ticks\":\"\"},\"bgcolor\":\"#E5ECF6\",\"caxis\":{\"gridcolor\":\"white\",\"linecolor\":\"white\",\"ticks\":\"\"}},\"title\":{\"x\":0.05},\"xaxis\":{\"automargin\":true,\"gridcolor\":\"white\",\"linecolor\":\"white\",\"ticks\":\"\",\"title\":{\"standoff\":15},\"zerolinecolor\":\"white\",\"zerolinewidth\":2},\"yaxis\":{\"automargin\":true,\"gridcolor\":\"white\",\"linecolor\":\"white\",\"ticks\":\"\",\"title\":{\"standoff\":15},\"zerolinecolor\":\"white\",\"zerolinewidth\":2}}},\"xaxis\":{\"anchor\":\"y\",\"domain\":[0.0,1.0],\"title\":{\"text\":\"gdpPercap\"},\"type\":\"log\"},\"yaxis\":{\"anchor\":\"x\",\"domain\":[0.0,1.0],\"title\":{\"text\":\"lifeExp\"}},\"legend\":{\"title\":{\"text\":\"continent\"},\"tracegroupgap\":0,\"itemsizing\":\"constant\"},\"margin\":{\"t\":60}},                        {\"responsive\": true}                    ).then(function(){\n",
              "                            \n",
              "var gd = document.getElementById('b4a2b3dc-71d0-40b7-b4c3-a17c8a896db8');\n",
              "var x = new MutationObserver(function (mutations, observer) {{\n",
              "        var display = window.getComputedStyle(gd).display;\n",
              "        if (!display || display === 'none') {{\n",
              "            console.log([gd, 'removed!']);\n",
              "            Plotly.purge(gd);\n",
              "            observer.disconnect();\n",
              "        }}\n",
              "}});\n",
              "\n",
              "// Listen for the removal of the full notebook cells\n",
              "var notebookContainer = gd.closest('#notebook-container');\n",
              "if (notebookContainer) {{\n",
              "    x.observe(notebookContainer, {childList: true});\n",
              "}}\n",
              "\n",
              "// Listen for the clearing of the current output cell\n",
              "var outputEl = gd.closest('.output');\n",
              "if (outputEl) {{\n",
              "    x.observe(outputEl, {childList: true});\n",
              "}}\n",
              "\n",
              "                        })                };                            </script>        </div>\n",
              "</body>\n",
              "</html>"
            ]
          },
          "metadata": {}
        }
      ]
    },
    {
      "cell_type": "code",
      "source": [
        "fig = px.scatter(gapminder_2007,\n",
        "                 x='gdpPercap',\n",
        "                 y='lifeExp',\n",
        "                 color='continent',\n",
        "                trendline='lowess')\n",
        "fig.show()"
      ],
      "metadata": {
        "colab": {
          "base_uri": "https://localhost:8080/",
          "height": 615
        },
        "id": "px8GtqHa8XIw",
        "outputId": "b614401a-1628-4746-83b7-1f0223554f8f"
      },
      "execution_count": null,
      "outputs": [
        {
          "output_type": "stream",
          "name": "stderr",
          "text": [
            "/usr/local/lib/python3.7/dist-packages/statsmodels/tools/_testing.py:19: FutureWarning:\n",
            "\n",
            "pandas.util.testing is deprecated. Use the functions in the public API at pandas.testing instead.\n",
            "\n"
          ]
        },
        {
          "output_type": "display_data",
          "data": {
            "text/html": [
              "<html>\n",
              "<head><meta charset=\"utf-8\" /></head>\n",
              "<body>\n",
              "    <div>            <script src=\"https://cdnjs.cloudflare.com/ajax/libs/mathjax/2.7.5/MathJax.js?config=TeX-AMS-MML_SVG\"></script><script type=\"text/javascript\">if (window.MathJax) {MathJax.Hub.Config({SVG: {font: \"STIX-Web\"}});}</script>                <script type=\"text/javascript\">window.PlotlyConfig = {MathJaxConfig: 'local'};</script>\n",
              "        <script src=\"https://cdn.plot.ly/plotly-2.8.3.min.js\"></script>                <div id=\"5490ca61-b4ae-4422-bbc6-ac259c566d81\" class=\"plotly-graph-div\" style=\"height:525px; width:100%;\"></div>            <script type=\"text/javascript\">                                    window.PLOTLYENV=window.PLOTLYENV || {};                                    if (document.getElementById(\"5490ca61-b4ae-4422-bbc6-ac259c566d81\")) {                    Plotly.newPlot(                        \"5490ca61-b4ae-4422-bbc6-ac259c566d81\",                        [{\"hovertemplate\":\"continent=Asia<br>gdpPercap=%{x}<br>lifeExp=%{y}<extra></extra>\",\"legendgroup\":\"Asia\",\"marker\":{\"color\":\"#636efa\",\"symbol\":\"circle\"},\"mode\":\"markers\",\"name\":\"Asia\",\"orientation\":\"v\",\"showlegend\":true,\"x\":[974.5803384,29796.04834,1391.253792,1713.778686,4959.114854,39724.97867,2452.210407,3540.651564,11605.71449,4471.061906,25523.2771,31656.06806,4519.461171,1593.06548,23348.139730000006,47306.98978,10461.05868,12451.6558,3095.7722710000007,944.0,1091.359778,22316.19287,2605.94758,3190.481016,21654.83194,47143.17964,3970.095407,4184.548089,28718.27684,7458.396326999998,2441.576404,3025.349798,2280.769906],\"xaxis\":\"x\",\"y\":[43.828,75.635,64.062,59.723,72.961,82.208,64.69800000000001,70.65,70.964,59.545,80.745,82.603,72.535,67.297,78.623,77.58800000000002,71.993,74.241,66.803,62.069,63.785,75.64,65.483,71.688,72.777,79.972,72.396,74.143,78.4,70.616,74.249,73.422,62.698],\"yaxis\":\"y\",\"type\":\"scatter\"},{\"hovertemplate\":\"<b>LOWESS trendline</b><br><br>continent=Asia<br>gdpPercap=%{x}<br>lifeExp=%{y} <b>(trend)</b><extra></extra>\",\"legendgroup\":\"Asia\",\"marker\":{\"color\":\"#636efa\",\"symbol\":\"circle\"},\"mode\":\"lines\",\"name\":\"Asia\",\"showlegend\":false,\"x\":[944.0,974.5803384,1091.359778,1391.253792,1593.06548,1713.778686,2280.769906,2441.576404,2452.210407,2605.94758,3025.349798,3095.7722710000007,3190.481016,3540.651564,3970.095407,4184.548089,4471.061906,4519.461171,4959.114854,7458.396326999998,10461.05868,11605.71449,12451.6558,21654.83194,22316.19287,23348.139730000006,25523.2771,28718.27684,29796.04834,31656.06806,39724.97867,47143.17964,47306.98978],\"xaxis\":\"x\",\"y\":[63.293886991286264,63.37180323798982,63.66825699471393,64.42121856397573,64.92066104772039,65.21640928611941,66.57260797929858,66.94661120172937,66.97116881289385,67.32372409145829,68.26104025907517,68.41477349539328,68.61979267586642,69.35950737182951,70.22108901957594,70.62762582315739,71.1367143621109,71.21778329803118,71.85370707191879,71.65043282306833,72.2423387991922,72.40167033184579,72.49015861213934,76.08074947722979,76.32786482261557,76.70984617344499,77.5036072174069,78.1113304793652,78.22914918331747,78.45284879564116,79.55728789617686,80.50140979364167,80.52014249226288],\"yaxis\":\"y\",\"type\":\"scatter\"},{\"hovertemplate\":\"continent=Europe<br>gdpPercap=%{x}<br>lifeExp=%{y}<extra></extra>\",\"legendgroup\":\"Europe\",\"marker\":{\"color\":\"#EF553B\",\"symbol\":\"circle\"},\"mode\":\"markers\",\"name\":\"Europe\",\"orientation\":\"v\",\"showlegend\":true,\"x\":[5937.029525999998,36126.4927,33692.60508,7446.298803,10680.79282,14619.222719999998,22833.30851,35278.41874,33207.0844,30470.0167,32170.37442,27538.41188,18008.94444,36180.78919,40675.99635,28569.7197,9253.896111,36797.93332,49357.19017,15389.924680000002,20509.64777,10808.47561,9786.534714,18678.31435,25768.25759,28821.0637,33859.74835,37506.41907,8458.276384,33203.26128],\"xaxis\":\"x\",\"y\":[76.423,79.829,79.441,74.852,73.005,75.748,76.486,78.332,79.313,80.657,79.406,79.483,73.33800000000002,81.757,78.885,80.546,74.543,79.762,80.196,75.563,78.098,72.476,74.002,74.663,77.926,80.941,80.884,81.70100000000002,71.777,79.425],\"yaxis\":\"y\",\"type\":\"scatter\"},{\"hovertemplate\":\"<b>LOWESS trendline</b><br><br>continent=Europe<br>gdpPercap=%{x}<br>lifeExp=%{y} <b>(trend)</b><extra></extra>\",\"legendgroup\":\"Europe\",\"marker\":{\"color\":\"#EF553B\",\"symbol\":\"circle\"},\"mode\":\"lines\",\"name\":\"Europe\",\"showlegend\":false,\"x\":[5937.029525999998,7446.298803,8458.276384,9253.896111,9786.534714,10680.79282,10808.47561,14619.222719999998,15389.924680000002,18008.94444,18678.31435,20509.64777,22833.30851,25768.25759,27538.41188,28569.7197,28821.0637,30470.0167,32170.37442,33203.26128,33207.0844,33692.60508,33859.74835,35278.41874,36126.4927,36180.78919,36797.93332,37506.41907,40675.99635,49357.19017],\"xaxis\":\"x\",\"y\":[73.2965702642522,73.56660209129814,73.75497959897756,73.90658658164342,74.00966612803148,74.18535579679077,74.21069214849216,75.00368009954745,75.17673424528174,75.81288122606189,75.99025434640438,76.58116676734605,77.37059098219397,78.37512479175597,79.07007960320784,79.27478632787938,79.31450040012473,79.59544099434429,79.79047555094274,79.86836745630204,79.86861239225796,79.89762917155349,79.90675223176474,79.96137381197818,79.96751242033498,79.96783952618692,79.97204398271242,79.97869014012998,80.02027178442225,80.10018943050073],\"yaxis\":\"y\",\"type\":\"scatter\"},{\"hovertemplate\":\"continent=Africa<br>gdpPercap=%{x}<br>lifeExp=%{y}<extra></extra>\",\"legendgroup\":\"Africa\",\"marker\":{\"color\":\"#00cc96\",\"symbol\":\"circle\"},\"mode\":\"markers\",\"name\":\"Africa\",\"orientation\":\"v\",\"showlegend\":true,\"x\":[6223.367465,4797.231267,1441.284873,12569.85177,1217.032994,430.0706916,2042.09524,706.016537,1704.063724,986.1478792,277.5518587,3632.557798,1544.750112,2082.4815670000007,5581.180998,12154.08975,641.3695236000002,690.8055759,13206.48452,752.7497265,1327.60891,942.6542111,579.2317429999998,1463.249282,1569.331442,414.5073415,12057.49928,1044.770126,759.3499101,1042.581557,1803.151496,10956.99112,3820.17523,823.6856205,4811.060429,619.6768923999998,2013.977305,7670.122558,863.0884639000002,1598.435089,1712.472136,862.5407561000002,926.1410683,9269.657808,2602.394995,4513.480643,1107.482182,882.9699437999999,7092.923025,1056.380121,1271.211593,469.70929810000007],\"xaxis\":\"x\",\"y\":[72.301,42.731,56.728,50.728,52.295,49.58,50.43,44.74100000000001,50.651,65.152,46.462,55.322,48.328,54.791,71.33800000000002,51.57899999999999,58.04,52.947,56.735,59.448,60.022,56.007,46.38800000000001,54.11,42.592,45.678,73.952,59.44300000000001,48.303,54.467,64.164,72.801,71.164,42.082,52.90600000000001,56.867,46.859,76.442,46.242,65.528,63.062,42.56800000000001,48.159,49.339,58.556,39.613,52.517,58.42,73.923,51.542,42.38399999999999,43.487],\"yaxis\":\"y\",\"type\":\"scatter\"},{\"hovertemplate\":\"<b>LOWESS trendline</b><br><br>continent=Africa<br>gdpPercap=%{x}<br>lifeExp=%{y} <b>(trend)</b><extra></extra>\",\"legendgroup\":\"Africa\",\"marker\":{\"color\":\"#00cc96\",\"symbol\":\"circle\"},\"mode\":\"lines\",\"name\":\"Africa\",\"showlegend\":false,\"x\":[277.5518587,414.5073415,430.0706916,469.70929810000007,579.2317429999998,619.6768923999998,641.3695236000002,690.8055759,706.016537,752.7497265,759.3499101,823.6856205,862.5407561000002,863.0884639000002,882.9699437999999,926.1410683,942.6542111,986.1478792,1042.581557,1044.770126,1056.380121,1107.482182,1217.032994,1271.211593,1327.60891,1441.284873,1463.249282,1544.750112,1569.331442,1598.435089,1704.063724,1712.472136,1803.151496,2013.977305,2042.09524,2082.4815670000007,2602.394995,3632.557798,3820.17523,4513.480643,4797.231267,4811.060429,5581.180998,6223.367465,7092.923025,7670.122558,9269.657808,10956.99112,12057.49928,12154.08975,12569.85177,13206.48452],\"xaxis\":\"x\",\"y\":[47.445989424454204,48.429594603960886,48.53880228264298,48.81448665814591,49.55893429403798,49.828455562527175,49.97209119863573,50.29720991280846,50.396583890356496,50.699709587453604,50.74224105354238,51.15247648233921,51.39556955633462,51.39896715889299,51.52172748825481,51.78444229892366,51.88348735277527,52.140364430521096,52.46383815155265,52.476111121231355,52.540819198316846,52.81611421232966,53.373801985509786,53.66975633358004,53.83810064952666,53.89267952367601,53.896758546397976,53.94901197331361,53.95533504302042,53.971574138813914,54.127141906531705,54.14476310310485,54.359867748828265,54.88753024869796,54.95177799277643,55.000487644669086,56.890220719666324,54.90413244143164,55.7456243966209,59.25036619538742,60.7642873308371,60.833727284599334,63.52879871334149,63.833698838518444,64.0054102948344,63.217121452733885,62.078531232176594,61.22906010800776,60.53781719785818,60.47055732465723,60.16714643452881,59.657792381488655],\"yaxis\":\"y\",\"type\":\"scatter\"},{\"hovertemplate\":\"continent=Americas<br>gdpPercap=%{x}<br>lifeExp=%{y}<extra></extra>\",\"legendgroup\":\"Americas\",\"marker\":{\"color\":\"#ab63fa\",\"symbol\":\"circle\"},\"mode\":\"markers\",\"name\":\"Americas\",\"orientation\":\"v\",\"showlegend\":true,\"x\":[12779.37964,3822.137084,9065.800825,36319.23501,13171.63885,7006.580419,9645.06142,8948.102923,6025.3747520000015,6873.262326000001,5728.353514,5186.050003,1201.637154,3548.3308460000007,7320.8802620000015,11977.57496,2749.320965,9809.185636,4172.838464,7408.905561,19328.70901,18008.50924,42951.65309,10611.46299,11415.80569],\"xaxis\":\"x\",\"y\":[75.32,65.554,72.39,80.653,78.553,72.889,78.782,78.273,72.235,74.994,71.878,70.259,60.916,70.19800000000001,72.567,76.195,72.899,75.53699999999998,71.752,71.421,78.74600000000002,69.819,78.242,76.384,73.747],\"yaxis\":\"y\",\"type\":\"scatter\"},{\"hovertemplate\":\"<b>LOWESS trendline</b><br><br>continent=Americas<br>gdpPercap=%{x}<br>lifeExp=%{y} <b>(trend)</b><extra></extra>\",\"legendgroup\":\"Americas\",\"marker\":{\"color\":\"#ab63fa\",\"symbol\":\"circle\"},\"mode\":\"lines\",\"name\":\"Americas\",\"showlegend\":false,\"x\":[1201.637154,2749.320965,3548.3308460000007,3822.137084,4172.838464,5186.050003,5728.353514,6025.3747520000015,6873.262326000001,7006.580419,7320.8802620000015,7408.905561,8948.102923,9065.800825,9645.06142,9809.185636,10611.46299,11415.80569,11977.57496,12779.37964,13171.63885,18008.50924,19328.70901,36319.23501,42951.65309],\"xaxis\":\"x\",\"y\":[64.7027991069811,67.23839099249004,68.54756606232581,69.00406028299844,69.59212838313027,71.13433266837825,71.63917040807148,71.93626201756256,72.86437529581188,73.02800728666543,73.40622812196662,73.50974432891381,74.83227781834017,74.92822797816217,75.1776343275197,75.25347172000818,75.68169744817666,76.09979162007566,76.32179037548887,76.05142954528601,75.72863635392555,75.79137727853251,75.75502894037591,78.78042592234658,79.57193072671325],\"yaxis\":\"y\",\"type\":\"scatter\"},{\"hovertemplate\":\"continent=Oceania<br>gdpPercap=%{x}<br>lifeExp=%{y}<extra></extra>\",\"legendgroup\":\"Oceania\",\"marker\":{\"color\":\"#FFA15A\",\"symbol\":\"circle\"},\"mode\":\"markers\",\"name\":\"Oceania\",\"orientation\":\"v\",\"showlegend\":true,\"x\":[34435.367439999995,25185.00911],\"xaxis\":\"x\",\"y\":[81.235,80.204],\"yaxis\":\"y\",\"type\":\"scatter\"},{\"hovertemplate\":\"<b>LOWESS trendline</b><br><br>continent=Oceania<br>gdpPercap=%{x}<br>lifeExp=%{y} <b>(trend)</b><extra></extra>\",\"legendgroup\":\"Oceania\",\"marker\":{\"color\":\"#FFA15A\",\"symbol\":\"circle\"},\"mode\":\"lines\",\"name\":\"Oceania\",\"showlegend\":false,\"x\":[25185.00911,34435.367439999995],\"xaxis\":\"x\",\"y\":[80.204,81.235],\"yaxis\":\"y\",\"type\":\"scatter\"}],                        {\"template\":{\"data\":{\"bar\":[{\"error_x\":{\"color\":\"#2a3f5f\"},\"error_y\":{\"color\":\"#2a3f5f\"},\"marker\":{\"line\":{\"color\":\"#E5ECF6\",\"width\":0.5},\"pattern\":{\"fillmode\":\"overlay\",\"size\":10,\"solidity\":0.2}},\"type\":\"bar\"}],\"barpolar\":[{\"marker\":{\"line\":{\"color\":\"#E5ECF6\",\"width\":0.5},\"pattern\":{\"fillmode\":\"overlay\",\"size\":10,\"solidity\":0.2}},\"type\":\"barpolar\"}],\"carpet\":[{\"aaxis\":{\"endlinecolor\":\"#2a3f5f\",\"gridcolor\":\"white\",\"linecolor\":\"white\",\"minorgridcolor\":\"white\",\"startlinecolor\":\"#2a3f5f\"},\"baxis\":{\"endlinecolor\":\"#2a3f5f\",\"gridcolor\":\"white\",\"linecolor\":\"white\",\"minorgridcolor\":\"white\",\"startlinecolor\":\"#2a3f5f\"},\"type\":\"carpet\"}],\"choropleth\":[{\"colorbar\":{\"outlinewidth\":0,\"ticks\":\"\"},\"type\":\"choropleth\"}],\"contour\":[{\"colorbar\":{\"outlinewidth\":0,\"ticks\":\"\"},\"colorscale\":[[0.0,\"#0d0887\"],[0.1111111111111111,\"#46039f\"],[0.2222222222222222,\"#7201a8\"],[0.3333333333333333,\"#9c179e\"],[0.4444444444444444,\"#bd3786\"],[0.5555555555555556,\"#d8576b\"],[0.6666666666666666,\"#ed7953\"],[0.7777777777777778,\"#fb9f3a\"],[0.8888888888888888,\"#fdca26\"],[1.0,\"#f0f921\"]],\"type\":\"contour\"}],\"contourcarpet\":[{\"colorbar\":{\"outlinewidth\":0,\"ticks\":\"\"},\"type\":\"contourcarpet\"}],\"heatmap\":[{\"colorbar\":{\"outlinewidth\":0,\"ticks\":\"\"},\"colorscale\":[[0.0,\"#0d0887\"],[0.1111111111111111,\"#46039f\"],[0.2222222222222222,\"#7201a8\"],[0.3333333333333333,\"#9c179e\"],[0.4444444444444444,\"#bd3786\"],[0.5555555555555556,\"#d8576b\"],[0.6666666666666666,\"#ed7953\"],[0.7777777777777778,\"#fb9f3a\"],[0.8888888888888888,\"#fdca26\"],[1.0,\"#f0f921\"]],\"type\":\"heatmap\"}],\"heatmapgl\":[{\"colorbar\":{\"outlinewidth\":0,\"ticks\":\"\"},\"colorscale\":[[0.0,\"#0d0887\"],[0.1111111111111111,\"#46039f\"],[0.2222222222222222,\"#7201a8\"],[0.3333333333333333,\"#9c179e\"],[0.4444444444444444,\"#bd3786\"],[0.5555555555555556,\"#d8576b\"],[0.6666666666666666,\"#ed7953\"],[0.7777777777777778,\"#fb9f3a\"],[0.8888888888888888,\"#fdca26\"],[1.0,\"#f0f921\"]],\"type\":\"heatmapgl\"}],\"histogram\":[{\"marker\":{\"pattern\":{\"fillmode\":\"overlay\",\"size\":10,\"solidity\":0.2}},\"type\":\"histogram\"}],\"histogram2d\":[{\"colorbar\":{\"outlinewidth\":0,\"ticks\":\"\"},\"colorscale\":[[0.0,\"#0d0887\"],[0.1111111111111111,\"#46039f\"],[0.2222222222222222,\"#7201a8\"],[0.3333333333333333,\"#9c179e\"],[0.4444444444444444,\"#bd3786\"],[0.5555555555555556,\"#d8576b\"],[0.6666666666666666,\"#ed7953\"],[0.7777777777777778,\"#fb9f3a\"],[0.8888888888888888,\"#fdca26\"],[1.0,\"#f0f921\"]],\"type\":\"histogram2d\"}],\"histogram2dcontour\":[{\"colorbar\":{\"outlinewidth\":0,\"ticks\":\"\"},\"colorscale\":[[0.0,\"#0d0887\"],[0.1111111111111111,\"#46039f\"],[0.2222222222222222,\"#7201a8\"],[0.3333333333333333,\"#9c179e\"],[0.4444444444444444,\"#bd3786\"],[0.5555555555555556,\"#d8576b\"],[0.6666666666666666,\"#ed7953\"],[0.7777777777777778,\"#fb9f3a\"],[0.8888888888888888,\"#fdca26\"],[1.0,\"#f0f921\"]],\"type\":\"histogram2dcontour\"}],\"mesh3d\":[{\"colorbar\":{\"outlinewidth\":0,\"ticks\":\"\"},\"type\":\"mesh3d\"}],\"parcoords\":[{\"line\":{\"colorbar\":{\"outlinewidth\":0,\"ticks\":\"\"}},\"type\":\"parcoords\"}],\"pie\":[{\"automargin\":true,\"type\":\"pie\"}],\"scatter\":[{\"marker\":{\"colorbar\":{\"outlinewidth\":0,\"ticks\":\"\"}},\"type\":\"scatter\"}],\"scatter3d\":[{\"line\":{\"colorbar\":{\"outlinewidth\":0,\"ticks\":\"\"}},\"marker\":{\"colorbar\":{\"outlinewidth\":0,\"ticks\":\"\"}},\"type\":\"scatter3d\"}],\"scattercarpet\":[{\"marker\":{\"colorbar\":{\"outlinewidth\":0,\"ticks\":\"\"}},\"type\":\"scattercarpet\"}],\"scattergeo\":[{\"marker\":{\"colorbar\":{\"outlinewidth\":0,\"ticks\":\"\"}},\"type\":\"scattergeo\"}],\"scattergl\":[{\"marker\":{\"colorbar\":{\"outlinewidth\":0,\"ticks\":\"\"}},\"type\":\"scattergl\"}],\"scattermapbox\":[{\"marker\":{\"colorbar\":{\"outlinewidth\":0,\"ticks\":\"\"}},\"type\":\"scattermapbox\"}],\"scatterpolar\":[{\"marker\":{\"colorbar\":{\"outlinewidth\":0,\"ticks\":\"\"}},\"type\":\"scatterpolar\"}],\"scatterpolargl\":[{\"marker\":{\"colorbar\":{\"outlinewidth\":0,\"ticks\":\"\"}},\"type\":\"scatterpolargl\"}],\"scatterternary\":[{\"marker\":{\"colorbar\":{\"outlinewidth\":0,\"ticks\":\"\"}},\"type\":\"scatterternary\"}],\"surface\":[{\"colorbar\":{\"outlinewidth\":0,\"ticks\":\"\"},\"colorscale\":[[0.0,\"#0d0887\"],[0.1111111111111111,\"#46039f\"],[0.2222222222222222,\"#7201a8\"],[0.3333333333333333,\"#9c179e\"],[0.4444444444444444,\"#bd3786\"],[0.5555555555555556,\"#d8576b\"],[0.6666666666666666,\"#ed7953\"],[0.7777777777777778,\"#fb9f3a\"],[0.8888888888888888,\"#fdca26\"],[1.0,\"#f0f921\"]],\"type\":\"surface\"}],\"table\":[{\"cells\":{\"fill\":{\"color\":\"#EBF0F8\"},\"line\":{\"color\":\"white\"}},\"header\":{\"fill\":{\"color\":\"#C8D4E3\"},\"line\":{\"color\":\"white\"}},\"type\":\"table\"}]},\"layout\":{\"annotationdefaults\":{\"arrowcolor\":\"#2a3f5f\",\"arrowhead\":0,\"arrowwidth\":1},\"autotypenumbers\":\"strict\",\"coloraxis\":{\"colorbar\":{\"outlinewidth\":0,\"ticks\":\"\"}},\"colorscale\":{\"diverging\":[[0,\"#8e0152\"],[0.1,\"#c51b7d\"],[0.2,\"#de77ae\"],[0.3,\"#f1b6da\"],[0.4,\"#fde0ef\"],[0.5,\"#f7f7f7\"],[0.6,\"#e6f5d0\"],[0.7,\"#b8e186\"],[0.8,\"#7fbc41\"],[0.9,\"#4d9221\"],[1,\"#276419\"]],\"sequential\":[[0.0,\"#0d0887\"],[0.1111111111111111,\"#46039f\"],[0.2222222222222222,\"#7201a8\"],[0.3333333333333333,\"#9c179e\"],[0.4444444444444444,\"#bd3786\"],[0.5555555555555556,\"#d8576b\"],[0.6666666666666666,\"#ed7953\"],[0.7777777777777778,\"#fb9f3a\"],[0.8888888888888888,\"#fdca26\"],[1.0,\"#f0f921\"]],\"sequentialminus\":[[0.0,\"#0d0887\"],[0.1111111111111111,\"#46039f\"],[0.2222222222222222,\"#7201a8\"],[0.3333333333333333,\"#9c179e\"],[0.4444444444444444,\"#bd3786\"],[0.5555555555555556,\"#d8576b\"],[0.6666666666666666,\"#ed7953\"],[0.7777777777777778,\"#fb9f3a\"],[0.8888888888888888,\"#fdca26\"],[1.0,\"#f0f921\"]]},\"colorway\":[\"#636efa\",\"#EF553B\",\"#00cc96\",\"#ab63fa\",\"#FFA15A\",\"#19d3f3\",\"#FF6692\",\"#B6E880\",\"#FF97FF\",\"#FECB52\"],\"font\":{\"color\":\"#2a3f5f\"},\"geo\":{\"bgcolor\":\"white\",\"lakecolor\":\"white\",\"landcolor\":\"#E5ECF6\",\"showlakes\":true,\"showland\":true,\"subunitcolor\":\"white\"},\"hoverlabel\":{\"align\":\"left\"},\"hovermode\":\"closest\",\"mapbox\":{\"style\":\"light\"},\"paper_bgcolor\":\"white\",\"plot_bgcolor\":\"#E5ECF6\",\"polar\":{\"angularaxis\":{\"gridcolor\":\"white\",\"linecolor\":\"white\",\"ticks\":\"\"},\"bgcolor\":\"#E5ECF6\",\"radialaxis\":{\"gridcolor\":\"white\",\"linecolor\":\"white\",\"ticks\":\"\"}},\"scene\":{\"xaxis\":{\"backgroundcolor\":\"#E5ECF6\",\"gridcolor\":\"white\",\"gridwidth\":2,\"linecolor\":\"white\",\"showbackground\":true,\"ticks\":\"\",\"zerolinecolor\":\"white\"},\"yaxis\":{\"backgroundcolor\":\"#E5ECF6\",\"gridcolor\":\"white\",\"gridwidth\":2,\"linecolor\":\"white\",\"showbackground\":true,\"ticks\":\"\",\"zerolinecolor\":\"white\"},\"zaxis\":{\"backgroundcolor\":\"#E5ECF6\",\"gridcolor\":\"white\",\"gridwidth\":2,\"linecolor\":\"white\",\"showbackground\":true,\"ticks\":\"\",\"zerolinecolor\":\"white\"}},\"shapedefaults\":{\"line\":{\"color\":\"#2a3f5f\"}},\"ternary\":{\"aaxis\":{\"gridcolor\":\"white\",\"linecolor\":\"white\",\"ticks\":\"\"},\"baxis\":{\"gridcolor\":\"white\",\"linecolor\":\"white\",\"ticks\":\"\"},\"bgcolor\":\"#E5ECF6\",\"caxis\":{\"gridcolor\":\"white\",\"linecolor\":\"white\",\"ticks\":\"\"}},\"title\":{\"x\":0.05},\"xaxis\":{\"automargin\":true,\"gridcolor\":\"white\",\"linecolor\":\"white\",\"ticks\":\"\",\"title\":{\"standoff\":15},\"zerolinecolor\":\"white\",\"zerolinewidth\":2},\"yaxis\":{\"automargin\":true,\"gridcolor\":\"white\",\"linecolor\":\"white\",\"ticks\":\"\",\"title\":{\"standoff\":15},\"zerolinecolor\":\"white\",\"zerolinewidth\":2}}},\"xaxis\":{\"anchor\":\"y\",\"domain\":[0.0,1.0],\"title\":{\"text\":\"gdpPercap\"}},\"yaxis\":{\"anchor\":\"x\",\"domain\":[0.0,1.0],\"title\":{\"text\":\"lifeExp\"}},\"legend\":{\"title\":{\"text\":\"continent\"},\"tracegroupgap\":0},\"margin\":{\"t\":60}},                        {\"responsive\": true}                    ).then(function(){\n",
              "                            \n",
              "var gd = document.getElementById('5490ca61-b4ae-4422-bbc6-ac259c566d81');\n",
              "var x = new MutationObserver(function (mutations, observer) {{\n",
              "        var display = window.getComputedStyle(gd).display;\n",
              "        if (!display || display === 'none') {{\n",
              "            console.log([gd, 'removed!']);\n",
              "            Plotly.purge(gd);\n",
              "            observer.disconnect();\n",
              "        }}\n",
              "}});\n",
              "\n",
              "// Listen for the removal of the full notebook cells\n",
              "var notebookContainer = gd.closest('#notebook-container');\n",
              "if (notebookContainer) {{\n",
              "    x.observe(notebookContainer, {childList: true});\n",
              "}}\n",
              "\n",
              "// Listen for the clearing of the current output cell\n",
              "var outputEl = gd.closest('.output');\n",
              "if (outputEl) {{\n",
              "    x.observe(outputEl, {childList: true});\n",
              "}}\n",
              "\n",
              "                        })                };                            </script>        </div>\n",
              "</body>\n",
              "</html>"
            ]
          },
          "metadata": {}
        }
      ]
    },
    {
      "cell_type": "code",
      "metadata": {
        "id": "d-uOQTJea3SP",
        "colab": {
          "base_uri": "https://localhost:8080/",
          "height": 542
        },
        "outputId": "fc61fec6-858a-4438-f039-f70bf6d318d0"
      },
      "source": [
        "fig = px.scatter(gapminder,\n",
        "                 x='gdpPercap',\n",
        "                 y='lifeExp',\n",
        "                 size='pop', color='continent',\n",
        "                 facet_col='year', facet_col_wrap=3)\n",
        "fig.show()"
      ],
      "execution_count": null,
      "outputs": [
        {
          "output_type": "display_data",
          "data": {
            "text/html": [
              "<html>\n",
              "<head><meta charset=\"utf-8\" /></head>\n",
              "<body>\n",
              "    <div>            <script src=\"https://cdnjs.cloudflare.com/ajax/libs/mathjax/2.7.5/MathJax.js?config=TeX-AMS-MML_SVG\"></script><script type=\"text/javascript\">if (window.MathJax) {MathJax.Hub.Config({SVG: {font: \"STIX-Web\"}});}</script>                <script type=\"text/javascript\">window.PlotlyConfig = {MathJaxConfig: 'local'};</script>\n",
              "        <script src=\"https://cdn.plot.ly/plotly-2.8.3.min.js\"></script>                <div id=\"1710bca4-e8e0-414c-9589-20e239d9347a\" class=\"plotly-graph-div\" style=\"height:525px; width:100%;\"></div>            <script type=\"text/javascript\">                                    window.PLOTLYENV=window.PLOTLYENV || {};                                    if (document.getElementById(\"1710bca4-e8e0-414c-9589-20e239d9347a\")) {                    Plotly.newPlot(                        \"1710bca4-e8e0-414c-9589-20e239d9347a\",                        [{\"hovertemplate\":\"continent=Asia<br>year=1952<br>gdpPercap=%{x}<br>lifeExp=%{y}<br>pop=%{marker.size}<extra></extra>\",\"legendgroup\":\"Asia\",\"marker\":{\"color\":\"#636efa\",\"size\":[8425333,120447,46886859,4693836,556263527,2125900,372000000,82052000,17272000,5441766,1620914,86459025,607914,8865488,20947571,160000,1439529,6748378,800663,20092996,9182536,507833,41346560,22438691,4005677,1127000,7982342,3661549,8550362,21289402,26246839,1030585,4963829],\"sizemode\":\"area\",\"sizeref\":3296707.74,\"symbol\":\"circle\"},\"mode\":\"markers\",\"name\":\"Asia\",\"showlegend\":true,\"x\":[779.4453145,9867.084765,684.2441716,368.4692856,400.448611,3054.421209,546.5657493,749.6816546,3035.326002,4129.766056,4086.522128,3216.956347,1546.907807,1088.277758,1030.592226,108382.3529,4834.804067,1831.132894,786.5668575,331.0,545.8657228999998,1828.230307,684.5971437999998,1272.880995,6459.554823,2315.138227,1083.53203,1643.485354,1206.947913,757.7974177,605.0664917,1515.5923289999996,781.7175761],\"xaxis\":\"x10\",\"y\":[28.801,50.93899999999999,37.484,39.417,44.0,60.96,37.37300000000001,37.468,44.869,45.32,65.39,63.03,43.158,50.056,47.453,55.565,55.928,48.463,42.244,36.319,36.157,37.578,43.43600000000001,47.752,39.875,60.396,57.593,45.883,58.5,50.848,40.412,43.16,32.548],\"yaxis\":\"y10\",\"type\":\"scattergl\"},{\"hovertemplate\":\"continent=Asia<br>year=1957<br>gdpPercap=%{x}<br>lifeExp=%{y}<br>pop=%{marker.size}<extra></extra>\",\"legendgroup\":\"Asia\",\"marker\":{\"color\":\"#636efa\",\"size\":[9240934,138655,51365468,5322536,637408000,2736300,409000000,90124000,19792000,6248643,1944401,91563009,746559,9411381,22611552,212846,1647412,7739235,882134,21731844,9682338,561977,46679944,26072194,4419650,1445929,9128546,4149908,10164215,25041917,28998543,1070439,5498090],\"sizemode\":\"area\",\"sizeref\":3296707.74,\"symbol\":\"circle\"},\"mode\":\"markers\",\"name\":\"Asia\",\"showlegend\":false,\"x\":[820.8530296,11635.79945,661.6374577,434.0383364,575.9870009,3629.076457,590.061996,858.9002707000002,3290.257643,6229.333562,5385.278451,4317.694365,1886.080591,1571.134655,1487.593537,113523.1329,6089.786934000002,1810.0669920000007,912.6626085,350.0,597.9363557999999,2242.746551,747.0835292,1547.944844,8157.5912480000015,2843.104409,1072.546602,2117.234893,1507.86129,793.5774147999998,676.2854477999998,1827.067742,804.8304547],\"xaxis\":\"x11\",\"y\":[30.332,53.832,39.348,41.36600000000001,50.54896,64.75,40.249,39.918,47.181,48.437,67.84,65.5,45.669,54.081,52.681,58.033,59.489,52.102,45.24800000000001,41.905,37.686,40.08,45.557,51.334,42.868,63.179,61.456,48.284,62.4,53.63,42.887,45.67100000000001,33.97],\"yaxis\":\"y11\",\"type\":\"scattergl\"},{\"hovertemplate\":\"continent=Asia<br>year=1962<br>gdpPercap=%{x}<br>lifeExp=%{y}<br>pop=%{marker.size}<extra></extra>\",\"legendgroup\":\"Asia\",\"marker\":{\"color\":\"#636efa\",\"size\":[10267083,171863,56839289,6083619,665770000,3305200,454000000,99028000,22874000,7240260,2310904,95831757,933559,10917494,26420307,358266,1886848,8906385,1010280,23634436,10332057,628164,53100671,30325264,4943029,1750200,10421936,4834621,11918938,29263397,33796140,1133134,6120081],\"sizemode\":\"area\",\"sizeref\":3296707.74,\"symbol\":\"circle\"},\"mode\":\"markers\",\"name\":\"Asia\",\"showlegend\":false,\"x\":[853.1007099999998,12753.27514,686.3415537999998,496.9136476,487.6740183,4692.648271999999,658.3471509,849.2897700999998,4187.329802,8341.737815,7105.630706,6576.649461,2348.009158,1621.693598,1536.344387,95458.11176,5714.560611,2036.884944,1056.353958,388.0,652.3968593,2924.638113,803.3427418,1649.552153,11626.41975,3674.735572,1074.47196,2193.037133,1822.879028,1002.199172,772.0491602000002,2198.9563120000007,825.6232006],\"xaxis\":\"x12\",\"y\":[31.997,56.923,41.216,43.415,44.50136,67.65,43.605,42.518,49.325,51.457,69.39,68.73,48.12600000000001,56.65600000000001,55.292,60.47,62.094,55.737,48.25100000000001,45.108,39.393,43.165,47.67,54.757,45.914,65.798,62.192,50.305,65.2,56.06100000000001,45.363,48.127,35.18],\"yaxis\":\"y12\",\"type\":\"scattergl\"},{\"hovertemplate\":\"continent=Asia<br>year=1967<br>gdpPercap=%{x}<br>lifeExp=%{y}<br>pop=%{marker.size}<extra></extra>\",\"legendgroup\":\"Asia\",\"marker\":{\"color\":\"#636efa\",\"size\":[11537966,202182,62821884,6960067,754550000,3722800,506000000,109343000,26538000,8519282,2693585,100825279,1255058,12617009,30131000,575003,2186894,10154878,1149500,25870271,11261690,714775,60641899,35356600,5618198,1977600,11737396,5680812,13648692,34024249,39463910,1142636,6740785],\"sizemode\":\"area\",\"sizeref\":3296707.74,\"symbol\":\"circle\"},\"mode\":\"markers\",\"name\":\"Asia\",\"showlegend\":false,\"x\":[836.1971382,14804.6727,721.1860862000002,523.4323142,612.7056934,6197.962814,700.7706107000001,762.4317721,5906.731804999999,8931.459811,8393.741404,9847.788607,2741.796252,2143.540609,2029.228142,80894.88326,6006.983042,2277.742396,1226.04113,349.0,676.4422254,4720.942687,942.4082588,1814.12743,16903.04886,4977.41854,1135.514326,1881.923632,2643.858681,1295.46066,637.1232887,2649.715007,862.4421463],\"xaxis\":\"x7\",\"y\":[34.02,59.923,43.453,45.415,58.38112,70.0,47.19300000000001,45.964,52.469,54.459,70.75,71.43,51.629,59.942,57.716,64.624,63.87,59.371,51.253,49.379,41.472,46.988,49.8,56.393,49.901,67.946,64.266,53.655,67.5,58.285,47.838,51.631,36.984],\"yaxis\":\"y7\",\"type\":\"scattergl\"},{\"hovertemplate\":\"continent=Asia<br>year=1972<br>gdpPercap=%{x}<br>lifeExp=%{y}<br>pop=%{marker.size}<extra></extra>\",\"legendgroup\":\"Asia\",\"marker\":{\"color\":\"#636efa\",\"size\":[13079460,230800,70759295,7450606,862030000,4115700,567000000,121282000,30614000,10061506,3095893,107188273,1613551,14781241,33505000,841934,2680018,11441462,1320500,28466390,12412593,829050,69325921,40850141,6472756,2152400,13016733,6701172,15226039,39276153,44655014,1089572,7407075],\"sizemode\":\"area\",\"sizeref\":3296707.74,\"symbol\":\"circle\"},\"mode\":\"markers\",\"name\":\"Asia\",\"showlegend\":false,\"x\":[739.9811057999998,18268.65839,630.2336265,421.6240257,676.9000921,8315.928145,724.032527,1111.107907,9613.818607,9576.037596,12786.93223,14778.78636,2110.856309,3701.621503,3030.87665,109347.867,7486.384341,2849.09478,1421.741975,357.0,674.7881296,10618.03855,1049.938981,1989.37407,24837.42865,8597.756202,1213.39553,2571.423014,4062.523897,1524.358936,699.5016441,3133.409277,1265.047031],\"xaxis\":\"x8\",\"y\":[36.088,63.3,45.252,40.317,63.11888,72.0,50.651,49.203,55.234,56.95,71.63,73.42,56.528,63.983,62.612,67.712,65.421,63.01,53.754,53.07,43.971,52.143,51.929,58.065,53.886,69.521,65.042,57.29600000000001,69.39,60.405,50.254,56.532,39.848],\"yaxis\":\"y8\",\"type\":\"scattergl\"},{\"hovertemplate\":\"continent=Asia<br>year=1977<br>gdpPercap=%{x}<br>lifeExp=%{y}<br>pop=%{marker.size}<extra></extra>\",\"legendgroup\":\"Asia\",\"marker\":{\"color\":\"#636efa\",\"size\":[14880372,297410,80428306,6978607,943455000,4583700,634000000,136725000,35480679,11882916,3495918,113872473,1937652,16325320,36436000,1140357,3115787,12845381,1528000,31528087,13933198,1004533,78152686,46850962,8128505,2325300,14116836,7932503,16785196,44148285,50533506,1261091,8403990],\"sizemode\":\"area\",\"sizeref\":3296707.74,\"symbol\":\"circle\"},\"mode\":\"markers\",\"name\":\"Asia\",\"showlegend\":false,\"x\":[786.11336,19340.10196,659.8772322000002,524.9721831999999,741.2374699,11186.14125,813.3373230000002,1382.702056,11888.59508,14688.23507,13306.61921,16610.37701,2852.351568,4106.301249,4657.22102,59265.47714,8659.696836,3827.921571,1647.511665,371.0,694.1124398,11848.34392,1175.921193,2373.204287,34167.7626,11210.08948,1348.775651,3195.484582,5596.519826,1961.2246350000007,713.5371196000001,3682.831494,1829.765177],\"xaxis\":\"x9\",\"y\":[38.438,65.593,46.923,31.22,63.96736,73.6,54.208,52.702,57.702,60.413,73.06,75.38,61.13399999999999,67.15899999999999,64.766,69.343,66.09899999999999,65.256,55.49100000000001,56.059,46.74800000000001,57.367,54.043,60.06,58.69,70.795,65.949,61.195,70.59,62.494,55.764,60.765,44.175],\"yaxis\":\"y9\",\"type\":\"scattergl\"},{\"hovertemplate\":\"continent=Asia<br>year=1982<br>gdpPercap=%{x}<br>lifeExp=%{y}<br>pop=%{marker.size}<extra></extra>\",\"legendgroup\":\"Asia\",\"marker\":{\"color\":\"#636efa\",\"size\":[12881816,377967,93074406,7272485,1000281000,5264500,708000000,153343000,43072751,14173318,3858421,118454974,2347031,17647518,39326000,1497494,3086876,14441916,1756032,34680442,15796314,1301048,91462088,53456774,11254672,2651869,15410151,9410494,18501390,48827160,56142181,1425876,9657618],\"sizemode\":\"area\",\"sizeref\":3296707.74,\"symbol\":\"circle\"},\"mode\":\"markers\",\"name\":\"Asia\",\"showlegend\":false,\"x\":[978.0114388,19211.14731,676.9818656,624.4754784,962.4213805,14560.53051,855.7235377000002,1516.872988,7608.334602,14517.90711,15367.0292,19384.10571,4161.415959,4106.525293,5622.942464,31354.03573,7640.519520999998,4920.355951,2000.603139,424.0,718.3730947,12954.79101,1443.429832,2603.273765,33693.17525,15169.16112,1648.079789,3761.837715,7426.3547739999985,2393.219781,707.2357863,4336.032082,1977.55701],\"xaxis\":\"x4\",\"y\":[39.854,69.05199999999999,50.00899999999999,50.957,65.525,75.45,56.596,56.159,59.62,62.038,74.45,77.11,63.739,69.1,67.123,71.309,66.983,68.0,57.489,58.056,49.594,62.728,56.158,62.082,63.012,71.76,68.757,64.59,72.16,64.597,58.816,64.406,49.113],\"yaxis\":\"y4\",\"type\":\"scattergl\"},{\"hovertemplate\":\"continent=Asia<br>year=1987<br>gdpPercap=%{x}<br>lifeExp=%{y}<br>pop=%{marker.size}<extra></extra>\",\"legendgroup\":\"Asia\",\"marker\":{\"color\":\"#636efa\",\"size\":[13867957,454612,103764241,8371791,1084035000,5584510,788000000,169276000,51889696,16543189,4203148,122091325,2820042,19067554,41622000,1891487,3089353,16331785,2015133,38028578,17917180,1593882,105186881,60017788,14619745,2794552,16495304,11242847,19757799,52910342,62826491,1691210,11219340],\"sizemode\":\"area\",\"sizeref\":3296707.74,\"symbol\":\"circle\"},\"mode\":\"markers\",\"name\":\"Asia\",\"showlegend\":false,\"x\":[852.3959447999998,18524.02406,751.9794035,683.8955732000002,1378.904018,20038.47269,976.5126756,1748.356961,6642.881371,11643.57268,17122.47986,22375.94189,4448.679912,4106.492315,8533.088805,28118.42998,5377.091329,5249.802653,2338.008304,385.0,775.6324501,18115.22313,1704.686583,2189.634995,21198.26136,18861.53081,1876.766827,3116.774285,11054.56175,2982.653773,820.7994449,5107.197384,1971.741538],\"xaxis\":\"x5\",\"y\":[40.822,70.75,52.819,53.914,67.274,76.2,58.553,60.137,63.04,65.044,75.6,78.67,65.869,70.64699999999998,69.81,74.17399999999998,67.926,69.5,60.222,58.339,52.537,67.734,58.245,64.15100000000001,66.295,73.56,69.01100000000001,66.97399999999999,73.4,66.084,62.82,67.046,52.922],\"yaxis\":\"y5\",\"type\":\"scattergl\"},{\"hovertemplate\":\"continent=Asia<br>year=1992<br>gdpPercap=%{x}<br>lifeExp=%{y}<br>pop=%{marker.size}<extra></extra>\",\"legendgroup\":\"Asia\",\"marker\":{\"color\":\"#636efa\",\"size\":[16317921,529491,113704579,10150094,1164970000,5829696,872000000,184816000,60397973,17861905,4936550,124329269,3867409,20711375,43805450,1418095,3219994,18319502,2312802,40546538,20326209,1915208,120065004,67185766,16945857,3235865,17587060,13219062,20686918,56667095,69940728,2104779,13367997],\"sizemode\":\"area\",\"sizeref\":3296707.74,\"symbol\":\"circle\"},\"mode\":\"markers\",\"name\":\"Asia\",\"showlegend\":false,\"x\":[649.3413952000002,19035.57917,837.8101642999999,682.3031755,1655.784158,24757.60301,1164.406809,2383.140898,7235.653187999998,3745.640687,18051.52254,26824.89511,3431.593647,3726.063507,12104.27872,34932.91959,6890.806854,7277.912802,1785.402016,347.0,897.7403604,18616.70691,1971.829464,2279.324017000001,24841.61777,24769.8912,2153.739222,3340.542768,15215.6579,4616.896545000001,989.0231487,6017.654756,1879.496673],\"xaxis\":\"x6\",\"y\":[41.674,72.601,56.018,55.803,68.69,77.601,60.223,62.681,65.742,59.46100000000001,76.93,79.36,68.015,69.97800000000001,72.244,75.19,69.292,70.693,61.271,59.32,55.727,71.197,60.838,66.458,68.768,75.788,70.37899999999998,69.249,74.26,67.298,67.66199999999999,69.718,55.599],\"yaxis\":\"y6\",\"type\":\"scattergl\"},{\"hovertemplate\":\"continent=Asia<br>year=1997<br>gdpPercap=%{x}<br>lifeExp=%{y}<br>pop=%{marker.size}<extra></extra>\",\"legendgroup\":\"Asia\",\"marker\":{\"color\":\"#636efa\",\"size\":[22227415,598561,123315288,11782962,1230075000,6495918,959000000,199278000,63327987,20775703,5531387,125956499,4526235,21585105,46173816,1765345,3430388,20476091,2494803,43247867,23001113,2283635,135564834,75012988,21229759,3802309,18698655,15081016,21628605,60216677,76048996,2826046,15826497],\"sizemode\":\"area\",\"sizeref\":3296707.74,\"symbol\":\"circle\"},\"mode\":\"markers\",\"name\":\"Asia\",\"showlegend\":false,\"x\":[635.341351,20292.01679,972.7700352,734.28517,2289.234136,28377.63219,1458.817442,3119.335603,8263.590301,3076.239795,20896.60924,28816.58499,3645.379572,1690.756814,15993.52796,40300.61996,8754.96385,10132.90964,1902.2521,415.0,1010.892138,19702.05581,2049.3505210000008,2536.534925,20586.69019,33519.4766,2664.477257,4014.238972,20206.82098,5852.625497,1385.896769,7110.667619,2117.484526],\"xaxis\":\"x\",\"y\":[41.76300000000001,73.925,59.412,56.534,70.426,80.0,61.765,66.041,68.042,58.81100000000001,78.26899999999998,80.69,69.77199999999999,67.727,74.64699999999998,76.156,70.265,71.938,63.625,60.328,59.426,72.499,61.81800000000001,68.564,70.533,77.158,70.457,71.527,75.25,67.521,70.672,71.096,58.02],\"yaxis\":\"y\",\"type\":\"scattergl\"},{\"hovertemplate\":\"continent=Asia<br>year=2002<br>gdpPercap=%{x}<br>lifeExp=%{y}<br>pop=%{marker.size}<extra></extra>\",\"legendgroup\":\"Asia\",\"marker\":{\"color\":\"#636efa\",\"size\":[25268405,656397,135656790,12926707,1280400000,6762476,1034172547,211060000,66907826,24001816,6029529,127065841,5307470,22215365,47969150,2111561,3677780,22662365,2674234,45598081,25873917,2713462,153403524,82995088,24501530,4197776,19576783,17155814,22454239,62806748,80908147,3389578,18701257],\"sizemode\":\"area\",\"sizeref\":3296707.74,\"symbol\":\"circle\"},\"mode\":\"markers\",\"name\":\"Asia\",\"showlegend\":false,\"x\":[726.7340548,23403.55927,1136.3904300000004,896.2260152999999,3119.280896,30209.015160000006,1746.769454,2873.91287,9240.761975,4390.717312,21905.59514,28604.5919,3844.917194,1646.758151,19233.98818,35110.10566,9313.93883,10206.97794,2140.739323,611.0,1057.206311,19774.83687,2092.712441,2650.921068,19014.54118,36023.1054,3015.378833,4090.925331,23235.42329,5913.187529,1764.456677,4515.487575,2234.820827],\"xaxis\":\"x2\",\"y\":[42.129,74.795,62.01300000000001,56.752,72.028,81.495,62.879,68.58800000000001,69.45100000000001,57.04600000000001,79.696,82.0,71.263,66.66199999999999,77.045,76.904,71.028,73.044,65.033,59.908,61.34,74.193,63.61,70.303,71.626,78.77,70.815,73.053,76.99,68.564,73.017,72.37,60.308],\"yaxis\":\"y2\",\"type\":\"scattergl\"},{\"hovertemplate\":\"continent=Asia<br>year=2007<br>gdpPercap=%{x}<br>lifeExp=%{y}<br>pop=%{marker.size}<extra></extra>\",\"legendgroup\":\"Asia\",\"marker\":{\"color\":\"#636efa\",\"size\":[31889923,708573,150448339,14131858,1318683096,6980412,1110396331,223547000,69453570,27499638,6426679,127467972,6053193,23301725,49044790,2505559,3921278,24821286,2874127,47761980,28901790,3204897,169270617,91077287,27601038,4553009,20378239,19314747,23174294,65068149,85262356,4018332,22211743],\"sizemode\":\"area\",\"sizeref\":3296707.74,\"symbol\":\"circle\"},\"mode\":\"markers\",\"name\":\"Asia\",\"showlegend\":false,\"x\":[974.5803384,29796.04834,1391.253792,1713.778686,4959.114854,39724.97867,2452.210407,3540.651564,11605.71449,4471.061906,25523.2771,31656.06806,4519.461171,1593.06548,23348.139730000006,47306.98978,10461.05868,12451.6558,3095.7722710000007,944.0,1091.359778,22316.19287,2605.94758,3190.481016,21654.83194,47143.17964,3970.095407,4184.548089,28718.27684,7458.396326999998,2441.576404,3025.349798,2280.769906],\"xaxis\":\"x3\",\"y\":[43.828,75.635,64.062,59.723,72.961,82.208,64.69800000000001,70.65,70.964,59.545,80.745,82.603,72.535,67.297,78.623,77.58800000000002,71.993,74.241,66.803,62.069,63.785,75.64,65.483,71.688,72.777,79.972,72.396,74.143,78.4,70.616,74.249,73.422,62.698],\"yaxis\":\"y3\",\"type\":\"scattergl\"},{\"hovertemplate\":\"continent=Europe<br>year=1952<br>gdpPercap=%{x}<br>lifeExp=%{y}<br>pop=%{marker.size}<extra></extra>\",\"legendgroup\":\"Europe\",\"marker\":{\"color\":\"#EF553B\",\"size\":[1282697,6927772,8730405,2791000,7274900,3882229,9125183,4334000,4090500,42459667,69145952,7733250,9504000,147962,2952156,47666000,413834,10381988,3327728,25730551,8526050,16630000,6860147,3558137,1489518,28549870,7124673,4815000,22235677,50430000],\"sizemode\":\"area\",\"sizeref\":3296707.74,\"symbol\":\"circle\"},\"mode\":\"markers\",\"name\":\"Europe\",\"showlegend\":true,\"x\":[1601.056136,6137.076492,8343.105126999999,973.5331948,2444.286648,3119.23652,6876.14025,9692.385245,6424.519071,7029.809327,7144.114393000002,3530.690067,5263.673816,7267.688428,5210.280328,4931.404154999998,2647.585601,8941.571858,10095.42172,4029.329699,3068.319867,3144.613186,3581.459448,5074.659104,4215.041741,3834.034742,8527.844662000001,14734.23275,1969.10098,9979.508487],\"xaxis\":\"x10\",\"y\":[55.23,66.8,68.0,53.82,59.6,61.21,66.87,70.78,66.55,67.41,67.5,65.86,64.03,72.49,66.91,65.94,59.164,72.13,72.67,61.31,59.82,61.05,57.996,64.36,65.57,64.94,71.86,69.62,43.585,69.18],\"yaxis\":\"y10\",\"type\":\"scattergl\"},{\"hovertemplate\":\"continent=Europe<br>year=1957<br>gdpPercap=%{x}<br>lifeExp=%{y}<br>pop=%{marker.size}<extra></extra>\",\"legendgroup\":\"Europe\",\"marker\":{\"color\":\"#EF553B\",\"size\":[1476505,6965860,8989111,3076000,7651254,3991242,9513758,4487831,4324000,44310863,71019069,8096218,9839000,165110,2878220,49182000,442829,11026383,3491938,28235346,8817650,17829327,7271135,3844277,1533070,29841614,7363802,5126000,25670939,51430000],\"sizemode\":\"area\",\"sizeref\":3296707.74,\"symbol\":\"circle\"},\"mode\":\"markers\",\"name\":\"Europe\",\"showlegend\":false,\"x\":[1942.284244,8842.59803,9714.960623,1353.989176,3008.670727,4338.231617,8256.343918,11099.65935,7545.415386,8662.834898000001,10187.82665,4916.299889,6040.180011,9244.001412,5599.077872,6248.656232,3682.259903,11276.19344,11653.97304,4734.253019,3774.571743,3943.370225,4981.090891,6093.26298,5862.276629,4564.80241,9911.878226,17909.48973,2218.754257,11283.17795],\"xaxis\":\"x11\",\"y\":[59.28,67.48,69.24,58.45,66.61,64.77,69.03,71.81,67.49,68.93,69.1,67.86,66.41,73.47,68.9,67.81,61.448,72.99,73.44,65.77,61.51,64.1,61.685,67.45,67.85,66.66,72.49,70.56,48.07899999999999,70.42],\"yaxis\":\"y11\",\"type\":\"scattergl\"},{\"hovertemplate\":\"continent=Europe<br>year=1962<br>gdpPercap=%{x}<br>lifeExp=%{y}<br>pop=%{marker.size}<extra></extra>\",\"legendgroup\":\"Europe\",\"marker\":{\"color\":\"#EF553B\",\"size\":[1728137,7129864,9218400,3349000,8012946,4076557,9620282,4646899,4491443,47124000,73739117,8448233,10063000,182053,2830000,50843200,474528,11805689,3638919,30329617,9019800,18680721,7616060,4237384,1582962,31158061,7561588,5666000,29788695,53292000],\"sizemode\":\"area\",\"sizeref\":3296707.74,\"symbol\":\"circle\"},\"mode\":\"markers\",\"name\":\"Europe\",\"showlegend\":false,\"x\":[2312.888958,10750.72111,10991.20676,1709.683679,4254.337839,5477.890018,10136.86713,13583.31351,9371.842561,10560.48553,12902.46291,6017.190732999999,7550.359877,10350.15906,6631.597314,8243.58234,4649.593785,12790.84956,13450.40151,5338.752143,4727.954889,4734.997586,6289.629157,7481.107598,7402.303395,5693.843879,12329.44192,20431.0927,2322.869908,12477.17707],\"xaxis\":\"x12\",\"y\":[64.82,69.54,70.25,61.93,69.51,67.13,69.9,72.35,68.75,70.51,70.3,69.51,67.96,73.68,70.29,69.24,63.728,73.23,73.47,67.64,64.39,66.8,64.531,70.33,69.15,69.69,73.37,71.32,52.098,70.76],\"yaxis\":\"y12\",\"type\":\"scattergl\"},{\"hovertemplate\":\"continent=Europe<br>year=1967<br>gdpPercap=%{x}<br>lifeExp=%{y}<br>pop=%{marker.size}<extra></extra>\",\"legendgroup\":\"Europe\",\"marker\":{\"color\":\"#EF553B\",\"size\":[1984060,7376998,9556500,3585000,8310226,4174366,9835109,4838800,4605744,49569000,76368453,8716441,10223422,198676,2900100,52667100,501035,12596822,3786019,31785378,9103000,19284814,7971222,4442238,1646912,32850275,7867931,6063000,33411317,54959000],\"sizemode\":\"area\",\"sizeref\":3296707.74,\"symbol\":\"circle\"},\"mode\":\"markers\",\"name\":\"Europe\",\"showlegend\":false,\"x\":[2760.196931,12834.6024,13149.04119,2172.3524230000007,5577.0028,6960.297861,11399.44489,15937.21123,10921.63626,12999.91766,14745.62561,8513.097016,9326.64467,13319.89568,7655.568963,10022.40131,5907.850937,15363.25136,16361.87647,6557.152776,6361.517993,6470.866545,7991.707066,8412.902397,9405.489397,7993.512294,15258.29697,22966.14432,2826.3563870000007,14142.85089],\"xaxis\":\"x7\",\"y\":[66.22,70.14,70.94,64.79,70.42,68.5,70.38,72.96,69.83,71.55,70.8,71.0,69.5,73.73,71.08,71.06,67.178,73.82,74.08,69.61,66.6,66.8,66.914,70.98,69.18,71.44,74.16,72.77,54.33600000000001,71.36],\"yaxis\":\"y7\",\"type\":\"scattergl\"},{\"hovertemplate\":\"continent=Europe<br>year=1972<br>gdpPercap=%{x}<br>lifeExp=%{y}<br>pop=%{marker.size}<extra></extra>\",\"legendgroup\":\"Europe\",\"marker\":{\"color\":\"#EF553B\",\"size\":[2263554,7544201,9709100,3819000,8576200,4225310,9862158,4991596,4639657,51732000,78717088,8888628,10394091,209275,3024400,54365564,527678,13329874,3933004,33039545,8970450,20662648,8313288,4593433,1694510,34513161,8122293,6401400,37492953,56079000],\"sizemode\":\"area\",\"sizeref\":3296707.74,\"symbol\":\"circle\"},\"mode\":\"markers\",\"name\":\"Europe\",\"showlegend\":false,\"x\":[3313.422188,16661.6256,16672.14356,2860.16975,6597.494398,9164.090127,13108.4536,18866.20721,14358.8759,16107.19171,18016.18027,12724.82957,10168.65611,15798.06362,9530.772896,12269.27378,7778.414017,18794.74567,18965.05551,8006.506993000001,9022.247417,8011.4144019999985,10522.06749,9674.167626,12383.4862,10638.75131,17832.02464,27195.11304,3450.69638,15895.11641],\"xaxis\":\"x8\",\"y\":[67.69,70.63,71.44,67.45,70.9,69.61,70.29,73.47,70.87,72.38,71.0,72.34,69.76,74.46,71.28,72.19,70.63600000000002,73.75,74.34,70.85,69.26,69.21,68.7,70.35,69.82,73.06,74.72,73.78,57.005,72.01],\"yaxis\":\"y8\",\"type\":\"scattergl\"},{\"hovertemplate\":\"continent=Europe<br>year=1977<br>gdpPercap=%{x}<br>lifeExp=%{y}<br>pop=%{marker.size}<extra></extra>\",\"legendgroup\":\"Europe\",\"marker\":{\"color\":\"#EF553B\",\"size\":[2509048,7568430,9821800,4086000,8797022,4318673,10161915,5088419,4738902,53165019,78160773,9308479,10637171,221823,3271900,56059245,560073,13852989,4043205,34621254,9662600,21658597,8686367,4827803,1746919,36439000,8251648,6316424,42404033,56179000],\"sizemode\":\"area\",\"sizeref\":3296707.74,\"symbol\":\"circle\"},\"mode\":\"markers\",\"name\":\"Europe\",\"showlegend\":false,\"x\":[3533.003910000001,19749.4223,19117.97448,3528.481305,7612.240438,11305.38517,14800.16062,20422.9015,15605.42283,18292.63514,20512.92123,14195.52428,11674.83737,19654.96247,11150.98113,14255.98475,9595.929905,21209.0592,23311.34939,9508.141454,10172.48572,9356.39724,12980.66956,10922.66404,15277.030169999998,13236.92117,18855.72521,26982.29052,4269.122326,17428.74846],\"xaxis\":\"x9\",\"y\":[68.93,72.17,72.8,69.86,70.81,70.64,70.71,74.69,72.52,73.83,72.5,73.68,69.95,76.11,72.03,73.48,73.066,75.24,75.37,70.67,70.41,69.46,70.3,70.45,70.97,74.39,75.44,75.39,59.507,72.76],\"yaxis\":\"y9\",\"type\":\"scattergl\"},{\"hovertemplate\":\"continent=Europe<br>year=1982<br>gdpPercap=%{x}<br>lifeExp=%{y}<br>pop=%{marker.size}<extra></extra>\",\"legendgroup\":\"Europe\",\"marker\":{\"color\":\"#EF553B\",\"size\":[2780097,7574613,9856303,4172693,8892098,4413368,10303704,5117810,4826933,54433565,78335266,9786480,10705535,233997,3480000,56535636,562548,14310401,4114787,36227381,9859650,22356726,9032824,5048043,1861252,37983310,8325260,6468126,47328791,56339704],\"sizemode\":\"area\",\"sizeref\":3296707.74,\"symbol\":\"circle\"},\"mode\":\"markers\",\"name\":\"Europe\",\"showlegend\":false,\"x\":[3630.880722,21597.08362,20979.84589,4126.613157,8224.191647,13221.82184,15377.22855,21688.04048,18533.15761,20293.89746,22031.53274,15268.42089,12545.99066,23269.6075,12618.32141,16537.4835,11222.58762,21399.46046,26298.63531,8451.531004,11753.84291,9605.314053,15181.0927,11348.54585,17866.72175,13926.16997,20667.38125,28397.71512,4241.356344,18232.42452],\"xaxis\":\"x4\",\"y\":[70.42,73.18,73.93,70.69,71.08,70.46,70.96,74.63,74.55,74.89,73.8,75.24,69.39,76.99,73.1,74.98,74.101,76.05,75.97,71.32,72.77,69.66,70.16199999999999,70.8,71.063,76.3,76.42,76.21,61.036,74.04],\"yaxis\":\"y4\",\"type\":\"scattergl\"},{\"hovertemplate\":\"continent=Europe<br>year=1987<br>gdpPercap=%{x}<br>lifeExp=%{y}<br>pop=%{marker.size}<extra></extra>\",\"legendgroup\":\"Europe\",\"marker\":{\"color\":\"#EF553B\",\"size\":[3075321,7578903,9870200,4338977,8971958,4484310,10311597,5127024,4931729,55630100,77718298,9974490,10612740,244676,3539900,56729703,569473,14665278,4186147,37740710,9915289,22686371,9230783,5199318,1945870,38880702,8421403,6649942,52881328,56981620],\"sizemode\":\"area\",\"sizeref\":3296707.74,\"symbol\":\"circle\"},\"mode\":\"markers\",\"name\":\"Europe\",\"showlegend\":false,\"x\":[3738.932735,23687.82607,22525.56308,4314.114757,8239.854824,13822.58394,16310.4434,25116.17581,21141.01223,22066.44214,24639.18566,16120.52839,12986.47998,26923.20628,13872.86652,19207.23482,11732.51017,23651.32361,31540.9748,9082.351172,13039.30876,9696.273295,15870.87851,12037.26758,18678.53492,15764.98313,23586.92927,30281.70459,5089.043686,21664.78767],\"xaxis\":\"x5\",\"y\":[72.0,74.94,75.35,71.14,71.34,71.52,71.58,74.8,74.83,76.34,74.847,76.67,69.58,77.23,74.36,76.42,74.865,76.83,75.89,70.98,74.06,69.53,71.218,71.08,72.25,76.9,77.19,77.41,63.108,75.007],\"yaxis\":\"y5\",\"type\":\"scattergl\"},{\"hovertemplate\":\"continent=Europe<br>year=1992<br>gdpPercap=%{x}<br>lifeExp=%{y}<br>pop=%{marker.size}<extra></extra>\",\"legendgroup\":\"Europe\",\"marker\":{\"color\":\"#EF553B\",\"size\":[3326498,7914969,10045622,4256013,8658506,4494013,10315702,5171393,5041039,57374179,80597764,10325429,10348684,259012,3557761,56840847,621621,15174244,4286357,38370697,9927680,22797027,9826397,5302888,1999210,39549438,8718867,6995447,58179144,57866349],\"sizemode\":\"area\",\"sizeref\":3296707.74,\"symbol\":\"circle\"},\"mode\":\"markers\",\"name\":\"Europe\",\"showlegend\":false,\"x\":[2497.437901,27042.01868,25575.57069,2546.781445,6302.623438000001,8447.794873,14297.02122,26406.73985,20647.16499,24703.79615,26505.30317,17541.49634,10535.62855,25144.39201,17558.81555,22013.64486,7003.339037000002,26790.94961,33965.66115,7738.881247,16207.266630000002,6598.409903,9325.068238,9498.467723,14214.71681,18603.06452,23880.01683,31871.5303,5678.348271,22705.09254],\"xaxis\":\"x6\",\"y\":[71.581,76.04,76.46,72.178,71.19,72.527,72.4,75.33,75.7,77.46,76.07,77.03,69.17,78.77,75.467,77.44,75.435,77.42,77.32,70.99,74.86,69.36,71.65899999999998,71.38,73.64,77.57,78.16,78.03,66.146,76.42],\"yaxis\":\"y6\",\"type\":\"scattergl\"},{\"hovertemplate\":\"continent=Europe<br>year=1997<br>gdpPercap=%{x}<br>lifeExp=%{y}<br>pop=%{marker.size}<extra></extra>\",\"legendgroup\":\"Europe\",\"marker\":{\"color\":\"#EF553B\",\"size\":[3428038,8069876,10199787,3607000,8066057,4444595,10300707,5283663,5134406,58623428,82011073,10502372,10244684,271192,3667233,57479469,692651,15604464,4405672,38654957,10156415,22562458,10336594,5383010,2011612,39855442,8897619,7193761,63047647,58808266],\"sizemode\":\"area\",\"sizeref\":3296707.74,\"symbol\":\"circle\"},\"mode\":\"markers\",\"name\":\"Europe\",\"showlegend\":false,\"x\":[3193.054604,29095.920660000003,27561.19663,4766.355904,5970.38876,9875.604515,16048.51424,29804.34567,23723.9502,25889.78487,27788.88416,18747.69814,11712.7768,28061.099660000003,24521.94713,24675.02446,6465.613349,30246.13063,41283.16433,10159.58368,17641.03156,7346.547556999999,7914.320304000002,12126.23065,17161.10735,20445.29896,25266.59499,32135.323010000004,6601.429915,26074.53136],\"xaxis\":\"x\",\"y\":[72.95,77.51,77.53,73.244,70.32,73.68,74.01,76.11,77.13,78.64,77.34,77.869,71.04,78.95,76.122,78.82,75.445,78.03,78.32,72.75,75.97,69.72,72.232,72.71,75.13,78.77,79.39,79.37,68.835,77.218],\"yaxis\":\"y\",\"type\":\"scattergl\"},{\"hovertemplate\":\"continent=Europe<br>year=2002<br>gdpPercap=%{x}<br>lifeExp=%{y}<br>pop=%{marker.size}<extra></extra>\",\"legendgroup\":\"Europe\",\"marker\":{\"color\":\"#EF553B\",\"size\":[3508512,8148312,10311970,4165416,7661799,4481020,10256295,5374693,5193039,59925035,82350671,10603863,10083313,288030,3879155,57926999,720230,16122830,4535591,38625976,10433867,22404337,10111559,5410052,2011497,40152517,8954175,7361757,67308928,59912431],\"sizemode\":\"area\",\"sizeref\":3296707.74,\"symbol\":\"circle\"},\"mode\":\"markers\",\"name\":\"Europe\",\"showlegend\":false,\"x\":[4604.211737,32417.60769,30485.88375,6018.975239,7696.777725,11628.38895,17596.210219999994,32166.50006,28204.59057,28926.03234,30035.80198,22514.2548,14843.93556,31163.20196,34077.04939,27968.09817,6557.194282,33724.75778,44683.97525,12002.23908,19970.90787,7885.360081,7236.075251,13638.778369999998,20660.01936,24835.47166,29341.630930000007,34480.95771,6508.085718,29478.99919],\"xaxis\":\"x2\",\"y\":[75.65100000000002,78.98,78.32,74.09,72.14,74.876,75.51,77.18,78.37,79.59,78.67,78.256,72.59,80.5,77.783,80.24,73.98100000000002,78.53,79.05,74.67,77.29,71.322,73.21300000000002,73.8,76.66,79.78,80.04,80.62,70.845,78.471],\"yaxis\":\"y2\",\"type\":\"scattergl\"},{\"hovertemplate\":\"continent=Europe<br>year=2007<br>gdpPercap=%{x}<br>lifeExp=%{y}<br>pop=%{marker.size}<extra></extra>\",\"legendgroup\":\"Europe\",\"marker\":{\"color\":\"#EF553B\",\"size\":[3600523,8199783,10392226,4552198,7322858,4493312,10228744,5468120,5238460,61083916,82400996,10706290,9956108,301931,4109086,58147733,684736,16570613,4627926,38518241,10642836,22276056,10150265,5447502,2009245,40448191,9031088,7554661,71158647,60776238],\"sizemode\":\"area\",\"sizeref\":3296707.74,\"symbol\":\"circle\"},\"mode\":\"markers\",\"name\":\"Europe\",\"showlegend\":false,\"x\":[5937.029525999998,36126.4927,33692.60508,7446.298803,10680.79282,14619.222719999998,22833.30851,35278.41874,33207.0844,30470.0167,32170.37442,27538.41188,18008.94444,36180.78919,40675.99635,28569.7197,9253.896111,36797.93332,49357.19017,15389.924680000002,20509.64777,10808.47561,9786.534714,18678.31435,25768.25759,28821.0637,33859.74835,37506.41907,8458.276384,33203.26128],\"xaxis\":\"x3\",\"y\":[76.423,79.829,79.441,74.852,73.005,75.748,76.486,78.332,79.313,80.657,79.406,79.483,73.33800000000002,81.757,78.885,80.546,74.543,79.762,80.196,75.563,78.098,72.476,74.002,74.663,77.926,80.941,80.884,81.70100000000002,71.777,79.425],\"yaxis\":\"y3\",\"type\":\"scattergl\"},{\"hovertemplate\":\"continent=Africa<br>year=1952<br>gdpPercap=%{x}<br>lifeExp=%{y}<br>pop=%{marker.size}<extra></extra>\",\"legendgroup\":\"Africa\",\"marker\":{\"color\":\"#00cc96\",\"size\":[9279525,4232095,1738315,442308,4469979,2445618,5009067,1291695,2682462,153936,14100005,854885,2977019,63149,22223309,216964,1438760,20860941,420702,284320,5581001,2664249,580653,6464046,748747,863308,1019729,4762912,2917802,3838168,1022556,516556,9939217,6446316,485831,3379468,33119096,257700,2534927,60011,2755589,2143249,2526994,14264935,8504667,290243,8322925,1219113,3647735,5824797,2672000,3080907],\"sizemode\":\"area\",\"sizeref\":3296707.74,\"symbol\":\"circle\"},\"mode\":\"markers\",\"name\":\"Africa\",\"showlegend\":true,\"x\":[2449.008185,3520.610273,1062.7522,851.2411407,543.2552413,339.2964587,1172.667655,1071.310713,1178.665927,1102.990936,780.5423257,2125.621418,1388.594732,2669.529475,1418.822445,375.6431231,328.9405571000001,362.1462796,4293.476475,485.2306591,911.2989371,510.1964923000001,299.850319,853.5409189999998,298.8462121,575.5729961000002,2387.54806,1443.011715,369.1650802,452.3369807,743.1159097,1967.955707,1688.20357,468.5260381,2423.780443,761.879376,1077.281856,2718.885295,493.3238752,879.5835855,1450.356983,879.7877358,1135.749842,4725.295531000002,1615.991129,1148.376626,716.6500721,859.8086567,1468.475631,734.753484,1147.388831,406.8841148],\"xaxis\":\"x10\",\"y\":[43.077,30.015,38.223,47.622,31.975,39.031,38.523,35.463,38.092,40.715,39.143,42.111,40.477,34.812,41.893,34.482,35.92800000000001,34.078,37.003,30.0,43.149,33.609,32.5,42.27,42.13800000000001,38.48,42.723,36.681,36.256,33.685,40.543,50.986,42.87300000000001,31.286,41.725,37.444,36.324,52.724,40.0,46.471,37.278,30.331,32.978,45.00899999999999,38.635,41.407,41.215,38.596,44.6,39.978,42.038,48.451],\"yaxis\":\"y10\",\"type\":\"scattergl\"},{\"hovertemplate\":\"continent=Africa<br>year=1957<br>gdpPercap=%{x}<br>lifeExp=%{y}<br>pop=%{marker.size}<extra></extra>\",\"legendgroup\":\"Africa\",\"marker\":{\"color\":\"#00cc96\",\"size\":[10270856,4561361,1925173,474639,4713416,2667518,5359923,1392284,2894855,170928,15577932,940458,3300000,71851,25009741,232922,1542611,22815614,434904,323150,6391288,2876726,601095,7454779,813338,975950,1201578,5181679,3221238,4241884,1076852,609816,11406350,7038035,548080,3692184,37173340,308700,2822082,61325,3054547,2295678,2780415,16151549,9753392,326741,9452826,1357445,3950849,6675501,3016000,3646340],\"sizemode\":\"area\",\"sizeref\":3296707.74,\"symbol\":\"circle\"},\"mode\":\"markers\",\"name\":\"Africa\",\"showlegend\":false,\"x\":[3013.976023,3827.940465,959.6010805,918.2325349,617.1834647999998,379.5646281000001,1313.048099,1190.844328,1308.495577,1211.148548,905.8602303,2315.056572,1500.895925,2864.9690760000008,1458.915272,426.0964081,344.1618859,378.9041632,4976.198099,520.9267111,1043.5615369999996,576.2670245,431.79045660000014,944.4383152,335.9971151000001,620.9699901,3448.284395,1589.20275,416.3698064,490.3821867,846.1202613,2034.037981,1642.002314,495.58683330000014,2621.448058,835.5234025000002,1100.5925630000004,2769.451844,540.2893982999999,860.7369026,1567.653006,1004.484437,1258.147413,5487.104219,1770.3370739999998,1244.708364,698.5356073,925.9083202,1395.232468,774.3710692000002,1311.956766,518.7642681],\"xaxis\":\"x11\",\"y\":[45.685,31.999,40.358,49.618,34.906,40.533,40.428,37.464,39.881,42.46,40.652,45.053,42.469,37.328,44.444,35.98300000000001,38.047,36.667,38.999,32.065,44.779,34.558,33.489000000000004,44.68600000000001,45.047,39.486,45.289,38.865,37.207,35.30699999999999,42.338,58.089,45.423,33.779,45.226000000000006,38.598,37.802,55.09,41.5,48.945,39.329,31.57,34.977,47.985,39.624,43.424,42.974,41.208,47.1,42.57100000000001,44.077,50.469],\"yaxis\":\"y11\",\"type\":\"scattergl\"},{\"hovertemplate\":\"continent=Africa<br>year=1962<br>gdpPercap=%{x}<br>lifeExp=%{y}<br>pop=%{marker.size}<extra></extra>\",\"legendgroup\":\"Africa\",\"marker\":{\"color\":\"#00cc96\",\"size\":[11000948,4826015,2151895,512764,4919632,2961915,5793633,1523478,3150417,191689,17486434,1047924,3832408,89898,28173309,249220,1666618,25145372,455661,374020,7355248,3140003,627820,8678557,893143,1112796,1441863,5703324,3628608,4690372,1146757,701016,13056604,7788944,621392,4076008,41871351,358900,3051242,65345,3430243,2467895,3080153,18356657,11183227,370006,10863958,1528098,4286552,7688797,3421000,4277736],\"sizemode\":\"area\",\"sizeref\":3296707.74,\"symbol\":\"circle\"},\"mode\":\"markers\",\"name\":\"Africa\",\"showlegend\":false,\"x\":[2550.81688,4269.276742,949.4990641,983.6539764,722.5120206,355.2032273,1399.607441,1193.068753,1389.817618,1406.648278,896.3146335000001,2464.783157,1728.8694280000002,3020.989263,1693.335853,582.8419713999998,380.9958433000001,419.4564161,6631.459222,599.650276,1190.041118,686.3736739,522.0343725,896.9663732,411.8006266,634.1951625,6757.030816,1643.38711,427.9010856,496.1743428,1055.896036,2529.0674870000007,1566.353493,556.6863539,3173.215595,997.7661127,1150.9274779999996,3173.72334,597.4730727000001,1071.551119,1654.988723,1116.6398769999996,1369.488336,5768.729717,1959.593767,1856.182125,722.0038073,1067.53481,1660.30321,767.2717397999999,1452.725766,527.2721818],\"xaxis\":\"x12\",\"y\":[48.303,34.0,42.618,51.52,37.814,42.045,42.643,39.475,41.716,44.467,42.122,48.435,44.93,39.69300000000001,46.992,37.485,40.158,40.059,40.489,33.896,46.452,35.753,34.488,47.949,47.747,40.502,47.808,40.848,38.41,36.936,44.24800000000001,60.246,47.924,36.161,48.386,39.487,39.36,57.666,43.0,51.893,41.45399999999999,32.767,36.981,49.951,40.87,44.992,44.246,43.922,49.57899999999999,45.344,46.023,52.358],\"yaxis\":\"y12\",\"type\":\"scattergl\"},{\"hovertemplate\":\"continent=Africa<br>year=1967<br>gdpPercap=%{x}<br>lifeExp=%{y}<br>pop=%{marker.size}<extra></extra>\",\"legendgroup\":\"Africa\",\"marker\":{\"color\":\"#00cc96\",\"size\":[12760499,5247469,2427334,553541,5127935,3330989,6335506,1733638,3495967,217378,19941073,1179760,4744870,127617,31681188,259864,1820319,27860297,489004,439593,8490213,3451418,601287,10191512,996380,1279406,1759224,6334556,4147252,5212416,1230542,789309,14770296,8680909,706640,4534062,47287752,414024,3451079,70787,3965841,2662190,3428839,20997321,12716129,420690,12607312,1735550,4786986,8900294,3900000,4995432],\"sizemode\":\"area\",\"sizeref\":3296707.74,\"symbol\":\"circle\"},\"mode\":\"markers\",\"name\":\"Africa\",\"showlegend\":false,\"x\":[3246.991771,5522.776375,1035.831411,1214.709294,794.8265597,412.97751360000007,1508.453148,1136.056615,1196.810565,1876.029643,861.5932424,2677.9396420000007,2052.050473,3020.050513,1814.880728,915.5960025,468.7949699,516.1186438,8358.761987,734.7829124,1125.69716,708.7595409,715.5806402000002,1056.736457,498.6390265,713.6036482999998,18772.75169,1634.047282,495.5147806,545.0098873,1421.145193,2475.387562,1711.04477,566.6691539,3793.694753,1054.384891,1014.514104,4021.175739,510.9637142,1384.840593,1612.404632,1206.043465,1284.7331800000004,7114.477970999998,1687.997641,2613.101665,848.2186575,1477.59676,1932.3601670000005,908.9185217,1777.077318,569.7950712],\"xaxis\":\"x7\",\"y\":[51.407,35.985,44.885,53.298,40.697,43.548,44.799,41.478,43.601000000000006,46.472,44.056,52.04,47.35,42.074,49.293,38.987,42.18899999999999,42.115,44.598,35.857,48.072,37.197,35.492,50.654,48.492,41.536,50.227,42.881,39.487,38.487,46.289,61.557,50.335,38.113,51.159,40.118,41.04,60.542,44.1,54.425,43.563,34.113,38.977,51.927,42.858,46.633,45.757,46.769,52.053,48.051,47.768,53.995],\"yaxis\":\"y7\",\"type\":\"scattergl\"},{\"hovertemplate\":\"continent=Africa<br>year=1972<br>gdpPercap=%{x}<br>lifeExp=%{y}<br>pop=%{marker.size}<extra></extra>\",\"legendgroup\":\"Africa\",\"marker\":{\"color\":\"#00cc96\",\"size\":[14760787,5894858,2761407,619351,5433886,3529983,7021028,1927260,3899068,250027,23007669,1340458,6071696,178848,34807417,277603,2260187,30770372,537977,517101,9354120,3811387,625361,12044785,1116779,1482628,2183877,7082430,4730997,5828158,1332786,851334,16660670,9809596,821782,5060262,53740085,461633,3992121,76595,4588696,2879013,3840161,23935810,14597019,480105,14706593,2056351,5303507,10190285,4506497,5861135],\"sizemode\":\"area\",\"sizeref\":3296707.74,\"symbol\":\"circle\"},\"mode\":\"markers\",\"name\":\"Africa\",\"showlegend\":false,\"x\":[4182.663766,5473.288004999999,1085.796879,2263.6111140000007,854.7359763000002,464.0995039,1684.1465280000002,1070.013275,1104.103987,1937.577675,904.8960685,3213.152683,2378.201111,3694.2123520000014,2024.008147,672.4122571,514.3242081999998,566.2439442000001,11401.94841,756.0868363,1178.223708,741.6662307,820.2245876000002,1222.359968,496.5815922000001,803.0054535,21011.49721,1748.562982,584.6219709,581.3688761,1586.851781,2575.484158,1930.194975,724.9178037,3746.080948,954.2092363,1698.388838,5047.658563,590.5806637999998,1532.985254,1597.712056,1353.759762,1254.576127,7765.962636,1659.652775,3364.836625,915.9850592,1649.660188,2753.2859940000008,950.735869,1773.498265,799.3621757999998],\"xaxis\":\"x8\",\"y\":[54.518,37.928,47.014,56.024,43.591,44.057,47.049,43.457,45.569,48.944,45.989,54.907,49.801,44.36600000000001,51.137,40.516,44.142,43.515,48.69,38.308,49.875,38.842,36.486,53.559,49.767,42.614,52.773,44.851000000000006,41.76600000000001,39.977,48.437,62.944,52.862,40.328,53.867,40.546,42.82100000000001,64.274,44.6,56.48,45.815,35.4,40.973,53.69600000000001,45.083,49.552,47.62,49.75899999999999,55.602,51.01600000000001,50.107,55.635],\"yaxis\":\"y8\",\"type\":\"scattergl\"},{\"hovertemplate\":\"continent=Africa<br>year=1977<br>gdpPercap=%{x}<br>lifeExp=%{y}<br>pop=%{marker.size}<extra></extra>\",\"legendgroup\":\"Africa\",\"marker\":{\"color\":\"#00cc96\",\"size\":[17152804,6162675,3168267,781472,5889574,3834415,7959865,2167533,4388260,304739,26480870,1536769,7459574,228694,38783863,192675,2512642,34617799,706367,608274,10538093,4227026,745228,14500404,1251524,1703617,2721783,8007166,5637246,6491649,1456688,913025,18396941,11127868,977026,5682086,62209173,492095,4657072,86796,5260855,3140897,4353666,27129932,17104986,551425,17129565,2308582,6005061,11457758,5216550,6642107],\"sizemode\":\"area\",\"sizeref\":3296707.74,\"symbol\":\"circle\"},\"mode\":\"markers\",\"name\":\"Africa\",\"showlegend\":false,\"x\":[4910.416756000001,3008.647355,1029.161251,3214.857818,743.3870368,556.1032651,1783.432873,1109.374338,1133.98495,1172.603047,795.757282,3259.178978,2517.736547,3081.761022,2785.493582,958.5668124,505.7538077,556.8083834,21745.57328,884.7552507000001,993.2239571,874.6858642999998,764.7259627999998,1267.613204,745.3695408,640.3224382999998,21951.21176,1544.228586,663.2236766,686.3952693,1497.492223,3710.982963,2370.619976,502.3197334,3876.485958,808.8970727999998,1981.951806,4319.804067,670.0806011,1737.561657,1561.769116,1348.285159,1450.992513,8028.651439,2202.988423,3781.410618,962.4922932,1532.776998,3120.876811,843.7331372000001,1588.688299,685.5876821],\"xaxis\":\"x9\",\"y\":[58.014,39.483,49.19,59.319,46.137,45.91,49.355,46.775,47.383,50.93899999999999,47.804,55.625,52.374,46.519,53.319,42.024,44.535,44.51,52.79,41.842,51.756,40.762,37.465,56.155,52.208,43.764,57.442,46.881,43.767,41.714,50.852,64.93,55.73,42.495,56.437,41.291,44.514,67.064,45.0,58.55,48.879,36.788,41.974,55.527,47.8,52.537,49.919,52.887,59.837,50.35,51.386,57.674],\"yaxis\":\"y9\",\"type\":\"scattergl\"},{\"hovertemplate\":\"continent=Africa<br>year=1982<br>gdpPercap=%{x}<br>lifeExp=%{y}<br>pop=%{marker.size}<extra></extra>\",\"legendgroup\":\"Africa\",\"marker\":{\"color\":\"#00cc96\",\"size\":[20033753,7016384,3641603,970347,6634596,4580410,9250831,2476971,4875118,348643,30646495,1774735,9025951,305991,45681811,285483,2637297,38111756,753874,715523,11400338,4710497,825987,17661452,1411807,1956875,3344074,9171477,6502825,6998256,1622136,992040,20198730,12587223,1099010,6437188,73039376,517810,5507565,98593,6147783,3464522,5828892,31140029,20367053,649901,19844382,2644765,6734098,12939400,6100407,7636524],\"sizemode\":\"area\",\"sizeref\":3296707.74,\"symbol\":\"circle\"},\"mode\":\"markers\",\"name\":\"Africa\",\"showlegend\":false,\"x\":[5745.160213,2756.953672,1277.897616,4551.14215,807.1985855,559.6032309999998,2367.983282,956.7529907,797.9081006,1267.100083,673.7478181,4879.507522,2602.710169,2879.468067,3503.729636,927.8253427,524.8758493,577.8607471,15113.36194,835.8096107999999,876.032569,857.2503577,838.1239671,1348.225791,797.2631074,572.1995694,17364.275380000006,1302.878658,632.8039209,618.0140640999998,1481.150189,3688.037739,2702.620356,462.2114149,4191.100511,909.7221354,1576.97375,5267.219353,881.5706467,1890.218117,1518.479984,1465.010784,1176.807031,8568.266228,1895.544073,3895.384018,874.2426069,1344.577953,3560.2331740000004,682.2662267999998,1408.678565,788.8550411],\"xaxis\":\"x4\",\"y\":[61.368,39.942,50.904,61.484,48.122,47.471,52.96100000000001,48.295,49.517,52.933,47.784,56.695,53.983,48.812,56.006,43.662,43.89,44.916,56.56399999999999,45.58,53.744,42.89100000000001,39.327,58.76600000000001,55.078,44.852,62.155,48.969,45.642,43.916,53.599,66.711,59.65,42.795,58.968,42.598,45.826,69.885,46.218,60.351000000000006,52.379,38.445,42.955,58.161,50.338,55.56100000000001,50.608,55.471,64.048,49.849,51.82100000000001,60.363],\"yaxis\":\"y4\",\"type\":\"scattergl\"},{\"hovertemplate\":\"continent=Africa<br>year=1987<br>gdpPercap=%{x}<br>lifeExp=%{y}<br>pop=%{marker.size}<extra></extra>\",\"legendgroup\":\"Africa\",\"marker\":{\"color\":\"#00cc96\",\"size\":[23254956,7874230,4243788,1151184,7586551,5126023,10780667,2840009,5498955,395114,35481645,2064095,10761098,311025,52799062,341244,2915959,42999530,880397,848406,14168101,5650262,927524,21198082,1599200,2269414,3799845,10568642,7824747,7634008,1841240,1042663,22987397,12891952,1278184,7332638,81551520,562035,6349365,110812,7171347,3868905,6921858,35933379,24725960,779348,23040630,3154264,7724976,15283050,7272406,9216418],\"sizemode\":\"area\",\"sizeref\":3296707.74,\"symbol\":\"circle\"},\"mode\":\"markers\",\"name\":\"Africa\",\"showlegend\":false,\"x\":[5681.358539,2430.208311,1225.85601,6205.88385,912.0631417,621.8188188999999,2602.664206,844.8763504000002,952.386129,1315.980812,672.774812,4201.194936999998,2156.9560690000008,2880.102568,3885.46071,966.8968149,521.1341333,573.7413142000001,11864.40844,611.6588611000002,847.0061135,805.5724717999999,736.4153921,1361.936856,773.9932140999998,506.1138573,11770.5898,1155.441948,635.5173633999998,684.1715576,1421.603576,4783.586903,2755.046991,389.8761846,3693.731337,668.3000228,1385.029563,5303.377488,847.991217,1516.525457,1441.72072,1294.4477880000004,1093.244963,7825.823398,1507.819159,3984.839812,831.8220794,1202.201361,3810.419296,617.7244065,1213.315116,706.1573059],\"xaxis\":\"x5\",\"y\":[65.79899999999999,39.906,52.337,63.622,49.557,48.21100000000001,54.985,50.485,51.051,54.926,47.412,57.47,54.655,50.04,59.797,45.664,46.453,46.684,60.19,49.265,55.729,45.552,41.245,59.339,57.18,46.027,66.234,49.35,47.457,46.364,56.145,68.74,62.677,42.861,60.835,44.555,46.886,71.913,44.02,61.728,55.769,40.006,44.50100000000001,60.834,51.744,57.678,51.535,56.941,66.89399999999999,51.50899999999999,50.82100000000001,62.351000000000006],\"yaxis\":\"y5\",\"type\":\"scattergl\"},{\"hovertemplate\":\"continent=Africa<br>year=1992<br>gdpPercap=%{x}<br>lifeExp=%{y}<br>pop=%{marker.size}<extra></extra>\",\"legendgroup\":\"Africa\",\"marker\":{\"color\":\"#00cc96\",\"size\":[26298373,8735988,4981671,1342614,8878303,5809236,12467171,3265124,6429417,454429,41672143,2409073,12772596,384156,59402198,387838,3668440,52088559,985739,1025384,16278738,6990574,1050938,25020539,1803195,1912974,4364501,12210395,10014249,8416215,2119465,1096202,25798239,13160731,1554253,8392818,93364244,622191,7290203,125911,8307920,4260884,6099799,39964159,28227588,962344,26605473,3747553,8523077,18252190,8381163,10704340],\"sizemode\":\"area\",\"sizeref\":3296707.74,\"symbol\":\"circle\"},\"mode\":\"markers\",\"name\":\"Africa\",\"showlegend\":false,\"x\":[5023.216647,2627.845685,1191.207681,7954.111645,931.7527731,631.6998778,1793.1632780000002,747.9055252,1058.0643,1246.90737,457.7191807,4016.239529,1648.073791,2377.156192000001,3794.755195,1132.055034,582.8585102000002,421.3534653,13522.15752,665.6244126,925.060154,794.3484384,745.5398706,1341.9217210000004,977.4862725,636.6229191000001,9640.138501,1040.67619,563.2000145,739.014375,1361.369784,6058.253846000001,2948.047252,410.8968239,3804.537999,581.182725,1619.848217,6101.255823,737.0685949,1428.777814,1367.899369,1068.696278,926.9602964,7225.069257999998,1492.197043,3553.0224,825.682454,1034.298904,4332.720164,644.1707968999998,1210.884633,693.4207856],\"xaxis\":\"x6\",\"y\":[67.744,40.647,53.919,62.745,50.26,44.736,54.31399999999999,49.396,51.724,57.93899999999999,45.548,56.433,52.044,51.604,63.674,47.545,49.99100000000001,48.091,61.36600000000001,52.644,57.50100000000001,48.576,43.26600000000001,59.285,59.685,40.802,68.755,52.214,49.42,48.38800000000001,58.333,69.745,65.393,44.284,61.999,47.39100000000001,47.472,73.615,23.599,62.742,58.19600000000001,38.333,39.658,61.88800000000001,53.556,58.474,50.44,58.06100000000001,70.001,48.825,46.1,60.377],\"yaxis\":\"y6\",\"type\":\"scattergl\"},{\"hovertemplate\":\"continent=Africa<br>year=1997<br>gdpPercap=%{x}<br>lifeExp=%{y}<br>pop=%{marker.size}<extra></extra>\",\"legendgroup\":\"Africa\",\"marker\":{\"color\":\"#00cc96\",\"size\":[29072015,9875024,6066080,1536536,10352843,6121610,14195809,3696513,7562011,527982,47798986,2800947,14625967,417908,66134291,439971,4058319,59861301,1126189,1235767,18418288,8048834,1193708,28263827,1982823,2200725,4759670,14165114,10419991,9384984,2444741,1149818,28529501,16603334,1774766,9666252,106207839,684810,7212583,145608,9535314,4578212,6633514,42835005,32160729,1054486,30686889,4320890,9231669,21210254,9417789,11404948],\"sizemode\":\"area\",\"sizeref\":3296707.74,\"symbol\":\"circle\"},\"mode\":\"markers\",\"name\":\"Africa\",\"showlegend\":false,\"x\":[4797.295051,2277.140884,1232.975292,8647.142313,946.2949618,463.1151478,1694.337469,740.5063317,1004.961353,1173.618235,312.188423,3484.164376,1786.265407,1895.016984,4173.181797,2814.480755,913.47079,515.8894013,14722.841880000002,653.7301704,1005.245812,869.4497667999998,796.6644681,1360.4850210000004,1186.147994,609.1739508,9467.446056,986.2958956,692.2758102999999,790.2579846,1483.136136,7425.705295000002,2982.101858,472.34607710000006,3899.52426,580.3052092,1624.941275,6071.941411,589.9445051,1339.076036,1392.368347,574.6481576,930.5964284,7479.188244,1632.2107640000004,3876.76846,789.1862231,982.2869243,4876.798614,816.559081,1071.353818,792.4499602999998],\"xaxis\":\"x\",\"y\":[69.152,40.963,54.777,52.556,50.324,45.326,52.199,46.066,51.573,60.66,42.587,52.962,47.99100000000001,53.157,67.217,48.245,53.378,49.402,60.46100000000001,55.861,58.556,51.455,44.87300000000001,54.407,55.558,42.221,71.555,54.978,47.495,49.903,60.43,70.736,67.66,46.344,58.909,51.313,47.464,74.77199999999998,36.087,63.306,60.187,39.897,43.795,60.236,55.37300000000001,54.289,48.466,58.39,71.973,44.578,40.238,46.809],\"yaxis\":\"y\",\"type\":\"scattergl\"},{\"hovertemplate\":\"continent=Africa<br>year=2002<br>gdpPercap=%{x}<br>lifeExp=%{y}<br>pop=%{marker.size}<extra></extra>\",\"legendgroup\":\"Africa\",\"marker\":{\"color\":\"#00cc96\",\"size\":[31287142,10866106,7026113,1630347,12251209,7021078,15929988,4048013,8835739,614382,55379852,3328795,16252726,447416,73312559,495627,4414865,67946797,1299304,1457766,20550751,8807818,1332459,31386842,2046772,2814651,5368585,16473477,11824495,10580176,2828858,1200206,31167783,18473780,1972153,11140655,119901274,743981,7852401,170372,10870037,5359092,7753310,44433622,37090298,1130269,34593779,4977378,9770575,24739869,10595811,11926563],\"sizemode\":\"area\",\"sizeref\":3296707.74,\"symbol\":\"circle\"},\"mode\":\"markers\",\"name\":\"Africa\",\"showlegend\":false,\"x\":[5288.040382,2773.287312,1372.877931,11003.60508,1037.645221,446.4035126,1934.011449,738.6906068,1156.18186,1075.811558,241.1658765,3484.06197,1648.800823,1908.260867,4754.604414,7703.4959,765.3500015,530.0535319,12521.71392,660.5855997,1111.9845779999996,945.5835837,575.7047176,1287.514732,1275.184575,531.4823679,9534.677467,894.6370822,665.4231186000002,951.4097518,1579.019543,9021.815894,3258.495584,633.6179466,4072.324751,601.0745012,1615.286395,6316.1652,785.6537647999999,1353.09239,1519.635262,699.4897129999998,882.0818218000002,7710.946444,1993.398314,4128.116943,899.0742111,886.2205765000001,5722.895654999998,927.7210018,1071.6139380000004,672.0386227000001],\"xaxis\":\"x2\",\"y\":[70.994,41.003,54.40600000000001,46.63399999999999,50.65,47.36,49.856,43.308,50.525,62.974,44.966,52.97,46.832,53.37300000000001,69.806,49.348,55.24,50.725,56.761,58.041,58.453,53.676,45.504,50.992,44.593,43.753,72.737,57.286,45.00899999999999,51.81800000000001,62.247,71.954,69.615,44.026,51.479,54.496,46.608,75.744,43.413,64.337,61.6,41.012,45.93600000000001,53.365,56.369,43.869,49.651,57.56100000000001,73.042,47.813,39.19300000000001,39.989],\"yaxis\":\"y2\",\"type\":\"scattergl\"},{\"hovertemplate\":\"continent=Africa<br>year=2007<br>gdpPercap=%{x}<br>lifeExp=%{y}<br>pop=%{marker.size}<extra></extra>\",\"legendgroup\":\"Africa\",\"marker\":{\"color\":\"#00cc96\",\"size\":[33333216,12420476,8078314,1639131,14326203,8390505,17696293,4369038,10238807,710960,64606759,3800610,18013409,496374,80264543,551201,4906585,76511887,1454867,1688359,22873338,9947814,1472041,35610177,2012649,3193942,6036914,19167654,13327079,12031795,3270065,1250882,33757175,19951656,2055080,12894865,135031164,798094,8860588,199579,12267493,6144562,9118773,43997828,42292929,1133066,38139640,5701579,10276158,29170398,11746035,12311143],\"sizemode\":\"area\",\"sizeref\":3296707.74,\"symbol\":\"circle\"},\"mode\":\"markers\",\"name\":\"Africa\",\"showlegend\":false,\"x\":[6223.367465,4797.231267,1441.284873,12569.85177,1217.032994,430.0706916,2042.09524,706.016537,1704.063724,986.1478792,277.5518587,3632.557798,1544.750112,2082.4815670000007,5581.180998,12154.08975,641.3695236000002,690.8055759,13206.48452,752.7497265,1327.60891,942.6542111,579.2317429999998,1463.249282,1569.331442,414.5073415,12057.49928,1044.770126,759.3499101,1042.581557,1803.151496,10956.99112,3820.17523,823.6856205,4811.060429,619.6768923999998,2013.977305,7670.122558,863.0884639000002,1598.435089,1712.472136,862.5407561000002,926.1410683,9269.657808,2602.394995,4513.480643,1107.482182,882.9699437999999,7092.923025,1056.380121,1271.211593,469.70929810000007],\"xaxis\":\"x3\",\"y\":[72.301,42.731,56.728,50.728,52.295,49.58,50.43,44.74100000000001,50.651,65.152,46.462,55.322,48.328,54.791,71.33800000000002,51.57899999999999,58.04,52.947,56.735,59.448,60.022,56.007,46.38800000000001,54.11,42.592,45.678,73.952,59.44300000000001,48.303,54.467,64.164,72.801,71.164,42.082,52.90600000000001,56.867,46.859,76.442,46.242,65.528,63.062,42.56800000000001,48.159,49.339,58.556,39.613,52.517,58.42,73.923,51.542,42.38399999999999,43.487],\"yaxis\":\"y3\",\"type\":\"scattergl\"},{\"hovertemplate\":\"continent=Americas<br>year=1952<br>gdpPercap=%{x}<br>lifeExp=%{y}<br>pop=%{marker.size}<extra></extra>\",\"legendgroup\":\"Americas\",\"marker\":{\"color\":\"#ab63fa\",\"size\":[17876956,2883315,56602560,14785584,6377619,12350771,926317,6007797,2491346,3548753,2042865,3146381,3201488,1517453,1426095,30144317,1165790,940080,1555876,8025700,2227000,662850,157553000,2252965,5439568],\"sizemode\":\"area\",\"sizeref\":3296707.74,\"symbol\":\"circle\"},\"mode\":\"markers\",\"name\":\"Americas\",\"showlegend\":true,\"x\":[5911.315053,2677.326347,2108.944355,11367.16112,3939.978789,2144.115096,2627.0094710000008,5586.53878,1397.717137,3522.110717,3048.3029,2428.2377690000008,1840.366939,2194.926204,2898.530881,3478.125529,3112.363948,2480.380334,1952.308701,3758.523437,3081.959785,3023.271928,13990.482080000002,5716.766744,7689.799761],\"xaxis\":\"x10\",\"y\":[62.485,40.414,50.917,68.75,54.745,50.643,57.206,59.42100000000001,45.928,48.357,45.262,42.023,37.579,41.912,58.53,50.789,42.31399999999999,55.191,62.649,43.902,64.28,59.1,68.44,66.071,55.088],\"yaxis\":\"y10\",\"type\":\"scattergl\"},{\"hovertemplate\":\"continent=Americas<br>year=1957<br>gdpPercap=%{x}<br>lifeExp=%{y}<br>pop=%{marker.size}<extra></extra>\",\"legendgroup\":\"Americas\",\"marker\":{\"color\":\"#ab63fa\",\"size\":[19610538,3211738,65551171,17010154,7048426,14485993,1112300,6640752,2923186,4058385,2355805,3640876,3507701,1770390,1535090,35015548,1358828,1063506,1770902,9146100,2260000,764900,171984000,2424959,6702668],\"sizemode\":\"area\",\"sizeref\":3296707.74,\"symbol\":\"circle\"},\"mode\":\"markers\",\"name\":\"Americas\",\"showlegend\":false,\"x\":[6856.8562120000015,2127.686326,2487.365989,12489.95006,4315.622723,2323.805581,2990.010802,6092.1743590000015,1544.402995,3780.546651,3421.523218,2617.155967,1726.887882,2220.487682,4756.525781,4131.546641,3457.415947,2961.800905,2046.154706,4245.256697999999,3907.156189,4100.3934,14847.12712,6150.772969,9802.466526],\"xaxis\":\"x11\",\"y\":[64.399,41.89,53.285,69.96,56.074,55.118,60.026,62.325,49.828,51.356,48.57,44.142,40.696,44.665,62.61,55.19,45.432,59.201,63.19600000000001,46.26300000000001,68.54,61.8,69.49,67.044,57.907],\"yaxis\":\"y11\",\"type\":\"scattergl\"},{\"hovertemplate\":\"continent=Americas<br>year=1962<br>gdpPercap=%{x}<br>lifeExp=%{y}<br>pop=%{marker.size}<extra></extra>\",\"legendgroup\":\"Americas\",\"marker\":{\"color\":\"#ab63fa\",\"size\":[21283783,3593918,76039390,18985849,7961258,17009885,1345187,7254373,3453434,4681707,2747687,4208858,3880130,2090162,1665128,41121485,1590597,1215725,2009813,10516500,2448046,887498,186538000,2598466,8143375],\"sizemode\":\"area\",\"sizeref\":3296707.74,\"symbol\":\"circle\"},\"mode\":\"markers\",\"name\":\"Americas\",\"showlegend\":false,\"x\":[7133.166023000002,2180.972546,3336.585802,13462.48555,4519.094331,2492.351109,3460.937025,5180.75591,1662.137359,4086.114078,3776.803627,2750.364446,1796.589032,2291.156835,5246.107524,4581.609385,3634.364406,3536.540301,2148.027146,4957.037982,5108.34463,4997.523971000001,16173.14586,5603.357717,8422.974165000001],\"xaxis\":\"x12\",\"y\":[65.142,43.428,55.665,71.3,57.924,57.863,62.842,65.24600000000001,53.459,54.64,52.307,46.95399999999999,43.59,48.041,65.61,58.299,48.632,61.817,64.361,49.096,69.62,64.9,70.21,68.253,60.77],\"yaxis\":\"y12\",\"type\":\"scattergl\"},{\"hovertemplate\":\"continent=Americas<br>year=1967<br>gdpPercap=%{x}<br>lifeExp=%{y}<br>pop=%{marker.size}<extra></extra>\",\"legendgroup\":\"Americas\",\"marker\":{\"color\":\"#ab63fa\",\"size\":[22934225,4040665,88049823,20819767,8858908,19764027,1588717,8139332,4049146,5432424,3232927,4690773,4318137,2500689,1861096,47995559,1865490,1405486,2287985,12132200,2648961,960155,198712000,2748579,9709552],\"sizemode\":\"area\",\"sizeref\":3296707.74,\"symbol\":\"circle\"},\"mode\":\"markers\",\"name\":\"Americas\",\"showlegend\":false,\"x\":[8052.953020999998,2586.886053,3429.864357,16076.58803,5106.654313,2678.729839,4161.727834,5690.268015,1653.7230029999996,4579.074215,4358.595393,3242.531147,1452.057666,2538.269358,6124.703450999999,5754.733883,4643.393534000002,4421.009084,2299.376311,5788.09333,6929.277714,5621.368472,19530.36557,5444.61962,9541.474188],\"xaxis\":\"x7\",\"y\":[65.634,45.032,57.632,72.13,60.523,59.963,65.42399999999999,68.29,56.75100000000001,56.678,55.855,50.01600000000001,46.243,50.924,67.51,60.11,51.88399999999999,64.071,64.95100000000001,51.445,71.1,65.4,70.76,68.468,63.479],\"yaxis\":\"y7\",\"type\":\"scattergl\"},{\"hovertemplate\":\"continent=Americas<br>year=1972<br>gdpPercap=%{x}<br>lifeExp=%{y}<br>pop=%{marker.size}<extra></extra>\",\"legendgroup\":\"Americas\",\"marker\":{\"color\":\"#ab63fa\",\"size\":[24779799,4565872,100840058,22284500,9717524,22542890,1834796,8831348,4671329,6298651,3790903,5149581,4698301,2965146,1997616,55984294,2182908,1616384,2614104,13954700,2847132,975199,209896000,2829526,11515649],\"sizemode\":\"area\",\"sizeref\":3296707.74,\"symbol\":\"circle\"},\"mode\":\"markers\",\"name\":\"Americas\",\"showlegend\":false,\"x\":[9443.038526,2980.331339,4985.711467,18970.57086,5494.024437,3264.660041,5118.146939,5305.445256,2189.874499,5280.99471,4520.246008,4031.408271,1654.456946,2529.842345,7433.889293000001,6809.406690000002,4688.593267,5364.249663000001,2523.337977,5937.827283,9123.041742,6619.551418999999,21806.03594,5703.408898,10505.25966],\"xaxis\":\"x8\",\"y\":[67.065,46.714,59.504,72.88,63.441,61.62300000000001,67.84899999999999,70.723,59.631,58.79600000000001,58.207,53.738,48.042,53.88399999999999,69.0,62.361,55.151,66.21600000000001,65.815,55.448,72.16,65.9,71.34,68.673,65.712],\"yaxis\":\"y8\",\"type\":\"scattergl\"},{\"hovertemplate\":\"continent=Americas<br>year=1977<br>gdpPercap=%{x}<br>lifeExp=%{y}<br>pop=%{marker.size}<extra></extra>\",\"legendgroup\":\"Americas\",\"marker\":{\"color\":\"#ab63fa\",\"size\":[26983828,5079716,114313951,23796400,10599793,25094412,2108457,9537988,5302800,7278866,4282586,5703430,4908554,3055235,2156814,63759976,2554598,1839782,2984494,15990099,3080828,1039009,220239000,2873520,13503563],\"sizemode\":\"area\",\"sizeref\":3296707.74,\"symbol\":\"circle\"},\"mode\":\"markers\",\"name\":\"Americas\",\"showlegend\":false,\"x\":[10079.02674,3548.097832,6660.118654,22090.88306,4756.763836,3815.80787,5926.876967,6380.494965999998,2681.9889,6679.62326,5138.922374,4879.992748,1874.298931,3203.208066,6650.195573,7674.929108,5486.371089,5351.912144,3248.373311,6281.290854999998,9770.524921,7899.554209000001,24072.63213,6504.339663000002,13143.95095],\"xaxis\":\"x9\",\"y\":[68.48100000000001,50.023,61.489,74.21,67.05199999999999,63.837,70.75,72.649,61.788,61.31,56.69600000000001,56.029,49.923,57.402,70.11,65.032,57.47,68.681,66.35300000000001,58.447,73.44,68.3,73.38,69.48100000000001,67.456],\"yaxis\":\"y9\",\"type\":\"scattergl\"},{\"hovertemplate\":\"continent=Americas<br>year=1982<br>gdpPercap=%{x}<br>lifeExp=%{y}<br>pop=%{marker.size}<extra></extra>\",\"legendgroup\":\"Americas\",\"marker\":{\"color\":\"#ab63fa\",\"size\":[29341374,5642224,128962939,25201900,11487112,27764644,2424367,9789224,5968349,8365850,4474873,6395630,5198399,3669448,2298309,71640904,2979423,2036305,3366439,18125129,3279001,1116479,232187835,2953997,15620766],\"sizemode\":\"area\",\"sizeref\":3296707.74,\"symbol\":\"circle\"},\"mode\":\"markers\",\"name\":\"Americas\",\"showlegend\":false,\"x\":[8997.897412,3156.510452,7030.835878,22898.79214,5095.6657380000015,4397.575659,5262.734751,7316.918106999998,2861.092386,7213.791267,4098.344175,4820.49479,2011.159549,3121.7607940000007,6068.05135,9611.147541,3470.3381560000007,7009.601598,4258.503604,6434.501797,10330.98915,9119.528607,25009.55914,6920.223051000001,11152.41011],\"xaxis\":\"x4\",\"y\":[69.942,53.859,63.33600000000001,75.76,70.565,66.653,73.45,73.717,63.727,64.342,56.604,58.137,51.46100000000001,60.909,71.21,67.405,59.298,70.472,66.874,61.40600000000001,73.75,68.832,74.65,70.805,68.557],\"yaxis\":\"y4\",\"type\":\"scattergl\"},{\"hovertemplate\":\"continent=Americas<br>year=1987<br>gdpPercap=%{x}<br>lifeExp=%{y}<br>pop=%{marker.size}<extra></extra>\",\"legendgroup\":\"Americas\",\"marker\":{\"color\":\"#ab63fa\",\"size\":[31620918,6156369,142938076,26549700,12463354,30964245,2799811,10239839,6655297,9545158,4842194,7326406,5756203,4372203,2326606,80122492,3344353,2253639,3886512,20195924,3444468,1191336,242803533,3045153,17910182],\"sizemode\":\"area\",\"sizeref\":3296707.74,\"symbol\":\"circle\"},\"mode\":\"markers\",\"name\":\"Americas\",\"showlegend\":false,\"x\":[9139.671389,2753.69149,7807.095818000002,26626.51503,5547.063754,4903.2191,5629.915318,7532.924762999999,2899.842175,6481.776993,4140.442097,4246.485974,1823.015995,3023.096699,6351.237495,8688.156003,2955.984375,7034.779161,3998.875695,6360.943444,12281.34191,7388.597823,29884.350410000006,7452.398969,9883.584648],\"xaxis\":\"x5\",\"y\":[70.774,57.25100000000001,65.205,76.86,72.492,67.768,74.752,74.17399999999998,66.046,67.23100000000001,63.154,60.782,53.636,64.492,71.77,69.498,62.008,71.523,67.378,64.134,74.63,69.582,75.02,71.918,70.19],\"yaxis\":\"y5\",\"type\":\"scattergl\"},{\"hovertemplate\":\"continent=Americas<br>year=1992<br>gdpPercap=%{x}<br>lifeExp=%{y}<br>pop=%{marker.size}<extra></extra>\",\"legendgroup\":\"Americas\",\"marker\":{\"color\":\"#ab63fa\",\"size\":[33958947,6893451,155975974,28523502,13572994,34202721,3173216,10723260,7351181,10748394,5274649,8486949,6326682,5077347,2378618,88111030,4017939,2484997,4483945,22430449,3585176,1183669,256894189,3149262,20265563],\"sizemode\":\"area\",\"sizeref\":3296707.74,\"symbol\":\"circle\"},\"mode\":\"markers\",\"name\":\"Americas\",\"showlegend\":false,\"x\":[9308.41871,2961.699694,6950.283020999998,26342.88426,7596.125964,5444.648617,6160.416317,5592.843963,3044.214214,7103.702595000002,4444.2317,4439.45084,1456.309517,3081.694603,7404.923685,9472.384295,2170.151724,6618.74305,4196.411078,4446.380924,14641.58711,7370.990932,32003.93224,8137.004775,10733.92631],\"xaxis\":\"x6\",\"y\":[71.868,59.957,67.057,77.95,74.126,68.421,75.71300000000002,74.414,68.457,69.613,66.798,63.37300000000001,55.089,66.399,71.766,71.455,65.843,72.462,68.225,66.458,73.911,69.862,76.09,72.752,71.15],\"yaxis\":\"y6\",\"type\":\"scattergl\"},{\"hovertemplate\":\"continent=Americas<br>year=1997<br>gdpPercap=%{x}<br>lifeExp=%{y}<br>pop=%{marker.size}<extra></extra>\",\"legendgroup\":\"Americas\",\"marker\":{\"color\":\"#ab63fa\",\"size\":[36203463,7693188,168546719,30305843,14599929,37657830,3518107,10983007,7992357,11911819,5783439,9803875,6913545,5867957,2531311,95895146,4609572,2734531,5154123,24748122,3759430,1138101,272911760,3262838,22374398],\"sizemode\":\"area\",\"sizeref\":3296707.74,\"symbol\":\"circle\"},\"mode\":\"markers\",\"name\":\"Americas\",\"showlegend\":false,\"x\":[10967.28195,3326.143191,7957.980823999998,28954.92589,10118.05318,6117.361746000001,6677.045314,5431.990415,3614.101285,7429.4558769999985,5154.825496,4684.313807,1341.726931,3160.454906,7121.924704000001,9767.29753,2253.023004,7113.692252,4247.400261,5838.347657,16999.4333,8792.573126000001,35767.43303,9230.240708,10165.49518],\"xaxis\":\"x\",\"y\":[73.275,62.05,69.388,78.61,75.816,70.313,77.26,76.15100000000002,69.957,72.312,69.535,66.322,56.67100000000001,67.65899999999999,72.262,73.67,68.426,73.738,69.4,68.38600000000001,74.917,69.465,76.81,74.223,72.146],\"yaxis\":\"y\",\"type\":\"scattergl\"},{\"hovertemplate\":\"continent=Americas<br>year=2002<br>gdpPercap=%{x}<br>lifeExp=%{y}<br>pop=%{marker.size}<extra></extra>\",\"legendgroup\":\"Americas\",\"marker\":{\"color\":\"#ab63fa\",\"size\":[38331121,8445134,179914212,31902268,15497046,41008227,3834934,11226999,8650322,12921234,6353681,11178650,7607651,6677328,2664659,102479927,5146848,2990875,5884491,26769436,3859606,1101832,287675526,3363085,24287670],\"sizemode\":\"area\",\"sizeref\":3296707.74,\"symbol\":\"circle\"},\"mode\":\"markers\",\"name\":\"Americas\",\"showlegend\":false,\"x\":[8797.640716,3413.26269,8131.212843000001,33328.96507,10778.78385,5755.259962,7723.447195000002,6340.646683,4563.808154,5773.044512,5351.568665999999,4858.347495,1270.364932,3099.72866,6994.774861,10742.44053,2474.548819,7356.0319340000015,3783.674243,5909.020073,18855.60618,11460.60023,39097.09955,7727.002004000001,8605.047831],\"xaxis\":\"x2\",\"y\":[74.34,63.883,71.006,79.77,77.86,71.682,78.123,77.158,70.847,74.173,70.734,68.97800000000001,58.137,68.565,72.047,74.902,70.836,74.712,70.755,69.906,77.778,68.976,77.31,75.307,72.766],\"yaxis\":\"y2\",\"type\":\"scattergl\"},{\"hovertemplate\":\"continent=Americas<br>year=2007<br>gdpPercap=%{x}<br>lifeExp=%{y}<br>pop=%{marker.size}<extra></extra>\",\"legendgroup\":\"Americas\",\"marker\":{\"color\":\"#ab63fa\",\"size\":[40301927,9119152,190010647,33390141,16284741,44227550,4133884,11416987,9319622,13755680,6939688,12572928,8502814,7483763,2780132,108700891,5675356,3242173,6667147,28674757,3942491,1056608,301139947,3447496,26084662],\"sizemode\":\"area\",\"sizeref\":3296707.74,\"symbol\":\"circle\"},\"mode\":\"markers\",\"name\":\"Americas\",\"showlegend\":false,\"x\":[12779.37964,3822.137084,9065.800825,36319.23501,13171.63885,7006.580419,9645.06142,8948.102923,6025.3747520000015,6873.262326000001,5728.353514,5186.050003,1201.637154,3548.3308460000007,7320.8802620000015,11977.57496,2749.320965,9809.185636,4172.838464,7408.905561,19328.70901,18008.50924,42951.65309,10611.46299,11415.80569],\"xaxis\":\"x3\",\"y\":[75.32,65.554,72.39,80.653,78.553,72.889,78.782,78.273,72.235,74.994,71.878,70.259,60.916,70.19800000000001,72.567,76.195,72.899,75.53699999999998,71.752,71.421,78.74600000000002,69.819,78.242,76.384,73.747],\"yaxis\":\"y3\",\"type\":\"scattergl\"},{\"hovertemplate\":\"continent=Oceania<br>year=1952<br>gdpPercap=%{x}<br>lifeExp=%{y}<br>pop=%{marker.size}<extra></extra>\",\"legendgroup\":\"Oceania\",\"marker\":{\"color\":\"#FFA15A\",\"size\":[8691212,1994794],\"sizemode\":\"area\",\"sizeref\":3296707.74,\"symbol\":\"circle\"},\"mode\":\"markers\",\"name\":\"Oceania\",\"showlegend\":true,\"x\":[10039.59564,10556.57566],\"xaxis\":\"x10\",\"y\":[69.12,69.39],\"yaxis\":\"y10\",\"type\":\"scattergl\"},{\"hovertemplate\":\"continent=Oceania<br>year=1957<br>gdpPercap=%{x}<br>lifeExp=%{y}<br>pop=%{marker.size}<extra></extra>\",\"legendgroup\":\"Oceania\",\"marker\":{\"color\":\"#FFA15A\",\"size\":[9712569,2229407],\"sizemode\":\"area\",\"sizeref\":3296707.74,\"symbol\":\"circle\"},\"mode\":\"markers\",\"name\":\"Oceania\",\"showlegend\":false,\"x\":[10949.64959,12247.39532],\"xaxis\":\"x11\",\"y\":[70.33,70.26],\"yaxis\":\"y11\",\"type\":\"scattergl\"},{\"hovertemplate\":\"continent=Oceania<br>year=1962<br>gdpPercap=%{x}<br>lifeExp=%{y}<br>pop=%{marker.size}<extra></extra>\",\"legendgroup\":\"Oceania\",\"marker\":{\"color\":\"#FFA15A\",\"size\":[10794968,2488550],\"sizemode\":\"area\",\"sizeref\":3296707.74,\"symbol\":\"circle\"},\"mode\":\"markers\",\"name\":\"Oceania\",\"showlegend\":false,\"x\":[12217.22686,13175.678],\"xaxis\":\"x12\",\"y\":[70.93,71.24],\"yaxis\":\"y12\",\"type\":\"scattergl\"},{\"hovertemplate\":\"continent=Oceania<br>year=1967<br>gdpPercap=%{x}<br>lifeExp=%{y}<br>pop=%{marker.size}<extra></extra>\",\"legendgroup\":\"Oceania\",\"marker\":{\"color\":\"#FFA15A\",\"size\":[11872264,2728150],\"sizemode\":\"area\",\"sizeref\":3296707.74,\"symbol\":\"circle\"},\"mode\":\"markers\",\"name\":\"Oceania\",\"showlegend\":false,\"x\":[14526.12465,14463.918930000002],\"xaxis\":\"x7\",\"y\":[71.1,71.52],\"yaxis\":\"y7\",\"type\":\"scattergl\"},{\"hovertemplate\":\"continent=Oceania<br>year=1972<br>gdpPercap=%{x}<br>lifeExp=%{y}<br>pop=%{marker.size}<extra></extra>\",\"legendgroup\":\"Oceania\",\"marker\":{\"color\":\"#FFA15A\",\"size\":[13177000,2929100],\"sizemode\":\"area\",\"sizeref\":3296707.74,\"symbol\":\"circle\"},\"mode\":\"markers\",\"name\":\"Oceania\",\"showlegend\":false,\"x\":[16788.62948,16046.03728],\"xaxis\":\"x8\",\"y\":[71.93,71.89],\"yaxis\":\"y8\",\"type\":\"scattergl\"},{\"hovertemplate\":\"continent=Oceania<br>year=1977<br>gdpPercap=%{x}<br>lifeExp=%{y}<br>pop=%{marker.size}<extra></extra>\",\"legendgroup\":\"Oceania\",\"marker\":{\"color\":\"#FFA15A\",\"size\":[14074100,3164900],\"sizemode\":\"area\",\"sizeref\":3296707.74,\"symbol\":\"circle\"},\"mode\":\"markers\",\"name\":\"Oceania\",\"showlegend\":false,\"x\":[18334.19751,16233.7177],\"xaxis\":\"x9\",\"y\":[73.49,72.22],\"yaxis\":\"y9\",\"type\":\"scattergl\"},{\"hovertemplate\":\"continent=Oceania<br>year=1982<br>gdpPercap=%{x}<br>lifeExp=%{y}<br>pop=%{marker.size}<extra></extra>\",\"legendgroup\":\"Oceania\",\"marker\":{\"color\":\"#FFA15A\",\"size\":[15184200,3210650],\"sizemode\":\"area\",\"sizeref\":3296707.74,\"symbol\":\"circle\"},\"mode\":\"markers\",\"name\":\"Oceania\",\"showlegend\":false,\"x\":[19477.00928,17632.4104],\"xaxis\":\"x4\",\"y\":[74.74,73.84],\"yaxis\":\"y4\",\"type\":\"scattergl\"},{\"hovertemplate\":\"continent=Oceania<br>year=1987<br>gdpPercap=%{x}<br>lifeExp=%{y}<br>pop=%{marker.size}<extra></extra>\",\"legendgroup\":\"Oceania\",\"marker\":{\"color\":\"#FFA15A\",\"size\":[16257249,3317166],\"sizemode\":\"area\",\"sizeref\":3296707.74,\"symbol\":\"circle\"},\"mode\":\"markers\",\"name\":\"Oceania\",\"showlegend\":false,\"x\":[21888.88903,19007.19129],\"xaxis\":\"x5\",\"y\":[76.32,74.32],\"yaxis\":\"y5\",\"type\":\"scattergl\"},{\"hovertemplate\":\"continent=Oceania<br>year=1992<br>gdpPercap=%{x}<br>lifeExp=%{y}<br>pop=%{marker.size}<extra></extra>\",\"legendgroup\":\"Oceania\",\"marker\":{\"color\":\"#FFA15A\",\"size\":[17481977,3437674],\"sizemode\":\"area\",\"sizeref\":3296707.74,\"symbol\":\"circle\"},\"mode\":\"markers\",\"name\":\"Oceania\",\"showlegend\":false,\"x\":[23424.76683,18363.32494],\"xaxis\":\"x6\",\"y\":[77.56,76.33],\"yaxis\":\"y6\",\"type\":\"scattergl\"},{\"hovertemplate\":\"continent=Oceania<br>year=1997<br>gdpPercap=%{x}<br>lifeExp=%{y}<br>pop=%{marker.size}<extra></extra>\",\"legendgroup\":\"Oceania\",\"marker\":{\"color\":\"#FFA15A\",\"size\":[18565243,3676187],\"sizemode\":\"area\",\"sizeref\":3296707.74,\"symbol\":\"circle\"},\"mode\":\"markers\",\"name\":\"Oceania\",\"showlegend\":false,\"x\":[26997.93657,21050.41377],\"xaxis\":\"x\",\"y\":[78.83,77.55],\"yaxis\":\"y\",\"type\":\"scattergl\"},{\"hovertemplate\":\"continent=Oceania<br>year=2002<br>gdpPercap=%{x}<br>lifeExp=%{y}<br>pop=%{marker.size}<extra></extra>\",\"legendgroup\":\"Oceania\",\"marker\":{\"color\":\"#FFA15A\",\"size\":[19546792,3908037],\"sizemode\":\"area\",\"sizeref\":3296707.74,\"symbol\":\"circle\"},\"mode\":\"markers\",\"name\":\"Oceania\",\"showlegend\":false,\"x\":[30687.75473,23189.80135],\"xaxis\":\"x2\",\"y\":[80.37,79.11],\"yaxis\":\"y2\",\"type\":\"scattergl\"},{\"hovertemplate\":\"continent=Oceania<br>year=2007<br>gdpPercap=%{x}<br>lifeExp=%{y}<br>pop=%{marker.size}<extra></extra>\",\"legendgroup\":\"Oceania\",\"marker\":{\"color\":\"#FFA15A\",\"size\":[20434176,4115771],\"sizemode\":\"area\",\"sizeref\":3296707.74,\"symbol\":\"circle\"},\"mode\":\"markers\",\"name\":\"Oceania\",\"showlegend\":false,\"x\":[34435.367439999995,25185.00911],\"xaxis\":\"x3\",\"y\":[81.235,80.204],\"yaxis\":\"y3\",\"type\":\"scattergl\"}],                        {\"template\":{\"data\":{\"bar\":[{\"error_x\":{\"color\":\"#2a3f5f\"},\"error_y\":{\"color\":\"#2a3f5f\"},\"marker\":{\"line\":{\"color\":\"#E5ECF6\",\"width\":0.5},\"pattern\":{\"fillmode\":\"overlay\",\"size\":10,\"solidity\":0.2}},\"type\":\"bar\"}],\"barpolar\":[{\"marker\":{\"line\":{\"color\":\"#E5ECF6\",\"width\":0.5},\"pattern\":{\"fillmode\":\"overlay\",\"size\":10,\"solidity\":0.2}},\"type\":\"barpolar\"}],\"carpet\":[{\"aaxis\":{\"endlinecolor\":\"#2a3f5f\",\"gridcolor\":\"white\",\"linecolor\":\"white\",\"minorgridcolor\":\"white\",\"startlinecolor\":\"#2a3f5f\"},\"baxis\":{\"endlinecolor\":\"#2a3f5f\",\"gridcolor\":\"white\",\"linecolor\":\"white\",\"minorgridcolor\":\"white\",\"startlinecolor\":\"#2a3f5f\"},\"type\":\"carpet\"}],\"choropleth\":[{\"colorbar\":{\"outlinewidth\":0,\"ticks\":\"\"},\"type\":\"choropleth\"}],\"contour\":[{\"colorbar\":{\"outlinewidth\":0,\"ticks\":\"\"},\"colorscale\":[[0.0,\"#0d0887\"],[0.1111111111111111,\"#46039f\"],[0.2222222222222222,\"#7201a8\"],[0.3333333333333333,\"#9c179e\"],[0.4444444444444444,\"#bd3786\"],[0.5555555555555556,\"#d8576b\"],[0.6666666666666666,\"#ed7953\"],[0.7777777777777778,\"#fb9f3a\"],[0.8888888888888888,\"#fdca26\"],[1.0,\"#f0f921\"]],\"type\":\"contour\"}],\"contourcarpet\":[{\"colorbar\":{\"outlinewidth\":0,\"ticks\":\"\"},\"type\":\"contourcarpet\"}],\"heatmap\":[{\"colorbar\":{\"outlinewidth\":0,\"ticks\":\"\"},\"colorscale\":[[0.0,\"#0d0887\"],[0.1111111111111111,\"#46039f\"],[0.2222222222222222,\"#7201a8\"],[0.3333333333333333,\"#9c179e\"],[0.4444444444444444,\"#bd3786\"],[0.5555555555555556,\"#d8576b\"],[0.6666666666666666,\"#ed7953\"],[0.7777777777777778,\"#fb9f3a\"],[0.8888888888888888,\"#fdca26\"],[1.0,\"#f0f921\"]],\"type\":\"heatmap\"}],\"heatmapgl\":[{\"colorbar\":{\"outlinewidth\":0,\"ticks\":\"\"},\"colorscale\":[[0.0,\"#0d0887\"],[0.1111111111111111,\"#46039f\"],[0.2222222222222222,\"#7201a8\"],[0.3333333333333333,\"#9c179e\"],[0.4444444444444444,\"#bd3786\"],[0.5555555555555556,\"#d8576b\"],[0.6666666666666666,\"#ed7953\"],[0.7777777777777778,\"#fb9f3a\"],[0.8888888888888888,\"#fdca26\"],[1.0,\"#f0f921\"]],\"type\":\"heatmapgl\"}],\"histogram\":[{\"marker\":{\"pattern\":{\"fillmode\":\"overlay\",\"size\":10,\"solidity\":0.2}},\"type\":\"histogram\"}],\"histogram2d\":[{\"colorbar\":{\"outlinewidth\":0,\"ticks\":\"\"},\"colorscale\":[[0.0,\"#0d0887\"],[0.1111111111111111,\"#46039f\"],[0.2222222222222222,\"#7201a8\"],[0.3333333333333333,\"#9c179e\"],[0.4444444444444444,\"#bd3786\"],[0.5555555555555556,\"#d8576b\"],[0.6666666666666666,\"#ed7953\"],[0.7777777777777778,\"#fb9f3a\"],[0.8888888888888888,\"#fdca26\"],[1.0,\"#f0f921\"]],\"type\":\"histogram2d\"}],\"histogram2dcontour\":[{\"colorbar\":{\"outlinewidth\":0,\"ticks\":\"\"},\"colorscale\":[[0.0,\"#0d0887\"],[0.1111111111111111,\"#46039f\"],[0.2222222222222222,\"#7201a8\"],[0.3333333333333333,\"#9c179e\"],[0.4444444444444444,\"#bd3786\"],[0.5555555555555556,\"#d8576b\"],[0.6666666666666666,\"#ed7953\"],[0.7777777777777778,\"#fb9f3a\"],[0.8888888888888888,\"#fdca26\"],[1.0,\"#f0f921\"]],\"type\":\"histogram2dcontour\"}],\"mesh3d\":[{\"colorbar\":{\"outlinewidth\":0,\"ticks\":\"\"},\"type\":\"mesh3d\"}],\"parcoords\":[{\"line\":{\"colorbar\":{\"outlinewidth\":0,\"ticks\":\"\"}},\"type\":\"parcoords\"}],\"pie\":[{\"automargin\":true,\"type\":\"pie\"}],\"scatter\":[{\"marker\":{\"colorbar\":{\"outlinewidth\":0,\"ticks\":\"\"}},\"type\":\"scatter\"}],\"scatter3d\":[{\"line\":{\"colorbar\":{\"outlinewidth\":0,\"ticks\":\"\"}},\"marker\":{\"colorbar\":{\"outlinewidth\":0,\"ticks\":\"\"}},\"type\":\"scatter3d\"}],\"scattercarpet\":[{\"marker\":{\"colorbar\":{\"outlinewidth\":0,\"ticks\":\"\"}},\"type\":\"scattercarpet\"}],\"scattergeo\":[{\"marker\":{\"colorbar\":{\"outlinewidth\":0,\"ticks\":\"\"}},\"type\":\"scattergeo\"}],\"scattergl\":[{\"marker\":{\"colorbar\":{\"outlinewidth\":0,\"ticks\":\"\"}},\"type\":\"scattergl\"}],\"scattermapbox\":[{\"marker\":{\"colorbar\":{\"outlinewidth\":0,\"ticks\":\"\"}},\"type\":\"scattermapbox\"}],\"scatterpolar\":[{\"marker\":{\"colorbar\":{\"outlinewidth\":0,\"ticks\":\"\"}},\"type\":\"scatterpolar\"}],\"scatterpolargl\":[{\"marker\":{\"colorbar\":{\"outlinewidth\":0,\"ticks\":\"\"}},\"type\":\"scatterpolargl\"}],\"scatterternary\":[{\"marker\":{\"colorbar\":{\"outlinewidth\":0,\"ticks\":\"\"}},\"type\":\"scatterternary\"}],\"surface\":[{\"colorbar\":{\"outlinewidth\":0,\"ticks\":\"\"},\"colorscale\":[[0.0,\"#0d0887\"],[0.1111111111111111,\"#46039f\"],[0.2222222222222222,\"#7201a8\"],[0.3333333333333333,\"#9c179e\"],[0.4444444444444444,\"#bd3786\"],[0.5555555555555556,\"#d8576b\"],[0.6666666666666666,\"#ed7953\"],[0.7777777777777778,\"#fb9f3a\"],[0.8888888888888888,\"#fdca26\"],[1.0,\"#f0f921\"]],\"type\":\"surface\"}],\"table\":[{\"cells\":{\"fill\":{\"color\":\"#EBF0F8\"},\"line\":{\"color\":\"white\"}},\"header\":{\"fill\":{\"color\":\"#C8D4E3\"},\"line\":{\"color\":\"white\"}},\"type\":\"table\"}]},\"layout\":{\"annotationdefaults\":{\"arrowcolor\":\"#2a3f5f\",\"arrowhead\":0,\"arrowwidth\":1},\"autotypenumbers\":\"strict\",\"coloraxis\":{\"colorbar\":{\"outlinewidth\":0,\"ticks\":\"\"}},\"colorscale\":{\"diverging\":[[0,\"#8e0152\"],[0.1,\"#c51b7d\"],[0.2,\"#de77ae\"],[0.3,\"#f1b6da\"],[0.4,\"#fde0ef\"],[0.5,\"#f7f7f7\"],[0.6,\"#e6f5d0\"],[0.7,\"#b8e186\"],[0.8,\"#7fbc41\"],[0.9,\"#4d9221\"],[1,\"#276419\"]],\"sequential\":[[0.0,\"#0d0887\"],[0.1111111111111111,\"#46039f\"],[0.2222222222222222,\"#7201a8\"],[0.3333333333333333,\"#9c179e\"],[0.4444444444444444,\"#bd3786\"],[0.5555555555555556,\"#d8576b\"],[0.6666666666666666,\"#ed7953\"],[0.7777777777777778,\"#fb9f3a\"],[0.8888888888888888,\"#fdca26\"],[1.0,\"#f0f921\"]],\"sequentialminus\":[[0.0,\"#0d0887\"],[0.1111111111111111,\"#46039f\"],[0.2222222222222222,\"#7201a8\"],[0.3333333333333333,\"#9c179e\"],[0.4444444444444444,\"#bd3786\"],[0.5555555555555556,\"#d8576b\"],[0.6666666666666666,\"#ed7953\"],[0.7777777777777778,\"#fb9f3a\"],[0.8888888888888888,\"#fdca26\"],[1.0,\"#f0f921\"]]},\"colorway\":[\"#636efa\",\"#EF553B\",\"#00cc96\",\"#ab63fa\",\"#FFA15A\",\"#19d3f3\",\"#FF6692\",\"#B6E880\",\"#FF97FF\",\"#FECB52\"],\"font\":{\"color\":\"#2a3f5f\"},\"geo\":{\"bgcolor\":\"white\",\"lakecolor\":\"white\",\"landcolor\":\"#E5ECF6\",\"showlakes\":true,\"showland\":true,\"subunitcolor\":\"white\"},\"hoverlabel\":{\"align\":\"left\"},\"hovermode\":\"closest\",\"mapbox\":{\"style\":\"light\"},\"paper_bgcolor\":\"white\",\"plot_bgcolor\":\"#E5ECF6\",\"polar\":{\"angularaxis\":{\"gridcolor\":\"white\",\"linecolor\":\"white\",\"ticks\":\"\"},\"bgcolor\":\"#E5ECF6\",\"radialaxis\":{\"gridcolor\":\"white\",\"linecolor\":\"white\",\"ticks\":\"\"}},\"scene\":{\"xaxis\":{\"backgroundcolor\":\"#E5ECF6\",\"gridcolor\":\"white\",\"gridwidth\":2,\"linecolor\":\"white\",\"showbackground\":true,\"ticks\":\"\",\"zerolinecolor\":\"white\"},\"yaxis\":{\"backgroundcolor\":\"#E5ECF6\",\"gridcolor\":\"white\",\"gridwidth\":2,\"linecolor\":\"white\",\"showbackground\":true,\"ticks\":\"\",\"zerolinecolor\":\"white\"},\"zaxis\":{\"backgroundcolor\":\"#E5ECF6\",\"gridcolor\":\"white\",\"gridwidth\":2,\"linecolor\":\"white\",\"showbackground\":true,\"ticks\":\"\",\"zerolinecolor\":\"white\"}},\"shapedefaults\":{\"line\":{\"color\":\"#2a3f5f\"}},\"ternary\":{\"aaxis\":{\"gridcolor\":\"white\",\"linecolor\":\"white\",\"ticks\":\"\"},\"baxis\":{\"gridcolor\":\"white\",\"linecolor\":\"white\",\"ticks\":\"\"},\"bgcolor\":\"#E5ECF6\",\"caxis\":{\"gridcolor\":\"white\",\"linecolor\":\"white\",\"ticks\":\"\"}},\"title\":{\"x\":0.05},\"xaxis\":{\"automargin\":true,\"gridcolor\":\"white\",\"linecolor\":\"white\",\"ticks\":\"\",\"title\":{\"standoff\":15},\"zerolinecolor\":\"white\",\"zerolinewidth\":2},\"yaxis\":{\"automargin\":true,\"gridcolor\":\"white\",\"linecolor\":\"white\",\"ticks\":\"\",\"title\":{\"standoff\":15},\"zerolinecolor\":\"white\",\"zerolinewidth\":2}}},\"xaxis\":{\"anchor\":\"y\",\"domain\":[0.0,0.31999999999999995],\"title\":{\"text\":\"gdpPercap\"}},\"yaxis\":{\"anchor\":\"x\",\"domain\":[0.0,0.1975],\"title\":{\"text\":\"lifeExp\"}},\"xaxis2\":{\"anchor\":\"y2\",\"domain\":[0.33999999999999997,0.6599999999999999],\"matches\":\"x\",\"title\":{\"text\":\"gdpPercap\"}},\"yaxis2\":{\"anchor\":\"x2\",\"domain\":[0.0,0.1975],\"matches\":\"y\",\"showticklabels\":false},\"xaxis3\":{\"anchor\":\"y3\",\"domain\":[0.6799999999999999,0.9999999999999999],\"matches\":\"x\",\"title\":{\"text\":\"gdpPercap\"}},\"yaxis3\":{\"anchor\":\"x3\",\"domain\":[0.0,0.1975],\"matches\":\"y\",\"showticklabels\":false},\"xaxis4\":{\"anchor\":\"y4\",\"domain\":[0.0,0.31999999999999995],\"matches\":\"x\",\"showticklabels\":false},\"yaxis4\":{\"anchor\":\"x4\",\"domain\":[0.2675,0.465],\"matches\":\"y\",\"title\":{\"text\":\"lifeExp\"}},\"xaxis5\":{\"anchor\":\"y5\",\"domain\":[0.33999999999999997,0.6599999999999999],\"matches\":\"x\",\"showticklabels\":false},\"yaxis5\":{\"anchor\":\"x5\",\"domain\":[0.2675,0.465],\"matches\":\"y\",\"showticklabels\":false},\"xaxis6\":{\"anchor\":\"y6\",\"domain\":[0.6799999999999999,0.9999999999999999],\"matches\":\"x\",\"showticklabels\":false},\"yaxis6\":{\"anchor\":\"x6\",\"domain\":[0.2675,0.465],\"matches\":\"y\",\"showticklabels\":false},\"xaxis7\":{\"anchor\":\"y7\",\"domain\":[0.0,0.31999999999999995],\"matches\":\"x\",\"showticklabels\":false},\"yaxis7\":{\"anchor\":\"x7\",\"domain\":[0.535,0.7325],\"matches\":\"y\",\"title\":{\"text\":\"lifeExp\"}},\"xaxis8\":{\"anchor\":\"y8\",\"domain\":[0.33999999999999997,0.6599999999999999],\"matches\":\"x\",\"showticklabels\":false},\"yaxis8\":{\"anchor\":\"x8\",\"domain\":[0.535,0.7325],\"matches\":\"y\",\"showticklabels\":false},\"xaxis9\":{\"anchor\":\"y9\",\"domain\":[0.6799999999999999,0.9999999999999999],\"matches\":\"x\",\"showticklabels\":false},\"yaxis9\":{\"anchor\":\"x9\",\"domain\":[0.535,0.7325],\"matches\":\"y\",\"showticklabels\":false},\"xaxis10\":{\"anchor\":\"y10\",\"domain\":[0.0,0.31999999999999995],\"matches\":\"x\",\"showticklabels\":false},\"yaxis10\":{\"anchor\":\"x10\",\"domain\":[0.8025,1.0],\"matches\":\"y\",\"title\":{\"text\":\"lifeExp\"}},\"xaxis11\":{\"anchor\":\"y11\",\"domain\":[0.33999999999999997,0.6599999999999999],\"matches\":\"x\",\"showticklabels\":false},\"yaxis11\":{\"anchor\":\"x11\",\"domain\":[0.8025,1.0],\"matches\":\"y\",\"showticklabels\":false},\"xaxis12\":{\"anchor\":\"y12\",\"domain\":[0.6799999999999999,0.9999999999999999],\"matches\":\"x\",\"showticklabels\":false},\"yaxis12\":{\"anchor\":\"x12\",\"domain\":[0.8025,1.0],\"matches\":\"y\",\"showticklabels\":false},\"annotations\":[{\"font\":{},\"showarrow\":false,\"text\":\"year=1997\",\"x\":0.15999999999999998,\"xanchor\":\"center\",\"xref\":\"paper\",\"y\":0.1975,\"yanchor\":\"bottom\",\"yref\":\"paper\"},{\"font\":{},\"showarrow\":false,\"text\":\"year=2002\",\"x\":0.49999999999999994,\"xanchor\":\"center\",\"xref\":\"paper\",\"y\":0.1975,\"yanchor\":\"bottom\",\"yref\":\"paper\"},{\"font\":{},\"showarrow\":false,\"text\":\"year=2007\",\"x\":0.8399999999999999,\"xanchor\":\"center\",\"xref\":\"paper\",\"y\":0.1975,\"yanchor\":\"bottom\",\"yref\":\"paper\"},{\"font\":{},\"showarrow\":false,\"text\":\"year=1982\",\"x\":0.15999999999999998,\"xanchor\":\"center\",\"xref\":\"paper\",\"y\":0.465,\"yanchor\":\"bottom\",\"yref\":\"paper\"},{\"font\":{},\"showarrow\":false,\"text\":\"year=1987\",\"x\":0.49999999999999994,\"xanchor\":\"center\",\"xref\":\"paper\",\"y\":0.465,\"yanchor\":\"bottom\",\"yref\":\"paper\"},{\"font\":{},\"showarrow\":false,\"text\":\"year=1992\",\"x\":0.8399999999999999,\"xanchor\":\"center\",\"xref\":\"paper\",\"y\":0.465,\"yanchor\":\"bottom\",\"yref\":\"paper\"},{\"font\":{},\"showarrow\":false,\"text\":\"year=1967\",\"x\":0.15999999999999998,\"xanchor\":\"center\",\"xref\":\"paper\",\"y\":0.7325,\"yanchor\":\"bottom\",\"yref\":\"paper\"},{\"font\":{},\"showarrow\":false,\"text\":\"year=1972\",\"x\":0.49999999999999994,\"xanchor\":\"center\",\"xref\":\"paper\",\"y\":0.7325,\"yanchor\":\"bottom\",\"yref\":\"paper\"},{\"font\":{},\"showarrow\":false,\"text\":\"year=1977\",\"x\":0.8399999999999999,\"xanchor\":\"center\",\"xref\":\"paper\",\"y\":0.7325,\"yanchor\":\"bottom\",\"yref\":\"paper\"},{\"font\":{},\"showarrow\":false,\"text\":\"year=1952\",\"x\":0.15999999999999998,\"xanchor\":\"center\",\"xref\":\"paper\",\"y\":1.0,\"yanchor\":\"bottom\",\"yref\":\"paper\"},{\"font\":{},\"showarrow\":false,\"text\":\"year=1957\",\"x\":0.49999999999999994,\"xanchor\":\"center\",\"xref\":\"paper\",\"y\":1.0,\"yanchor\":\"bottom\",\"yref\":\"paper\"},{\"font\":{},\"showarrow\":false,\"text\":\"year=1962\",\"x\":0.8399999999999999,\"xanchor\":\"center\",\"xref\":\"paper\",\"y\":1.0,\"yanchor\":\"bottom\",\"yref\":\"paper\"}],\"legend\":{\"title\":{\"text\":\"continent\"},\"tracegroupgap\":0,\"itemsizing\":\"constant\"},\"margin\":{\"t\":60}},                        {\"responsive\": true}                    ).then(function(){\n",
              "                            \n",
              "var gd = document.getElementById('1710bca4-e8e0-414c-9589-20e239d9347a');\n",
              "var x = new MutationObserver(function (mutations, observer) {{\n",
              "        var display = window.getComputedStyle(gd).display;\n",
              "        if (!display || display === 'none') {{\n",
              "            console.log([gd, 'removed!']);\n",
              "            Plotly.purge(gd);\n",
              "            observer.disconnect();\n",
              "        }}\n",
              "}});\n",
              "\n",
              "// Listen for the removal of the full notebook cells\n",
              "var notebookContainer = gd.closest('#notebook-container');\n",
              "if (notebookContainer) {{\n",
              "    x.observe(notebookContainer, {childList: true});\n",
              "}}\n",
              "\n",
              "// Listen for the clearing of the current output cell\n",
              "var outputEl = gd.closest('.output');\n",
              "if (outputEl) {{\n",
              "    x.observe(outputEl, {childList: true});\n",
              "}}\n",
              "\n",
              "                        })                };                            </script>        </div>\n",
              "</body>\n",
              "</html>"
            ]
          },
          "metadata": {}
        }
      ]
    },
    {
      "cell_type": "markdown",
      "metadata": {
        "id": "EMCMWY8RE_bk"
      },
      "source": [
        "### 산점도 매트릭스(Scatter Matrix)"
      ]
    },
    {
      "cell_type": "code",
      "metadata": {
        "id": "dlk_2sIKFFta",
        "colab": {
          "base_uri": "https://localhost:8080/",
          "height": 542
        },
        "outputId": "b617264c-2372-447d-86b8-69b16d70fcec"
      },
      "source": [
        "fig = px.scatter_matrix(iris)\n",
        "fig.show()"
      ],
      "execution_count": null,
      "outputs": [
        {
          "output_type": "display_data",
          "data": {
            "text/html": [
              "<html>\n",
              "<head><meta charset=\"utf-8\" /></head>\n",
              "<body>\n",
              "    <div>            <script src=\"https://cdnjs.cloudflare.com/ajax/libs/mathjax/2.7.5/MathJax.js?config=TeX-AMS-MML_SVG\"></script><script type=\"text/javascript\">if (window.MathJax) {MathJax.Hub.Config({SVG: {font: \"STIX-Web\"}});}</script>                <script type=\"text/javascript\">window.PlotlyConfig = {MathJaxConfig: 'local'};</script>\n",
              "        <script src=\"https://cdn.plot.ly/plotly-2.8.3.min.js\"></script>                <div id=\"bcd01da9-5e90-4b97-851e-65b59388a8c2\" class=\"plotly-graph-div\" style=\"height:525px; width:100%;\"></div>            <script type=\"text/javascript\">                                    window.PLOTLYENV=window.PLOTLYENV || {};                                    if (document.getElementById(\"bcd01da9-5e90-4b97-851e-65b59388a8c2\")) {                    Plotly.newPlot(                        \"bcd01da9-5e90-4b97-851e-65b59388a8c2\",                        [{\"dimensions\":[{\"axis\":{\"matches\":true},\"label\":\"sepal_length\",\"values\":[5.1,4.9,4.7,4.6,5.0,5.4,4.6,5.0,4.4,4.9,5.4,4.8,4.8,4.3,5.8,5.7,5.4,5.1,5.7,5.1,5.4,5.1,4.6,5.1,4.8,5.0,5.0,5.2,5.2,4.7,4.8,5.4,5.2,5.5,4.9,5.0,5.5,4.9,4.4,5.1,5.0,4.5,4.4,5.0,5.1,4.8,5.1,4.6,5.3,5.0,7.0,6.4,6.9,5.5,6.5,5.7,6.3,4.9,6.6,5.2,5.0,5.9,6.0,6.1,5.6,6.7,5.6,5.8,6.2,5.6,5.9,6.1,6.3,6.1,6.4,6.6,6.8,6.7,6.0,5.7,5.5,5.5,5.8,6.0,5.4,6.0,6.7,6.3,5.6,5.5,5.5,6.1,5.8,5.0,5.6,5.7,5.7,6.2,5.1,5.7,6.3,5.8,7.1,6.3,6.5,7.6,4.9,7.3,6.7,7.2,6.5,6.4,6.8,5.7,5.8,6.4,6.5,7.7,7.7,6.0,6.9,5.6,7.7,6.3,6.7,7.2,6.2,6.1,6.4,7.2,7.4,7.9,6.4,6.3,6.1,7.7,6.3,6.4,6.0,6.9,6.7,6.9,5.8,6.8,6.7,6.7,6.3,6.5,6.2,5.9]},{\"axis\":{\"matches\":true},\"label\":\"sepal_width\",\"values\":[3.5,3.0,3.2,3.1,3.6,3.9,3.4,3.4,2.9,3.1,3.7,3.4,3.0,3.0,4.0,4.4,3.9,3.5,3.8,3.8,3.4,3.7,3.6,3.3,3.4,3.0,3.4,3.5,3.4,3.2,3.1,3.4,4.1,4.2,3.1,3.2,3.5,3.1,3.0,3.4,3.5,2.3,3.2,3.5,3.8,3.0,3.8,3.2,3.7,3.3,3.2,3.2,3.1,2.3,2.8,2.8,3.3,2.4,2.9,2.7,2.0,3.0,2.2,2.9,2.9,3.1,3.0,2.7,2.2,2.5,3.2,2.8,2.5,2.8,2.9,3.0,2.8,3.0,2.9,2.6,2.4,2.4,2.7,2.7,3.0,3.4,3.1,2.3,3.0,2.5,2.6,3.0,2.6,2.3,2.7,3.0,2.9,2.9,2.5,2.8,3.3,2.7,3.0,2.9,3.0,3.0,2.5,2.9,2.5,3.6,3.2,2.7,3.0,2.5,2.8,3.2,3.0,3.8,2.6,2.2,3.2,2.8,2.8,2.7,3.3,3.2,2.8,3.0,2.8,3.0,2.8,3.8,2.8,2.8,2.6,3.0,3.4,3.1,3.0,3.1,3.1,3.1,2.7,3.2,3.3,3.0,2.5,3.0,3.4,3.0]},{\"axis\":{\"matches\":true},\"label\":\"petal_length\",\"values\":[1.4,1.4,1.3,1.5,1.4,1.7,1.4,1.5,1.4,1.5,1.5,1.6,1.4,1.1,1.2,1.5,1.3,1.4,1.7,1.5,1.7,1.5,1.0,1.7,1.9,1.6,1.6,1.5,1.4,1.6,1.6,1.5,1.5,1.4,1.5,1.2,1.3,1.5,1.3,1.5,1.3,1.3,1.3,1.6,1.9,1.4,1.6,1.4,1.5,1.4,4.7,4.5,4.9,4.0,4.6,4.5,4.7,3.3,4.6,3.9,3.5,4.2,4.0,4.7,3.6,4.4,4.5,4.1,4.5,3.9,4.8,4.0,4.9,4.7,4.3,4.4,4.8,5.0,4.5,3.5,3.8,3.7,3.9,5.1,4.5,4.5,4.7,4.4,4.1,4.0,4.4,4.6,4.0,3.3,4.2,4.2,4.2,4.3,3.0,4.1,6.0,5.1,5.9,5.6,5.8,6.6,4.5,6.3,5.8,6.1,5.1,5.3,5.5,5.0,5.1,5.3,5.5,6.7,6.9,5.0,5.7,4.9,6.7,4.9,5.7,6.0,4.8,4.9,5.6,5.8,6.1,6.4,5.6,5.1,5.6,6.1,5.6,5.5,4.8,5.4,5.6,5.1,5.1,5.9,5.7,5.2,5.0,5.2,5.4,5.1]},{\"axis\":{\"matches\":true},\"label\":\"petal_width\",\"values\":[0.2,0.2,0.2,0.2,0.2,0.4,0.3,0.2,0.2,0.1,0.2,0.2,0.1,0.1,0.2,0.4,0.4,0.3,0.3,0.3,0.2,0.4,0.2,0.5,0.2,0.2,0.4,0.2,0.2,0.2,0.2,0.4,0.1,0.2,0.1,0.2,0.2,0.1,0.2,0.2,0.3,0.3,0.2,0.6,0.4,0.3,0.2,0.2,0.2,0.2,1.4,1.5,1.5,1.3,1.5,1.3,1.6,1.0,1.3,1.4,1.0,1.5,1.0,1.4,1.3,1.4,1.5,1.0,1.5,1.1,1.8,1.3,1.5,1.2,1.3,1.4,1.4,1.7,1.5,1.0,1.1,1.0,1.2,1.6,1.5,1.6,1.5,1.3,1.3,1.3,1.2,1.4,1.2,1.0,1.3,1.2,1.3,1.3,1.1,1.3,2.5,1.9,2.1,1.8,2.2,2.1,1.7,1.8,1.8,2.5,2.0,1.9,2.1,2.0,2.4,2.3,1.8,2.2,2.3,1.5,2.3,2.0,2.0,1.8,2.1,1.8,1.8,1.8,2.1,1.6,1.9,2.0,2.2,1.5,1.4,2.3,2.4,1.8,1.8,2.1,2.4,2.3,1.9,2.3,2.5,2.3,1.9,2.0,2.3,1.8]},{\"axis\":{\"matches\":true},\"label\":\"species\",\"values\":[\"setosa\",\"setosa\",\"setosa\",\"setosa\",\"setosa\",\"setosa\",\"setosa\",\"setosa\",\"setosa\",\"setosa\",\"setosa\",\"setosa\",\"setosa\",\"setosa\",\"setosa\",\"setosa\",\"setosa\",\"setosa\",\"setosa\",\"setosa\",\"setosa\",\"setosa\",\"setosa\",\"setosa\",\"setosa\",\"setosa\",\"setosa\",\"setosa\",\"setosa\",\"setosa\",\"setosa\",\"setosa\",\"setosa\",\"setosa\",\"setosa\",\"setosa\",\"setosa\",\"setosa\",\"setosa\",\"setosa\",\"setosa\",\"setosa\",\"setosa\",\"setosa\",\"setosa\",\"setosa\",\"setosa\",\"setosa\",\"setosa\",\"setosa\",\"versicolor\",\"versicolor\",\"versicolor\",\"versicolor\",\"versicolor\",\"versicolor\",\"versicolor\",\"versicolor\",\"versicolor\",\"versicolor\",\"versicolor\",\"versicolor\",\"versicolor\",\"versicolor\",\"versicolor\",\"versicolor\",\"versicolor\",\"versicolor\",\"versicolor\",\"versicolor\",\"versicolor\",\"versicolor\",\"versicolor\",\"versicolor\",\"versicolor\",\"versicolor\",\"versicolor\",\"versicolor\",\"versicolor\",\"versicolor\",\"versicolor\",\"versicolor\",\"versicolor\",\"versicolor\",\"versicolor\",\"versicolor\",\"versicolor\",\"versicolor\",\"versicolor\",\"versicolor\",\"versicolor\",\"versicolor\",\"versicolor\",\"versicolor\",\"versicolor\",\"versicolor\",\"versicolor\",\"versicolor\",\"versicolor\",\"versicolor\",\"virginica\",\"virginica\",\"virginica\",\"virginica\",\"virginica\",\"virginica\",\"virginica\",\"virginica\",\"virginica\",\"virginica\",\"virginica\",\"virginica\",\"virginica\",\"virginica\",\"virginica\",\"virginica\",\"virginica\",\"virginica\",\"virginica\",\"virginica\",\"virginica\",\"virginica\",\"virginica\",\"virginica\",\"virginica\",\"virginica\",\"virginica\",\"virginica\",\"virginica\",\"virginica\",\"virginica\",\"virginica\",\"virginica\",\"virginica\",\"virginica\",\"virginica\",\"virginica\",\"virginica\",\"virginica\",\"virginica\",\"virginica\",\"virginica\",\"virginica\",\"virginica\",\"virginica\",\"virginica\",\"virginica\",\"virginica\",\"virginica\",\"virginica\"]},{\"axis\":{\"matches\":true},\"label\":\"species_id\",\"values\":[1,1,1,1,1,1,1,1,1,1,1,1,1,1,1,1,1,1,1,1,1,1,1,1,1,1,1,1,1,1,1,1,1,1,1,1,1,1,1,1,1,1,1,1,1,1,1,1,1,1,2,2,2,2,2,2,2,2,2,2,2,2,2,2,2,2,2,2,2,2,2,2,2,2,2,2,2,2,2,2,2,2,2,2,2,2,2,2,2,2,2,2,2,2,2,2,2,2,2,2,3,3,3,3,3,3,3,3,3,3,3,3,3,3,3,3,3,3,3,3,3,3,3,3,3,3,3,3,3,3,3,3,3,3,3,3,3,3,3,3,3,3,3,3,3,3,3,3,3,3]}],\"hovertemplate\":\"%{xaxis.title.text}=%{x}<br>%{yaxis.title.text}=%{y}<extra></extra>\",\"legendgroup\":\"\",\"marker\":{\"color\":\"#636efa\",\"symbol\":\"circle\"},\"name\":\"\",\"showlegend\":false,\"type\":\"splom\"}],                        {\"template\":{\"data\":{\"bar\":[{\"error_x\":{\"color\":\"#2a3f5f\"},\"error_y\":{\"color\":\"#2a3f5f\"},\"marker\":{\"line\":{\"color\":\"#E5ECF6\",\"width\":0.5},\"pattern\":{\"fillmode\":\"overlay\",\"size\":10,\"solidity\":0.2}},\"type\":\"bar\"}],\"barpolar\":[{\"marker\":{\"line\":{\"color\":\"#E5ECF6\",\"width\":0.5},\"pattern\":{\"fillmode\":\"overlay\",\"size\":10,\"solidity\":0.2}},\"type\":\"barpolar\"}],\"carpet\":[{\"aaxis\":{\"endlinecolor\":\"#2a3f5f\",\"gridcolor\":\"white\",\"linecolor\":\"white\",\"minorgridcolor\":\"white\",\"startlinecolor\":\"#2a3f5f\"},\"baxis\":{\"endlinecolor\":\"#2a3f5f\",\"gridcolor\":\"white\",\"linecolor\":\"white\",\"minorgridcolor\":\"white\",\"startlinecolor\":\"#2a3f5f\"},\"type\":\"carpet\"}],\"choropleth\":[{\"colorbar\":{\"outlinewidth\":0,\"ticks\":\"\"},\"type\":\"choropleth\"}],\"contour\":[{\"colorbar\":{\"outlinewidth\":0,\"ticks\":\"\"},\"colorscale\":[[0.0,\"#0d0887\"],[0.1111111111111111,\"#46039f\"],[0.2222222222222222,\"#7201a8\"],[0.3333333333333333,\"#9c179e\"],[0.4444444444444444,\"#bd3786\"],[0.5555555555555556,\"#d8576b\"],[0.6666666666666666,\"#ed7953\"],[0.7777777777777778,\"#fb9f3a\"],[0.8888888888888888,\"#fdca26\"],[1.0,\"#f0f921\"]],\"type\":\"contour\"}],\"contourcarpet\":[{\"colorbar\":{\"outlinewidth\":0,\"ticks\":\"\"},\"type\":\"contourcarpet\"}],\"heatmap\":[{\"colorbar\":{\"outlinewidth\":0,\"ticks\":\"\"},\"colorscale\":[[0.0,\"#0d0887\"],[0.1111111111111111,\"#46039f\"],[0.2222222222222222,\"#7201a8\"],[0.3333333333333333,\"#9c179e\"],[0.4444444444444444,\"#bd3786\"],[0.5555555555555556,\"#d8576b\"],[0.6666666666666666,\"#ed7953\"],[0.7777777777777778,\"#fb9f3a\"],[0.8888888888888888,\"#fdca26\"],[1.0,\"#f0f921\"]],\"type\":\"heatmap\"}],\"heatmapgl\":[{\"colorbar\":{\"outlinewidth\":0,\"ticks\":\"\"},\"colorscale\":[[0.0,\"#0d0887\"],[0.1111111111111111,\"#46039f\"],[0.2222222222222222,\"#7201a8\"],[0.3333333333333333,\"#9c179e\"],[0.4444444444444444,\"#bd3786\"],[0.5555555555555556,\"#d8576b\"],[0.6666666666666666,\"#ed7953\"],[0.7777777777777778,\"#fb9f3a\"],[0.8888888888888888,\"#fdca26\"],[1.0,\"#f0f921\"]],\"type\":\"heatmapgl\"}],\"histogram\":[{\"marker\":{\"pattern\":{\"fillmode\":\"overlay\",\"size\":10,\"solidity\":0.2}},\"type\":\"histogram\"}],\"histogram2d\":[{\"colorbar\":{\"outlinewidth\":0,\"ticks\":\"\"},\"colorscale\":[[0.0,\"#0d0887\"],[0.1111111111111111,\"#46039f\"],[0.2222222222222222,\"#7201a8\"],[0.3333333333333333,\"#9c179e\"],[0.4444444444444444,\"#bd3786\"],[0.5555555555555556,\"#d8576b\"],[0.6666666666666666,\"#ed7953\"],[0.7777777777777778,\"#fb9f3a\"],[0.8888888888888888,\"#fdca26\"],[1.0,\"#f0f921\"]],\"type\":\"histogram2d\"}],\"histogram2dcontour\":[{\"colorbar\":{\"outlinewidth\":0,\"ticks\":\"\"},\"colorscale\":[[0.0,\"#0d0887\"],[0.1111111111111111,\"#46039f\"],[0.2222222222222222,\"#7201a8\"],[0.3333333333333333,\"#9c179e\"],[0.4444444444444444,\"#bd3786\"],[0.5555555555555556,\"#d8576b\"],[0.6666666666666666,\"#ed7953\"],[0.7777777777777778,\"#fb9f3a\"],[0.8888888888888888,\"#fdca26\"],[1.0,\"#f0f921\"]],\"type\":\"histogram2dcontour\"}],\"mesh3d\":[{\"colorbar\":{\"outlinewidth\":0,\"ticks\":\"\"},\"type\":\"mesh3d\"}],\"parcoords\":[{\"line\":{\"colorbar\":{\"outlinewidth\":0,\"ticks\":\"\"}},\"type\":\"parcoords\"}],\"pie\":[{\"automargin\":true,\"type\":\"pie\"}],\"scatter\":[{\"marker\":{\"colorbar\":{\"outlinewidth\":0,\"ticks\":\"\"}},\"type\":\"scatter\"}],\"scatter3d\":[{\"line\":{\"colorbar\":{\"outlinewidth\":0,\"ticks\":\"\"}},\"marker\":{\"colorbar\":{\"outlinewidth\":0,\"ticks\":\"\"}},\"type\":\"scatter3d\"}],\"scattercarpet\":[{\"marker\":{\"colorbar\":{\"outlinewidth\":0,\"ticks\":\"\"}},\"type\":\"scattercarpet\"}],\"scattergeo\":[{\"marker\":{\"colorbar\":{\"outlinewidth\":0,\"ticks\":\"\"}},\"type\":\"scattergeo\"}],\"scattergl\":[{\"marker\":{\"colorbar\":{\"outlinewidth\":0,\"ticks\":\"\"}},\"type\":\"scattergl\"}],\"scattermapbox\":[{\"marker\":{\"colorbar\":{\"outlinewidth\":0,\"ticks\":\"\"}},\"type\":\"scattermapbox\"}],\"scatterpolar\":[{\"marker\":{\"colorbar\":{\"outlinewidth\":0,\"ticks\":\"\"}},\"type\":\"scatterpolar\"}],\"scatterpolargl\":[{\"marker\":{\"colorbar\":{\"outlinewidth\":0,\"ticks\":\"\"}},\"type\":\"scatterpolargl\"}],\"scatterternary\":[{\"marker\":{\"colorbar\":{\"outlinewidth\":0,\"ticks\":\"\"}},\"type\":\"scatterternary\"}],\"surface\":[{\"colorbar\":{\"outlinewidth\":0,\"ticks\":\"\"},\"colorscale\":[[0.0,\"#0d0887\"],[0.1111111111111111,\"#46039f\"],[0.2222222222222222,\"#7201a8\"],[0.3333333333333333,\"#9c179e\"],[0.4444444444444444,\"#bd3786\"],[0.5555555555555556,\"#d8576b\"],[0.6666666666666666,\"#ed7953\"],[0.7777777777777778,\"#fb9f3a\"],[0.8888888888888888,\"#fdca26\"],[1.0,\"#f0f921\"]],\"type\":\"surface\"}],\"table\":[{\"cells\":{\"fill\":{\"color\":\"#EBF0F8\"},\"line\":{\"color\":\"white\"}},\"header\":{\"fill\":{\"color\":\"#C8D4E3\"},\"line\":{\"color\":\"white\"}},\"type\":\"table\"}]},\"layout\":{\"annotationdefaults\":{\"arrowcolor\":\"#2a3f5f\",\"arrowhead\":0,\"arrowwidth\":1},\"autotypenumbers\":\"strict\",\"coloraxis\":{\"colorbar\":{\"outlinewidth\":0,\"ticks\":\"\"}},\"colorscale\":{\"diverging\":[[0,\"#8e0152\"],[0.1,\"#c51b7d\"],[0.2,\"#de77ae\"],[0.3,\"#f1b6da\"],[0.4,\"#fde0ef\"],[0.5,\"#f7f7f7\"],[0.6,\"#e6f5d0\"],[0.7,\"#b8e186\"],[0.8,\"#7fbc41\"],[0.9,\"#4d9221\"],[1,\"#276419\"]],\"sequential\":[[0.0,\"#0d0887\"],[0.1111111111111111,\"#46039f\"],[0.2222222222222222,\"#7201a8\"],[0.3333333333333333,\"#9c179e\"],[0.4444444444444444,\"#bd3786\"],[0.5555555555555556,\"#d8576b\"],[0.6666666666666666,\"#ed7953\"],[0.7777777777777778,\"#fb9f3a\"],[0.8888888888888888,\"#fdca26\"],[1.0,\"#f0f921\"]],\"sequentialminus\":[[0.0,\"#0d0887\"],[0.1111111111111111,\"#46039f\"],[0.2222222222222222,\"#7201a8\"],[0.3333333333333333,\"#9c179e\"],[0.4444444444444444,\"#bd3786\"],[0.5555555555555556,\"#d8576b\"],[0.6666666666666666,\"#ed7953\"],[0.7777777777777778,\"#fb9f3a\"],[0.8888888888888888,\"#fdca26\"],[1.0,\"#f0f921\"]]},\"colorway\":[\"#636efa\",\"#EF553B\",\"#00cc96\",\"#ab63fa\",\"#FFA15A\",\"#19d3f3\",\"#FF6692\",\"#B6E880\",\"#FF97FF\",\"#FECB52\"],\"font\":{\"color\":\"#2a3f5f\"},\"geo\":{\"bgcolor\":\"white\",\"lakecolor\":\"white\",\"landcolor\":\"#E5ECF6\",\"showlakes\":true,\"showland\":true,\"subunitcolor\":\"white\"},\"hoverlabel\":{\"align\":\"left\"},\"hovermode\":\"closest\",\"mapbox\":{\"style\":\"light\"},\"paper_bgcolor\":\"white\",\"plot_bgcolor\":\"#E5ECF6\",\"polar\":{\"angularaxis\":{\"gridcolor\":\"white\",\"linecolor\":\"white\",\"ticks\":\"\"},\"bgcolor\":\"#E5ECF6\",\"radialaxis\":{\"gridcolor\":\"white\",\"linecolor\":\"white\",\"ticks\":\"\"}},\"scene\":{\"xaxis\":{\"backgroundcolor\":\"#E5ECF6\",\"gridcolor\":\"white\",\"gridwidth\":2,\"linecolor\":\"white\",\"showbackground\":true,\"ticks\":\"\",\"zerolinecolor\":\"white\"},\"yaxis\":{\"backgroundcolor\":\"#E5ECF6\",\"gridcolor\":\"white\",\"gridwidth\":2,\"linecolor\":\"white\",\"showbackground\":true,\"ticks\":\"\",\"zerolinecolor\":\"white\"},\"zaxis\":{\"backgroundcolor\":\"#E5ECF6\",\"gridcolor\":\"white\",\"gridwidth\":2,\"linecolor\":\"white\",\"showbackground\":true,\"ticks\":\"\",\"zerolinecolor\":\"white\"}},\"shapedefaults\":{\"line\":{\"color\":\"#2a3f5f\"}},\"ternary\":{\"aaxis\":{\"gridcolor\":\"white\",\"linecolor\":\"white\",\"ticks\":\"\"},\"baxis\":{\"gridcolor\":\"white\",\"linecolor\":\"white\",\"ticks\":\"\"},\"bgcolor\":\"#E5ECF6\",\"caxis\":{\"gridcolor\":\"white\",\"linecolor\":\"white\",\"ticks\":\"\"}},\"title\":{\"x\":0.05},\"xaxis\":{\"automargin\":true,\"gridcolor\":\"white\",\"linecolor\":\"white\",\"ticks\":\"\",\"title\":{\"standoff\":15},\"zerolinecolor\":\"white\",\"zerolinewidth\":2},\"yaxis\":{\"automargin\":true,\"gridcolor\":\"white\",\"linecolor\":\"white\",\"ticks\":\"\",\"title\":{\"standoff\":15},\"zerolinecolor\":\"white\",\"zerolinewidth\":2}}},\"legend\":{\"tracegroupgap\":0},\"margin\":{\"t\":60},\"dragmode\":\"select\"},                        {\"responsive\": true}                    ).then(function(){\n",
              "                            \n",
              "var gd = document.getElementById('bcd01da9-5e90-4b97-851e-65b59388a8c2');\n",
              "var x = new MutationObserver(function (mutations, observer) {{\n",
              "        var display = window.getComputedStyle(gd).display;\n",
              "        if (!display || display === 'none') {{\n",
              "            console.log([gd, 'removed!']);\n",
              "            Plotly.purge(gd);\n",
              "            observer.disconnect();\n",
              "        }}\n",
              "}});\n",
              "\n",
              "// Listen for the removal of the full notebook cells\n",
              "var notebookContainer = gd.closest('#notebook-container');\n",
              "if (notebookContainer) {{\n",
              "    x.observe(notebookContainer, {childList: true});\n",
              "}}\n",
              "\n",
              "// Listen for the clearing of the current output cell\n",
              "var outputEl = gd.closest('.output');\n",
              "if (outputEl) {{\n",
              "    x.observe(outputEl, {childList: true});\n",
              "}}\n",
              "\n",
              "                        })                };                            </script>        </div>\n",
              "</body>\n",
              "</html>"
            ]
          },
          "metadata": {}
        }
      ]
    },
    {
      "cell_type": "code",
      "metadata": {
        "id": "dkIP1lwQFSGB",
        "colab": {
          "base_uri": "https://localhost:8080/",
          "height": 542
        },
        "outputId": "d9c06f44-49b2-4049-ab41-29113e163a06"
      },
      "source": [
        "fig = px.scatter_matrix(iris,\n",
        "                        dimensions=['petal_width', 'petal_length',\n",
        "                                      'sepal_width', 'sepal_length'],\n",
        "                        color = 'species')\n",
        "fig.show()"
      ],
      "execution_count": null,
      "outputs": [
        {
          "output_type": "display_data",
          "data": {
            "text/html": [
              "<html>\n",
              "<head><meta charset=\"utf-8\" /></head>\n",
              "<body>\n",
              "    <div>            <script src=\"https://cdnjs.cloudflare.com/ajax/libs/mathjax/2.7.5/MathJax.js?config=TeX-AMS-MML_SVG\"></script><script type=\"text/javascript\">if (window.MathJax) {MathJax.Hub.Config({SVG: {font: \"STIX-Web\"}});}</script>                <script type=\"text/javascript\">window.PlotlyConfig = {MathJaxConfig: 'local'};</script>\n",
              "        <script src=\"https://cdn.plot.ly/plotly-2.8.3.min.js\"></script>                <div id=\"016832b6-7d2d-4bf7-b2fd-2cafd1de82a5\" class=\"plotly-graph-div\" style=\"height:525px; width:100%;\"></div>            <script type=\"text/javascript\">                                    window.PLOTLYENV=window.PLOTLYENV || {};                                    if (document.getElementById(\"016832b6-7d2d-4bf7-b2fd-2cafd1de82a5\")) {                    Plotly.newPlot(                        \"016832b6-7d2d-4bf7-b2fd-2cafd1de82a5\",                        [{\"dimensions\":[{\"axis\":{\"matches\":true},\"label\":\"petal_width\",\"values\":[0.2,0.2,0.2,0.2,0.2,0.4,0.3,0.2,0.2,0.1,0.2,0.2,0.1,0.1,0.2,0.4,0.4,0.3,0.3,0.3,0.2,0.4,0.2,0.5,0.2,0.2,0.4,0.2,0.2,0.2,0.2,0.4,0.1,0.2,0.1,0.2,0.2,0.1,0.2,0.2,0.3,0.3,0.2,0.6,0.4,0.3,0.2,0.2,0.2,0.2]},{\"axis\":{\"matches\":true},\"label\":\"petal_length\",\"values\":[1.4,1.4,1.3,1.5,1.4,1.7,1.4,1.5,1.4,1.5,1.5,1.6,1.4,1.1,1.2,1.5,1.3,1.4,1.7,1.5,1.7,1.5,1.0,1.7,1.9,1.6,1.6,1.5,1.4,1.6,1.6,1.5,1.5,1.4,1.5,1.2,1.3,1.5,1.3,1.5,1.3,1.3,1.3,1.6,1.9,1.4,1.6,1.4,1.5,1.4]},{\"axis\":{\"matches\":true},\"label\":\"sepal_width\",\"values\":[3.5,3.0,3.2,3.1,3.6,3.9,3.4,3.4,2.9,3.1,3.7,3.4,3.0,3.0,4.0,4.4,3.9,3.5,3.8,3.8,3.4,3.7,3.6,3.3,3.4,3.0,3.4,3.5,3.4,3.2,3.1,3.4,4.1,4.2,3.1,3.2,3.5,3.1,3.0,3.4,3.5,2.3,3.2,3.5,3.8,3.0,3.8,3.2,3.7,3.3]},{\"axis\":{\"matches\":true},\"label\":\"sepal_length\",\"values\":[5.1,4.9,4.7,4.6,5.0,5.4,4.6,5.0,4.4,4.9,5.4,4.8,4.8,4.3,5.8,5.7,5.4,5.1,5.7,5.1,5.4,5.1,4.6,5.1,4.8,5.0,5.0,5.2,5.2,4.7,4.8,5.4,5.2,5.5,4.9,5.0,5.5,4.9,4.4,5.1,5.0,4.5,4.4,5.0,5.1,4.8,5.1,4.6,5.3,5.0]}],\"hovertemplate\":\"species=setosa<br>%{xaxis.title.text}=%{x}<br>%{yaxis.title.text}=%{y}<extra></extra>\",\"legendgroup\":\"setosa\",\"marker\":{\"color\":\"#636efa\",\"symbol\":\"circle\"},\"name\":\"setosa\",\"showlegend\":true,\"type\":\"splom\"},{\"dimensions\":[{\"axis\":{\"matches\":true},\"label\":\"petal_width\",\"values\":[1.4,1.5,1.5,1.3,1.5,1.3,1.6,1.0,1.3,1.4,1.0,1.5,1.0,1.4,1.3,1.4,1.5,1.0,1.5,1.1,1.8,1.3,1.5,1.2,1.3,1.4,1.4,1.7,1.5,1.0,1.1,1.0,1.2,1.6,1.5,1.6,1.5,1.3,1.3,1.3,1.2,1.4,1.2,1.0,1.3,1.2,1.3,1.3,1.1,1.3]},{\"axis\":{\"matches\":true},\"label\":\"petal_length\",\"values\":[4.7,4.5,4.9,4.0,4.6,4.5,4.7,3.3,4.6,3.9,3.5,4.2,4.0,4.7,3.6,4.4,4.5,4.1,4.5,3.9,4.8,4.0,4.9,4.7,4.3,4.4,4.8,5.0,4.5,3.5,3.8,3.7,3.9,5.1,4.5,4.5,4.7,4.4,4.1,4.0,4.4,4.6,4.0,3.3,4.2,4.2,4.2,4.3,3.0,4.1]},{\"axis\":{\"matches\":true},\"label\":\"sepal_width\",\"values\":[3.2,3.2,3.1,2.3,2.8,2.8,3.3,2.4,2.9,2.7,2.0,3.0,2.2,2.9,2.9,3.1,3.0,2.7,2.2,2.5,3.2,2.8,2.5,2.8,2.9,3.0,2.8,3.0,2.9,2.6,2.4,2.4,2.7,2.7,3.0,3.4,3.1,2.3,3.0,2.5,2.6,3.0,2.6,2.3,2.7,3.0,2.9,2.9,2.5,2.8]},{\"axis\":{\"matches\":true},\"label\":\"sepal_length\",\"values\":[7.0,6.4,6.9,5.5,6.5,5.7,6.3,4.9,6.6,5.2,5.0,5.9,6.0,6.1,5.6,6.7,5.6,5.8,6.2,5.6,5.9,6.1,6.3,6.1,6.4,6.6,6.8,6.7,6.0,5.7,5.5,5.5,5.8,6.0,5.4,6.0,6.7,6.3,5.6,5.5,5.5,6.1,5.8,5.0,5.6,5.7,5.7,6.2,5.1,5.7]}],\"hovertemplate\":\"species=versicolor<br>%{xaxis.title.text}=%{x}<br>%{yaxis.title.text}=%{y}<extra></extra>\",\"legendgroup\":\"versicolor\",\"marker\":{\"color\":\"#EF553B\",\"symbol\":\"circle\"},\"name\":\"versicolor\",\"showlegend\":true,\"type\":\"splom\"},{\"dimensions\":[{\"axis\":{\"matches\":true},\"label\":\"petal_width\",\"values\":[2.5,1.9,2.1,1.8,2.2,2.1,1.7,1.8,1.8,2.5,2.0,1.9,2.1,2.0,2.4,2.3,1.8,2.2,2.3,1.5,2.3,2.0,2.0,1.8,2.1,1.8,1.8,1.8,2.1,1.6,1.9,2.0,2.2,1.5,1.4,2.3,2.4,1.8,1.8,2.1,2.4,2.3,1.9,2.3,2.5,2.3,1.9,2.0,2.3,1.8]},{\"axis\":{\"matches\":true},\"label\":\"petal_length\",\"values\":[6.0,5.1,5.9,5.6,5.8,6.6,4.5,6.3,5.8,6.1,5.1,5.3,5.5,5.0,5.1,5.3,5.5,6.7,6.9,5.0,5.7,4.9,6.7,4.9,5.7,6.0,4.8,4.9,5.6,5.8,6.1,6.4,5.6,5.1,5.6,6.1,5.6,5.5,4.8,5.4,5.6,5.1,5.1,5.9,5.7,5.2,5.0,5.2,5.4,5.1]},{\"axis\":{\"matches\":true},\"label\":\"sepal_width\",\"values\":[3.3,2.7,3.0,2.9,3.0,3.0,2.5,2.9,2.5,3.6,3.2,2.7,3.0,2.5,2.8,3.2,3.0,3.8,2.6,2.2,3.2,2.8,2.8,2.7,3.3,3.2,2.8,3.0,2.8,3.0,2.8,3.8,2.8,2.8,2.6,3.0,3.4,3.1,3.0,3.1,3.1,3.1,2.7,3.2,3.3,3.0,2.5,3.0,3.4,3.0]},{\"axis\":{\"matches\":true},\"label\":\"sepal_length\",\"values\":[6.3,5.8,7.1,6.3,6.5,7.6,4.9,7.3,6.7,7.2,6.5,6.4,6.8,5.7,5.8,6.4,6.5,7.7,7.7,6.0,6.9,5.6,7.7,6.3,6.7,7.2,6.2,6.1,6.4,7.2,7.4,7.9,6.4,6.3,6.1,7.7,6.3,6.4,6.0,6.9,6.7,6.9,5.8,6.8,6.7,6.7,6.3,6.5,6.2,5.9]}],\"hovertemplate\":\"species=virginica<br>%{xaxis.title.text}=%{x}<br>%{yaxis.title.text}=%{y}<extra></extra>\",\"legendgroup\":\"virginica\",\"marker\":{\"color\":\"#00cc96\",\"symbol\":\"circle\"},\"name\":\"virginica\",\"showlegend\":true,\"type\":\"splom\"}],                        {\"template\":{\"data\":{\"bar\":[{\"error_x\":{\"color\":\"#2a3f5f\"},\"error_y\":{\"color\":\"#2a3f5f\"},\"marker\":{\"line\":{\"color\":\"#E5ECF6\",\"width\":0.5},\"pattern\":{\"fillmode\":\"overlay\",\"size\":10,\"solidity\":0.2}},\"type\":\"bar\"}],\"barpolar\":[{\"marker\":{\"line\":{\"color\":\"#E5ECF6\",\"width\":0.5},\"pattern\":{\"fillmode\":\"overlay\",\"size\":10,\"solidity\":0.2}},\"type\":\"barpolar\"}],\"carpet\":[{\"aaxis\":{\"endlinecolor\":\"#2a3f5f\",\"gridcolor\":\"white\",\"linecolor\":\"white\",\"minorgridcolor\":\"white\",\"startlinecolor\":\"#2a3f5f\"},\"baxis\":{\"endlinecolor\":\"#2a3f5f\",\"gridcolor\":\"white\",\"linecolor\":\"white\",\"minorgridcolor\":\"white\",\"startlinecolor\":\"#2a3f5f\"},\"type\":\"carpet\"}],\"choropleth\":[{\"colorbar\":{\"outlinewidth\":0,\"ticks\":\"\"},\"type\":\"choropleth\"}],\"contour\":[{\"colorbar\":{\"outlinewidth\":0,\"ticks\":\"\"},\"colorscale\":[[0.0,\"#0d0887\"],[0.1111111111111111,\"#46039f\"],[0.2222222222222222,\"#7201a8\"],[0.3333333333333333,\"#9c179e\"],[0.4444444444444444,\"#bd3786\"],[0.5555555555555556,\"#d8576b\"],[0.6666666666666666,\"#ed7953\"],[0.7777777777777778,\"#fb9f3a\"],[0.8888888888888888,\"#fdca26\"],[1.0,\"#f0f921\"]],\"type\":\"contour\"}],\"contourcarpet\":[{\"colorbar\":{\"outlinewidth\":0,\"ticks\":\"\"},\"type\":\"contourcarpet\"}],\"heatmap\":[{\"colorbar\":{\"outlinewidth\":0,\"ticks\":\"\"},\"colorscale\":[[0.0,\"#0d0887\"],[0.1111111111111111,\"#46039f\"],[0.2222222222222222,\"#7201a8\"],[0.3333333333333333,\"#9c179e\"],[0.4444444444444444,\"#bd3786\"],[0.5555555555555556,\"#d8576b\"],[0.6666666666666666,\"#ed7953\"],[0.7777777777777778,\"#fb9f3a\"],[0.8888888888888888,\"#fdca26\"],[1.0,\"#f0f921\"]],\"type\":\"heatmap\"}],\"heatmapgl\":[{\"colorbar\":{\"outlinewidth\":0,\"ticks\":\"\"},\"colorscale\":[[0.0,\"#0d0887\"],[0.1111111111111111,\"#46039f\"],[0.2222222222222222,\"#7201a8\"],[0.3333333333333333,\"#9c179e\"],[0.4444444444444444,\"#bd3786\"],[0.5555555555555556,\"#d8576b\"],[0.6666666666666666,\"#ed7953\"],[0.7777777777777778,\"#fb9f3a\"],[0.8888888888888888,\"#fdca26\"],[1.0,\"#f0f921\"]],\"type\":\"heatmapgl\"}],\"histogram\":[{\"marker\":{\"pattern\":{\"fillmode\":\"overlay\",\"size\":10,\"solidity\":0.2}},\"type\":\"histogram\"}],\"histogram2d\":[{\"colorbar\":{\"outlinewidth\":0,\"ticks\":\"\"},\"colorscale\":[[0.0,\"#0d0887\"],[0.1111111111111111,\"#46039f\"],[0.2222222222222222,\"#7201a8\"],[0.3333333333333333,\"#9c179e\"],[0.4444444444444444,\"#bd3786\"],[0.5555555555555556,\"#d8576b\"],[0.6666666666666666,\"#ed7953\"],[0.7777777777777778,\"#fb9f3a\"],[0.8888888888888888,\"#fdca26\"],[1.0,\"#f0f921\"]],\"type\":\"histogram2d\"}],\"histogram2dcontour\":[{\"colorbar\":{\"outlinewidth\":0,\"ticks\":\"\"},\"colorscale\":[[0.0,\"#0d0887\"],[0.1111111111111111,\"#46039f\"],[0.2222222222222222,\"#7201a8\"],[0.3333333333333333,\"#9c179e\"],[0.4444444444444444,\"#bd3786\"],[0.5555555555555556,\"#d8576b\"],[0.6666666666666666,\"#ed7953\"],[0.7777777777777778,\"#fb9f3a\"],[0.8888888888888888,\"#fdca26\"],[1.0,\"#f0f921\"]],\"type\":\"histogram2dcontour\"}],\"mesh3d\":[{\"colorbar\":{\"outlinewidth\":0,\"ticks\":\"\"},\"type\":\"mesh3d\"}],\"parcoords\":[{\"line\":{\"colorbar\":{\"outlinewidth\":0,\"ticks\":\"\"}},\"type\":\"parcoords\"}],\"pie\":[{\"automargin\":true,\"type\":\"pie\"}],\"scatter\":[{\"marker\":{\"colorbar\":{\"outlinewidth\":0,\"ticks\":\"\"}},\"type\":\"scatter\"}],\"scatter3d\":[{\"line\":{\"colorbar\":{\"outlinewidth\":0,\"ticks\":\"\"}},\"marker\":{\"colorbar\":{\"outlinewidth\":0,\"ticks\":\"\"}},\"type\":\"scatter3d\"}],\"scattercarpet\":[{\"marker\":{\"colorbar\":{\"outlinewidth\":0,\"ticks\":\"\"}},\"type\":\"scattercarpet\"}],\"scattergeo\":[{\"marker\":{\"colorbar\":{\"outlinewidth\":0,\"ticks\":\"\"}},\"type\":\"scattergeo\"}],\"scattergl\":[{\"marker\":{\"colorbar\":{\"outlinewidth\":0,\"ticks\":\"\"}},\"type\":\"scattergl\"}],\"scattermapbox\":[{\"marker\":{\"colorbar\":{\"outlinewidth\":0,\"ticks\":\"\"}},\"type\":\"scattermapbox\"}],\"scatterpolar\":[{\"marker\":{\"colorbar\":{\"outlinewidth\":0,\"ticks\":\"\"}},\"type\":\"scatterpolar\"}],\"scatterpolargl\":[{\"marker\":{\"colorbar\":{\"outlinewidth\":0,\"ticks\":\"\"}},\"type\":\"scatterpolargl\"}],\"scatterternary\":[{\"marker\":{\"colorbar\":{\"outlinewidth\":0,\"ticks\":\"\"}},\"type\":\"scatterternary\"}],\"surface\":[{\"colorbar\":{\"outlinewidth\":0,\"ticks\":\"\"},\"colorscale\":[[0.0,\"#0d0887\"],[0.1111111111111111,\"#46039f\"],[0.2222222222222222,\"#7201a8\"],[0.3333333333333333,\"#9c179e\"],[0.4444444444444444,\"#bd3786\"],[0.5555555555555556,\"#d8576b\"],[0.6666666666666666,\"#ed7953\"],[0.7777777777777778,\"#fb9f3a\"],[0.8888888888888888,\"#fdca26\"],[1.0,\"#f0f921\"]],\"type\":\"surface\"}],\"table\":[{\"cells\":{\"fill\":{\"color\":\"#EBF0F8\"},\"line\":{\"color\":\"white\"}},\"header\":{\"fill\":{\"color\":\"#C8D4E3\"},\"line\":{\"color\":\"white\"}},\"type\":\"table\"}]},\"layout\":{\"annotationdefaults\":{\"arrowcolor\":\"#2a3f5f\",\"arrowhead\":0,\"arrowwidth\":1},\"autotypenumbers\":\"strict\",\"coloraxis\":{\"colorbar\":{\"outlinewidth\":0,\"ticks\":\"\"}},\"colorscale\":{\"diverging\":[[0,\"#8e0152\"],[0.1,\"#c51b7d\"],[0.2,\"#de77ae\"],[0.3,\"#f1b6da\"],[0.4,\"#fde0ef\"],[0.5,\"#f7f7f7\"],[0.6,\"#e6f5d0\"],[0.7,\"#b8e186\"],[0.8,\"#7fbc41\"],[0.9,\"#4d9221\"],[1,\"#276419\"]],\"sequential\":[[0.0,\"#0d0887\"],[0.1111111111111111,\"#46039f\"],[0.2222222222222222,\"#7201a8\"],[0.3333333333333333,\"#9c179e\"],[0.4444444444444444,\"#bd3786\"],[0.5555555555555556,\"#d8576b\"],[0.6666666666666666,\"#ed7953\"],[0.7777777777777778,\"#fb9f3a\"],[0.8888888888888888,\"#fdca26\"],[1.0,\"#f0f921\"]],\"sequentialminus\":[[0.0,\"#0d0887\"],[0.1111111111111111,\"#46039f\"],[0.2222222222222222,\"#7201a8\"],[0.3333333333333333,\"#9c179e\"],[0.4444444444444444,\"#bd3786\"],[0.5555555555555556,\"#d8576b\"],[0.6666666666666666,\"#ed7953\"],[0.7777777777777778,\"#fb9f3a\"],[0.8888888888888888,\"#fdca26\"],[1.0,\"#f0f921\"]]},\"colorway\":[\"#636efa\",\"#EF553B\",\"#00cc96\",\"#ab63fa\",\"#FFA15A\",\"#19d3f3\",\"#FF6692\",\"#B6E880\",\"#FF97FF\",\"#FECB52\"],\"font\":{\"color\":\"#2a3f5f\"},\"geo\":{\"bgcolor\":\"white\",\"lakecolor\":\"white\",\"landcolor\":\"#E5ECF6\",\"showlakes\":true,\"showland\":true,\"subunitcolor\":\"white\"},\"hoverlabel\":{\"align\":\"left\"},\"hovermode\":\"closest\",\"mapbox\":{\"style\":\"light\"},\"paper_bgcolor\":\"white\",\"plot_bgcolor\":\"#E5ECF6\",\"polar\":{\"angularaxis\":{\"gridcolor\":\"white\",\"linecolor\":\"white\",\"ticks\":\"\"},\"bgcolor\":\"#E5ECF6\",\"radialaxis\":{\"gridcolor\":\"white\",\"linecolor\":\"white\",\"ticks\":\"\"}},\"scene\":{\"xaxis\":{\"backgroundcolor\":\"#E5ECF6\",\"gridcolor\":\"white\",\"gridwidth\":2,\"linecolor\":\"white\",\"showbackground\":true,\"ticks\":\"\",\"zerolinecolor\":\"white\"},\"yaxis\":{\"backgroundcolor\":\"#E5ECF6\",\"gridcolor\":\"white\",\"gridwidth\":2,\"linecolor\":\"white\",\"showbackground\":true,\"ticks\":\"\",\"zerolinecolor\":\"white\"},\"zaxis\":{\"backgroundcolor\":\"#E5ECF6\",\"gridcolor\":\"white\",\"gridwidth\":2,\"linecolor\":\"white\",\"showbackground\":true,\"ticks\":\"\",\"zerolinecolor\":\"white\"}},\"shapedefaults\":{\"line\":{\"color\":\"#2a3f5f\"}},\"ternary\":{\"aaxis\":{\"gridcolor\":\"white\",\"linecolor\":\"white\",\"ticks\":\"\"},\"baxis\":{\"gridcolor\":\"white\",\"linecolor\":\"white\",\"ticks\":\"\"},\"bgcolor\":\"#E5ECF6\",\"caxis\":{\"gridcolor\":\"white\",\"linecolor\":\"white\",\"ticks\":\"\"}},\"title\":{\"x\":0.05},\"xaxis\":{\"automargin\":true,\"gridcolor\":\"white\",\"linecolor\":\"white\",\"ticks\":\"\",\"title\":{\"standoff\":15},\"zerolinecolor\":\"white\",\"zerolinewidth\":2},\"yaxis\":{\"automargin\":true,\"gridcolor\":\"white\",\"linecolor\":\"white\",\"ticks\":\"\",\"title\":{\"standoff\":15},\"zerolinecolor\":\"white\",\"zerolinewidth\":2}}},\"legend\":{\"title\":{\"text\":\"species\"},\"tracegroupgap\":0},\"margin\":{\"t\":60},\"dragmode\":\"select\"},                        {\"responsive\": true}                    ).then(function(){\n",
              "                            \n",
              "var gd = document.getElementById('016832b6-7d2d-4bf7-b2fd-2cafd1de82a5');\n",
              "var x = new MutationObserver(function (mutations, observer) {{\n",
              "        var display = window.getComputedStyle(gd).display;\n",
              "        if (!display || display === 'none') {{\n",
              "            console.log([gd, 'removed!']);\n",
              "            Plotly.purge(gd);\n",
              "            observer.disconnect();\n",
              "        }}\n",
              "}});\n",
              "\n",
              "// Listen for the removal of the full notebook cells\n",
              "var notebookContainer = gd.closest('#notebook-container');\n",
              "if (notebookContainer) {{\n",
              "    x.observe(notebookContainer, {childList: true});\n",
              "}}\n",
              "\n",
              "// Listen for the clearing of the current output cell\n",
              "var outputEl = gd.closest('.output');\n",
              "if (outputEl) {{\n",
              "    x.observe(outputEl, {childList: true});\n",
              "}}\n",
              "\n",
              "                        })                };                            </script>        </div>\n",
              "</body>\n",
              "</html>"
            ]
          },
          "metadata": {}
        }
      ]
    },
    {
      "cell_type": "code",
      "metadata": {
        "id": "Gi630cY0GjN1",
        "colab": {
          "base_uri": "https://localhost:8080/",
          "height": 542
        },
        "outputId": "dc49d46e-fe75-4bd4-dd05-0e18b8ca67f1"
      },
      "source": [
        "fig =px.scatter_matrix(tips, dimensions=['total_bill','tip','day','size'],\n",
        "                       color='sex')\n",
        "fig.show()"
      ],
      "execution_count": null,
      "outputs": [
        {
          "output_type": "display_data",
          "data": {
            "text/html": [
              "<html>\n",
              "<head><meta charset=\"utf-8\" /></head>\n",
              "<body>\n",
              "    <div>            <script src=\"https://cdnjs.cloudflare.com/ajax/libs/mathjax/2.7.5/MathJax.js?config=TeX-AMS-MML_SVG\"></script><script type=\"text/javascript\">if (window.MathJax) {MathJax.Hub.Config({SVG: {font: \"STIX-Web\"}});}</script>                <script type=\"text/javascript\">window.PlotlyConfig = {MathJaxConfig: 'local'};</script>\n",
              "        <script src=\"https://cdn.plot.ly/plotly-2.8.3.min.js\"></script>                <div id=\"aa762fb1-4cf4-4d7a-a83e-aa7a29c7719e\" class=\"plotly-graph-div\" style=\"height:525px; width:100%;\"></div>            <script type=\"text/javascript\">                                    window.PLOTLYENV=window.PLOTLYENV || {};                                    if (document.getElementById(\"aa762fb1-4cf4-4d7a-a83e-aa7a29c7719e\")) {                    Plotly.newPlot(                        \"aa762fb1-4cf4-4d7a-a83e-aa7a29c7719e\",                        [{\"dimensions\":[{\"axis\":{\"matches\":true},\"label\":\"total_bill\",\"values\":[16.99,24.59,35.26,14.83,10.33,16.97,20.29,15.77,19.65,15.06,20.69,16.93,10.29,34.81,26.41,16.45,3.07,17.07,26.86,25.28,14.73,10.07,34.83,5.75,16.32,22.75,11.35,15.38,44.3,22.42,20.92,14.31,7.25,25.71,17.31,10.65,12.43,24.08,13.42,12.48,29.8,14.52,11.38,20.27,11.17,12.26,18.26,8.51,10.33,14.15,13.16,17.47,27.05,16.43,8.35,18.64,11.87,29.85,25.0,13.39,16.21,17.51,10.59,10.63,9.6,20.9,18.15,19.81,43.11,13.0,12.74,13.0,16.4,16.47,12.76,13.27,28.17,12.9,30.14,13.42,15.98,16.27,10.09,22.12,35.83,27.18,18.78]},{\"axis\":{\"matches\":true},\"label\":\"tip\",\"values\":[1.01,3.61,5.0,3.02,1.67,3.5,2.75,2.23,3.0,3.0,2.45,3.07,2.6,5.2,1.5,2.47,1.0,3.0,3.14,5.0,2.2,1.83,5.17,1.0,4.3,3.25,2.5,3.0,2.5,3.48,4.08,4.0,1.0,4.0,3.5,1.5,1.8,2.92,1.68,2.52,4.2,2.0,2.0,2.83,1.5,2.0,3.25,1.25,2.0,2.0,2.75,3.5,5.0,2.3,1.5,1.36,1.63,5.14,3.75,2.61,2.0,3.0,1.61,2.0,4.0,3.5,3.5,4.19,5.0,2.0,2.01,2.0,2.5,3.23,2.23,2.5,6.5,1.1,3.09,3.48,3.0,2.5,2.0,2.88,4.67,2.0,3.0]},{\"axis\":{\"matches\":true},\"label\":\"day\",\"values\":[\"Sun\",\"Sun\",\"Sun\",\"Sun\",\"Sun\",\"Sun\",\"Sat\",\"Sat\",\"Sat\",\"Sat\",\"Sat\",\"Sat\",\"Sun\",\"Sun\",\"Sat\",\"Sat\",\"Sat\",\"Sat\",\"Sat\",\"Sat\",\"Sat\",\"Thur\",\"Thur\",\"Fri\",\"Fri\",\"Fri\",\"Fri\",\"Fri\",\"Sat\",\"Sat\",\"Sat\",\"Sat\",\"Sat\",\"Sun\",\"Sun\",\"Thur\",\"Thur\",\"Thur\",\"Thur\",\"Thur\",\"Thur\",\"Thur\",\"Thur\",\"Thur\",\"Thur\",\"Thur\",\"Thur\",\"Thur\",\"Thur\",\"Thur\",\"Thur\",\"Thur\",\"Thur\",\"Thur\",\"Thur\",\"Thur\",\"Thur\",\"Sun\",\"Sun\",\"Sun\",\"Sun\",\"Sun\",\"Sat\",\"Sat\",\"Sun\",\"Sun\",\"Sun\",\"Thur\",\"Thur\",\"Thur\",\"Thur\",\"Thur\",\"Thur\",\"Thur\",\"Sat\",\"Sat\",\"Sat\",\"Sat\",\"Sat\",\"Fri\",\"Fri\",\"Fri\",\"Fri\",\"Sat\",\"Sat\",\"Sat\",\"Thur\"]},{\"axis\":{\"matches\":true},\"label\":\"size\",\"values\":[2,4,4,2,3,3,2,2,2,2,4,3,2,4,2,2,1,3,2,2,2,1,4,2,2,2,2,2,3,2,2,2,1,3,2,2,2,4,2,2,6,2,2,2,2,2,2,2,2,2,2,2,6,2,2,3,2,5,4,2,3,2,2,2,2,3,3,2,4,2,2,2,2,3,2,2,3,2,4,2,3,2,2,2,3,2,2]}],\"hovertemplate\":\"sex=Female<br>%{xaxis.title.text}=%{x}<br>%{yaxis.title.text}=%{y}<extra></extra>\",\"legendgroup\":\"Female\",\"marker\":{\"color\":\"#636efa\",\"symbol\":\"circle\"},\"name\":\"Female\",\"showlegend\":true,\"type\":\"splom\"},{\"dimensions\":[{\"axis\":{\"matches\":true},\"label\":\"total_bill\",\"values\":[10.34,21.01,23.68,25.29,8.77,26.88,15.04,14.78,10.27,15.42,18.43,21.58,16.29,20.65,17.92,39.42,19.82,17.81,13.37,12.69,21.7,9.55,18.35,17.78,24.06,16.31,18.69,31.27,16.04,17.46,13.94,9.68,30.4,18.29,22.23,32.4,28.55,18.04,12.54,9.94,25.56,19.49,38.01,11.24,48.27,20.29,13.81,11.02,18.29,17.59,20.08,20.23,15.01,12.02,10.51,17.92,27.2,22.76,17.29,19.44,16.66,32.68,15.98,13.03,18.28,24.71,21.16,28.97,22.49,40.17,27.28,12.03,21.01,12.46,15.36,20.49,25.21,18.24,14.0,38.07,23.95,29.93,11.69,14.26,15.95,8.52,22.82,19.08,16.0,34.3,41.19,9.78,7.51,14.07,13.13,17.26,24.55,19.77,48.17,16.49,21.5,12.66,13.81,24.52,20.76,31.71,50.81,15.81,7.25,31.85,16.82,32.9,17.89,14.48,34.63,34.65,23.33,45.35,23.17,40.55,20.69,30.46,23.1,15.69,28.44,15.48,16.58,7.56,10.34,13.51,18.71,20.53,26.59,38.73,24.27,30.06,25.89,48.33,28.15,11.59,7.74,12.16,8.58,13.42,20.45,13.28,24.01,15.69,11.61,10.77,15.53,10.07,12.6,32.83,29.03,22.67,17.82]},{\"axis\":{\"matches\":true},\"label\":\"tip\",\"values\":[1.66,3.5,3.31,4.71,2.0,3.12,1.96,3.23,1.71,1.57,3.0,3.92,3.71,3.35,4.08,7.58,3.18,2.34,2.0,2.0,4.3,1.45,2.5,3.27,3.6,2.0,2.31,5.0,2.24,2.54,3.06,1.32,5.6,3.0,5.0,6.0,2.05,3.0,2.5,1.56,4.34,3.51,3.0,1.76,6.73,3.21,2.0,1.98,3.76,2.64,3.15,2.01,2.09,1.97,1.25,3.08,4.0,3.0,2.71,3.0,3.4,5.0,2.03,2.0,4.0,5.85,3.0,3.0,3.5,4.73,4.0,1.5,3.0,1.5,1.64,4.06,4.29,3.76,3.0,4.0,2.55,5.07,2.31,2.5,2.0,1.48,2.18,1.5,2.0,6.7,5.0,1.73,2.0,2.5,2.0,2.74,2.0,2.0,5.0,2.0,3.5,2.5,2.0,3.48,2.24,4.5,10.0,3.16,5.15,3.18,4.0,3.11,2.0,2.0,3.55,3.68,5.65,3.5,6.5,3.0,5.0,2.0,4.0,1.5,2.56,2.02,4.0,1.44,2.0,2.0,4.0,4.0,3.41,3.0,2.03,2.0,5.16,9.0,3.0,1.5,1.44,2.2,1.92,1.58,3.0,2.72,2.0,3.0,3.39,1.47,3.0,1.25,1.0,1.17,5.92,2.0,1.75]},{\"axis\":{\"matches\":true},\"label\":\"day\",\"values\":[\"Sun\",\"Sun\",\"Sun\",\"Sun\",\"Sun\",\"Sun\",\"Sun\",\"Sun\",\"Sun\",\"Sun\",\"Sun\",\"Sun\",\"Sun\",\"Sat\",\"Sat\",\"Sat\",\"Sat\",\"Sat\",\"Sat\",\"Sat\",\"Sat\",\"Sat\",\"Sat\",\"Sat\",\"Sat\",\"Sat\",\"Sat\",\"Sat\",\"Sat\",\"Sun\",\"Sun\",\"Sun\",\"Sun\",\"Sun\",\"Sun\",\"Sun\",\"Sun\",\"Sun\",\"Sun\",\"Sun\",\"Sun\",\"Sun\",\"Sat\",\"Sat\",\"Sat\",\"Sat\",\"Sat\",\"Sat\",\"Sat\",\"Sat\",\"Sat\",\"Sat\",\"Sat\",\"Sat\",\"Sat\",\"Sat\",\"Thur\",\"Thur\",\"Thur\",\"Thur\",\"Thur\",\"Thur\",\"Thur\",\"Thur\",\"Thur\",\"Thur\",\"Thur\",\"Fri\",\"Fri\",\"Fri\",\"Fri\",\"Fri\",\"Fri\",\"Fri\",\"Sat\",\"Sat\",\"Sat\",\"Sat\",\"Sat\",\"Sun\",\"Sun\",\"Sun\",\"Thur\",\"Thur\",\"Thur\",\"Thur\",\"Thur\",\"Thur\",\"Thur\",\"Thur\",\"Thur\",\"Thur\",\"Thur\",\"Sun\",\"Sun\",\"Sun\",\"Sun\",\"Sun\",\"Sun\",\"Sun\",\"Sun\",\"Sun\",\"Sun\",\"Sun\",\"Sun\",\"Sun\",\"Sat\",\"Sat\",\"Sun\",\"Sun\",\"Sun\",\"Sun\",\"Sun\",\"Sun\",\"Sun\",\"Sun\",\"Sun\",\"Sun\",\"Sun\",\"Sun\",\"Sun\",\"Sun\",\"Sun\",\"Sun\",\"Thur\",\"Thur\",\"Thur\",\"Thur\",\"Thur\",\"Thur\",\"Thur\",\"Thur\",\"Sat\",\"Sat\",\"Sat\",\"Sat\",\"Sat\",\"Sat\",\"Sat\",\"Sat\",\"Sat\",\"Fri\",\"Fri\",\"Fri\",\"Sat\",\"Sat\",\"Sat\",\"Sat\",\"Sat\",\"Sat\",\"Sat\",\"Sat\",\"Sat\",\"Sat\",\"Sat\",\"Sat\",\"Sat\"]},{\"axis\":{\"matches\":true},\"label\":\"size\",\"values\":[3,3,2,4,2,4,2,2,2,2,4,2,3,3,2,4,2,4,2,2,2,2,4,2,3,3,3,3,3,2,2,2,4,2,2,4,3,2,2,2,4,2,4,2,4,2,2,2,4,3,3,2,2,2,2,2,4,2,2,2,2,2,2,2,2,2,2,2,2,4,2,2,2,2,2,2,2,2,2,3,2,4,2,2,2,2,3,2,2,6,5,2,2,2,2,3,4,4,6,4,4,2,2,3,2,4,3,2,2,2,2,2,2,2,2,4,2,3,4,2,5,5,3,2,2,2,2,2,2,2,3,4,3,4,2,3,4,4,5,2,2,2,1,2,4,2,4,3,2,2,2,2,2,2,3,2,2]}],\"hovertemplate\":\"sex=Male<br>%{xaxis.title.text}=%{x}<br>%{yaxis.title.text}=%{y}<extra></extra>\",\"legendgroup\":\"Male\",\"marker\":{\"color\":\"#EF553B\",\"symbol\":\"circle\"},\"name\":\"Male\",\"showlegend\":true,\"type\":\"splom\"}],                        {\"template\":{\"data\":{\"bar\":[{\"error_x\":{\"color\":\"#2a3f5f\"},\"error_y\":{\"color\":\"#2a3f5f\"},\"marker\":{\"line\":{\"color\":\"#E5ECF6\",\"width\":0.5},\"pattern\":{\"fillmode\":\"overlay\",\"size\":10,\"solidity\":0.2}},\"type\":\"bar\"}],\"barpolar\":[{\"marker\":{\"line\":{\"color\":\"#E5ECF6\",\"width\":0.5},\"pattern\":{\"fillmode\":\"overlay\",\"size\":10,\"solidity\":0.2}},\"type\":\"barpolar\"}],\"carpet\":[{\"aaxis\":{\"endlinecolor\":\"#2a3f5f\",\"gridcolor\":\"white\",\"linecolor\":\"white\",\"minorgridcolor\":\"white\",\"startlinecolor\":\"#2a3f5f\"},\"baxis\":{\"endlinecolor\":\"#2a3f5f\",\"gridcolor\":\"white\",\"linecolor\":\"white\",\"minorgridcolor\":\"white\",\"startlinecolor\":\"#2a3f5f\"},\"type\":\"carpet\"}],\"choropleth\":[{\"colorbar\":{\"outlinewidth\":0,\"ticks\":\"\"},\"type\":\"choropleth\"}],\"contour\":[{\"colorbar\":{\"outlinewidth\":0,\"ticks\":\"\"},\"colorscale\":[[0.0,\"#0d0887\"],[0.1111111111111111,\"#46039f\"],[0.2222222222222222,\"#7201a8\"],[0.3333333333333333,\"#9c179e\"],[0.4444444444444444,\"#bd3786\"],[0.5555555555555556,\"#d8576b\"],[0.6666666666666666,\"#ed7953\"],[0.7777777777777778,\"#fb9f3a\"],[0.8888888888888888,\"#fdca26\"],[1.0,\"#f0f921\"]],\"type\":\"contour\"}],\"contourcarpet\":[{\"colorbar\":{\"outlinewidth\":0,\"ticks\":\"\"},\"type\":\"contourcarpet\"}],\"heatmap\":[{\"colorbar\":{\"outlinewidth\":0,\"ticks\":\"\"},\"colorscale\":[[0.0,\"#0d0887\"],[0.1111111111111111,\"#46039f\"],[0.2222222222222222,\"#7201a8\"],[0.3333333333333333,\"#9c179e\"],[0.4444444444444444,\"#bd3786\"],[0.5555555555555556,\"#d8576b\"],[0.6666666666666666,\"#ed7953\"],[0.7777777777777778,\"#fb9f3a\"],[0.8888888888888888,\"#fdca26\"],[1.0,\"#f0f921\"]],\"type\":\"heatmap\"}],\"heatmapgl\":[{\"colorbar\":{\"outlinewidth\":0,\"ticks\":\"\"},\"colorscale\":[[0.0,\"#0d0887\"],[0.1111111111111111,\"#46039f\"],[0.2222222222222222,\"#7201a8\"],[0.3333333333333333,\"#9c179e\"],[0.4444444444444444,\"#bd3786\"],[0.5555555555555556,\"#d8576b\"],[0.6666666666666666,\"#ed7953\"],[0.7777777777777778,\"#fb9f3a\"],[0.8888888888888888,\"#fdca26\"],[1.0,\"#f0f921\"]],\"type\":\"heatmapgl\"}],\"histogram\":[{\"marker\":{\"pattern\":{\"fillmode\":\"overlay\",\"size\":10,\"solidity\":0.2}},\"type\":\"histogram\"}],\"histogram2d\":[{\"colorbar\":{\"outlinewidth\":0,\"ticks\":\"\"},\"colorscale\":[[0.0,\"#0d0887\"],[0.1111111111111111,\"#46039f\"],[0.2222222222222222,\"#7201a8\"],[0.3333333333333333,\"#9c179e\"],[0.4444444444444444,\"#bd3786\"],[0.5555555555555556,\"#d8576b\"],[0.6666666666666666,\"#ed7953\"],[0.7777777777777778,\"#fb9f3a\"],[0.8888888888888888,\"#fdca26\"],[1.0,\"#f0f921\"]],\"type\":\"histogram2d\"}],\"histogram2dcontour\":[{\"colorbar\":{\"outlinewidth\":0,\"ticks\":\"\"},\"colorscale\":[[0.0,\"#0d0887\"],[0.1111111111111111,\"#46039f\"],[0.2222222222222222,\"#7201a8\"],[0.3333333333333333,\"#9c179e\"],[0.4444444444444444,\"#bd3786\"],[0.5555555555555556,\"#d8576b\"],[0.6666666666666666,\"#ed7953\"],[0.7777777777777778,\"#fb9f3a\"],[0.8888888888888888,\"#fdca26\"],[1.0,\"#f0f921\"]],\"type\":\"histogram2dcontour\"}],\"mesh3d\":[{\"colorbar\":{\"outlinewidth\":0,\"ticks\":\"\"},\"type\":\"mesh3d\"}],\"parcoords\":[{\"line\":{\"colorbar\":{\"outlinewidth\":0,\"ticks\":\"\"}},\"type\":\"parcoords\"}],\"pie\":[{\"automargin\":true,\"type\":\"pie\"}],\"scatter\":[{\"marker\":{\"colorbar\":{\"outlinewidth\":0,\"ticks\":\"\"}},\"type\":\"scatter\"}],\"scatter3d\":[{\"line\":{\"colorbar\":{\"outlinewidth\":0,\"ticks\":\"\"}},\"marker\":{\"colorbar\":{\"outlinewidth\":0,\"ticks\":\"\"}},\"type\":\"scatter3d\"}],\"scattercarpet\":[{\"marker\":{\"colorbar\":{\"outlinewidth\":0,\"ticks\":\"\"}},\"type\":\"scattercarpet\"}],\"scattergeo\":[{\"marker\":{\"colorbar\":{\"outlinewidth\":0,\"ticks\":\"\"}},\"type\":\"scattergeo\"}],\"scattergl\":[{\"marker\":{\"colorbar\":{\"outlinewidth\":0,\"ticks\":\"\"}},\"type\":\"scattergl\"}],\"scattermapbox\":[{\"marker\":{\"colorbar\":{\"outlinewidth\":0,\"ticks\":\"\"}},\"type\":\"scattermapbox\"}],\"scatterpolar\":[{\"marker\":{\"colorbar\":{\"outlinewidth\":0,\"ticks\":\"\"}},\"type\":\"scatterpolar\"}],\"scatterpolargl\":[{\"marker\":{\"colorbar\":{\"outlinewidth\":0,\"ticks\":\"\"}},\"type\":\"scatterpolargl\"}],\"scatterternary\":[{\"marker\":{\"colorbar\":{\"outlinewidth\":0,\"ticks\":\"\"}},\"type\":\"scatterternary\"}],\"surface\":[{\"colorbar\":{\"outlinewidth\":0,\"ticks\":\"\"},\"colorscale\":[[0.0,\"#0d0887\"],[0.1111111111111111,\"#46039f\"],[0.2222222222222222,\"#7201a8\"],[0.3333333333333333,\"#9c179e\"],[0.4444444444444444,\"#bd3786\"],[0.5555555555555556,\"#d8576b\"],[0.6666666666666666,\"#ed7953\"],[0.7777777777777778,\"#fb9f3a\"],[0.8888888888888888,\"#fdca26\"],[1.0,\"#f0f921\"]],\"type\":\"surface\"}],\"table\":[{\"cells\":{\"fill\":{\"color\":\"#EBF0F8\"},\"line\":{\"color\":\"white\"}},\"header\":{\"fill\":{\"color\":\"#C8D4E3\"},\"line\":{\"color\":\"white\"}},\"type\":\"table\"}]},\"layout\":{\"annotationdefaults\":{\"arrowcolor\":\"#2a3f5f\",\"arrowhead\":0,\"arrowwidth\":1},\"autotypenumbers\":\"strict\",\"coloraxis\":{\"colorbar\":{\"outlinewidth\":0,\"ticks\":\"\"}},\"colorscale\":{\"diverging\":[[0,\"#8e0152\"],[0.1,\"#c51b7d\"],[0.2,\"#de77ae\"],[0.3,\"#f1b6da\"],[0.4,\"#fde0ef\"],[0.5,\"#f7f7f7\"],[0.6,\"#e6f5d0\"],[0.7,\"#b8e186\"],[0.8,\"#7fbc41\"],[0.9,\"#4d9221\"],[1,\"#276419\"]],\"sequential\":[[0.0,\"#0d0887\"],[0.1111111111111111,\"#46039f\"],[0.2222222222222222,\"#7201a8\"],[0.3333333333333333,\"#9c179e\"],[0.4444444444444444,\"#bd3786\"],[0.5555555555555556,\"#d8576b\"],[0.6666666666666666,\"#ed7953\"],[0.7777777777777778,\"#fb9f3a\"],[0.8888888888888888,\"#fdca26\"],[1.0,\"#f0f921\"]],\"sequentialminus\":[[0.0,\"#0d0887\"],[0.1111111111111111,\"#46039f\"],[0.2222222222222222,\"#7201a8\"],[0.3333333333333333,\"#9c179e\"],[0.4444444444444444,\"#bd3786\"],[0.5555555555555556,\"#d8576b\"],[0.6666666666666666,\"#ed7953\"],[0.7777777777777778,\"#fb9f3a\"],[0.8888888888888888,\"#fdca26\"],[1.0,\"#f0f921\"]]},\"colorway\":[\"#636efa\",\"#EF553B\",\"#00cc96\",\"#ab63fa\",\"#FFA15A\",\"#19d3f3\",\"#FF6692\",\"#B6E880\",\"#FF97FF\",\"#FECB52\"],\"font\":{\"color\":\"#2a3f5f\"},\"geo\":{\"bgcolor\":\"white\",\"lakecolor\":\"white\",\"landcolor\":\"#E5ECF6\",\"showlakes\":true,\"showland\":true,\"subunitcolor\":\"white\"},\"hoverlabel\":{\"align\":\"left\"},\"hovermode\":\"closest\",\"mapbox\":{\"style\":\"light\"},\"paper_bgcolor\":\"white\",\"plot_bgcolor\":\"#E5ECF6\",\"polar\":{\"angularaxis\":{\"gridcolor\":\"white\",\"linecolor\":\"white\",\"ticks\":\"\"},\"bgcolor\":\"#E5ECF6\",\"radialaxis\":{\"gridcolor\":\"white\",\"linecolor\":\"white\",\"ticks\":\"\"}},\"scene\":{\"xaxis\":{\"backgroundcolor\":\"#E5ECF6\",\"gridcolor\":\"white\",\"gridwidth\":2,\"linecolor\":\"white\",\"showbackground\":true,\"ticks\":\"\",\"zerolinecolor\":\"white\"},\"yaxis\":{\"backgroundcolor\":\"#E5ECF6\",\"gridcolor\":\"white\",\"gridwidth\":2,\"linecolor\":\"white\",\"showbackground\":true,\"ticks\":\"\",\"zerolinecolor\":\"white\"},\"zaxis\":{\"backgroundcolor\":\"#E5ECF6\",\"gridcolor\":\"white\",\"gridwidth\":2,\"linecolor\":\"white\",\"showbackground\":true,\"ticks\":\"\",\"zerolinecolor\":\"white\"}},\"shapedefaults\":{\"line\":{\"color\":\"#2a3f5f\"}},\"ternary\":{\"aaxis\":{\"gridcolor\":\"white\",\"linecolor\":\"white\",\"ticks\":\"\"},\"baxis\":{\"gridcolor\":\"white\",\"linecolor\":\"white\",\"ticks\":\"\"},\"bgcolor\":\"#E5ECF6\",\"caxis\":{\"gridcolor\":\"white\",\"linecolor\":\"white\",\"ticks\":\"\"}},\"title\":{\"x\":0.05},\"xaxis\":{\"automargin\":true,\"gridcolor\":\"white\",\"linecolor\":\"white\",\"ticks\":\"\",\"title\":{\"standoff\":15},\"zerolinecolor\":\"white\",\"zerolinewidth\":2},\"yaxis\":{\"automargin\":true,\"gridcolor\":\"white\",\"linecolor\":\"white\",\"ticks\":\"\",\"title\":{\"standoff\":15},\"zerolinecolor\":\"white\",\"zerolinewidth\":2}}},\"legend\":{\"title\":{\"text\":\"sex\"},\"tracegroupgap\":0},\"margin\":{\"t\":60},\"dragmode\":\"select\"},                        {\"responsive\": true}                    ).then(function(){\n",
              "                            \n",
              "var gd = document.getElementById('aa762fb1-4cf4-4d7a-a83e-aa7a29c7719e');\n",
              "var x = new MutationObserver(function (mutations, observer) {{\n",
              "        var display = window.getComputedStyle(gd).display;\n",
              "        if (!display || display === 'none') {{\n",
              "            console.log([gd, 'removed!']);\n",
              "            Plotly.purge(gd);\n",
              "            observer.disconnect();\n",
              "        }}\n",
              "}});\n",
              "\n",
              "// Listen for the removal of the full notebook cells\n",
              "var notebookContainer = gd.closest('#notebook-container');\n",
              "if (notebookContainer) {{\n",
              "    x.observe(notebookContainer, {childList: true});\n",
              "}}\n",
              "\n",
              "// Listen for the clearing of the current output cell\n",
              "var outputEl = gd.closest('.output');\n",
              "if (outputEl) {{\n",
              "    x.observe(outputEl, {childList: true});\n",
              "}}\n",
              "\n",
              "                        })                };                            </script>        </div>\n",
              "</body>\n",
              "</html>"
            ]
          },
          "metadata": {}
        }
      ]
    },
    {
      "cell_type": "markdown",
      "metadata": {
        "id": "03w-loc4o7q5"
      },
      "source": [
        "### 라인 플롯(Line Plots)"
      ]
    },
    {
      "cell_type": "code",
      "metadata": {
        "id": "c2FzTvlno-rI",
        "colab": {
          "base_uri": "https://localhost:8080/",
          "height": 542
        },
        "outputId": "064ac98e-4b19-4781-bb82-c7ca353cea91"
      },
      "source": [
        "t = np.linspace(0, np.pi**2, 100)\n",
        "fig = px.line(x=t, y = np.cos(t), labels={'x':'time', 'y':'cos(t)'})\n",
        "fig.show()"
      ],
      "execution_count": null,
      "outputs": [
        {
          "output_type": "display_data",
          "data": {
            "text/html": [
              "<html>\n",
              "<head><meta charset=\"utf-8\" /></head>\n",
              "<body>\n",
              "    <div>            <script src=\"https://cdnjs.cloudflare.com/ajax/libs/mathjax/2.7.5/MathJax.js?config=TeX-AMS-MML_SVG\"></script><script type=\"text/javascript\">if (window.MathJax) {MathJax.Hub.Config({SVG: {font: \"STIX-Web\"}});}</script>                <script type=\"text/javascript\">window.PlotlyConfig = {MathJaxConfig: 'local'};</script>\n",
              "        <script src=\"https://cdn.plot.ly/plotly-2.8.3.min.js\"></script>                <div id=\"96bc7881-9bec-4ebd-a962-984571c9d505\" class=\"plotly-graph-div\" style=\"height:525px; width:100%;\"></div>            <script type=\"text/javascript\">                                    window.PLOTLYENV=window.PLOTLYENV || {};                                    if (document.getElementById(\"96bc7881-9bec-4ebd-a962-984571c9d505\")) {                    Plotly.newPlot(                        \"96bc7881-9bec-4ebd-a962-984571c9d505\",                        [{\"hovertemplate\":\"time=%{x}<br>cos(t)=%{y}<extra></extra>\",\"legendgroup\":\"\",\"line\":{\"color\":\"#636efa\",\"dash\":\"solid\"},\"marker\":{\"symbol\":\"circle\"},\"mode\":\"lines\",\"name\":\"\",\"orientation\":\"v\",\"showlegend\":false,\"x\":[0.0,0.09969297374837735,0.1993859474967547,0.299078921245132,0.3987718949935094,0.4984648687418868,0.598157842490264,0.6978508162386414,0.7975437899870188,0.8972367637353962,0.9969297374837736,1.096622711232151,1.196315684980528,1.2960086587289055,1.3957016324772828,1.4953946062256602,1.5950875799740376,1.694780553722415,1.7944735274707924,1.8941665012191697,1.9938594749675471,2.0935524487159243,2.193245422464302,2.292938396212679,2.392631369961056,2.492324343709434,2.592017317457811,2.6917102912061885,2.7914032649545657,2.8910962387029433,2.9907892124513205,3.090482186199698,3.190175159948075,3.2898681336964524,3.38956110744483,3.489254081193207,3.5889470549415847,3.688640028689962,3.7883330024383395,3.8880259761867166,3.9877189499350942,4.087411923683471,4.1871048974318485,4.286797871180226,4.386490844928604,4.486183818676981,4.585876792425358,4.685569766173735,4.785262739922112,4.88495571367049,4.984648687418868,5.084341661167245,5.184034634915622,5.283727608664,5.383420582412377,5.483113556160754,5.582806529909131,5.6824995036575086,5.782192477405887,5.881885451154264,5.981578424902641,6.081271398651018,6.180964372399396,6.280657346147773,6.38035031989615,6.480043293644528,6.579736267392905,6.679429241141283,6.77912221488966,6.878815188638037,6.978508162386414,7.078201136134792,7.1778941098831694,7.277587083631547,7.377280057379924,7.476973031128301,7.576666004876679,7.676358978625056,7.776051952373433,7.87574492612181,7.9754378998701885,8.075130873618566,8.174823847366943,8.27451682111532,8.374209794863697,8.473902768612074,8.573595742360451,8.67328871610883,8.772981689857207,8.872674663605585,8.972367637353962,9.072060611102339,9.171753584850716,9.271446558599093,9.37113953234747,9.470832506095848,9.570525479844225,9.670218453592604,9.76991142734098,9.869604401089358],\"xaxis\":\"x\",\"y\":[1.0,0.9950347698601513,0.9801883864612881,0.9556082812240505,0.9215385459071673,0.8783175086639428,0.826374374287968,0.7662249620119665,0.6984665831853926,0.6237721096978,0.5428832920512702,0.4566033934365138,0.3657892129596612,0.27134257723277067,0.17420138482047934,0.0753302924755599,-0.024288864346646073,-0.12366682156621872,-0.2218167103263116,-0.3177638570551358,-0.41055546242315055,-0.4992700630789591,-0.5830266822045204,-0.6609935780204453,-0.7323965033647032,-0.7965263943233089,-0.8527464115613558,-0.9004982644307383,-0.9393077550532546,-0.9687894873238028,-0.9886506940710932,-0.9986941443704154,-0.9988201021375005,-0.9890273165537457,-0.969413034487418,-0.9401720347874921,-0.9015946940400263,-0.8540641029950102,-0.7980522622988864,-0.734115395310881,-0.6628884245490261,-0.585078666617316,-0.5014588082262644,-0.41285923305821737,-0.3201597756751785,-0.22428098435664118,-0.1261749796314588,-0.02681599928275455,0.07280927628168748,0.17171152222002156,0.26890859370738246,0.3634352790860628,0.4543528848615383,0.540758557360931,0.6217942484855437,0.6966552365234263,0.7645981174063697,0.8249481870544777,0.8771061414982331,0.920554028242761,0.9548603897745087,0.979684548132944,0.994779987999512,0.9999968047082125,0.9952831928679337,0.9806859608138293,0.9563500657790063,0.9225171744024783,0.8795232628682079,0.827795280506955,0.7678469099929065,0.7002734662382843,0.6257459846422575,0.5450045574005604,0.45885098404934294,0.3681408092267233,0.2737748267207412,0.17669013417242851,0.07785082726490208,-0.021761574190520046,-0.12115787319782041,-0.21935101875775628,-0.3153659077386071,-0.4082490680990889,-0.49707812730458917,-0.5809709719109848,-0.6590945073571611,-0.7306729309774616,-0.7949954360792387,-0.8514232705804903,-0.8993960801120321,-0.9384374725943058,-0.9681597490300019,-0.9882677535335537,-0.9985618043649346,-0.9989396768612464,-0.9893976185746738,-0.9700303865360176,-0.941030306273766,-0.9026853619330714],\"yaxis\":\"y\",\"type\":\"scatter\"}],                        {\"template\":{\"data\":{\"bar\":[{\"error_x\":{\"color\":\"#2a3f5f\"},\"error_y\":{\"color\":\"#2a3f5f\"},\"marker\":{\"line\":{\"color\":\"#E5ECF6\",\"width\":0.5},\"pattern\":{\"fillmode\":\"overlay\",\"size\":10,\"solidity\":0.2}},\"type\":\"bar\"}],\"barpolar\":[{\"marker\":{\"line\":{\"color\":\"#E5ECF6\",\"width\":0.5},\"pattern\":{\"fillmode\":\"overlay\",\"size\":10,\"solidity\":0.2}},\"type\":\"barpolar\"}],\"carpet\":[{\"aaxis\":{\"endlinecolor\":\"#2a3f5f\",\"gridcolor\":\"white\",\"linecolor\":\"white\",\"minorgridcolor\":\"white\",\"startlinecolor\":\"#2a3f5f\"},\"baxis\":{\"endlinecolor\":\"#2a3f5f\",\"gridcolor\":\"white\",\"linecolor\":\"white\",\"minorgridcolor\":\"white\",\"startlinecolor\":\"#2a3f5f\"},\"type\":\"carpet\"}],\"choropleth\":[{\"colorbar\":{\"outlinewidth\":0,\"ticks\":\"\"},\"type\":\"choropleth\"}],\"contour\":[{\"colorbar\":{\"outlinewidth\":0,\"ticks\":\"\"},\"colorscale\":[[0.0,\"#0d0887\"],[0.1111111111111111,\"#46039f\"],[0.2222222222222222,\"#7201a8\"],[0.3333333333333333,\"#9c179e\"],[0.4444444444444444,\"#bd3786\"],[0.5555555555555556,\"#d8576b\"],[0.6666666666666666,\"#ed7953\"],[0.7777777777777778,\"#fb9f3a\"],[0.8888888888888888,\"#fdca26\"],[1.0,\"#f0f921\"]],\"type\":\"contour\"}],\"contourcarpet\":[{\"colorbar\":{\"outlinewidth\":0,\"ticks\":\"\"},\"type\":\"contourcarpet\"}],\"heatmap\":[{\"colorbar\":{\"outlinewidth\":0,\"ticks\":\"\"},\"colorscale\":[[0.0,\"#0d0887\"],[0.1111111111111111,\"#46039f\"],[0.2222222222222222,\"#7201a8\"],[0.3333333333333333,\"#9c179e\"],[0.4444444444444444,\"#bd3786\"],[0.5555555555555556,\"#d8576b\"],[0.6666666666666666,\"#ed7953\"],[0.7777777777777778,\"#fb9f3a\"],[0.8888888888888888,\"#fdca26\"],[1.0,\"#f0f921\"]],\"type\":\"heatmap\"}],\"heatmapgl\":[{\"colorbar\":{\"outlinewidth\":0,\"ticks\":\"\"},\"colorscale\":[[0.0,\"#0d0887\"],[0.1111111111111111,\"#46039f\"],[0.2222222222222222,\"#7201a8\"],[0.3333333333333333,\"#9c179e\"],[0.4444444444444444,\"#bd3786\"],[0.5555555555555556,\"#d8576b\"],[0.6666666666666666,\"#ed7953\"],[0.7777777777777778,\"#fb9f3a\"],[0.8888888888888888,\"#fdca26\"],[1.0,\"#f0f921\"]],\"type\":\"heatmapgl\"}],\"histogram\":[{\"marker\":{\"pattern\":{\"fillmode\":\"overlay\",\"size\":10,\"solidity\":0.2}},\"type\":\"histogram\"}],\"histogram2d\":[{\"colorbar\":{\"outlinewidth\":0,\"ticks\":\"\"},\"colorscale\":[[0.0,\"#0d0887\"],[0.1111111111111111,\"#46039f\"],[0.2222222222222222,\"#7201a8\"],[0.3333333333333333,\"#9c179e\"],[0.4444444444444444,\"#bd3786\"],[0.5555555555555556,\"#d8576b\"],[0.6666666666666666,\"#ed7953\"],[0.7777777777777778,\"#fb9f3a\"],[0.8888888888888888,\"#fdca26\"],[1.0,\"#f0f921\"]],\"type\":\"histogram2d\"}],\"histogram2dcontour\":[{\"colorbar\":{\"outlinewidth\":0,\"ticks\":\"\"},\"colorscale\":[[0.0,\"#0d0887\"],[0.1111111111111111,\"#46039f\"],[0.2222222222222222,\"#7201a8\"],[0.3333333333333333,\"#9c179e\"],[0.4444444444444444,\"#bd3786\"],[0.5555555555555556,\"#d8576b\"],[0.6666666666666666,\"#ed7953\"],[0.7777777777777778,\"#fb9f3a\"],[0.8888888888888888,\"#fdca26\"],[1.0,\"#f0f921\"]],\"type\":\"histogram2dcontour\"}],\"mesh3d\":[{\"colorbar\":{\"outlinewidth\":0,\"ticks\":\"\"},\"type\":\"mesh3d\"}],\"parcoords\":[{\"line\":{\"colorbar\":{\"outlinewidth\":0,\"ticks\":\"\"}},\"type\":\"parcoords\"}],\"pie\":[{\"automargin\":true,\"type\":\"pie\"}],\"scatter\":[{\"marker\":{\"colorbar\":{\"outlinewidth\":0,\"ticks\":\"\"}},\"type\":\"scatter\"}],\"scatter3d\":[{\"line\":{\"colorbar\":{\"outlinewidth\":0,\"ticks\":\"\"}},\"marker\":{\"colorbar\":{\"outlinewidth\":0,\"ticks\":\"\"}},\"type\":\"scatter3d\"}],\"scattercarpet\":[{\"marker\":{\"colorbar\":{\"outlinewidth\":0,\"ticks\":\"\"}},\"type\":\"scattercarpet\"}],\"scattergeo\":[{\"marker\":{\"colorbar\":{\"outlinewidth\":0,\"ticks\":\"\"}},\"type\":\"scattergeo\"}],\"scattergl\":[{\"marker\":{\"colorbar\":{\"outlinewidth\":0,\"ticks\":\"\"}},\"type\":\"scattergl\"}],\"scattermapbox\":[{\"marker\":{\"colorbar\":{\"outlinewidth\":0,\"ticks\":\"\"}},\"type\":\"scattermapbox\"}],\"scatterpolar\":[{\"marker\":{\"colorbar\":{\"outlinewidth\":0,\"ticks\":\"\"}},\"type\":\"scatterpolar\"}],\"scatterpolargl\":[{\"marker\":{\"colorbar\":{\"outlinewidth\":0,\"ticks\":\"\"}},\"type\":\"scatterpolargl\"}],\"scatterternary\":[{\"marker\":{\"colorbar\":{\"outlinewidth\":0,\"ticks\":\"\"}},\"type\":\"scatterternary\"}],\"surface\":[{\"colorbar\":{\"outlinewidth\":0,\"ticks\":\"\"},\"colorscale\":[[0.0,\"#0d0887\"],[0.1111111111111111,\"#46039f\"],[0.2222222222222222,\"#7201a8\"],[0.3333333333333333,\"#9c179e\"],[0.4444444444444444,\"#bd3786\"],[0.5555555555555556,\"#d8576b\"],[0.6666666666666666,\"#ed7953\"],[0.7777777777777778,\"#fb9f3a\"],[0.8888888888888888,\"#fdca26\"],[1.0,\"#f0f921\"]],\"type\":\"surface\"}],\"table\":[{\"cells\":{\"fill\":{\"color\":\"#EBF0F8\"},\"line\":{\"color\":\"white\"}},\"header\":{\"fill\":{\"color\":\"#C8D4E3\"},\"line\":{\"color\":\"white\"}},\"type\":\"table\"}]},\"layout\":{\"annotationdefaults\":{\"arrowcolor\":\"#2a3f5f\",\"arrowhead\":0,\"arrowwidth\":1},\"autotypenumbers\":\"strict\",\"coloraxis\":{\"colorbar\":{\"outlinewidth\":0,\"ticks\":\"\"}},\"colorscale\":{\"diverging\":[[0,\"#8e0152\"],[0.1,\"#c51b7d\"],[0.2,\"#de77ae\"],[0.3,\"#f1b6da\"],[0.4,\"#fde0ef\"],[0.5,\"#f7f7f7\"],[0.6,\"#e6f5d0\"],[0.7,\"#b8e186\"],[0.8,\"#7fbc41\"],[0.9,\"#4d9221\"],[1,\"#276419\"]],\"sequential\":[[0.0,\"#0d0887\"],[0.1111111111111111,\"#46039f\"],[0.2222222222222222,\"#7201a8\"],[0.3333333333333333,\"#9c179e\"],[0.4444444444444444,\"#bd3786\"],[0.5555555555555556,\"#d8576b\"],[0.6666666666666666,\"#ed7953\"],[0.7777777777777778,\"#fb9f3a\"],[0.8888888888888888,\"#fdca26\"],[1.0,\"#f0f921\"]],\"sequentialminus\":[[0.0,\"#0d0887\"],[0.1111111111111111,\"#46039f\"],[0.2222222222222222,\"#7201a8\"],[0.3333333333333333,\"#9c179e\"],[0.4444444444444444,\"#bd3786\"],[0.5555555555555556,\"#d8576b\"],[0.6666666666666666,\"#ed7953\"],[0.7777777777777778,\"#fb9f3a\"],[0.8888888888888888,\"#fdca26\"],[1.0,\"#f0f921\"]]},\"colorway\":[\"#636efa\",\"#EF553B\",\"#00cc96\",\"#ab63fa\",\"#FFA15A\",\"#19d3f3\",\"#FF6692\",\"#B6E880\",\"#FF97FF\",\"#FECB52\"],\"font\":{\"color\":\"#2a3f5f\"},\"geo\":{\"bgcolor\":\"white\",\"lakecolor\":\"white\",\"landcolor\":\"#E5ECF6\",\"showlakes\":true,\"showland\":true,\"subunitcolor\":\"white\"},\"hoverlabel\":{\"align\":\"left\"},\"hovermode\":\"closest\",\"mapbox\":{\"style\":\"light\"},\"paper_bgcolor\":\"white\",\"plot_bgcolor\":\"#E5ECF6\",\"polar\":{\"angularaxis\":{\"gridcolor\":\"white\",\"linecolor\":\"white\",\"ticks\":\"\"},\"bgcolor\":\"#E5ECF6\",\"radialaxis\":{\"gridcolor\":\"white\",\"linecolor\":\"white\",\"ticks\":\"\"}},\"scene\":{\"xaxis\":{\"backgroundcolor\":\"#E5ECF6\",\"gridcolor\":\"white\",\"gridwidth\":2,\"linecolor\":\"white\",\"showbackground\":true,\"ticks\":\"\",\"zerolinecolor\":\"white\"},\"yaxis\":{\"backgroundcolor\":\"#E5ECF6\",\"gridcolor\":\"white\",\"gridwidth\":2,\"linecolor\":\"white\",\"showbackground\":true,\"ticks\":\"\",\"zerolinecolor\":\"white\"},\"zaxis\":{\"backgroundcolor\":\"#E5ECF6\",\"gridcolor\":\"white\",\"gridwidth\":2,\"linecolor\":\"white\",\"showbackground\":true,\"ticks\":\"\",\"zerolinecolor\":\"white\"}},\"shapedefaults\":{\"line\":{\"color\":\"#2a3f5f\"}},\"ternary\":{\"aaxis\":{\"gridcolor\":\"white\",\"linecolor\":\"white\",\"ticks\":\"\"},\"baxis\":{\"gridcolor\":\"white\",\"linecolor\":\"white\",\"ticks\":\"\"},\"bgcolor\":\"#E5ECF6\",\"caxis\":{\"gridcolor\":\"white\",\"linecolor\":\"white\",\"ticks\":\"\"}},\"title\":{\"x\":0.05},\"xaxis\":{\"automargin\":true,\"gridcolor\":\"white\",\"linecolor\":\"white\",\"ticks\":\"\",\"title\":{\"standoff\":15},\"zerolinecolor\":\"white\",\"zerolinewidth\":2},\"yaxis\":{\"automargin\":true,\"gridcolor\":\"white\",\"linecolor\":\"white\",\"ticks\":\"\",\"title\":{\"standoff\":15},\"zerolinecolor\":\"white\",\"zerolinewidth\":2}}},\"xaxis\":{\"anchor\":\"y\",\"domain\":[0.0,1.0],\"title\":{\"text\":\"time\"}},\"yaxis\":{\"anchor\":\"x\",\"domain\":[0.0,1.0],\"title\":{\"text\":\"cos(t)\"}},\"legend\":{\"tracegroupgap\":0},\"margin\":{\"t\":60}},                        {\"responsive\": true}                    ).then(function(){\n",
              "                            \n",
              "var gd = document.getElementById('96bc7881-9bec-4ebd-a962-984571c9d505');\n",
              "var x = new MutationObserver(function (mutations, observer) {{\n",
              "        var display = window.getComputedStyle(gd).display;\n",
              "        if (!display || display === 'none') {{\n",
              "            console.log([gd, 'removed!']);\n",
              "            Plotly.purge(gd);\n",
              "            observer.disconnect();\n",
              "        }}\n",
              "}});\n",
              "\n",
              "// Listen for the removal of the full notebook cells\n",
              "var notebookContainer = gd.closest('#notebook-container');\n",
              "if (notebookContainer) {{\n",
              "    x.observe(notebookContainer, {childList: true});\n",
              "}}\n",
              "\n",
              "// Listen for the clearing of the current output cell\n",
              "var outputEl = gd.closest('.output');\n",
              "if (outputEl) {{\n",
              "    x.observe(outputEl, {childList: true});\n",
              "}}\n",
              "\n",
              "                        })                };                            </script>        </div>\n",
              "</body>\n",
              "</html>"
            ]
          },
          "metadata": {}
        }
      ]
    },
    {
      "cell_type": "code",
      "metadata": {
        "id": "pygbY3oR6YdU",
        "colab": {
          "base_uri": "https://localhost:8080/",
          "height": 424
        },
        "outputId": "de3aa282-5ae4-406b-cd6a-52a7333f69c8"
      },
      "source": [
        "gapminder_asia=gapminder.query(\"continent == 'Asia'\")\n",
        "gapminder_asia"
      ],
      "execution_count": null,
      "outputs": [
        {
          "output_type": "execute_result",
          "data": {
            "text/plain": [
              "          country continent  year  lifeExp       pop    gdpPercap iso_alpha  \\\n",
              "0     Afghanistan      Asia  1952   28.801   8425333   779.445314       AFG   \n",
              "1     Afghanistan      Asia  1957   30.332   9240934   820.853030       AFG   \n",
              "2     Afghanistan      Asia  1962   31.997  10267083   853.100710       AFG   \n",
              "3     Afghanistan      Asia  1967   34.020  11537966   836.197138       AFG   \n",
              "4     Afghanistan      Asia  1972   36.088  13079460   739.981106       AFG   \n",
              "...           ...       ...   ...      ...       ...          ...       ...   \n",
              "1675  Yemen, Rep.      Asia  1987   52.922  11219340  1971.741538       YEM   \n",
              "1676  Yemen, Rep.      Asia  1992   55.599  13367997  1879.496673       YEM   \n",
              "1677  Yemen, Rep.      Asia  1997   58.020  15826497  2117.484526       YEM   \n",
              "1678  Yemen, Rep.      Asia  2002   60.308  18701257  2234.820827       YEM   \n",
              "1679  Yemen, Rep.      Asia  2007   62.698  22211743  2280.769906       YEM   \n",
              "\n",
              "      iso_num  \n",
              "0           4  \n",
              "1           4  \n",
              "2           4  \n",
              "3           4  \n",
              "4           4  \n",
              "...       ...  \n",
              "1675      887  \n",
              "1676      887  \n",
              "1677      887  \n",
              "1678      887  \n",
              "1679      887  \n",
              "\n",
              "[396 rows x 8 columns]"
            ],
            "text/html": [
              "\n",
              "  <div id=\"df-ffaf8cb2-5def-466d-843a-24da9663477f\">\n",
              "    <div class=\"colab-df-container\">\n",
              "      <div>\n",
              "<style scoped>\n",
              "    .dataframe tbody tr th:only-of-type {\n",
              "        vertical-align: middle;\n",
              "    }\n",
              "\n",
              "    .dataframe tbody tr th {\n",
              "        vertical-align: top;\n",
              "    }\n",
              "\n",
              "    .dataframe thead th {\n",
              "        text-align: right;\n",
              "    }\n",
              "</style>\n",
              "<table border=\"1\" class=\"dataframe\">\n",
              "  <thead>\n",
              "    <tr style=\"text-align: right;\">\n",
              "      <th></th>\n",
              "      <th>country</th>\n",
              "      <th>continent</th>\n",
              "      <th>year</th>\n",
              "      <th>lifeExp</th>\n",
              "      <th>pop</th>\n",
              "      <th>gdpPercap</th>\n",
              "      <th>iso_alpha</th>\n",
              "      <th>iso_num</th>\n",
              "    </tr>\n",
              "  </thead>\n",
              "  <tbody>\n",
              "    <tr>\n",
              "      <th>0</th>\n",
              "      <td>Afghanistan</td>\n",
              "      <td>Asia</td>\n",
              "      <td>1952</td>\n",
              "      <td>28.801</td>\n",
              "      <td>8425333</td>\n",
              "      <td>779.445314</td>\n",
              "      <td>AFG</td>\n",
              "      <td>4</td>\n",
              "    </tr>\n",
              "    <tr>\n",
              "      <th>1</th>\n",
              "      <td>Afghanistan</td>\n",
              "      <td>Asia</td>\n",
              "      <td>1957</td>\n",
              "      <td>30.332</td>\n",
              "      <td>9240934</td>\n",
              "      <td>820.853030</td>\n",
              "      <td>AFG</td>\n",
              "      <td>4</td>\n",
              "    </tr>\n",
              "    <tr>\n",
              "      <th>2</th>\n",
              "      <td>Afghanistan</td>\n",
              "      <td>Asia</td>\n",
              "      <td>1962</td>\n",
              "      <td>31.997</td>\n",
              "      <td>10267083</td>\n",
              "      <td>853.100710</td>\n",
              "      <td>AFG</td>\n",
              "      <td>4</td>\n",
              "    </tr>\n",
              "    <tr>\n",
              "      <th>3</th>\n",
              "      <td>Afghanistan</td>\n",
              "      <td>Asia</td>\n",
              "      <td>1967</td>\n",
              "      <td>34.020</td>\n",
              "      <td>11537966</td>\n",
              "      <td>836.197138</td>\n",
              "      <td>AFG</td>\n",
              "      <td>4</td>\n",
              "    </tr>\n",
              "    <tr>\n",
              "      <th>4</th>\n",
              "      <td>Afghanistan</td>\n",
              "      <td>Asia</td>\n",
              "      <td>1972</td>\n",
              "      <td>36.088</td>\n",
              "      <td>13079460</td>\n",
              "      <td>739.981106</td>\n",
              "      <td>AFG</td>\n",
              "      <td>4</td>\n",
              "    </tr>\n",
              "    <tr>\n",
              "      <th>...</th>\n",
              "      <td>...</td>\n",
              "      <td>...</td>\n",
              "      <td>...</td>\n",
              "      <td>...</td>\n",
              "      <td>...</td>\n",
              "      <td>...</td>\n",
              "      <td>...</td>\n",
              "      <td>...</td>\n",
              "    </tr>\n",
              "    <tr>\n",
              "      <th>1675</th>\n",
              "      <td>Yemen, Rep.</td>\n",
              "      <td>Asia</td>\n",
              "      <td>1987</td>\n",
              "      <td>52.922</td>\n",
              "      <td>11219340</td>\n",
              "      <td>1971.741538</td>\n",
              "      <td>YEM</td>\n",
              "      <td>887</td>\n",
              "    </tr>\n",
              "    <tr>\n",
              "      <th>1676</th>\n",
              "      <td>Yemen, Rep.</td>\n",
              "      <td>Asia</td>\n",
              "      <td>1992</td>\n",
              "      <td>55.599</td>\n",
              "      <td>13367997</td>\n",
              "      <td>1879.496673</td>\n",
              "      <td>YEM</td>\n",
              "      <td>887</td>\n",
              "    </tr>\n",
              "    <tr>\n",
              "      <th>1677</th>\n",
              "      <td>Yemen, Rep.</td>\n",
              "      <td>Asia</td>\n",
              "      <td>1997</td>\n",
              "      <td>58.020</td>\n",
              "      <td>15826497</td>\n",
              "      <td>2117.484526</td>\n",
              "      <td>YEM</td>\n",
              "      <td>887</td>\n",
              "    </tr>\n",
              "    <tr>\n",
              "      <th>1678</th>\n",
              "      <td>Yemen, Rep.</td>\n",
              "      <td>Asia</td>\n",
              "      <td>2002</td>\n",
              "      <td>60.308</td>\n",
              "      <td>18701257</td>\n",
              "      <td>2234.820827</td>\n",
              "      <td>YEM</td>\n",
              "      <td>887</td>\n",
              "    </tr>\n",
              "    <tr>\n",
              "      <th>1679</th>\n",
              "      <td>Yemen, Rep.</td>\n",
              "      <td>Asia</td>\n",
              "      <td>2007</td>\n",
              "      <td>62.698</td>\n",
              "      <td>22211743</td>\n",
              "      <td>2280.769906</td>\n",
              "      <td>YEM</td>\n",
              "      <td>887</td>\n",
              "    </tr>\n",
              "  </tbody>\n",
              "</table>\n",
              "<p>396 rows × 8 columns</p>\n",
              "</div>\n",
              "      <button class=\"colab-df-convert\" onclick=\"convertToInteractive('df-ffaf8cb2-5def-466d-843a-24da9663477f')\"\n",
              "              title=\"Convert this dataframe to an interactive table.\"\n",
              "              style=\"display:none;\">\n",
              "        \n",
              "  <svg xmlns=\"http://www.w3.org/2000/svg\" height=\"24px\"viewBox=\"0 0 24 24\"\n",
              "       width=\"24px\">\n",
              "    <path d=\"M0 0h24v24H0V0z\" fill=\"none\"/>\n",
              "    <path d=\"M18.56 5.44l.94 2.06.94-2.06 2.06-.94-2.06-.94-.94-2.06-.94 2.06-2.06.94zm-11 1L8.5 8.5l.94-2.06 2.06-.94-2.06-.94L8.5 2.5l-.94 2.06-2.06.94zm10 10l.94 2.06.94-2.06 2.06-.94-2.06-.94-.94-2.06-.94 2.06-2.06.94z\"/><path d=\"M17.41 7.96l-1.37-1.37c-.4-.4-.92-.59-1.43-.59-.52 0-1.04.2-1.43.59L10.3 9.45l-7.72 7.72c-.78.78-.78 2.05 0 2.83L4 21.41c.39.39.9.59 1.41.59.51 0 1.02-.2 1.41-.59l7.78-7.78 2.81-2.81c.8-.78.8-2.07 0-2.86zM5.41 20L4 18.59l7.72-7.72 1.47 1.35L5.41 20z\"/>\n",
              "  </svg>\n",
              "      </button>\n",
              "      \n",
              "  <style>\n",
              "    .colab-df-container {\n",
              "      display:flex;\n",
              "      flex-wrap:wrap;\n",
              "      gap: 12px;\n",
              "    }\n",
              "\n",
              "    .colab-df-convert {\n",
              "      background-color: #E8F0FE;\n",
              "      border: none;\n",
              "      border-radius: 50%;\n",
              "      cursor: pointer;\n",
              "      display: none;\n",
              "      fill: #1967D2;\n",
              "      height: 32px;\n",
              "      padding: 0 0 0 0;\n",
              "      width: 32px;\n",
              "    }\n",
              "\n",
              "    .colab-df-convert:hover {\n",
              "      background-color: #E2EBFA;\n",
              "      box-shadow: 0px 1px 2px rgba(60, 64, 67, 0.3), 0px 1px 3px 1px rgba(60, 64, 67, 0.15);\n",
              "      fill: #174EA6;\n",
              "    }\n",
              "\n",
              "    [theme=dark] .colab-df-convert {\n",
              "      background-color: #3B4455;\n",
              "      fill: #D2E3FC;\n",
              "    }\n",
              "\n",
              "    [theme=dark] .colab-df-convert:hover {\n",
              "      background-color: #434B5C;\n",
              "      box-shadow: 0px 1px 3px 1px rgba(0, 0, 0, 0.15);\n",
              "      filter: drop-shadow(0px 1px 2px rgba(0, 0, 0, 0.3));\n",
              "      fill: #FFFFFF;\n",
              "    }\n",
              "  </style>\n",
              "\n",
              "      <script>\n",
              "        const buttonEl =\n",
              "          document.querySelector('#df-ffaf8cb2-5def-466d-843a-24da9663477f button.colab-df-convert');\n",
              "        buttonEl.style.display =\n",
              "          google.colab.kernel.accessAllowed ? 'block' : 'none';\n",
              "\n",
              "        async function convertToInteractive(key) {\n",
              "          const element = document.querySelector('#df-ffaf8cb2-5def-466d-843a-24da9663477f');\n",
              "          const dataTable =\n",
              "            await google.colab.kernel.invokeFunction('convertToInteractive',\n",
              "                                                     [key], {});\n",
              "          if (!dataTable) return;\n",
              "\n",
              "          const docLinkHtml = 'Like what you see? Visit the ' +\n",
              "            '<a target=\"_blank\" href=https://colab.research.google.com/notebooks/data_table.ipynb>data table notebook</a>'\n",
              "            + ' to learn more about interactive tables.';\n",
              "          element.innerHTML = '';\n",
              "          dataTable['output_type'] = 'display_data';\n",
              "          await google.colab.output.renderOutput(dataTable, element);\n",
              "          const docLink = document.createElement('div');\n",
              "          docLink.innerHTML = docLinkHtml;\n",
              "          element.appendChild(docLink);\n",
              "        }\n",
              "      </script>\n",
              "    </div>\n",
              "  </div>\n",
              "  "
            ]
          },
          "metadata": {},
          "execution_count": 38
        }
      ]
    },
    {
      "cell_type": "code",
      "metadata": {
        "id": "0GFVvePrpCei",
        "colab": {
          "base_uri": "https://localhost:8080/",
          "height": 542
        },
        "outputId": "bd06cd39-fc2b-4725-92e9-38efa47eecf8"
      },
      "source": [
        "fig = px.line(gapminder_asia, x='year', y='lifeExp',color='country')\n",
        "fig.show()"
      ],
      "execution_count": null,
      "outputs": [
        {
          "output_type": "display_data",
          "data": {
            "text/html": [
              "<html>\n",
              "<head><meta charset=\"utf-8\" /></head>\n",
              "<body>\n",
              "    <div>            <script src=\"https://cdnjs.cloudflare.com/ajax/libs/mathjax/2.7.5/MathJax.js?config=TeX-AMS-MML_SVG\"></script><script type=\"text/javascript\">if (window.MathJax) {MathJax.Hub.Config({SVG: {font: \"STIX-Web\"}});}</script>                <script type=\"text/javascript\">window.PlotlyConfig = {MathJaxConfig: 'local'};</script>\n",
              "        <script src=\"https://cdn.plot.ly/plotly-2.8.3.min.js\"></script>                <div id=\"eede787c-95fe-46f7-bb82-e5599b4a575e\" class=\"plotly-graph-div\" style=\"height:525px; width:100%;\"></div>            <script type=\"text/javascript\">                                    window.PLOTLYENV=window.PLOTLYENV || {};                                    if (document.getElementById(\"eede787c-95fe-46f7-bb82-e5599b4a575e\")) {                    Plotly.newPlot(                        \"eede787c-95fe-46f7-bb82-e5599b4a575e\",                        [{\"hovertemplate\":\"country=Afghanistan<br>year=%{x}<br>lifeExp=%{y}<extra></extra>\",\"legendgroup\":\"Afghanistan\",\"line\":{\"color\":\"#636efa\",\"dash\":\"solid\"},\"marker\":{\"symbol\":\"circle\"},\"mode\":\"lines\",\"name\":\"Afghanistan\",\"orientation\":\"v\",\"showlegend\":true,\"x\":[1952,1957,1962,1967,1972,1977,1982,1987,1992,1997,2002,2007],\"xaxis\":\"x\",\"y\":[28.801,30.332,31.997,34.02,36.088,38.438,39.854,40.822,41.674,41.76300000000001,42.129,43.828],\"yaxis\":\"y\",\"type\":\"scatter\"},{\"hovertemplate\":\"country=Bahrain<br>year=%{x}<br>lifeExp=%{y}<extra></extra>\",\"legendgroup\":\"Bahrain\",\"line\":{\"color\":\"#EF553B\",\"dash\":\"solid\"},\"marker\":{\"symbol\":\"circle\"},\"mode\":\"lines\",\"name\":\"Bahrain\",\"orientation\":\"v\",\"showlegend\":true,\"x\":[1952,1957,1962,1967,1972,1977,1982,1987,1992,1997,2002,2007],\"xaxis\":\"x\",\"y\":[50.93899999999999,53.832,56.923,59.923,63.3,65.593,69.05199999999999,70.75,72.601,73.925,74.795,75.635],\"yaxis\":\"y\",\"type\":\"scatter\"},{\"hovertemplate\":\"country=Bangladesh<br>year=%{x}<br>lifeExp=%{y}<extra></extra>\",\"legendgroup\":\"Bangladesh\",\"line\":{\"color\":\"#00cc96\",\"dash\":\"solid\"},\"marker\":{\"symbol\":\"circle\"},\"mode\":\"lines\",\"name\":\"Bangladesh\",\"orientation\":\"v\",\"showlegend\":true,\"x\":[1952,1957,1962,1967,1972,1977,1982,1987,1992,1997,2002,2007],\"xaxis\":\"x\",\"y\":[37.484,39.348,41.216,43.453,45.252,46.923,50.00899999999999,52.819,56.018,59.412,62.01300000000001,64.062],\"yaxis\":\"y\",\"type\":\"scatter\"},{\"hovertemplate\":\"country=Cambodia<br>year=%{x}<br>lifeExp=%{y}<extra></extra>\",\"legendgroup\":\"Cambodia\",\"line\":{\"color\":\"#ab63fa\",\"dash\":\"solid\"},\"marker\":{\"symbol\":\"circle\"},\"mode\":\"lines\",\"name\":\"Cambodia\",\"orientation\":\"v\",\"showlegend\":true,\"x\":[1952,1957,1962,1967,1972,1977,1982,1987,1992,1997,2002,2007],\"xaxis\":\"x\",\"y\":[39.417,41.36600000000001,43.415,45.415,40.317,31.22,50.957,53.914,55.803,56.534,56.752,59.723],\"yaxis\":\"y\",\"type\":\"scatter\"},{\"hovertemplate\":\"country=China<br>year=%{x}<br>lifeExp=%{y}<extra></extra>\",\"legendgroup\":\"China\",\"line\":{\"color\":\"#FFA15A\",\"dash\":\"solid\"},\"marker\":{\"symbol\":\"circle\"},\"mode\":\"lines\",\"name\":\"China\",\"orientation\":\"v\",\"showlegend\":true,\"x\":[1952,1957,1962,1967,1972,1977,1982,1987,1992,1997,2002,2007],\"xaxis\":\"x\",\"y\":[44.0,50.54896,44.50136,58.38112,63.11888,63.96736,65.525,67.274,68.69,70.426,72.028,72.961],\"yaxis\":\"y\",\"type\":\"scatter\"},{\"hovertemplate\":\"country=Hong Kong, China<br>year=%{x}<br>lifeExp=%{y}<extra></extra>\",\"legendgroup\":\"Hong Kong, China\",\"line\":{\"color\":\"#19d3f3\",\"dash\":\"solid\"},\"marker\":{\"symbol\":\"circle\"},\"mode\":\"lines\",\"name\":\"Hong Kong, China\",\"orientation\":\"v\",\"showlegend\":true,\"x\":[1952,1957,1962,1967,1972,1977,1982,1987,1992,1997,2002,2007],\"xaxis\":\"x\",\"y\":[60.96,64.75,67.65,70.0,72.0,73.6,75.45,76.2,77.601,80.0,81.495,82.208],\"yaxis\":\"y\",\"type\":\"scatter\"},{\"hovertemplate\":\"country=India<br>year=%{x}<br>lifeExp=%{y}<extra></extra>\",\"legendgroup\":\"India\",\"line\":{\"color\":\"#FF6692\",\"dash\":\"solid\"},\"marker\":{\"symbol\":\"circle\"},\"mode\":\"lines\",\"name\":\"India\",\"orientation\":\"v\",\"showlegend\":true,\"x\":[1952,1957,1962,1967,1972,1977,1982,1987,1992,1997,2002,2007],\"xaxis\":\"x\",\"y\":[37.37300000000001,40.249,43.605,47.19300000000001,50.651,54.208,56.596,58.553,60.223,61.765,62.879,64.69800000000001],\"yaxis\":\"y\",\"type\":\"scatter\"},{\"hovertemplate\":\"country=Indonesia<br>year=%{x}<br>lifeExp=%{y}<extra></extra>\",\"legendgroup\":\"Indonesia\",\"line\":{\"color\":\"#B6E880\",\"dash\":\"solid\"},\"marker\":{\"symbol\":\"circle\"},\"mode\":\"lines\",\"name\":\"Indonesia\",\"orientation\":\"v\",\"showlegend\":true,\"x\":[1952,1957,1962,1967,1972,1977,1982,1987,1992,1997,2002,2007],\"xaxis\":\"x\",\"y\":[37.468,39.918,42.518,45.964,49.203,52.702,56.159,60.137,62.681,66.041,68.58800000000001,70.65],\"yaxis\":\"y\",\"type\":\"scatter\"},{\"hovertemplate\":\"country=Iran<br>year=%{x}<br>lifeExp=%{y}<extra></extra>\",\"legendgroup\":\"Iran\",\"line\":{\"color\":\"#FF97FF\",\"dash\":\"solid\"},\"marker\":{\"symbol\":\"circle\"},\"mode\":\"lines\",\"name\":\"Iran\",\"orientation\":\"v\",\"showlegend\":true,\"x\":[1952,1957,1962,1967,1972,1977,1982,1987,1992,1997,2002,2007],\"xaxis\":\"x\",\"y\":[44.869,47.181,49.325,52.469,55.234,57.702,59.62,63.04,65.742,68.042,69.45100000000001,70.964],\"yaxis\":\"y\",\"type\":\"scatter\"},{\"hovertemplate\":\"country=Iraq<br>year=%{x}<br>lifeExp=%{y}<extra></extra>\",\"legendgroup\":\"Iraq\",\"line\":{\"color\":\"#FECB52\",\"dash\":\"solid\"},\"marker\":{\"symbol\":\"circle\"},\"mode\":\"lines\",\"name\":\"Iraq\",\"orientation\":\"v\",\"showlegend\":true,\"x\":[1952,1957,1962,1967,1972,1977,1982,1987,1992,1997,2002,2007],\"xaxis\":\"x\",\"y\":[45.32,48.437,51.457,54.459,56.95,60.413,62.038,65.044,59.46100000000001,58.81100000000001,57.04600000000001,59.545],\"yaxis\":\"y\",\"type\":\"scatter\"},{\"hovertemplate\":\"country=Israel<br>year=%{x}<br>lifeExp=%{y}<extra></extra>\",\"legendgroup\":\"Israel\",\"line\":{\"color\":\"#636efa\",\"dash\":\"solid\"},\"marker\":{\"symbol\":\"circle\"},\"mode\":\"lines\",\"name\":\"Israel\",\"orientation\":\"v\",\"showlegend\":true,\"x\":[1952,1957,1962,1967,1972,1977,1982,1987,1992,1997,2002,2007],\"xaxis\":\"x\",\"y\":[65.39,67.84,69.39,70.75,71.63,73.06,74.45,75.6,76.93,78.26899999999998,79.696,80.745],\"yaxis\":\"y\",\"type\":\"scatter\"},{\"hovertemplate\":\"country=Japan<br>year=%{x}<br>lifeExp=%{y}<extra></extra>\",\"legendgroup\":\"Japan\",\"line\":{\"color\":\"#EF553B\",\"dash\":\"solid\"},\"marker\":{\"symbol\":\"circle\"},\"mode\":\"lines\",\"name\":\"Japan\",\"orientation\":\"v\",\"showlegend\":true,\"x\":[1952,1957,1962,1967,1972,1977,1982,1987,1992,1997,2002,2007],\"xaxis\":\"x\",\"y\":[63.03,65.5,68.73,71.43,73.42,75.38,77.11,78.67,79.36,80.69,82.0,82.603],\"yaxis\":\"y\",\"type\":\"scatter\"},{\"hovertemplate\":\"country=Jordan<br>year=%{x}<br>lifeExp=%{y}<extra></extra>\",\"legendgroup\":\"Jordan\",\"line\":{\"color\":\"#00cc96\",\"dash\":\"solid\"},\"marker\":{\"symbol\":\"circle\"},\"mode\":\"lines\",\"name\":\"Jordan\",\"orientation\":\"v\",\"showlegend\":true,\"x\":[1952,1957,1962,1967,1972,1977,1982,1987,1992,1997,2002,2007],\"xaxis\":\"x\",\"y\":[43.158,45.669,48.12600000000001,51.629,56.528,61.13399999999999,63.739,65.869,68.015,69.77199999999999,71.263,72.535],\"yaxis\":\"y\",\"type\":\"scatter\"},{\"hovertemplate\":\"country=Korea, Dem. Rep.<br>year=%{x}<br>lifeExp=%{y}<extra></extra>\",\"legendgroup\":\"Korea, Dem. Rep.\",\"line\":{\"color\":\"#ab63fa\",\"dash\":\"solid\"},\"marker\":{\"symbol\":\"circle\"},\"mode\":\"lines\",\"name\":\"Korea, Dem. Rep.\",\"orientation\":\"v\",\"showlegend\":true,\"x\":[1952,1957,1962,1967,1972,1977,1982,1987,1992,1997,2002,2007],\"xaxis\":\"x\",\"y\":[50.056,54.081,56.65600000000001,59.942,63.983,67.15899999999999,69.1,70.64699999999998,69.97800000000001,67.727,66.66199999999999,67.297],\"yaxis\":\"y\",\"type\":\"scatter\"},{\"hovertemplate\":\"country=Korea, Rep.<br>year=%{x}<br>lifeExp=%{y}<extra></extra>\",\"legendgroup\":\"Korea, Rep.\",\"line\":{\"color\":\"#FFA15A\",\"dash\":\"solid\"},\"marker\":{\"symbol\":\"circle\"},\"mode\":\"lines\",\"name\":\"Korea, Rep.\",\"orientation\":\"v\",\"showlegend\":true,\"x\":[1952,1957,1962,1967,1972,1977,1982,1987,1992,1997,2002,2007],\"xaxis\":\"x\",\"y\":[47.453,52.681,55.292,57.716,62.612,64.766,67.123,69.81,72.244,74.64699999999998,77.045,78.623],\"yaxis\":\"y\",\"type\":\"scatter\"},{\"hovertemplate\":\"country=Kuwait<br>year=%{x}<br>lifeExp=%{y}<extra></extra>\",\"legendgroup\":\"Kuwait\",\"line\":{\"color\":\"#19d3f3\",\"dash\":\"solid\"},\"marker\":{\"symbol\":\"circle\"},\"mode\":\"lines\",\"name\":\"Kuwait\",\"orientation\":\"v\",\"showlegend\":true,\"x\":[1952,1957,1962,1967,1972,1977,1982,1987,1992,1997,2002,2007],\"xaxis\":\"x\",\"y\":[55.565,58.033,60.47,64.624,67.712,69.343,71.309,74.17399999999998,75.19,76.156,76.904,77.58800000000002],\"yaxis\":\"y\",\"type\":\"scatter\"},{\"hovertemplate\":\"country=Lebanon<br>year=%{x}<br>lifeExp=%{y}<extra></extra>\",\"legendgroup\":\"Lebanon\",\"line\":{\"color\":\"#FF6692\",\"dash\":\"solid\"},\"marker\":{\"symbol\":\"circle\"},\"mode\":\"lines\",\"name\":\"Lebanon\",\"orientation\":\"v\",\"showlegend\":true,\"x\":[1952,1957,1962,1967,1972,1977,1982,1987,1992,1997,2002,2007],\"xaxis\":\"x\",\"y\":[55.928,59.489,62.094,63.87,65.421,66.09899999999999,66.983,67.926,69.292,70.265,71.028,71.993],\"yaxis\":\"y\",\"type\":\"scatter\"},{\"hovertemplate\":\"country=Malaysia<br>year=%{x}<br>lifeExp=%{y}<extra></extra>\",\"legendgroup\":\"Malaysia\",\"line\":{\"color\":\"#B6E880\",\"dash\":\"solid\"},\"marker\":{\"symbol\":\"circle\"},\"mode\":\"lines\",\"name\":\"Malaysia\",\"orientation\":\"v\",\"showlegend\":true,\"x\":[1952,1957,1962,1967,1972,1977,1982,1987,1992,1997,2002,2007],\"xaxis\":\"x\",\"y\":[48.463,52.102,55.737,59.371,63.01,65.256,68.0,69.5,70.693,71.938,73.044,74.241],\"yaxis\":\"y\",\"type\":\"scatter\"},{\"hovertemplate\":\"country=Mongolia<br>year=%{x}<br>lifeExp=%{y}<extra></extra>\",\"legendgroup\":\"Mongolia\",\"line\":{\"color\":\"#FF97FF\",\"dash\":\"solid\"},\"marker\":{\"symbol\":\"circle\"},\"mode\":\"lines\",\"name\":\"Mongolia\",\"orientation\":\"v\",\"showlegend\":true,\"x\":[1952,1957,1962,1967,1972,1977,1982,1987,1992,1997,2002,2007],\"xaxis\":\"x\",\"y\":[42.244,45.24800000000001,48.25100000000001,51.253,53.754,55.49100000000001,57.489,60.222,61.271,63.625,65.033,66.803],\"yaxis\":\"y\",\"type\":\"scatter\"},{\"hovertemplate\":\"country=Myanmar<br>year=%{x}<br>lifeExp=%{y}<extra></extra>\",\"legendgroup\":\"Myanmar\",\"line\":{\"color\":\"#FECB52\",\"dash\":\"solid\"},\"marker\":{\"symbol\":\"circle\"},\"mode\":\"lines\",\"name\":\"Myanmar\",\"orientation\":\"v\",\"showlegend\":true,\"x\":[1952,1957,1962,1967,1972,1977,1982,1987,1992,1997,2002,2007],\"xaxis\":\"x\",\"y\":[36.319,41.905,45.108,49.379,53.07,56.059,58.056,58.339,59.32,60.328,59.908,62.069],\"yaxis\":\"y\",\"type\":\"scatter\"},{\"hovertemplate\":\"country=Nepal<br>year=%{x}<br>lifeExp=%{y}<extra></extra>\",\"legendgroup\":\"Nepal\",\"line\":{\"color\":\"#636efa\",\"dash\":\"solid\"},\"marker\":{\"symbol\":\"circle\"},\"mode\":\"lines\",\"name\":\"Nepal\",\"orientation\":\"v\",\"showlegend\":true,\"x\":[1952,1957,1962,1967,1972,1977,1982,1987,1992,1997,2002,2007],\"xaxis\":\"x\",\"y\":[36.157,37.686,39.393,41.472,43.971,46.74800000000001,49.594,52.537,55.727,59.426,61.34,63.785],\"yaxis\":\"y\",\"type\":\"scatter\"},{\"hovertemplate\":\"country=Oman<br>year=%{x}<br>lifeExp=%{y}<extra></extra>\",\"legendgroup\":\"Oman\",\"line\":{\"color\":\"#EF553B\",\"dash\":\"solid\"},\"marker\":{\"symbol\":\"circle\"},\"mode\":\"lines\",\"name\":\"Oman\",\"orientation\":\"v\",\"showlegend\":true,\"x\":[1952,1957,1962,1967,1972,1977,1982,1987,1992,1997,2002,2007],\"xaxis\":\"x\",\"y\":[37.578,40.08,43.165,46.988,52.143,57.367,62.728,67.734,71.197,72.499,74.193,75.64],\"yaxis\":\"y\",\"type\":\"scatter\"},{\"hovertemplate\":\"country=Pakistan<br>year=%{x}<br>lifeExp=%{y}<extra></extra>\",\"legendgroup\":\"Pakistan\",\"line\":{\"color\":\"#00cc96\",\"dash\":\"solid\"},\"marker\":{\"symbol\":\"circle\"},\"mode\":\"lines\",\"name\":\"Pakistan\",\"orientation\":\"v\",\"showlegend\":true,\"x\":[1952,1957,1962,1967,1972,1977,1982,1987,1992,1997,2002,2007],\"xaxis\":\"x\",\"y\":[43.43600000000001,45.557,47.67,49.8,51.929,54.043,56.158,58.245,60.838,61.81800000000001,63.61,65.483],\"yaxis\":\"y\",\"type\":\"scatter\"},{\"hovertemplate\":\"country=Philippines<br>year=%{x}<br>lifeExp=%{y}<extra></extra>\",\"legendgroup\":\"Philippines\",\"line\":{\"color\":\"#ab63fa\",\"dash\":\"solid\"},\"marker\":{\"symbol\":\"circle\"},\"mode\":\"lines\",\"name\":\"Philippines\",\"orientation\":\"v\",\"showlegend\":true,\"x\":[1952,1957,1962,1967,1972,1977,1982,1987,1992,1997,2002,2007],\"xaxis\":\"x\",\"y\":[47.752,51.334,54.757,56.393,58.065,60.06,62.082,64.15100000000001,66.458,68.564,70.303,71.688],\"yaxis\":\"y\",\"type\":\"scatter\"},{\"hovertemplate\":\"country=Saudi Arabia<br>year=%{x}<br>lifeExp=%{y}<extra></extra>\",\"legendgroup\":\"Saudi Arabia\",\"line\":{\"color\":\"#FFA15A\",\"dash\":\"solid\"},\"marker\":{\"symbol\":\"circle\"},\"mode\":\"lines\",\"name\":\"Saudi Arabia\",\"orientation\":\"v\",\"showlegend\":true,\"x\":[1952,1957,1962,1967,1972,1977,1982,1987,1992,1997,2002,2007],\"xaxis\":\"x\",\"y\":[39.875,42.868,45.914,49.901,53.886,58.69,63.012,66.295,68.768,70.533,71.626,72.777],\"yaxis\":\"y\",\"type\":\"scatter\"},{\"hovertemplate\":\"country=Singapore<br>year=%{x}<br>lifeExp=%{y}<extra></extra>\",\"legendgroup\":\"Singapore\",\"line\":{\"color\":\"#19d3f3\",\"dash\":\"solid\"},\"marker\":{\"symbol\":\"circle\"},\"mode\":\"lines\",\"name\":\"Singapore\",\"orientation\":\"v\",\"showlegend\":true,\"x\":[1952,1957,1962,1967,1972,1977,1982,1987,1992,1997,2002,2007],\"xaxis\":\"x\",\"y\":[60.396,63.179,65.798,67.946,69.521,70.795,71.76,73.56,75.788,77.158,78.77,79.972],\"yaxis\":\"y\",\"type\":\"scatter\"},{\"hovertemplate\":\"country=Sri Lanka<br>year=%{x}<br>lifeExp=%{y}<extra></extra>\",\"legendgroup\":\"Sri Lanka\",\"line\":{\"color\":\"#FF6692\",\"dash\":\"solid\"},\"marker\":{\"symbol\":\"circle\"},\"mode\":\"lines\",\"name\":\"Sri Lanka\",\"orientation\":\"v\",\"showlegend\":true,\"x\":[1952,1957,1962,1967,1972,1977,1982,1987,1992,1997,2002,2007],\"xaxis\":\"x\",\"y\":[57.593,61.456,62.192,64.266,65.042,65.949,68.757,69.01100000000001,70.37899999999998,70.457,70.815,72.396],\"yaxis\":\"y\",\"type\":\"scatter\"},{\"hovertemplate\":\"country=Syria<br>year=%{x}<br>lifeExp=%{y}<extra></extra>\",\"legendgroup\":\"Syria\",\"line\":{\"color\":\"#B6E880\",\"dash\":\"solid\"},\"marker\":{\"symbol\":\"circle\"},\"mode\":\"lines\",\"name\":\"Syria\",\"orientation\":\"v\",\"showlegend\":true,\"x\":[1952,1957,1962,1967,1972,1977,1982,1987,1992,1997,2002,2007],\"xaxis\":\"x\",\"y\":[45.883,48.284,50.305,53.655,57.29600000000001,61.195,64.59,66.97399999999999,69.249,71.527,73.053,74.143],\"yaxis\":\"y\",\"type\":\"scatter\"},{\"hovertemplate\":\"country=Taiwan<br>year=%{x}<br>lifeExp=%{y}<extra></extra>\",\"legendgroup\":\"Taiwan\",\"line\":{\"color\":\"#FF97FF\",\"dash\":\"solid\"},\"marker\":{\"symbol\":\"circle\"},\"mode\":\"lines\",\"name\":\"Taiwan\",\"orientation\":\"v\",\"showlegend\":true,\"x\":[1952,1957,1962,1967,1972,1977,1982,1987,1992,1997,2002,2007],\"xaxis\":\"x\",\"y\":[58.5,62.4,65.2,67.5,69.39,70.59,72.16,73.4,74.26,75.25,76.99,78.4],\"yaxis\":\"y\",\"type\":\"scatter\"},{\"hovertemplate\":\"country=Thailand<br>year=%{x}<br>lifeExp=%{y}<extra></extra>\",\"legendgroup\":\"Thailand\",\"line\":{\"color\":\"#FECB52\",\"dash\":\"solid\"},\"marker\":{\"symbol\":\"circle\"},\"mode\":\"lines\",\"name\":\"Thailand\",\"orientation\":\"v\",\"showlegend\":true,\"x\":[1952,1957,1962,1967,1972,1977,1982,1987,1992,1997,2002,2007],\"xaxis\":\"x\",\"y\":[50.848,53.63,56.06100000000001,58.285,60.405,62.494,64.597,66.084,67.298,67.521,68.564,70.616],\"yaxis\":\"y\",\"type\":\"scatter\"},{\"hovertemplate\":\"country=Vietnam<br>year=%{x}<br>lifeExp=%{y}<extra></extra>\",\"legendgroup\":\"Vietnam\",\"line\":{\"color\":\"#636efa\",\"dash\":\"solid\"},\"marker\":{\"symbol\":\"circle\"},\"mode\":\"lines\",\"name\":\"Vietnam\",\"orientation\":\"v\",\"showlegend\":true,\"x\":[1952,1957,1962,1967,1972,1977,1982,1987,1992,1997,2002,2007],\"xaxis\":\"x\",\"y\":[40.412,42.887,45.363,47.838,50.254,55.764,58.816,62.82,67.66199999999999,70.672,73.017,74.249],\"yaxis\":\"y\",\"type\":\"scatter\"},{\"hovertemplate\":\"country=West Bank and Gaza<br>year=%{x}<br>lifeExp=%{y}<extra></extra>\",\"legendgroup\":\"West Bank and Gaza\",\"line\":{\"color\":\"#EF553B\",\"dash\":\"solid\"},\"marker\":{\"symbol\":\"circle\"},\"mode\":\"lines\",\"name\":\"West Bank and Gaza\",\"orientation\":\"v\",\"showlegend\":true,\"x\":[1952,1957,1962,1967,1972,1977,1982,1987,1992,1997,2002,2007],\"xaxis\":\"x\",\"y\":[43.16,45.67100000000001,48.127,51.631,56.532,60.765,64.406,67.046,69.718,71.096,72.37,73.422],\"yaxis\":\"y\",\"type\":\"scatter\"},{\"hovertemplate\":\"country=Yemen, Rep.<br>year=%{x}<br>lifeExp=%{y}<extra></extra>\",\"legendgroup\":\"Yemen, Rep.\",\"line\":{\"color\":\"#00cc96\",\"dash\":\"solid\"},\"marker\":{\"symbol\":\"circle\"},\"mode\":\"lines\",\"name\":\"Yemen, Rep.\",\"orientation\":\"v\",\"showlegend\":true,\"x\":[1952,1957,1962,1967,1972,1977,1982,1987,1992,1997,2002,2007],\"xaxis\":\"x\",\"y\":[32.548,33.97,35.18,36.984,39.848,44.175,49.113,52.922,55.599,58.02,60.308,62.698],\"yaxis\":\"y\",\"type\":\"scatter\"}],                        {\"template\":{\"data\":{\"bar\":[{\"error_x\":{\"color\":\"#2a3f5f\"},\"error_y\":{\"color\":\"#2a3f5f\"},\"marker\":{\"line\":{\"color\":\"#E5ECF6\",\"width\":0.5},\"pattern\":{\"fillmode\":\"overlay\",\"size\":10,\"solidity\":0.2}},\"type\":\"bar\"}],\"barpolar\":[{\"marker\":{\"line\":{\"color\":\"#E5ECF6\",\"width\":0.5},\"pattern\":{\"fillmode\":\"overlay\",\"size\":10,\"solidity\":0.2}},\"type\":\"barpolar\"}],\"carpet\":[{\"aaxis\":{\"endlinecolor\":\"#2a3f5f\",\"gridcolor\":\"white\",\"linecolor\":\"white\",\"minorgridcolor\":\"white\",\"startlinecolor\":\"#2a3f5f\"},\"baxis\":{\"endlinecolor\":\"#2a3f5f\",\"gridcolor\":\"white\",\"linecolor\":\"white\",\"minorgridcolor\":\"white\",\"startlinecolor\":\"#2a3f5f\"},\"type\":\"carpet\"}],\"choropleth\":[{\"colorbar\":{\"outlinewidth\":0,\"ticks\":\"\"},\"type\":\"choropleth\"}],\"contour\":[{\"colorbar\":{\"outlinewidth\":0,\"ticks\":\"\"},\"colorscale\":[[0.0,\"#0d0887\"],[0.1111111111111111,\"#46039f\"],[0.2222222222222222,\"#7201a8\"],[0.3333333333333333,\"#9c179e\"],[0.4444444444444444,\"#bd3786\"],[0.5555555555555556,\"#d8576b\"],[0.6666666666666666,\"#ed7953\"],[0.7777777777777778,\"#fb9f3a\"],[0.8888888888888888,\"#fdca26\"],[1.0,\"#f0f921\"]],\"type\":\"contour\"}],\"contourcarpet\":[{\"colorbar\":{\"outlinewidth\":0,\"ticks\":\"\"},\"type\":\"contourcarpet\"}],\"heatmap\":[{\"colorbar\":{\"outlinewidth\":0,\"ticks\":\"\"},\"colorscale\":[[0.0,\"#0d0887\"],[0.1111111111111111,\"#46039f\"],[0.2222222222222222,\"#7201a8\"],[0.3333333333333333,\"#9c179e\"],[0.4444444444444444,\"#bd3786\"],[0.5555555555555556,\"#d8576b\"],[0.6666666666666666,\"#ed7953\"],[0.7777777777777778,\"#fb9f3a\"],[0.8888888888888888,\"#fdca26\"],[1.0,\"#f0f921\"]],\"type\":\"heatmap\"}],\"heatmapgl\":[{\"colorbar\":{\"outlinewidth\":0,\"ticks\":\"\"},\"colorscale\":[[0.0,\"#0d0887\"],[0.1111111111111111,\"#46039f\"],[0.2222222222222222,\"#7201a8\"],[0.3333333333333333,\"#9c179e\"],[0.4444444444444444,\"#bd3786\"],[0.5555555555555556,\"#d8576b\"],[0.6666666666666666,\"#ed7953\"],[0.7777777777777778,\"#fb9f3a\"],[0.8888888888888888,\"#fdca26\"],[1.0,\"#f0f921\"]],\"type\":\"heatmapgl\"}],\"histogram\":[{\"marker\":{\"pattern\":{\"fillmode\":\"overlay\",\"size\":10,\"solidity\":0.2}},\"type\":\"histogram\"}],\"histogram2d\":[{\"colorbar\":{\"outlinewidth\":0,\"ticks\":\"\"},\"colorscale\":[[0.0,\"#0d0887\"],[0.1111111111111111,\"#46039f\"],[0.2222222222222222,\"#7201a8\"],[0.3333333333333333,\"#9c179e\"],[0.4444444444444444,\"#bd3786\"],[0.5555555555555556,\"#d8576b\"],[0.6666666666666666,\"#ed7953\"],[0.7777777777777778,\"#fb9f3a\"],[0.8888888888888888,\"#fdca26\"],[1.0,\"#f0f921\"]],\"type\":\"histogram2d\"}],\"histogram2dcontour\":[{\"colorbar\":{\"outlinewidth\":0,\"ticks\":\"\"},\"colorscale\":[[0.0,\"#0d0887\"],[0.1111111111111111,\"#46039f\"],[0.2222222222222222,\"#7201a8\"],[0.3333333333333333,\"#9c179e\"],[0.4444444444444444,\"#bd3786\"],[0.5555555555555556,\"#d8576b\"],[0.6666666666666666,\"#ed7953\"],[0.7777777777777778,\"#fb9f3a\"],[0.8888888888888888,\"#fdca26\"],[1.0,\"#f0f921\"]],\"type\":\"histogram2dcontour\"}],\"mesh3d\":[{\"colorbar\":{\"outlinewidth\":0,\"ticks\":\"\"},\"type\":\"mesh3d\"}],\"parcoords\":[{\"line\":{\"colorbar\":{\"outlinewidth\":0,\"ticks\":\"\"}},\"type\":\"parcoords\"}],\"pie\":[{\"automargin\":true,\"type\":\"pie\"}],\"scatter\":[{\"marker\":{\"colorbar\":{\"outlinewidth\":0,\"ticks\":\"\"}},\"type\":\"scatter\"}],\"scatter3d\":[{\"line\":{\"colorbar\":{\"outlinewidth\":0,\"ticks\":\"\"}},\"marker\":{\"colorbar\":{\"outlinewidth\":0,\"ticks\":\"\"}},\"type\":\"scatter3d\"}],\"scattercarpet\":[{\"marker\":{\"colorbar\":{\"outlinewidth\":0,\"ticks\":\"\"}},\"type\":\"scattercarpet\"}],\"scattergeo\":[{\"marker\":{\"colorbar\":{\"outlinewidth\":0,\"ticks\":\"\"}},\"type\":\"scattergeo\"}],\"scattergl\":[{\"marker\":{\"colorbar\":{\"outlinewidth\":0,\"ticks\":\"\"}},\"type\":\"scattergl\"}],\"scattermapbox\":[{\"marker\":{\"colorbar\":{\"outlinewidth\":0,\"ticks\":\"\"}},\"type\":\"scattermapbox\"}],\"scatterpolar\":[{\"marker\":{\"colorbar\":{\"outlinewidth\":0,\"ticks\":\"\"}},\"type\":\"scatterpolar\"}],\"scatterpolargl\":[{\"marker\":{\"colorbar\":{\"outlinewidth\":0,\"ticks\":\"\"}},\"type\":\"scatterpolargl\"}],\"scatterternary\":[{\"marker\":{\"colorbar\":{\"outlinewidth\":0,\"ticks\":\"\"}},\"type\":\"scatterternary\"}],\"surface\":[{\"colorbar\":{\"outlinewidth\":0,\"ticks\":\"\"},\"colorscale\":[[0.0,\"#0d0887\"],[0.1111111111111111,\"#46039f\"],[0.2222222222222222,\"#7201a8\"],[0.3333333333333333,\"#9c179e\"],[0.4444444444444444,\"#bd3786\"],[0.5555555555555556,\"#d8576b\"],[0.6666666666666666,\"#ed7953\"],[0.7777777777777778,\"#fb9f3a\"],[0.8888888888888888,\"#fdca26\"],[1.0,\"#f0f921\"]],\"type\":\"surface\"}],\"table\":[{\"cells\":{\"fill\":{\"color\":\"#EBF0F8\"},\"line\":{\"color\":\"white\"}},\"header\":{\"fill\":{\"color\":\"#C8D4E3\"},\"line\":{\"color\":\"white\"}},\"type\":\"table\"}]},\"layout\":{\"annotationdefaults\":{\"arrowcolor\":\"#2a3f5f\",\"arrowhead\":0,\"arrowwidth\":1},\"autotypenumbers\":\"strict\",\"coloraxis\":{\"colorbar\":{\"outlinewidth\":0,\"ticks\":\"\"}},\"colorscale\":{\"diverging\":[[0,\"#8e0152\"],[0.1,\"#c51b7d\"],[0.2,\"#de77ae\"],[0.3,\"#f1b6da\"],[0.4,\"#fde0ef\"],[0.5,\"#f7f7f7\"],[0.6,\"#e6f5d0\"],[0.7,\"#b8e186\"],[0.8,\"#7fbc41\"],[0.9,\"#4d9221\"],[1,\"#276419\"]],\"sequential\":[[0.0,\"#0d0887\"],[0.1111111111111111,\"#46039f\"],[0.2222222222222222,\"#7201a8\"],[0.3333333333333333,\"#9c179e\"],[0.4444444444444444,\"#bd3786\"],[0.5555555555555556,\"#d8576b\"],[0.6666666666666666,\"#ed7953\"],[0.7777777777777778,\"#fb9f3a\"],[0.8888888888888888,\"#fdca26\"],[1.0,\"#f0f921\"]],\"sequentialminus\":[[0.0,\"#0d0887\"],[0.1111111111111111,\"#46039f\"],[0.2222222222222222,\"#7201a8\"],[0.3333333333333333,\"#9c179e\"],[0.4444444444444444,\"#bd3786\"],[0.5555555555555556,\"#d8576b\"],[0.6666666666666666,\"#ed7953\"],[0.7777777777777778,\"#fb9f3a\"],[0.8888888888888888,\"#fdca26\"],[1.0,\"#f0f921\"]]},\"colorway\":[\"#636efa\",\"#EF553B\",\"#00cc96\",\"#ab63fa\",\"#FFA15A\",\"#19d3f3\",\"#FF6692\",\"#B6E880\",\"#FF97FF\",\"#FECB52\"],\"font\":{\"color\":\"#2a3f5f\"},\"geo\":{\"bgcolor\":\"white\",\"lakecolor\":\"white\",\"landcolor\":\"#E5ECF6\",\"showlakes\":true,\"showland\":true,\"subunitcolor\":\"white\"},\"hoverlabel\":{\"align\":\"left\"},\"hovermode\":\"closest\",\"mapbox\":{\"style\":\"light\"},\"paper_bgcolor\":\"white\",\"plot_bgcolor\":\"#E5ECF6\",\"polar\":{\"angularaxis\":{\"gridcolor\":\"white\",\"linecolor\":\"white\",\"ticks\":\"\"},\"bgcolor\":\"#E5ECF6\",\"radialaxis\":{\"gridcolor\":\"white\",\"linecolor\":\"white\",\"ticks\":\"\"}},\"scene\":{\"xaxis\":{\"backgroundcolor\":\"#E5ECF6\",\"gridcolor\":\"white\",\"gridwidth\":2,\"linecolor\":\"white\",\"showbackground\":true,\"ticks\":\"\",\"zerolinecolor\":\"white\"},\"yaxis\":{\"backgroundcolor\":\"#E5ECF6\",\"gridcolor\":\"white\",\"gridwidth\":2,\"linecolor\":\"white\",\"showbackground\":true,\"ticks\":\"\",\"zerolinecolor\":\"white\"},\"zaxis\":{\"backgroundcolor\":\"#E5ECF6\",\"gridcolor\":\"white\",\"gridwidth\":2,\"linecolor\":\"white\",\"showbackground\":true,\"ticks\":\"\",\"zerolinecolor\":\"white\"}},\"shapedefaults\":{\"line\":{\"color\":\"#2a3f5f\"}},\"ternary\":{\"aaxis\":{\"gridcolor\":\"white\",\"linecolor\":\"white\",\"ticks\":\"\"},\"baxis\":{\"gridcolor\":\"white\",\"linecolor\":\"white\",\"ticks\":\"\"},\"bgcolor\":\"#E5ECF6\",\"caxis\":{\"gridcolor\":\"white\",\"linecolor\":\"white\",\"ticks\":\"\"}},\"title\":{\"x\":0.05},\"xaxis\":{\"automargin\":true,\"gridcolor\":\"white\",\"linecolor\":\"white\",\"ticks\":\"\",\"title\":{\"standoff\":15},\"zerolinecolor\":\"white\",\"zerolinewidth\":2},\"yaxis\":{\"automargin\":true,\"gridcolor\":\"white\",\"linecolor\":\"white\",\"ticks\":\"\",\"title\":{\"standoff\":15},\"zerolinecolor\":\"white\",\"zerolinewidth\":2}}},\"xaxis\":{\"anchor\":\"y\",\"domain\":[0.0,1.0],\"title\":{\"text\":\"year\"}},\"yaxis\":{\"anchor\":\"x\",\"domain\":[0.0,1.0],\"title\":{\"text\":\"lifeExp\"}},\"legend\":{\"title\":{\"text\":\"country\"},\"tracegroupgap\":0},\"margin\":{\"t\":60}},                        {\"responsive\": true}                    ).then(function(){\n",
              "                            \n",
              "var gd = document.getElementById('eede787c-95fe-46f7-bb82-e5599b4a575e');\n",
              "var x = new MutationObserver(function (mutations, observer) {{\n",
              "        var display = window.getComputedStyle(gd).display;\n",
              "        if (!display || display === 'none') {{\n",
              "            console.log([gd, 'removed!']);\n",
              "            Plotly.purge(gd);\n",
              "            observer.disconnect();\n",
              "        }}\n",
              "}});\n",
              "\n",
              "// Listen for the removal of the full notebook cells\n",
              "var notebookContainer = gd.closest('#notebook-container');\n",
              "if (notebookContainer) {{\n",
              "    x.observe(notebookContainer, {childList: true});\n",
              "}}\n",
              "\n",
              "// Listen for the clearing of the current output cell\n",
              "var outputEl = gd.closest('.output');\n",
              "if (outputEl) {{\n",
              "    x.observe(outputEl, {childList: true});\n",
              "}}\n",
              "\n",
              "                        })                };                            </script>        </div>\n",
              "</body>\n",
              "</html>"
            ]
          },
          "metadata": {}
        }
      ]
    },
    {
      "cell_type": "code",
      "metadata": {
        "id": "ZrlhtpiC1rEy",
        "colab": {
          "base_uri": "https://localhost:8080/",
          "height": 542
        },
        "outputId": "a628ac07-ce87-4f8c-bdbc-fcdb447eb272"
      },
      "source": [
        "x = np.array([1,2,3,4,5])\n",
        "y = np.array([1,3,2,3,1])\n",
        "\n",
        "fig= go.Figure()\n",
        "fig.add_trace(go.Scatter(x=x,y=y, name='linear', line_shape='linear')) #선형보간\n",
        "fig.add_trace(go.Scatter(x=x,y=y+10, name='spline', hoverinfo='text+name', line_shape='spline')) #약간 둥글게\n",
        "fig.add_trace(go.Scatter(x=x,y=y+20, name='vhv' , line_shape='vhv')) #중간에 해당하는 값으로 보간\n",
        "fig.add_trace(go.Scatter(x=x,y=y+30, name='hvh', line_shape='hvh')) #중간에 수직 보간\n",
        "fig.add_trace(go.Scatter(x=x,y=y+40, name='vh', line_shape='vh')) #다음값으로 올린후 보간\n",
        "fig.add_trace(go.Scatter(x=x,y=y+50, name='hv', line_shape='hv')) #일단 보간후 값올리기\n",
        "fig.update_traces(hoverinfo='text+name', mode='lines+markers')\n",
        "fig.update_layout(legend=dict(y=0.5, traceorder='reversed', font_size=16))\n",
        "fig.show()"
      ],
      "execution_count": null,
      "outputs": [
        {
          "output_type": "display_data",
          "data": {
            "text/html": [
              "<html>\n",
              "<head><meta charset=\"utf-8\" /></head>\n",
              "<body>\n",
              "    <div>            <script src=\"https://cdnjs.cloudflare.com/ajax/libs/mathjax/2.7.5/MathJax.js?config=TeX-AMS-MML_SVG\"></script><script type=\"text/javascript\">if (window.MathJax) {MathJax.Hub.Config({SVG: {font: \"STIX-Web\"}});}</script>                <script type=\"text/javascript\">window.PlotlyConfig = {MathJaxConfig: 'local'};</script>\n",
              "        <script src=\"https://cdn.plot.ly/plotly-2.8.3.min.js\"></script>                <div id=\"a30a82ba-0e81-47ea-90be-e85f4783e988\" class=\"plotly-graph-div\" style=\"height:525px; width:100%;\"></div>            <script type=\"text/javascript\">                                    window.PLOTLYENV=window.PLOTLYENV || {};                                    if (document.getElementById(\"a30a82ba-0e81-47ea-90be-e85f4783e988\")) {                    Plotly.newPlot(                        \"a30a82ba-0e81-47ea-90be-e85f4783e988\",                        [{\"line\":{\"shape\":\"linear\"},\"name\":\"linear\",\"x\":[1,2,3,4,5],\"y\":[1,3,2,3,1],\"type\":\"scatter\",\"hoverinfo\":\"text+name\",\"mode\":\"lines+markers\"},{\"hoverinfo\":\"text+name\",\"line\":{\"shape\":\"spline\"},\"name\":\"spline\",\"x\":[1,2,3,4,5],\"y\":[11,13,12,13,11],\"type\":\"scatter\",\"mode\":\"lines+markers\"},{\"line\":{\"shape\":\"vhv\"},\"name\":\"vhv\",\"x\":[1,2,3,4,5],\"y\":[21,23,22,23,21],\"type\":\"scatter\",\"hoverinfo\":\"text+name\",\"mode\":\"lines+markers\"},{\"line\":{\"shape\":\"hvh\"},\"name\":\"hvh\",\"x\":[1,2,3,4,5],\"y\":[31,33,32,33,31],\"type\":\"scatter\",\"hoverinfo\":\"text+name\",\"mode\":\"lines+markers\"},{\"line\":{\"shape\":\"vh\"},\"name\":\"vh\",\"x\":[1,2,3,4,5],\"y\":[41,43,42,43,41],\"type\":\"scatter\",\"hoverinfo\":\"text+name\",\"mode\":\"lines+markers\"},{\"line\":{\"shape\":\"hv\"},\"name\":\"hv\",\"x\":[1,2,3,4,5],\"y\":[51,53,52,53,51],\"type\":\"scatter\",\"hoverinfo\":\"text+name\",\"mode\":\"lines+markers\"}],                        {\"template\":{\"data\":{\"bar\":[{\"error_x\":{\"color\":\"#2a3f5f\"},\"error_y\":{\"color\":\"#2a3f5f\"},\"marker\":{\"line\":{\"color\":\"#E5ECF6\",\"width\":0.5},\"pattern\":{\"fillmode\":\"overlay\",\"size\":10,\"solidity\":0.2}},\"type\":\"bar\"}],\"barpolar\":[{\"marker\":{\"line\":{\"color\":\"#E5ECF6\",\"width\":0.5},\"pattern\":{\"fillmode\":\"overlay\",\"size\":10,\"solidity\":0.2}},\"type\":\"barpolar\"}],\"carpet\":[{\"aaxis\":{\"endlinecolor\":\"#2a3f5f\",\"gridcolor\":\"white\",\"linecolor\":\"white\",\"minorgridcolor\":\"white\",\"startlinecolor\":\"#2a3f5f\"},\"baxis\":{\"endlinecolor\":\"#2a3f5f\",\"gridcolor\":\"white\",\"linecolor\":\"white\",\"minorgridcolor\":\"white\",\"startlinecolor\":\"#2a3f5f\"},\"type\":\"carpet\"}],\"choropleth\":[{\"colorbar\":{\"outlinewidth\":0,\"ticks\":\"\"},\"type\":\"choropleth\"}],\"contour\":[{\"colorbar\":{\"outlinewidth\":0,\"ticks\":\"\"},\"colorscale\":[[0.0,\"#0d0887\"],[0.1111111111111111,\"#46039f\"],[0.2222222222222222,\"#7201a8\"],[0.3333333333333333,\"#9c179e\"],[0.4444444444444444,\"#bd3786\"],[0.5555555555555556,\"#d8576b\"],[0.6666666666666666,\"#ed7953\"],[0.7777777777777778,\"#fb9f3a\"],[0.8888888888888888,\"#fdca26\"],[1.0,\"#f0f921\"]],\"type\":\"contour\"}],\"contourcarpet\":[{\"colorbar\":{\"outlinewidth\":0,\"ticks\":\"\"},\"type\":\"contourcarpet\"}],\"heatmap\":[{\"colorbar\":{\"outlinewidth\":0,\"ticks\":\"\"},\"colorscale\":[[0.0,\"#0d0887\"],[0.1111111111111111,\"#46039f\"],[0.2222222222222222,\"#7201a8\"],[0.3333333333333333,\"#9c179e\"],[0.4444444444444444,\"#bd3786\"],[0.5555555555555556,\"#d8576b\"],[0.6666666666666666,\"#ed7953\"],[0.7777777777777778,\"#fb9f3a\"],[0.8888888888888888,\"#fdca26\"],[1.0,\"#f0f921\"]],\"type\":\"heatmap\"}],\"heatmapgl\":[{\"colorbar\":{\"outlinewidth\":0,\"ticks\":\"\"},\"colorscale\":[[0.0,\"#0d0887\"],[0.1111111111111111,\"#46039f\"],[0.2222222222222222,\"#7201a8\"],[0.3333333333333333,\"#9c179e\"],[0.4444444444444444,\"#bd3786\"],[0.5555555555555556,\"#d8576b\"],[0.6666666666666666,\"#ed7953\"],[0.7777777777777778,\"#fb9f3a\"],[0.8888888888888888,\"#fdca26\"],[1.0,\"#f0f921\"]],\"type\":\"heatmapgl\"}],\"histogram\":[{\"marker\":{\"pattern\":{\"fillmode\":\"overlay\",\"size\":10,\"solidity\":0.2}},\"type\":\"histogram\"}],\"histogram2d\":[{\"colorbar\":{\"outlinewidth\":0,\"ticks\":\"\"},\"colorscale\":[[0.0,\"#0d0887\"],[0.1111111111111111,\"#46039f\"],[0.2222222222222222,\"#7201a8\"],[0.3333333333333333,\"#9c179e\"],[0.4444444444444444,\"#bd3786\"],[0.5555555555555556,\"#d8576b\"],[0.6666666666666666,\"#ed7953\"],[0.7777777777777778,\"#fb9f3a\"],[0.8888888888888888,\"#fdca26\"],[1.0,\"#f0f921\"]],\"type\":\"histogram2d\"}],\"histogram2dcontour\":[{\"colorbar\":{\"outlinewidth\":0,\"ticks\":\"\"},\"colorscale\":[[0.0,\"#0d0887\"],[0.1111111111111111,\"#46039f\"],[0.2222222222222222,\"#7201a8\"],[0.3333333333333333,\"#9c179e\"],[0.4444444444444444,\"#bd3786\"],[0.5555555555555556,\"#d8576b\"],[0.6666666666666666,\"#ed7953\"],[0.7777777777777778,\"#fb9f3a\"],[0.8888888888888888,\"#fdca26\"],[1.0,\"#f0f921\"]],\"type\":\"histogram2dcontour\"}],\"mesh3d\":[{\"colorbar\":{\"outlinewidth\":0,\"ticks\":\"\"},\"type\":\"mesh3d\"}],\"parcoords\":[{\"line\":{\"colorbar\":{\"outlinewidth\":0,\"ticks\":\"\"}},\"type\":\"parcoords\"}],\"pie\":[{\"automargin\":true,\"type\":\"pie\"}],\"scatter\":[{\"marker\":{\"colorbar\":{\"outlinewidth\":0,\"ticks\":\"\"}},\"type\":\"scatter\"}],\"scatter3d\":[{\"line\":{\"colorbar\":{\"outlinewidth\":0,\"ticks\":\"\"}},\"marker\":{\"colorbar\":{\"outlinewidth\":0,\"ticks\":\"\"}},\"type\":\"scatter3d\"}],\"scattercarpet\":[{\"marker\":{\"colorbar\":{\"outlinewidth\":0,\"ticks\":\"\"}},\"type\":\"scattercarpet\"}],\"scattergeo\":[{\"marker\":{\"colorbar\":{\"outlinewidth\":0,\"ticks\":\"\"}},\"type\":\"scattergeo\"}],\"scattergl\":[{\"marker\":{\"colorbar\":{\"outlinewidth\":0,\"ticks\":\"\"}},\"type\":\"scattergl\"}],\"scattermapbox\":[{\"marker\":{\"colorbar\":{\"outlinewidth\":0,\"ticks\":\"\"}},\"type\":\"scattermapbox\"}],\"scatterpolar\":[{\"marker\":{\"colorbar\":{\"outlinewidth\":0,\"ticks\":\"\"}},\"type\":\"scatterpolar\"}],\"scatterpolargl\":[{\"marker\":{\"colorbar\":{\"outlinewidth\":0,\"ticks\":\"\"}},\"type\":\"scatterpolargl\"}],\"scatterternary\":[{\"marker\":{\"colorbar\":{\"outlinewidth\":0,\"ticks\":\"\"}},\"type\":\"scatterternary\"}],\"surface\":[{\"colorbar\":{\"outlinewidth\":0,\"ticks\":\"\"},\"colorscale\":[[0.0,\"#0d0887\"],[0.1111111111111111,\"#46039f\"],[0.2222222222222222,\"#7201a8\"],[0.3333333333333333,\"#9c179e\"],[0.4444444444444444,\"#bd3786\"],[0.5555555555555556,\"#d8576b\"],[0.6666666666666666,\"#ed7953\"],[0.7777777777777778,\"#fb9f3a\"],[0.8888888888888888,\"#fdca26\"],[1.0,\"#f0f921\"]],\"type\":\"surface\"}],\"table\":[{\"cells\":{\"fill\":{\"color\":\"#EBF0F8\"},\"line\":{\"color\":\"white\"}},\"header\":{\"fill\":{\"color\":\"#C8D4E3\"},\"line\":{\"color\":\"white\"}},\"type\":\"table\"}]},\"layout\":{\"annotationdefaults\":{\"arrowcolor\":\"#2a3f5f\",\"arrowhead\":0,\"arrowwidth\":1},\"autotypenumbers\":\"strict\",\"coloraxis\":{\"colorbar\":{\"outlinewidth\":0,\"ticks\":\"\"}},\"colorscale\":{\"diverging\":[[0,\"#8e0152\"],[0.1,\"#c51b7d\"],[0.2,\"#de77ae\"],[0.3,\"#f1b6da\"],[0.4,\"#fde0ef\"],[0.5,\"#f7f7f7\"],[0.6,\"#e6f5d0\"],[0.7,\"#b8e186\"],[0.8,\"#7fbc41\"],[0.9,\"#4d9221\"],[1,\"#276419\"]],\"sequential\":[[0.0,\"#0d0887\"],[0.1111111111111111,\"#46039f\"],[0.2222222222222222,\"#7201a8\"],[0.3333333333333333,\"#9c179e\"],[0.4444444444444444,\"#bd3786\"],[0.5555555555555556,\"#d8576b\"],[0.6666666666666666,\"#ed7953\"],[0.7777777777777778,\"#fb9f3a\"],[0.8888888888888888,\"#fdca26\"],[1.0,\"#f0f921\"]],\"sequentialminus\":[[0.0,\"#0d0887\"],[0.1111111111111111,\"#46039f\"],[0.2222222222222222,\"#7201a8\"],[0.3333333333333333,\"#9c179e\"],[0.4444444444444444,\"#bd3786\"],[0.5555555555555556,\"#d8576b\"],[0.6666666666666666,\"#ed7953\"],[0.7777777777777778,\"#fb9f3a\"],[0.8888888888888888,\"#fdca26\"],[1.0,\"#f0f921\"]]},\"colorway\":[\"#636efa\",\"#EF553B\",\"#00cc96\",\"#ab63fa\",\"#FFA15A\",\"#19d3f3\",\"#FF6692\",\"#B6E880\",\"#FF97FF\",\"#FECB52\"],\"font\":{\"color\":\"#2a3f5f\"},\"geo\":{\"bgcolor\":\"white\",\"lakecolor\":\"white\",\"landcolor\":\"#E5ECF6\",\"showlakes\":true,\"showland\":true,\"subunitcolor\":\"white\"},\"hoverlabel\":{\"align\":\"left\"},\"hovermode\":\"closest\",\"mapbox\":{\"style\":\"light\"},\"paper_bgcolor\":\"white\",\"plot_bgcolor\":\"#E5ECF6\",\"polar\":{\"angularaxis\":{\"gridcolor\":\"white\",\"linecolor\":\"white\",\"ticks\":\"\"},\"bgcolor\":\"#E5ECF6\",\"radialaxis\":{\"gridcolor\":\"white\",\"linecolor\":\"white\",\"ticks\":\"\"}},\"scene\":{\"xaxis\":{\"backgroundcolor\":\"#E5ECF6\",\"gridcolor\":\"white\",\"gridwidth\":2,\"linecolor\":\"white\",\"showbackground\":true,\"ticks\":\"\",\"zerolinecolor\":\"white\"},\"yaxis\":{\"backgroundcolor\":\"#E5ECF6\",\"gridcolor\":\"white\",\"gridwidth\":2,\"linecolor\":\"white\",\"showbackground\":true,\"ticks\":\"\",\"zerolinecolor\":\"white\"},\"zaxis\":{\"backgroundcolor\":\"#E5ECF6\",\"gridcolor\":\"white\",\"gridwidth\":2,\"linecolor\":\"white\",\"showbackground\":true,\"ticks\":\"\",\"zerolinecolor\":\"white\"}},\"shapedefaults\":{\"line\":{\"color\":\"#2a3f5f\"}},\"ternary\":{\"aaxis\":{\"gridcolor\":\"white\",\"linecolor\":\"white\",\"ticks\":\"\"},\"baxis\":{\"gridcolor\":\"white\",\"linecolor\":\"white\",\"ticks\":\"\"},\"bgcolor\":\"#E5ECF6\",\"caxis\":{\"gridcolor\":\"white\",\"linecolor\":\"white\",\"ticks\":\"\"}},\"title\":{\"x\":0.05},\"xaxis\":{\"automargin\":true,\"gridcolor\":\"white\",\"linecolor\":\"white\",\"ticks\":\"\",\"title\":{\"standoff\":15},\"zerolinecolor\":\"white\",\"zerolinewidth\":2},\"yaxis\":{\"automargin\":true,\"gridcolor\":\"white\",\"linecolor\":\"white\",\"ticks\":\"\",\"title\":{\"standoff\":15},\"zerolinecolor\":\"white\",\"zerolinewidth\":2}}},\"legend\":{\"font\":{\"size\":16},\"y\":0.5,\"traceorder\":\"reversed\"}},                        {\"responsive\": true}                    ).then(function(){\n",
              "                            \n",
              "var gd = document.getElementById('a30a82ba-0e81-47ea-90be-e85f4783e988');\n",
              "var x = new MutationObserver(function (mutations, observer) {{\n",
              "        var display = window.getComputedStyle(gd).display;\n",
              "        if (!display || display === 'none') {{\n",
              "            console.log([gd, 'removed!']);\n",
              "            Plotly.purge(gd);\n",
              "            observer.disconnect();\n",
              "        }}\n",
              "}});\n",
              "\n",
              "// Listen for the removal of the full notebook cells\n",
              "var notebookContainer = gd.closest('#notebook-container');\n",
              "if (notebookContainer) {{\n",
              "    x.observe(notebookContainer, {childList: true});\n",
              "}}\n",
              "\n",
              "// Listen for the clearing of the current output cell\n",
              "var outputEl = gd.closest('.output');\n",
              "if (outputEl) {{\n",
              "    x.observe(outputEl, {childList: true});\n",
              "}}\n",
              "\n",
              "                        })                };                            </script>        </div>\n",
              "</body>\n",
              "</html>"
            ]
          },
          "metadata": {}
        }
      ]
    },
    {
      "cell_type": "code",
      "metadata": {
        "id": "-XNGcX-1pOTS",
        "colab": {
          "base_uri": "https://localhost:8080/",
          "height": 542
        },
        "outputId": "0a54203d-fce4-47bd-d044-92447680e4fa"
      },
      "source": [
        "N = 100\n",
        "x = np.linspace(0,1,N)\n",
        "y0 = np.random.randn(N) + 5\n",
        "y1 = np.random.randn(N)\n",
        "y2 = np.random.randn(N) -5\n",
        "\n",
        "fig = go.Figure()\n",
        "fig.add_trace(go.Scatter(x=x, y=y0, mode='markers', name='markers'))\n",
        "fig.add_trace(go.Scatter(x=x, y=y1, mode='lines+markers', name='lines+markers'))\n",
        "fig.add_trace(go.Scatter(x=x, y=y2, mode='lines', name='lines'))\n",
        "fig.show()"
      ],
      "execution_count": null,
      "outputs": [
        {
          "output_type": "display_data",
          "data": {
            "text/html": [
              "<html>\n",
              "<head><meta charset=\"utf-8\" /></head>\n",
              "<body>\n",
              "    <div>            <script src=\"https://cdnjs.cloudflare.com/ajax/libs/mathjax/2.7.5/MathJax.js?config=TeX-AMS-MML_SVG\"></script><script type=\"text/javascript\">if (window.MathJax) {MathJax.Hub.Config({SVG: {font: \"STIX-Web\"}});}</script>                <script type=\"text/javascript\">window.PlotlyConfig = {MathJaxConfig: 'local'};</script>\n",
              "        <script src=\"https://cdn.plot.ly/plotly-2.8.3.min.js\"></script>                <div id=\"85485f02-d95d-473c-b821-a5392c07df74\" class=\"plotly-graph-div\" style=\"height:525px; width:100%;\"></div>            <script type=\"text/javascript\">                                    window.PLOTLYENV=window.PLOTLYENV || {};                                    if (document.getElementById(\"85485f02-d95d-473c-b821-a5392c07df74\")) {                    Plotly.newPlot(                        \"85485f02-d95d-473c-b821-a5392c07df74\",                        [{\"mode\":\"markers\",\"name\":\"markers\",\"x\":[0.0,0.010101010101010102,0.020202020202020204,0.030303030303030304,0.04040404040404041,0.05050505050505051,0.06060606060606061,0.07070707070707072,0.08080808080808081,0.09090909090909091,0.10101010101010102,0.11111111111111112,0.12121212121212122,0.13131313131313133,0.14141414141414144,0.15151515151515152,0.16161616161616163,0.17171717171717174,0.18181818181818182,0.19191919191919193,0.20202020202020204,0.21212121212121213,0.22222222222222224,0.23232323232323235,0.24242424242424243,0.25252525252525254,0.26262626262626265,0.27272727272727276,0.2828282828282829,0.29292929292929293,0.30303030303030304,0.31313131313131315,0.32323232323232326,0.33333333333333337,0.3434343434343435,0.3535353535353536,0.36363636363636365,0.37373737373737376,0.38383838383838387,0.393939393939394,0.4040404040404041,0.4141414141414142,0.42424242424242425,0.43434343434343436,0.4444444444444445,0.4545454545454546,0.4646464646464647,0.4747474747474748,0.48484848484848486,0.494949494949495,0.5050505050505051,0.5151515151515152,0.5252525252525253,0.5353535353535354,0.5454545454545455,0.5555555555555556,0.5656565656565657,0.5757575757575758,0.5858585858585859,0.595959595959596,0.6060606060606061,0.6161616161616162,0.6262626262626263,0.6363636363636365,0.6464646464646465,0.6565656565656566,0.6666666666666667,0.6767676767676768,0.686868686868687,0.696969696969697,0.7070707070707072,0.7171717171717172,0.7272727272727273,0.7373737373737375,0.7474747474747475,0.7575757575757577,0.7676767676767677,0.7777777777777778,0.787878787878788,0.797979797979798,0.8080808080808082,0.8181818181818182,0.8282828282828284,0.8383838383838385,0.8484848484848485,0.8585858585858587,0.8686868686868687,0.8787878787878789,0.888888888888889,0.8989898989898991,0.9090909090909092,0.9191919191919192,0.9292929292929294,0.9393939393939394,0.9494949494949496,0.9595959595959597,0.9696969696969697,0.9797979797979799,0.98989898989899,1.0],\"y\":[4.201704237928876,5.321772966720015,4.901980991223777,6.105124675726807,4.5433610630822026,2.945006960526538,5.1517209957974295,6.039153512915285,4.437626452074942,4.911454881441825,5.874997634404222,5.27866237719889,5.9656426220290415,5.968646161179464,5.2804032071871365,4.396788918807911,6.038168870781722,4.76502997910226,6.19974963987633,4.504191111008319,5.261038777383482,5.106550088539698,4.415465013957909,4.635336911010724,5.515502522484082,6.447770105749673,4.568693958341063,5.410421461447819,3.7011835664149073,6.5221157946289186,4.690108356975515,5.545484000560227,5.672625881952989,5.575527170190888,4.785699094897916,3.8730629573126336,4.703941900931823,5.280403724874163,6.456037588058779,5.871984508126674,6.051891070789741,4.478787549014379,4.484576330915956,4.459671283182484,3.1317452407820285,6.543172069783921,5.088236066533142,4.920879838757113,5.234700143030095,4.164465047133925,3.934781950371179,6.071130969923808,4.465907300519207,4.644170432226385,4.5302565763622145,5.599399132220778,4.789005456938877,4.095498725552005,4.21317255811237,4.401670523365344,5.056333077280105,5.539693688078055,4.180085445893111,5.290332289093908,5.090801751100357,7.499089906567564,6.786821421389651,2.983565840925199,5.0828972759345055,3.500353953385452,3.8352275525839987,5.202469407166398,4.255912839796447,2.4004256166126994,3.6198863400326617,5.822947872204254,6.226947216229064,5.193480124946595,6.016299158805739,3.979481707289403,5.438338670769732,5.871729001835988,5.292338880449841,5.092855331589086,2.4879619476750805,3.717038199785574,4.58476161143565,6.56774115835896,5.643090141380226,4.816896721708623,4.669134585702973,5.066325836639742,4.618637092103094,3.946607272929125,4.6767145697913355,5.940972798574148,5.8248264234866864,4.94474767821273,4.785769169568103,4.7395732841272045],\"type\":\"scatter\"},{\"mode\":\"lines+markers\",\"name\":\"lines+markers\",\"x\":[0.0,0.010101010101010102,0.020202020202020204,0.030303030303030304,0.04040404040404041,0.05050505050505051,0.06060606060606061,0.07070707070707072,0.08080808080808081,0.09090909090909091,0.10101010101010102,0.11111111111111112,0.12121212121212122,0.13131313131313133,0.14141414141414144,0.15151515151515152,0.16161616161616163,0.17171717171717174,0.18181818181818182,0.19191919191919193,0.20202020202020204,0.21212121212121213,0.22222222222222224,0.23232323232323235,0.24242424242424243,0.25252525252525254,0.26262626262626265,0.27272727272727276,0.2828282828282829,0.29292929292929293,0.30303030303030304,0.31313131313131315,0.32323232323232326,0.33333333333333337,0.3434343434343435,0.3535353535353536,0.36363636363636365,0.37373737373737376,0.38383838383838387,0.393939393939394,0.4040404040404041,0.4141414141414142,0.42424242424242425,0.43434343434343436,0.4444444444444445,0.4545454545454546,0.4646464646464647,0.4747474747474748,0.48484848484848486,0.494949494949495,0.5050505050505051,0.5151515151515152,0.5252525252525253,0.5353535353535354,0.5454545454545455,0.5555555555555556,0.5656565656565657,0.5757575757575758,0.5858585858585859,0.595959595959596,0.6060606060606061,0.6161616161616162,0.6262626262626263,0.6363636363636365,0.6464646464646465,0.6565656565656566,0.6666666666666667,0.6767676767676768,0.686868686868687,0.696969696969697,0.7070707070707072,0.7171717171717172,0.7272727272727273,0.7373737373737375,0.7474747474747475,0.7575757575757577,0.7676767676767677,0.7777777777777778,0.787878787878788,0.797979797979798,0.8080808080808082,0.8181818181818182,0.8282828282828284,0.8383838383838385,0.8484848484848485,0.8585858585858587,0.8686868686868687,0.8787878787878789,0.888888888888889,0.8989898989898991,0.9090909090909092,0.9191919191919192,0.9292929292929294,0.9393939393939394,0.9494949494949496,0.9595959595959597,0.9696969696969697,0.9797979797979799,0.98989898989899,1.0],\"y\":[-0.10746787915009527,0.7326006005337092,-1.5551618547353796,-1.2983918065777174,-1.2104912054970114,0.1090380176500802,-0.019134221761772693,-0.08985070030220475,-0.2030255725647647,0.6173980112101092,0.40801215182885525,2.3158499778176194,-1.682563729760158,0.487531178780129,-0.4731043834162607,-0.003645057166354224,1.5679044729910396,0.8754962843949564,0.258513446370275,1.3101520053860762,-0.6160295341258553,0.03245242938734128,-0.5160498642093778,-0.846289007907586,0.15495514213903794,1.1483719276685778,0.8354929024014373,0.5782039948370292,-1.1009751079483632,-0.7086028440439899,0.18633945911653993,-0.3648306114470525,-0.5524317642484677,-0.8247854662354629,0.4106593861053537,-0.04266492399657937,1.869212180575601,-0.31719823704091804,-0.45280637601008134,0.5385595479274722,0.19554793721234667,-1.9025998805506124,0.5648537462586312,1.551472391596402,-0.03785175646020838,1.0402084737807282,0.0379227763091173,0.19007334658808522,-1.279519554216738,-0.708114060067566,-0.8700369430920674,1.9249650973343169,0.5626362360028848,-0.12619040703991882,-0.11931837204147609,-1.2025349209183072,-0.1752423888746722,1.053005805420672,0.7385178954420741,0.32176390481389966,-0.20583229166351735,0.45968203404293173,0.24203292934752527,0.30698026618298746,-1.2505775932458034,-0.5985935698335613,0.9636213175629024,1.6242103693729912,1.3958292026721557,-0.5955238198611709,-0.12236981828188406,-1.2572471183449938,0.5147132073308417,1.7686985685998293,0.5822626778498485,0.2287691499426742,-0.6840395689231722,0.7000403309946407,-0.4608941641600291,0.8042208547757737,1.8093320648777695,1.064759287242181,-2.4769601383888262,0.31056877107739483,-0.5365075835653865,0.6110445835139559,0.04248757286155425,0.06928129422645972,1.607740168188497,0.4022133771024544,-0.7200468903825252,0.20920825514051108,0.11054386694867287,-0.9567563860070843,-0.8642150899158352,1.1148014643255477,-0.012153644214208526,-0.39574707213489124,-1.0926791945307806,2.1569690384529494],\"type\":\"scatter\"},{\"mode\":\"lines\",\"name\":\"lines\",\"x\":[0.0,0.010101010101010102,0.020202020202020204,0.030303030303030304,0.04040404040404041,0.05050505050505051,0.06060606060606061,0.07070707070707072,0.08080808080808081,0.09090909090909091,0.10101010101010102,0.11111111111111112,0.12121212121212122,0.13131313131313133,0.14141414141414144,0.15151515151515152,0.16161616161616163,0.17171717171717174,0.18181818181818182,0.19191919191919193,0.20202020202020204,0.21212121212121213,0.22222222222222224,0.23232323232323235,0.24242424242424243,0.25252525252525254,0.26262626262626265,0.27272727272727276,0.2828282828282829,0.29292929292929293,0.30303030303030304,0.31313131313131315,0.32323232323232326,0.33333333333333337,0.3434343434343435,0.3535353535353536,0.36363636363636365,0.37373737373737376,0.38383838383838387,0.393939393939394,0.4040404040404041,0.4141414141414142,0.42424242424242425,0.43434343434343436,0.4444444444444445,0.4545454545454546,0.4646464646464647,0.4747474747474748,0.48484848484848486,0.494949494949495,0.5050505050505051,0.5151515151515152,0.5252525252525253,0.5353535353535354,0.5454545454545455,0.5555555555555556,0.5656565656565657,0.5757575757575758,0.5858585858585859,0.595959595959596,0.6060606060606061,0.6161616161616162,0.6262626262626263,0.6363636363636365,0.6464646464646465,0.6565656565656566,0.6666666666666667,0.6767676767676768,0.686868686868687,0.696969696969697,0.7070707070707072,0.7171717171717172,0.7272727272727273,0.7373737373737375,0.7474747474747475,0.7575757575757577,0.7676767676767677,0.7777777777777778,0.787878787878788,0.797979797979798,0.8080808080808082,0.8181818181818182,0.8282828282828284,0.8383838383838385,0.8484848484848485,0.8585858585858587,0.8686868686868687,0.8787878787878789,0.888888888888889,0.8989898989898991,0.9090909090909092,0.9191919191919192,0.9292929292929294,0.9393939393939394,0.9494949494949496,0.9595959595959597,0.9696969696969697,0.9797979797979799,0.98989898989899,1.0],\"y\":[-3.84615739178797,-4.915155748317554,-5.213645233816029,-4.570630839593123,-5.6818902872939105,-4.767215134499243,-6.843544658711991,-5.9994409631186425,-4.990123205284827,-5.518405975994983,-5.637322353678821,-4.992392147146787,-4.963737624384745,-5.430153144163015,-5.540542902788169,-5.086876796752251,-4.8698944916260265,-4.551808062449542,-4.483756890803411,-4.661098280554725,-4.0753164851281,-4.670287203360601,-5.536034102303685,-3.6728496933176134,-4.41149329486661,-4.677270106161841,-3.947322969493258,-7.342911101864827,-5.478143638165535,-6.02931038003555,-2.5785175825791975,-5.361843603917079,-5.1390788467075295,-5.7737765454948615,-5.584610215325398,-3.8747304786684262,-5.3349583587619405,-5.819698993653796,-4.690773775624777,-7.4688589096652125,-4.644152521463835,-4.854840768411847,-4.673465688707125,-5.73106446755478,-6.147083584713796,-5.442444300907372,-6.109956747359501,-4.13665959263785,-3.9621582018569024,-5.83586951989486,-4.8893706450111285,-3.9922858971893564,-6.174690337421017,-3.804582622840347,-5.134092542067934,-5.046668101265698,-5.311933701464517,-5.404499721501141,-3.8055782777345857,-4.300815617774346,-4.707761980270021,-3.12375982823991,-5.834246934135499,-6.08267984243449,-4.108474858839077,-5.49113303892882,-4.452173895447574,-4.6158089474617725,-4.778561486325254,-3.198599191636286,-3.7661732308141014,-6.738742665346747,-4.218223438355802,-4.875667918120171,-5.8990695065985586,-3.9218518431966833,-5.553770216641388,-3.9998940159545966,-5.423771361409065,-3.816859996436798,-4.76143482248177,-6.281010105794294,-7.0646190268200595,-6.1136558956679,-4.3597865882825335,-3.1921440162240087,-5.053740336943464,-4.7971768020388375,-6.209969552377824,-5.805141381478705,-4.989471002120742,-3.4217177693231013,-6.201695321182074,-4.844430125023118,-4.838894574704846,-4.161377919744693,-4.754651658774526,-4.786859424480516,-5.317200224778145,-3.574358088701605],\"type\":\"scatter\"}],                        {\"template\":{\"data\":{\"bar\":[{\"error_x\":{\"color\":\"#2a3f5f\"},\"error_y\":{\"color\":\"#2a3f5f\"},\"marker\":{\"line\":{\"color\":\"#E5ECF6\",\"width\":0.5},\"pattern\":{\"fillmode\":\"overlay\",\"size\":10,\"solidity\":0.2}},\"type\":\"bar\"}],\"barpolar\":[{\"marker\":{\"line\":{\"color\":\"#E5ECF6\",\"width\":0.5},\"pattern\":{\"fillmode\":\"overlay\",\"size\":10,\"solidity\":0.2}},\"type\":\"barpolar\"}],\"carpet\":[{\"aaxis\":{\"endlinecolor\":\"#2a3f5f\",\"gridcolor\":\"white\",\"linecolor\":\"white\",\"minorgridcolor\":\"white\",\"startlinecolor\":\"#2a3f5f\"},\"baxis\":{\"endlinecolor\":\"#2a3f5f\",\"gridcolor\":\"white\",\"linecolor\":\"white\",\"minorgridcolor\":\"white\",\"startlinecolor\":\"#2a3f5f\"},\"type\":\"carpet\"}],\"choropleth\":[{\"colorbar\":{\"outlinewidth\":0,\"ticks\":\"\"},\"type\":\"choropleth\"}],\"contour\":[{\"colorbar\":{\"outlinewidth\":0,\"ticks\":\"\"},\"colorscale\":[[0.0,\"#0d0887\"],[0.1111111111111111,\"#46039f\"],[0.2222222222222222,\"#7201a8\"],[0.3333333333333333,\"#9c179e\"],[0.4444444444444444,\"#bd3786\"],[0.5555555555555556,\"#d8576b\"],[0.6666666666666666,\"#ed7953\"],[0.7777777777777778,\"#fb9f3a\"],[0.8888888888888888,\"#fdca26\"],[1.0,\"#f0f921\"]],\"type\":\"contour\"}],\"contourcarpet\":[{\"colorbar\":{\"outlinewidth\":0,\"ticks\":\"\"},\"type\":\"contourcarpet\"}],\"heatmap\":[{\"colorbar\":{\"outlinewidth\":0,\"ticks\":\"\"},\"colorscale\":[[0.0,\"#0d0887\"],[0.1111111111111111,\"#46039f\"],[0.2222222222222222,\"#7201a8\"],[0.3333333333333333,\"#9c179e\"],[0.4444444444444444,\"#bd3786\"],[0.5555555555555556,\"#d8576b\"],[0.6666666666666666,\"#ed7953\"],[0.7777777777777778,\"#fb9f3a\"],[0.8888888888888888,\"#fdca26\"],[1.0,\"#f0f921\"]],\"type\":\"heatmap\"}],\"heatmapgl\":[{\"colorbar\":{\"outlinewidth\":0,\"ticks\":\"\"},\"colorscale\":[[0.0,\"#0d0887\"],[0.1111111111111111,\"#46039f\"],[0.2222222222222222,\"#7201a8\"],[0.3333333333333333,\"#9c179e\"],[0.4444444444444444,\"#bd3786\"],[0.5555555555555556,\"#d8576b\"],[0.6666666666666666,\"#ed7953\"],[0.7777777777777778,\"#fb9f3a\"],[0.8888888888888888,\"#fdca26\"],[1.0,\"#f0f921\"]],\"type\":\"heatmapgl\"}],\"histogram\":[{\"marker\":{\"pattern\":{\"fillmode\":\"overlay\",\"size\":10,\"solidity\":0.2}},\"type\":\"histogram\"}],\"histogram2d\":[{\"colorbar\":{\"outlinewidth\":0,\"ticks\":\"\"},\"colorscale\":[[0.0,\"#0d0887\"],[0.1111111111111111,\"#46039f\"],[0.2222222222222222,\"#7201a8\"],[0.3333333333333333,\"#9c179e\"],[0.4444444444444444,\"#bd3786\"],[0.5555555555555556,\"#d8576b\"],[0.6666666666666666,\"#ed7953\"],[0.7777777777777778,\"#fb9f3a\"],[0.8888888888888888,\"#fdca26\"],[1.0,\"#f0f921\"]],\"type\":\"histogram2d\"}],\"histogram2dcontour\":[{\"colorbar\":{\"outlinewidth\":0,\"ticks\":\"\"},\"colorscale\":[[0.0,\"#0d0887\"],[0.1111111111111111,\"#46039f\"],[0.2222222222222222,\"#7201a8\"],[0.3333333333333333,\"#9c179e\"],[0.4444444444444444,\"#bd3786\"],[0.5555555555555556,\"#d8576b\"],[0.6666666666666666,\"#ed7953\"],[0.7777777777777778,\"#fb9f3a\"],[0.8888888888888888,\"#fdca26\"],[1.0,\"#f0f921\"]],\"type\":\"histogram2dcontour\"}],\"mesh3d\":[{\"colorbar\":{\"outlinewidth\":0,\"ticks\":\"\"},\"type\":\"mesh3d\"}],\"parcoords\":[{\"line\":{\"colorbar\":{\"outlinewidth\":0,\"ticks\":\"\"}},\"type\":\"parcoords\"}],\"pie\":[{\"automargin\":true,\"type\":\"pie\"}],\"scatter\":[{\"marker\":{\"colorbar\":{\"outlinewidth\":0,\"ticks\":\"\"}},\"type\":\"scatter\"}],\"scatter3d\":[{\"line\":{\"colorbar\":{\"outlinewidth\":0,\"ticks\":\"\"}},\"marker\":{\"colorbar\":{\"outlinewidth\":0,\"ticks\":\"\"}},\"type\":\"scatter3d\"}],\"scattercarpet\":[{\"marker\":{\"colorbar\":{\"outlinewidth\":0,\"ticks\":\"\"}},\"type\":\"scattercarpet\"}],\"scattergeo\":[{\"marker\":{\"colorbar\":{\"outlinewidth\":0,\"ticks\":\"\"}},\"type\":\"scattergeo\"}],\"scattergl\":[{\"marker\":{\"colorbar\":{\"outlinewidth\":0,\"ticks\":\"\"}},\"type\":\"scattergl\"}],\"scattermapbox\":[{\"marker\":{\"colorbar\":{\"outlinewidth\":0,\"ticks\":\"\"}},\"type\":\"scattermapbox\"}],\"scatterpolar\":[{\"marker\":{\"colorbar\":{\"outlinewidth\":0,\"ticks\":\"\"}},\"type\":\"scatterpolar\"}],\"scatterpolargl\":[{\"marker\":{\"colorbar\":{\"outlinewidth\":0,\"ticks\":\"\"}},\"type\":\"scatterpolargl\"}],\"scatterternary\":[{\"marker\":{\"colorbar\":{\"outlinewidth\":0,\"ticks\":\"\"}},\"type\":\"scatterternary\"}],\"surface\":[{\"colorbar\":{\"outlinewidth\":0,\"ticks\":\"\"},\"colorscale\":[[0.0,\"#0d0887\"],[0.1111111111111111,\"#46039f\"],[0.2222222222222222,\"#7201a8\"],[0.3333333333333333,\"#9c179e\"],[0.4444444444444444,\"#bd3786\"],[0.5555555555555556,\"#d8576b\"],[0.6666666666666666,\"#ed7953\"],[0.7777777777777778,\"#fb9f3a\"],[0.8888888888888888,\"#fdca26\"],[1.0,\"#f0f921\"]],\"type\":\"surface\"}],\"table\":[{\"cells\":{\"fill\":{\"color\":\"#EBF0F8\"},\"line\":{\"color\":\"white\"}},\"header\":{\"fill\":{\"color\":\"#C8D4E3\"},\"line\":{\"color\":\"white\"}},\"type\":\"table\"}]},\"layout\":{\"annotationdefaults\":{\"arrowcolor\":\"#2a3f5f\",\"arrowhead\":0,\"arrowwidth\":1},\"autotypenumbers\":\"strict\",\"coloraxis\":{\"colorbar\":{\"outlinewidth\":0,\"ticks\":\"\"}},\"colorscale\":{\"diverging\":[[0,\"#8e0152\"],[0.1,\"#c51b7d\"],[0.2,\"#de77ae\"],[0.3,\"#f1b6da\"],[0.4,\"#fde0ef\"],[0.5,\"#f7f7f7\"],[0.6,\"#e6f5d0\"],[0.7,\"#b8e186\"],[0.8,\"#7fbc41\"],[0.9,\"#4d9221\"],[1,\"#276419\"]],\"sequential\":[[0.0,\"#0d0887\"],[0.1111111111111111,\"#46039f\"],[0.2222222222222222,\"#7201a8\"],[0.3333333333333333,\"#9c179e\"],[0.4444444444444444,\"#bd3786\"],[0.5555555555555556,\"#d8576b\"],[0.6666666666666666,\"#ed7953\"],[0.7777777777777778,\"#fb9f3a\"],[0.8888888888888888,\"#fdca26\"],[1.0,\"#f0f921\"]],\"sequentialminus\":[[0.0,\"#0d0887\"],[0.1111111111111111,\"#46039f\"],[0.2222222222222222,\"#7201a8\"],[0.3333333333333333,\"#9c179e\"],[0.4444444444444444,\"#bd3786\"],[0.5555555555555556,\"#d8576b\"],[0.6666666666666666,\"#ed7953\"],[0.7777777777777778,\"#fb9f3a\"],[0.8888888888888888,\"#fdca26\"],[1.0,\"#f0f921\"]]},\"colorway\":[\"#636efa\",\"#EF553B\",\"#00cc96\",\"#ab63fa\",\"#FFA15A\",\"#19d3f3\",\"#FF6692\",\"#B6E880\",\"#FF97FF\",\"#FECB52\"],\"font\":{\"color\":\"#2a3f5f\"},\"geo\":{\"bgcolor\":\"white\",\"lakecolor\":\"white\",\"landcolor\":\"#E5ECF6\",\"showlakes\":true,\"showland\":true,\"subunitcolor\":\"white\"},\"hoverlabel\":{\"align\":\"left\"},\"hovermode\":\"closest\",\"mapbox\":{\"style\":\"light\"},\"paper_bgcolor\":\"white\",\"plot_bgcolor\":\"#E5ECF6\",\"polar\":{\"angularaxis\":{\"gridcolor\":\"white\",\"linecolor\":\"white\",\"ticks\":\"\"},\"bgcolor\":\"#E5ECF6\",\"radialaxis\":{\"gridcolor\":\"white\",\"linecolor\":\"white\",\"ticks\":\"\"}},\"scene\":{\"xaxis\":{\"backgroundcolor\":\"#E5ECF6\",\"gridcolor\":\"white\",\"gridwidth\":2,\"linecolor\":\"white\",\"showbackground\":true,\"ticks\":\"\",\"zerolinecolor\":\"white\"},\"yaxis\":{\"backgroundcolor\":\"#E5ECF6\",\"gridcolor\":\"white\",\"gridwidth\":2,\"linecolor\":\"white\",\"showbackground\":true,\"ticks\":\"\",\"zerolinecolor\":\"white\"},\"zaxis\":{\"backgroundcolor\":\"#E5ECF6\",\"gridcolor\":\"white\",\"gridwidth\":2,\"linecolor\":\"white\",\"showbackground\":true,\"ticks\":\"\",\"zerolinecolor\":\"white\"}},\"shapedefaults\":{\"line\":{\"color\":\"#2a3f5f\"}},\"ternary\":{\"aaxis\":{\"gridcolor\":\"white\",\"linecolor\":\"white\",\"ticks\":\"\"},\"baxis\":{\"gridcolor\":\"white\",\"linecolor\":\"white\",\"ticks\":\"\"},\"bgcolor\":\"#E5ECF6\",\"caxis\":{\"gridcolor\":\"white\",\"linecolor\":\"white\",\"ticks\":\"\"}},\"title\":{\"x\":0.05},\"xaxis\":{\"automargin\":true,\"gridcolor\":\"white\",\"linecolor\":\"white\",\"ticks\":\"\",\"title\":{\"standoff\":15},\"zerolinecolor\":\"white\",\"zerolinewidth\":2},\"yaxis\":{\"automargin\":true,\"gridcolor\":\"white\",\"linecolor\":\"white\",\"ticks\":\"\",\"title\":{\"standoff\":15},\"zerolinecolor\":\"white\",\"zerolinewidth\":2}}}},                        {\"responsive\": true}                    ).then(function(){\n",
              "                            \n",
              "var gd = document.getElementById('85485f02-d95d-473c-b821-a5392c07df74');\n",
              "var x = new MutationObserver(function (mutations, observer) {{\n",
              "        var display = window.getComputedStyle(gd).display;\n",
              "        if (!display || display === 'none') {{\n",
              "            console.log([gd, 'removed!']);\n",
              "            Plotly.purge(gd);\n",
              "            observer.disconnect();\n",
              "        }}\n",
              "}});\n",
              "\n",
              "// Listen for the removal of the full notebook cells\n",
              "var notebookContainer = gd.closest('#notebook-container');\n",
              "if (notebookContainer) {{\n",
              "    x.observe(notebookContainer, {childList: true});\n",
              "}}\n",
              "\n",
              "// Listen for the clearing of the current output cell\n",
              "var outputEl = gd.closest('.output');\n",
              "if (outputEl) {{\n",
              "    x.observe(outputEl, {childList: true});\n",
              "}}\n",
              "\n",
              "                        })                };                            </script>        </div>\n",
              "</body>\n",
              "</html>"
            ]
          },
          "metadata": {}
        }
      ]
    },
    {
      "cell_type": "markdown",
      "metadata": {
        "id": "XpR-QUKU3OPj"
      },
      "source": [
        "### 시계열(Time Series)"
      ]
    },
    {
      "cell_type": "markdown",
      "metadata": {
        "id": "l9JUjEDDXsfM"
      },
      "source": [
        "* https://raw.githubusercontent.com/plotly/datasets/master/finance-charts-apple.csv"
      ]
    },
    {
      "cell_type": "code",
      "metadata": {
        "id": "l3Euw0283Yhh"
      },
      "source": [
        "aapl = pd.read.csv()"
      ],
      "execution_count": null,
      "outputs": []
    },
    {
      "cell_type": "code",
      "metadata": {
        "id": "tT9zGN4w3SEf"
      },
      "source": [
        ""
      ],
      "execution_count": null,
      "outputs": []
    },
    {
      "cell_type": "code",
      "metadata": {
        "id": "mYvWgY8x3rZp"
      },
      "source": [
        ""
      ],
      "execution_count": null,
      "outputs": []
    },
    {
      "cell_type": "code",
      "metadata": {
        "id": "drZvcKJp4PnS"
      },
      "source": [
        ""
      ],
      "execution_count": null,
      "outputs": []
    },
    {
      "cell_type": "code",
      "metadata": {
        "id": "839W0DZ44kMM"
      },
      "source": [
        ""
      ],
      "execution_count": null,
      "outputs": []
    },
    {
      "cell_type": "code",
      "metadata": {
        "id": "XC3JlA8H-BBD"
      },
      "source": [
        ""
      ],
      "execution_count": null,
      "outputs": []
    },
    {
      "cell_type": "markdown",
      "metadata": {
        "id": "9j0mM-TosowU"
      },
      "source": [
        "### 면적도(Area Plots)"
      ]
    },
    {
      "cell_type": "code",
      "metadata": {
        "id": "UXn1FBxkstSj"
      },
      "source": [
        ""
      ],
      "execution_count": null,
      "outputs": []
    },
    {
      "cell_type": "code",
      "metadata": {
        "id": "1xqz62BhtKIz"
      },
      "source": [
        ""
      ],
      "execution_count": null,
      "outputs": []
    },
    {
      "cell_type": "code",
      "metadata": {
        "id": "kGGJwklOt3QM"
      },
      "source": [
        ""
      ],
      "execution_count": null,
      "outputs": []
    },
    {
      "cell_type": "code",
      "metadata": {
        "id": "MLf_hR39uN9y"
      },
      "source": [
        ""
      ],
      "execution_count": null,
      "outputs": []
    },
    {
      "cell_type": "code",
      "metadata": {
        "id": "pQTcXksN0Xim"
      },
      "source": [
        ""
      ],
      "execution_count": null,
      "outputs": []
    },
    {
      "cell_type": "code",
      "metadata": {
        "id": "qrsgi9bM1U74"
      },
      "source": [
        ""
      ],
      "execution_count": null,
      "outputs": []
    },
    {
      "cell_type": "markdown",
      "metadata": {
        "id": "lLIIv-Zv460g"
      },
      "source": [
        "### 막대 차트(Bar Charts)"
      ]
    },
    {
      "cell_type": "code",
      "metadata": {
        "id": "loZiR2Kr49RW"
      },
      "source": [
        ""
      ],
      "execution_count": null,
      "outputs": []
    },
    {
      "cell_type": "code",
      "metadata": {
        "id": "aCfaxV2y5kDJ"
      },
      "source": [
        ""
      ],
      "execution_count": null,
      "outputs": []
    },
    {
      "cell_type": "code",
      "metadata": {
        "id": "MH_diV5V539r"
      },
      "source": [
        ""
      ],
      "execution_count": null,
      "outputs": []
    },
    {
      "cell_type": "code",
      "metadata": {
        "id": "EN-XEYBT6K1B"
      },
      "source": [
        ""
      ],
      "execution_count": null,
      "outputs": []
    },
    {
      "cell_type": "code",
      "metadata": {
        "id": "ECkfspJb6ejZ"
      },
      "source": [
        ""
      ],
      "execution_count": null,
      "outputs": []
    },
    {
      "cell_type": "code",
      "metadata": {
        "id": "o1Hhx6fS6odL"
      },
      "source": [
        ""
      ],
      "execution_count": null,
      "outputs": []
    },
    {
      "cell_type": "code",
      "metadata": {
        "id": "FoLhSmsE2c0L"
      },
      "source": [
        ""
      ],
      "execution_count": null,
      "outputs": []
    },
    {
      "cell_type": "code",
      "metadata": {
        "id": "Tu-E0nuA24Bq"
      },
      "source": [
        ""
      ],
      "execution_count": null,
      "outputs": []
    },
    {
      "cell_type": "code",
      "metadata": {
        "id": "Z89WTDfb73Xs"
      },
      "source": [
        ""
      ],
      "execution_count": null,
      "outputs": []
    },
    {
      "cell_type": "code",
      "metadata": {
        "id": "0agUUHHaL3c0"
      },
      "source": [
        ""
      ],
      "execution_count": null,
      "outputs": []
    },
    {
      "cell_type": "code",
      "metadata": {
        "id": "tXWYADXSOoeP"
      },
      "source": [
        ""
      ],
      "execution_count": null,
      "outputs": []
    },
    {
      "cell_type": "code",
      "metadata": {
        "id": "7mYRO-nuQAjs"
      },
      "source": [
        ""
      ],
      "execution_count": null,
      "outputs": []
    },
    {
      "cell_type": "code",
      "metadata": {
        "id": "oec-uJhXR7ml"
      },
      "source": [
        ""
      ],
      "execution_count": null,
      "outputs": []
    },
    {
      "cell_type": "code",
      "metadata": {
        "id": "pUGJbttgQzLC"
      },
      "source": [
        ""
      ],
      "execution_count": null,
      "outputs": []
    },
    {
      "cell_type": "code",
      "metadata": {
        "id": "iY9ONoY8RkQc"
      },
      "source": [
        ""
      ],
      "execution_count": null,
      "outputs": []
    },
    {
      "cell_type": "code",
      "metadata": {
        "id": "umnj5LiZRbwx"
      },
      "source": [
        ""
      ],
      "execution_count": null,
      "outputs": []
    },
    {
      "cell_type": "code",
      "metadata": {
        "id": "HXzHq7lqXvTx"
      },
      "source": [
        ""
      ],
      "execution_count": null,
      "outputs": []
    },
    {
      "cell_type": "code",
      "metadata": {
        "id": "qjjGkwPvY14R"
      },
      "source": [
        ""
      ],
      "execution_count": null,
      "outputs": []
    },
    {
      "cell_type": "code",
      "metadata": {
        "id": "UwvXSFYMZeLv"
      },
      "source": [
        ""
      ],
      "execution_count": null,
      "outputs": []
    },
    {
      "cell_type": "code",
      "metadata": {
        "id": "HZe020w2aRwk"
      },
      "source": [
        ""
      ],
      "execution_count": null,
      "outputs": []
    },
    {
      "cell_type": "code",
      "metadata": {
        "id": "MFz8Z_4GapdP"
      },
      "source": [
        ""
      ],
      "execution_count": null,
      "outputs": []
    },
    {
      "cell_type": "code",
      "metadata": {
        "id": "BTq0mmgP89Dd"
      },
      "source": [
        ""
      ],
      "execution_count": null,
      "outputs": []
    },
    {
      "cell_type": "markdown",
      "metadata": {
        "id": "kXKPENhac4bO"
      },
      "source": [
        "### 박스 플롯(Box Plots)"
      ]
    },
    {
      "cell_type": "code",
      "metadata": {
        "id": "VOL3nib8c36U"
      },
      "source": [
        ""
      ],
      "execution_count": null,
      "outputs": []
    },
    {
      "cell_type": "code",
      "metadata": {
        "id": "X3ibDI25dUwf"
      },
      "source": [
        ""
      ],
      "execution_count": null,
      "outputs": []
    },
    {
      "cell_type": "code",
      "metadata": {
        "id": "mU8s39asddXL"
      },
      "source": [
        ""
      ],
      "execution_count": null,
      "outputs": []
    },
    {
      "cell_type": "code",
      "metadata": {
        "id": "2oEzCZEXd0xR"
      },
      "source": [
        ""
      ],
      "execution_count": null,
      "outputs": []
    },
    {
      "cell_type": "code",
      "metadata": {
        "id": "BQqk-EByh_Pc"
      },
      "source": [
        ""
      ],
      "execution_count": null,
      "outputs": []
    },
    {
      "cell_type": "code",
      "metadata": {
        "id": "tT6qMxW8iXTh"
      },
      "source": [
        ""
      ],
      "execution_count": null,
      "outputs": []
    },
    {
      "cell_type": "code",
      "metadata": {
        "id": "Q-e-NWnjjgge"
      },
      "source": [
        ""
      ],
      "execution_count": null,
      "outputs": []
    },
    {
      "cell_type": "markdown",
      "metadata": {
        "id": "eD8alkFSXUcc"
      },
      "source": [
        "### 바이올린 플롯(Violin Plot)"
      ]
    },
    {
      "cell_type": "code",
      "metadata": {
        "id": "RWBdDaYiXYNX"
      },
      "source": [
        ""
      ],
      "execution_count": null,
      "outputs": []
    },
    {
      "cell_type": "code",
      "metadata": {
        "id": "R1XLYBQIXuce"
      },
      "source": [
        ""
      ],
      "execution_count": null,
      "outputs": []
    },
    {
      "cell_type": "code",
      "metadata": {
        "id": "WqguyZUaYIc6"
      },
      "source": [
        ""
      ],
      "execution_count": null,
      "outputs": []
    },
    {
      "cell_type": "markdown",
      "metadata": {
        "id": "e5GltQF9tfri"
      },
      "source": [
        "### 히스토그램(Histogram)"
      ]
    },
    {
      "cell_type": "code",
      "metadata": {
        "id": "TboRMaZftk8V"
      },
      "source": [
        ""
      ],
      "execution_count": null,
      "outputs": []
    },
    {
      "cell_type": "code",
      "metadata": {
        "id": "SqwBUHXZ5-HX"
      },
      "source": [
        ""
      ],
      "execution_count": null,
      "outputs": []
    },
    {
      "cell_type": "code",
      "metadata": {
        "id": "QiCmAIX16DNX"
      },
      "source": [
        ""
      ],
      "execution_count": null,
      "outputs": []
    },
    {
      "cell_type": "code",
      "metadata": {
        "id": "YM84WpotcSal"
      },
      "source": [
        ""
      ],
      "execution_count": null,
      "outputs": []
    },
    {
      "cell_type": "code",
      "metadata": {
        "id": "akyBDUO3dIT8"
      },
      "source": [
        ""
      ],
      "execution_count": null,
      "outputs": []
    },
    {
      "cell_type": "code",
      "metadata": {
        "id": "6zHqam7Vd0RN"
      },
      "source": [
        ""
      ],
      "execution_count": null,
      "outputs": []
    },
    {
      "cell_type": "code",
      "metadata": {
        "id": "KpmbnWMKwMD_"
      },
      "source": [
        ""
      ],
      "execution_count": null,
      "outputs": []
    },
    {
      "cell_type": "code",
      "metadata": {
        "id": "MxXBqx3tflsp"
      },
      "source": [
        ""
      ],
      "execution_count": null,
      "outputs": []
    },
    {
      "cell_type": "code",
      "metadata": {
        "id": "rZzUhB9BfzeY"
      },
      "source": [
        ""
      ],
      "execution_count": null,
      "outputs": []
    },
    {
      "cell_type": "code",
      "metadata": {
        "id": "9f16fJmWx0PE"
      },
      "source": [
        ""
      ],
      "execution_count": null,
      "outputs": []
    },
    {
      "cell_type": "code",
      "metadata": {
        "id": "eVPGWGRbzUin"
      },
      "source": [
        ""
      ],
      "execution_count": null,
      "outputs": []
    },
    {
      "cell_type": "code",
      "metadata": {
        "id": "J94xJ34B0gRS"
      },
      "source": [
        ""
      ],
      "execution_count": null,
      "outputs": []
    },
    {
      "cell_type": "code",
      "metadata": {
        "id": "0eqNyEWJ2E-s"
      },
      "source": [
        ""
      ],
      "execution_count": null,
      "outputs": []
    },
    {
      "cell_type": "code",
      "metadata": {
        "id": "3TjZ0Pru3pNX"
      },
      "source": [
        ""
      ],
      "execution_count": null,
      "outputs": []
    },
    {
      "cell_type": "markdown",
      "metadata": {
        "id": "quM662RHIfgD"
      },
      "source": [
        "### 분포도(Distribution Plot)"
      ]
    },
    {
      "cell_type": "code",
      "metadata": {
        "id": "c4hmuwhEInhh"
      },
      "source": [
        ""
      ],
      "execution_count": null,
      "outputs": []
    },
    {
      "cell_type": "code",
      "metadata": {
        "id": "86_vz0lDJCZO"
      },
      "source": [
        ""
      ],
      "execution_count": null,
      "outputs": []
    },
    {
      "cell_type": "code",
      "metadata": {
        "id": "tlLYyUpaecbp"
      },
      "source": [
        ""
      ],
      "execution_count": null,
      "outputs": []
    },
    {
      "cell_type": "code",
      "metadata": {
        "id": "zc4w2MnRfGM3"
      },
      "source": [
        ""
      ],
      "execution_count": null,
      "outputs": []
    },
    {
      "cell_type": "markdown",
      "metadata": {
        "id": "a7d7W4Y35xDj"
      },
      "source": [
        "### 히트맵(Heatmaps)"
      ]
    },
    {
      "cell_type": "code",
      "metadata": {
        "id": "42s3Rlx5AP_c"
      },
      "source": [
        ""
      ],
      "execution_count": null,
      "outputs": []
    },
    {
      "cell_type": "code",
      "metadata": {
        "id": "JGhv4o1p9H73"
      },
      "source": [
        ""
      ],
      "execution_count": null,
      "outputs": []
    },
    {
      "cell_type": "code",
      "metadata": {
        "id": "M711ErsTn1xk"
      },
      "source": [
        ""
      ],
      "execution_count": null,
      "outputs": []
    },
    {
      "cell_type": "code",
      "metadata": {
        "id": "HbwCDt605wmx"
      },
      "source": [
        ""
      ],
      "execution_count": null,
      "outputs": []
    },
    {
      "cell_type": "code",
      "metadata": {
        "id": "S1qi2CngAskF"
      },
      "source": [
        ""
      ],
      "execution_count": null,
      "outputs": []
    },
    {
      "cell_type": "code",
      "metadata": {
        "id": "X0G1XwYnBBk6"
      },
      "source": [
        ""
      ],
      "execution_count": null,
      "outputs": []
    },
    {
      "cell_type": "code",
      "metadata": {
        "id": "xs3ZrYTtBl9p"
      },
      "source": [
        ""
      ],
      "execution_count": null,
      "outputs": []
    },
    {
      "cell_type": "code",
      "metadata": {
        "id": "9gl-pypyEJtz"
      },
      "source": [
        ""
      ],
      "execution_count": null,
      "outputs": []
    },
    {
      "cell_type": "code",
      "metadata": {
        "id": "nznWj_MSequ9"
      },
      "source": [
        ""
      ],
      "execution_count": null,
      "outputs": []
    },
    {
      "cell_type": "markdown",
      "metadata": {
        "id": "kw1K9IG2TCl0"
      },
      "source": [
        "### 파이 차트(Pie Charts)"
      ]
    },
    {
      "cell_type": "code",
      "metadata": {
        "id": "eU29bfF7TOtr"
      },
      "source": [
        ""
      ],
      "execution_count": null,
      "outputs": []
    },
    {
      "cell_type": "code",
      "metadata": {
        "id": "aq83PCMdYeZ9"
      },
      "source": [
        ""
      ],
      "execution_count": null,
      "outputs": []
    },
    {
      "cell_type": "code",
      "metadata": {
        "id": "EXS964-WTiIa"
      },
      "source": [
        ""
      ],
      "execution_count": null,
      "outputs": []
    },
    {
      "cell_type": "code",
      "metadata": {
        "id": "Gou4LuPnnb47"
      },
      "source": [
        ""
      ],
      "execution_count": null,
      "outputs": []
    },
    {
      "cell_type": "code",
      "metadata": {
        "id": "6YFDwvyVYzZ3"
      },
      "source": [
        ""
      ],
      "execution_count": null,
      "outputs": []
    },
    {
      "cell_type": "markdown",
      "metadata": {
        "id": "eZVow-EspFbV"
      },
      "source": [
        "### Sunburst Chart"
      ]
    },
    {
      "cell_type": "code",
      "metadata": {
        "id": "Ztu1cfHDpL2H"
      },
      "source": [
        ""
      ],
      "execution_count": null,
      "outputs": []
    },
    {
      "cell_type": "markdown",
      "metadata": {
        "id": "eR1AtXNLtwW8"
      },
      "source": [
        "### 폴라 차트(Polar Charts)"
      ]
    },
    {
      "cell_type": "code",
      "metadata": {
        "id": "sad1L4-Ft7zM"
      },
      "source": [
        ""
      ],
      "execution_count": null,
      "outputs": []
    },
    {
      "cell_type": "code",
      "metadata": {
        "id": "mNxrWWiTt4Pu"
      },
      "source": [
        ""
      ],
      "execution_count": null,
      "outputs": []
    },
    {
      "cell_type": "code",
      "metadata": {
        "id": "wh8vqw9AuUQs"
      },
      "source": [
        ""
      ],
      "execution_count": null,
      "outputs": []
    },
    {
      "cell_type": "code",
      "metadata": {
        "id": "mUQd18TjvAEU"
      },
      "source": [
        ""
      ],
      "execution_count": null,
      "outputs": []
    },
    {
      "cell_type": "code",
      "metadata": {
        "id": "wiB-da59yyKN"
      },
      "source": [
        ""
      ],
      "execution_count": null,
      "outputs": []
    },
    {
      "cell_type": "markdown",
      "metadata": {
        "id": "izx0hbosTHqs"
      },
      "source": [
        "### 병렬 다이어그램(Parallel Diagram)"
      ]
    },
    {
      "cell_type": "code",
      "metadata": {
        "id": "TlW7HnS9TNEQ"
      },
      "source": [
        ""
      ],
      "execution_count": null,
      "outputs": []
    },
    {
      "cell_type": "code",
      "metadata": {
        "id": "XwJazh-8TVRU"
      },
      "source": [
        ""
      ],
      "execution_count": null,
      "outputs": []
    },
    {
      "cell_type": "code",
      "metadata": {
        "id": "TjX9dT-aqubT"
      },
      "source": [
        ""
      ],
      "execution_count": null,
      "outputs": []
    },
    {
      "cell_type": "markdown",
      "metadata": {
        "id": "rBj79eWLk_H7"
      },
      "source": [
        "### 덴드로그램(Dendrograms)"
      ]
    },
    {
      "cell_type": "code",
      "metadata": {
        "id": "0ptsKmOFlCOd"
      },
      "source": [
        ""
      ],
      "execution_count": null,
      "outputs": []
    },
    {
      "cell_type": "code",
      "metadata": {
        "id": "80zn0cQkmEZh"
      },
      "source": [
        ""
      ],
      "execution_count": null,
      "outputs": []
    },
    {
      "cell_type": "markdown",
      "metadata": {
        "id": "yCukZI9NRZFL"
      },
      "source": [
        "### 맵(Maps)"
      ]
    },
    {
      "cell_type": "code",
      "metadata": {
        "id": "5uBo-5U9_rUP"
      },
      "source": [
        ""
      ],
      "execution_count": null,
      "outputs": []
    },
    {
      "cell_type": "code",
      "metadata": {
        "id": "IwsGVULs_otQ"
      },
      "source": [
        ""
      ],
      "execution_count": null,
      "outputs": []
    },
    {
      "cell_type": "markdown",
      "metadata": {
        "id": "kBhfSiEbXjes"
      },
      "source": [
        "* https://raw.githubusercontent.com/plotly/datasets/master/geojson-counties-fips.json"
      ]
    },
    {
      "cell_type": "code",
      "metadata": {
        "id": "2sqYzHWLRbj5"
      },
      "source": [
        ""
      ],
      "execution_count": null,
      "outputs": []
    },
    {
      "cell_type": "markdown",
      "metadata": {
        "id": "fbINt-05Xxy6"
      },
      "source": [
        "* https://raw.githubusercontent.com/plotly/datasets/master/fips-unemp-16.csv"
      ]
    },
    {
      "cell_type": "code",
      "metadata": {
        "id": "cNzSss52Si-o"
      },
      "source": [
        ""
      ],
      "execution_count": null,
      "outputs": []
    },
    {
      "cell_type": "code",
      "metadata": {
        "id": "-0Q3i1n-TmFB"
      },
      "source": [
        ""
      ],
      "execution_count": null,
      "outputs": []
    },
    {
      "cell_type": "markdown",
      "metadata": {
        "id": "4aldO8lKX2ZG"
      },
      "source": [
        "* https://raw.githubusercontent.com/plotly/datasets/master/us-cities-top-1k.csv"
      ]
    },
    {
      "cell_type": "code",
      "metadata": {
        "id": "Cd9iHO8DVXce"
      },
      "source": [
        ""
      ],
      "execution_count": null,
      "outputs": []
    },
    {
      "cell_type": "code",
      "metadata": {
        "id": "KFzrRRpHY6eD"
      },
      "source": [
        ""
      ],
      "execution_count": null,
      "outputs": []
    },
    {
      "cell_type": "code",
      "metadata": {
        "id": "52K5JI1nzptB"
      },
      "source": [
        ""
      ],
      "execution_count": null,
      "outputs": []
    },
    {
      "cell_type": "code",
      "metadata": {
        "id": "YAyOaaMLpziv"
      },
      "source": [
        ""
      ],
      "execution_count": null,
      "outputs": []
    },
    {
      "cell_type": "code",
      "metadata": {
        "id": "-RM_513yz5CC"
      },
      "source": [
        ""
      ],
      "execution_count": null,
      "outputs": []
    },
    {
      "cell_type": "code",
      "metadata": {
        "id": "wDlLZXK2mwka"
      },
      "source": [
        ""
      ],
      "execution_count": null,
      "outputs": []
    },
    {
      "cell_type": "code",
      "metadata": {
        "id": "1zCiCmrBqrcj"
      },
      "source": [
        ""
      ],
      "execution_count": null,
      "outputs": []
    },
    {
      "cell_type": "code",
      "metadata": {
        "id": "53jqre_G919h"
      },
      "source": [
        ""
      ],
      "execution_count": null,
      "outputs": []
    },
    {
      "cell_type": "markdown",
      "metadata": {
        "id": "oTW1Z6tZWbm4"
      },
      "source": [
        "* https://raw.githubusercontent.com/plotly/datasets/master/2014_world_gdp_with_codes.csv"
      ]
    },
    {
      "cell_type": "code",
      "metadata": {
        "id": "jC7v3aiussIR"
      },
      "source": [
        ""
      ],
      "execution_count": null,
      "outputs": []
    },
    {
      "cell_type": "code",
      "metadata": {
        "id": "2AlJI4uMs3_H"
      },
      "source": [
        ""
      ],
      "execution_count": null,
      "outputs": []
    },
    {
      "cell_type": "markdown",
      "metadata": {
        "id": "DDiHPjneotAZ"
      },
      "source": [
        "* https://raw.githubusercontent.com/plotly/datasets/master/earthquakes-23k.csv"
      ]
    },
    {
      "cell_type": "code",
      "metadata": {
        "id": "bD2qc42rogz9"
      },
      "source": [
        ""
      ],
      "execution_count": null,
      "outputs": []
    },
    {
      "cell_type": "code",
      "metadata": {
        "id": "lK4A5O1-oygz"
      },
      "source": [
        ""
      ],
      "execution_count": null,
      "outputs": []
    },
    {
      "cell_type": "markdown",
      "metadata": {
        "id": "7_e0rMBX1_K8"
      },
      "source": [
        "### 3D 차트(3D Charts)"
      ]
    },
    {
      "cell_type": "code",
      "metadata": {
        "id": "sOWMncu_6Hvc"
      },
      "source": [
        ""
      ],
      "execution_count": null,
      "outputs": []
    },
    {
      "cell_type": "code",
      "metadata": {
        "id": "OzJ7LSwZ3E9v"
      },
      "source": [
        ""
      ],
      "execution_count": null,
      "outputs": []
    },
    {
      "cell_type": "code",
      "metadata": {
        "id": "N9MFG0Pu2C0w"
      },
      "source": [
        ""
      ],
      "execution_count": null,
      "outputs": []
    },
    {
      "cell_type": "markdown",
      "metadata": {
        "id": "ZXpo55RGqNde"
      },
      "source": [
        "### 기타 차트\n",
        "\n",
        "* 간트 차트(Gantt Charts): https://plotly.com/python/gantt/\n",
        "* 테이블(Tables): https://plotly.com/python/table/\n",
        "* 생키 다이어그램(Sankey Diagram): https://plotly.com/python/sankey-diagram/\n",
        "* 트리맵(Treemap): https://plotly.com/python/treemaps/\n",
        "* 트리플롯(Tree-plots): https://plotly.com/python/tree-plots/\n",
        "* 3차 플롯(Ternary Plots): https://plotly.com/python/ternary-plots/\n",
        "* 3차 오버레이(Ternary Overlay): https://plotly.com/python/ternary-scatter-contour/\n",
        "* 3차 등고선(Ternary Contours): https://plotly.com/python/ternary-contour/\n",
        "* 이미지쇼(Image Show): https://plotly.com/python/imshow/\n",
        "* Quiver Plots: https://plotly.com/python/quiver-plots/\n",
        "* 스트림라인 플롯(Streamline Plots): https://plotly.com/python/streamline-plots/\n",
        "* 카펫 플롯(Carpet Plots): https://plotly.com/python/carpet-plot/\n",
        "* 카펫 등고선(Carpet Contour Plot): https://plotly.com/python/carpet-contour/\n",
        "* 카펫 산점도(Carpet Scatter Plot): https://plotly.com/python/carpet-scatter/\n",
        "* 네트워크 그래프(Network Graphs): https://plotly.com/python/network-graphs/\n",
        "* 깔대기 차트(Funnel Chart): https://plotly.com/python/funnel-charts/\n",
        "* 등고선 플롯(Contour Plot): https://plotly.com/python/contour-plots/\n",
        "* 2D 히스토그램 등고선(2D Histogram Contour): https://plotly.com/python/2d-histogram-contour/\n",
        "* Trisurf Plots: https://plotly.com/python/trisurf/\n",
        "* 3D Mesh Plots: https://plotly.com/python/3d-mesh/\n",
        "* 3D Isosurface Plots: https://plotly.com/python/3d-isosurface-plots/\n",
        "* 3D Volume Plots: https://plotly.com/python/3d-volume-plots/\n",
        "* 3D Cone Plots: https://plotly.com/python/cone-plot/\n",
        "* 3D Streamtube Plots: https://plotly.com/python/streamtube-plot/\n",
        "* 3D Camera Controls: https://plotly.com/python/3d-camera-controls/"
      ]
    },
    {
      "cell_type": "markdown",
      "metadata": {
        "id": "rypYVixxSnSh"
      },
      "source": [
        "## Plotly 스타일"
      ]
    },
    {
      "cell_type": "markdown",
      "metadata": {
        "id": "CcAR8tFopgwE"
      },
      "source": [
        "### 데이터 레이블(Data Label)\n",
        "\n",
        "* https://raw.githubusercontent.com/plotly/datasets/master/2014_usa_states.csv"
      ]
    },
    {
      "cell_type": "code",
      "metadata": {
        "id": "TENfsnbJpigG"
      },
      "source": [
        ""
      ],
      "execution_count": null,
      "outputs": []
    },
    {
      "cell_type": "markdown",
      "metadata": {
        "id": "fwZeBb2QpvKY"
      },
      "source": [
        "### 색상 차원(Color Dimension)"
      ]
    },
    {
      "cell_type": "code",
      "metadata": {
        "id": "x3ZV_bOEpyBi"
      },
      "source": [
        ""
      ],
      "execution_count": null,
      "outputs": []
    },
    {
      "cell_type": "markdown",
      "metadata": {
        "id": "jX7VJIyZzRFU"
      },
      "source": [
        "### 템플릿(Templates)"
      ]
    },
    {
      "cell_type": "code",
      "metadata": {
        "id": "8yfN6RhZzSmI"
      },
      "source": [
        ""
      ],
      "execution_count": null,
      "outputs": []
    },
    {
      "cell_type": "code",
      "metadata": {
        "id": "PGoKfdCzzX_e"
      },
      "source": [
        ""
      ],
      "execution_count": null,
      "outputs": []
    },
    {
      "cell_type": "code",
      "metadata": {
        "id": "rTXV2Ee7zhm_"
      },
      "source": [
        ""
      ],
      "execution_count": null,
      "outputs": []
    },
    {
      "cell_type": "markdown",
      "metadata": {
        "id": "hxw3_pHp04gz"
      },
      "source": [
        "### 구성(Configuration)"
      ]
    },
    {
      "cell_type": "code",
      "metadata": {
        "id": "M8AKHysf07Gn"
      },
      "source": [
        ""
      ],
      "execution_count": null,
      "outputs": []
    },
    {
      "cell_type": "markdown",
      "metadata": {
        "id": "R8-Rh1EU1EyC"
      },
      "source": [
        "### 높이, 너비 및 여백 조정"
      ]
    },
    {
      "cell_type": "code",
      "metadata": {
        "id": "Npk4pBW883u4"
      },
      "source": [
        ""
      ],
      "execution_count": null,
      "outputs": []
    },
    {
      "cell_type": "code",
      "metadata": {
        "id": "mR7jXpBv9Etp"
      },
      "source": [
        ""
      ],
      "execution_count": null,
      "outputs": []
    },
    {
      "cell_type": "code",
      "metadata": {
        "id": "73CJROAC9KTi"
      },
      "source": [
        ""
      ],
      "execution_count": null,
      "outputs": []
    },
    {
      "cell_type": "markdown",
      "metadata": {
        "id": "89flwwoV9RZR"
      },
      "source": [
        "### 눈금(Tick) 형식 지정"
      ]
    },
    {
      "cell_type": "code",
      "metadata": {
        "id": "bKhDXkwv9ZxF"
      },
      "source": [
        ""
      ],
      "execution_count": null,
      "outputs": []
    },
    {
      "cell_type": "code",
      "metadata": {
        "id": "sRkjAJQ69eoZ"
      },
      "source": [
        ""
      ],
      "execution_count": null,
      "outputs": []
    },
    {
      "cell_type": "code",
      "metadata": {
        "id": "ErYTK_o09iCk"
      },
      "source": [
        ""
      ],
      "execution_count": null,
      "outputs": []
    },
    {
      "cell_type": "code",
      "metadata": {
        "id": "bUqBIe71heh9"
      },
      "source": [
        ""
      ],
      "execution_count": null,
      "outputs": []
    },
    {
      "cell_type": "code",
      "metadata": {
        "id": "P1nrI9YJ9lKM"
      },
      "source": [
        ""
      ],
      "execution_count": null,
      "outputs": []
    },
    {
      "cell_type": "code",
      "metadata": {
        "id": "HUb1JalJ9uVx"
      },
      "source": [
        ""
      ],
      "execution_count": null,
      "outputs": []
    },
    {
      "cell_type": "code",
      "metadata": {
        "id": "FmGNus1c9zor"
      },
      "source": [
        ""
      ],
      "execution_count": null,
      "outputs": []
    },
    {
      "cell_type": "markdown",
      "metadata": {
        "id": "N6ielbtK95mQ"
      },
      "source": [
        "### 글꼴, 제목, 범례 항목 및 축 제목 설정"
      ]
    },
    {
      "cell_type": "code",
      "metadata": {
        "id": "gLmGwCv19-Jo"
      },
      "source": [
        ""
      ],
      "execution_count": null,
      "outputs": []
    },
    {
      "cell_type": "code",
      "metadata": {
        "id": "ADEwTLlr-Bu8"
      },
      "source": [
        ""
      ],
      "execution_count": null,
      "outputs": []
    },
    {
      "cell_type": "code",
      "metadata": {
        "id": "7oRidDsg-J1i"
      },
      "source": [
        ""
      ],
      "execution_count": null,
      "outputs": []
    },
    {
      "cell_type": "markdown",
      "metadata": {
        "id": "_nJSzw43BJr8"
      },
      "source": [
        "### 축(Axes)"
      ]
    },
    {
      "cell_type": "code",
      "metadata": {
        "id": "QKh1RhxyBPfo"
      },
      "source": [
        ""
      ],
      "execution_count": null,
      "outputs": []
    },
    {
      "cell_type": "code",
      "metadata": {
        "id": "EPbOWd_4BU17"
      },
      "source": [
        ""
      ],
      "execution_count": null,
      "outputs": []
    },
    {
      "cell_type": "code",
      "metadata": {
        "id": "8LQ5hFN1BbtG"
      },
      "source": [
        ""
      ],
      "execution_count": null,
      "outputs": []
    },
    {
      "cell_type": "code",
      "metadata": {
        "id": "YJBEeyQTBfv7"
      },
      "source": [
        ""
      ],
      "execution_count": null,
      "outputs": []
    },
    {
      "cell_type": "code",
      "metadata": {
        "id": "jI8cpYywB8Uv"
      },
      "source": [
        ""
      ],
      "execution_count": null,
      "outputs": []
    },
    {
      "cell_type": "code",
      "metadata": {
        "id": "7oeF84QuCCnA"
      },
      "source": [
        ""
      ],
      "execution_count": null,
      "outputs": []
    },
    {
      "cell_type": "code",
      "metadata": {
        "id": "t_dGtdH-CHH5"
      },
      "source": [
        ""
      ],
      "execution_count": null,
      "outputs": []
    },
    {
      "cell_type": "code",
      "metadata": {
        "id": "TAp3mGavCK1k"
      },
      "source": [
        ""
      ],
      "execution_count": null,
      "outputs": []
    },
    {
      "cell_type": "code",
      "metadata": {
        "id": "r2cQ--70CYZO"
      },
      "source": [
        ""
      ],
      "execution_count": null,
      "outputs": []
    },
    {
      "cell_type": "code",
      "metadata": {
        "id": "jiK3M7baCcbF"
      },
      "source": [
        ""
      ],
      "execution_count": null,
      "outputs": []
    },
    {
      "cell_type": "code",
      "metadata": {
        "id": "BHg1A2VxChhI"
      },
      "source": [
        ""
      ],
      "execution_count": null,
      "outputs": []
    },
    {
      "cell_type": "code",
      "metadata": {
        "id": "R7st4lg-Cvmu"
      },
      "source": [
        ""
      ],
      "execution_count": null,
      "outputs": []
    },
    {
      "cell_type": "code",
      "metadata": {
        "id": "E1lpUMuvCzPe"
      },
      "source": [
        ""
      ],
      "execution_count": null,
      "outputs": []
    },
    {
      "cell_type": "code",
      "metadata": {
        "id": "NeCtvb5xDDUf"
      },
      "source": [
        ""
      ],
      "execution_count": null,
      "outputs": []
    },
    {
      "cell_type": "code",
      "metadata": {
        "id": "wsORMgGsDJc7"
      },
      "source": [
        ""
      ],
      "execution_count": null,
      "outputs": []
    },
    {
      "cell_type": "code",
      "metadata": {
        "id": "GKUuEkziDNOX"
      },
      "source": [
        ""
      ],
      "execution_count": null,
      "outputs": []
    },
    {
      "cell_type": "code",
      "metadata": {
        "id": "ZhL0QmE3DRDY"
      },
      "source": [
        ""
      ],
      "execution_count": null,
      "outputs": []
    },
    {
      "cell_type": "code",
      "metadata": {
        "id": "TpvMivi0DUSh"
      },
      "source": [
        ""
      ],
      "execution_count": null,
      "outputs": []
    },
    {
      "cell_type": "code",
      "metadata": {
        "id": "EX3xBNhVDdgW"
      },
      "source": [
        ""
      ],
      "execution_count": null,
      "outputs": []
    },
    {
      "cell_type": "code",
      "metadata": {
        "id": "guqYMl3XDgyy"
      },
      "source": [
        ""
      ],
      "execution_count": null,
      "outputs": []
    },
    {
      "cell_type": "code",
      "metadata": {
        "id": "IRMAUFLnDkQM"
      },
      "source": [
        ""
      ],
      "execution_count": null,
      "outputs": []
    },
    {
      "cell_type": "code",
      "metadata": {
        "id": "xH9ChOS-Dn4S"
      },
      "source": [
        ""
      ],
      "execution_count": null,
      "outputs": []
    },
    {
      "cell_type": "code",
      "metadata": {
        "id": "FH4A9E-6DsJJ"
      },
      "source": [
        ""
      ],
      "execution_count": null,
      "outputs": []
    },
    {
      "cell_type": "code",
      "metadata": {
        "id": "8HRpl0W4DzSY"
      },
      "source": [
        ""
      ],
      "execution_count": null,
      "outputs": []
    },
    {
      "cell_type": "code",
      "metadata": {
        "id": "Oudf21FmD5nr"
      },
      "source": [
        ""
      ],
      "execution_count": null,
      "outputs": []
    },
    {
      "cell_type": "code",
      "metadata": {
        "id": "Wbf3iEiMEBMr"
      },
      "source": [
        ""
      ],
      "execution_count": null,
      "outputs": []
    },
    {
      "cell_type": "code",
      "metadata": {
        "id": "I9_qvug7EJWv"
      },
      "source": [
        ""
      ],
      "execution_count": null,
      "outputs": []
    },
    {
      "cell_type": "code",
      "metadata": {
        "id": "oakL7trLENgk"
      },
      "source": [
        ""
      ],
      "execution_count": null,
      "outputs": []
    },
    {
      "cell_type": "code",
      "metadata": {
        "id": "15sqEpqIEQ3F"
      },
      "source": [
        ""
      ],
      "execution_count": null,
      "outputs": []
    },
    {
      "cell_type": "code",
      "metadata": {
        "id": "JR0eAYu_ETL8"
      },
      "source": [
        ""
      ],
      "execution_count": null,
      "outputs": []
    },
    {
      "cell_type": "code",
      "metadata": {
        "id": "TnSRsQTHEYOL"
      },
      "source": [
        ""
      ],
      "execution_count": null,
      "outputs": []
    },
    {
      "cell_type": "markdown",
      "metadata": {
        "id": "ONNuj9IoEzDW"
      },
      "source": [
        "### 범례(Legends)"
      ]
    },
    {
      "cell_type": "code",
      "metadata": {
        "id": "Uwj5HnuLE8W7"
      },
      "source": [
        ""
      ],
      "execution_count": null,
      "outputs": []
    },
    {
      "cell_type": "code",
      "metadata": {
        "id": "nAkzziy7FBVp"
      },
      "source": [
        ""
      ],
      "execution_count": null,
      "outputs": []
    },
    {
      "cell_type": "code",
      "metadata": {
        "id": "V1YUSNMMFGPY"
      },
      "source": [
        ""
      ],
      "execution_count": null,
      "outputs": []
    },
    {
      "cell_type": "code",
      "metadata": {
        "id": "pzK4KfeMFKMk"
      },
      "source": [
        ""
      ],
      "execution_count": null,
      "outputs": []
    },
    {
      "cell_type": "code",
      "metadata": {
        "id": "0_t5gvZ7FN2-"
      },
      "source": [
        ""
      ],
      "execution_count": null,
      "outputs": []
    },
    {
      "cell_type": "code",
      "metadata": {
        "id": "ciAHh1cwFrqV"
      },
      "source": [
        ""
      ],
      "execution_count": null,
      "outputs": []
    },
    {
      "cell_type": "code",
      "metadata": {
        "id": "217pWT4uFxHe"
      },
      "source": [
        ""
      ],
      "execution_count": null,
      "outputs": []
    },
    {
      "cell_type": "markdown",
      "metadata": {
        "id": "UfUAuxf2GBF1"
      },
      "source": [
        "### 다중 축(Multiple Axes)"
      ]
    },
    {
      "cell_type": "code",
      "metadata": {
        "id": "_m0o6g-EGJih"
      },
      "source": [
        ""
      ],
      "execution_count": null,
      "outputs": []
    },
    {
      "cell_type": "markdown",
      "metadata": {
        "id": "iDmJsfRpGSaO"
      },
      "source": [
        "### 서브플롯(Subplots)"
      ]
    },
    {
      "cell_type": "code",
      "metadata": {
        "id": "no9edfv8dAio"
      },
      "source": [
        ""
      ],
      "execution_count": null,
      "outputs": []
    },
    {
      "cell_type": "code",
      "metadata": {
        "id": "iZ0HL0-vGWdd"
      },
      "source": [
        ""
      ],
      "execution_count": null,
      "outputs": []
    },
    {
      "cell_type": "code",
      "metadata": {
        "id": "3B0ah3fCGa8Z"
      },
      "source": [
        ""
      ],
      "execution_count": null,
      "outputs": []
    },
    {
      "cell_type": "code",
      "metadata": {
        "id": "eZ8y-zf7Gfuf"
      },
      "source": [
        ""
      ],
      "execution_count": null,
      "outputs": []
    },
    {
      "cell_type": "code",
      "metadata": {
        "id": "IpBcCVcIGnht"
      },
      "source": [
        ""
      ],
      "execution_count": null,
      "outputs": []
    },
    {
      "cell_type": "code",
      "metadata": {
        "id": "_YE4kyf8Gr-G"
      },
      "source": [
        ""
      ],
      "execution_count": null,
      "outputs": []
    },
    {
      "cell_type": "code",
      "metadata": {
        "id": "eKol_4SrGwX6"
      },
      "source": [
        ""
      ],
      "execution_count": null,
      "outputs": []
    },
    {
      "cell_type": "code",
      "metadata": {
        "id": "RLF7kY8IG0EW"
      },
      "source": [
        ""
      ],
      "execution_count": null,
      "outputs": []
    },
    {
      "cell_type": "code",
      "metadata": {
        "id": "_kKVA803G3rY"
      },
      "source": [
        ""
      ],
      "execution_count": null,
      "outputs": []
    },
    {
      "cell_type": "code",
      "metadata": {
        "id": "J7Qw0i68G-rn"
      },
      "source": [
        ""
      ],
      "execution_count": null,
      "outputs": []
    },
    {
      "cell_type": "code",
      "metadata": {
        "id": "vZ3E0c2sHB6r"
      },
      "source": [
        ""
      ],
      "execution_count": null,
      "outputs": []
    },
    {
      "cell_type": "code",
      "metadata": {
        "id": "FY7EFGYiHJ8z"
      },
      "source": [
        ""
      ],
      "execution_count": null,
      "outputs": []
    },
    {
      "cell_type": "markdown",
      "metadata": {
        "id": "JUTmSzxrJTAg"
      },
      "source": [
        "### 다중 차트 유형(Multiple Chart Types)"
      ]
    },
    {
      "cell_type": "code",
      "metadata": {
        "id": "c3ipH0fZJWtX"
      },
      "source": [
        ""
      ],
      "execution_count": null,
      "outputs": []
    },
    {
      "cell_type": "markdown",
      "metadata": {
        "id": "2vC45fu4JseE"
      },
      "source": [
        "### 인수(Arguments)"
      ]
    },
    {
      "cell_type": "code",
      "metadata": {
        "id": "hi2VOD-EJ54Z"
      },
      "source": [
        ""
      ],
      "execution_count": null,
      "outputs": []
    },
    {
      "cell_type": "code",
      "metadata": {
        "id": "uboUbfLkKKQH"
      },
      "source": [
        ""
      ],
      "execution_count": null,
      "outputs": []
    },
    {
      "cell_type": "code",
      "metadata": {
        "id": "_Ut1a0_RKOhr"
      },
      "source": [
        ""
      ],
      "execution_count": null,
      "outputs": []
    },
    {
      "cell_type": "code",
      "metadata": {
        "id": "i4y4LQ4PKZtD"
      },
      "source": [
        ""
      ],
      "execution_count": null,
      "outputs": []
    },
    {
      "cell_type": "code",
      "metadata": {
        "id": "kWGLmEaHKwGG"
      },
      "source": [
        ""
      ],
      "execution_count": null,
      "outputs": []
    },
    {
      "cell_type": "markdown",
      "metadata": {
        "id": "5Zc3sS1O2ed7"
      },
      "source": [
        "### 마커 스타일(Styling Markers)"
      ]
    },
    {
      "cell_type": "code",
      "metadata": {
        "id": "udxTN9_f2hOJ"
      },
      "source": [
        ""
      ],
      "execution_count": null,
      "outputs": []
    },
    {
      "cell_type": "code",
      "metadata": {
        "id": "ShdTJEib49Do"
      },
      "source": [
        ""
      ],
      "execution_count": null,
      "outputs": []
    },
    {
      "cell_type": "code",
      "metadata": {
        "id": "07NjWgvoDcvD"
      },
      "source": [
        ""
      ],
      "execution_count": null,
      "outputs": []
    },
    {
      "cell_type": "markdown",
      "metadata": {
        "id": "NsCxWQ4dHj9e"
      },
      "source": [
        "### 색상 척도 및 색상 막대"
      ]
    },
    {
      "cell_type": "code",
      "metadata": {
        "id": "hckGEtIJHqND"
      },
      "source": [
        ""
      ],
      "execution_count": null,
      "outputs": []
    },
    {
      "cell_type": "code",
      "metadata": {
        "id": "UEEh8a8CIt9G"
      },
      "source": [
        ""
      ],
      "execution_count": null,
      "outputs": []
    },
    {
      "cell_type": "code",
      "metadata": {
        "id": "AxrQJi45KAEd"
      },
      "source": [
        ""
      ],
      "execution_count": null,
      "outputs": []
    },
    {
      "cell_type": "code",
      "metadata": {
        "id": "QvaWwwE1KQuX"
      },
      "source": [
        ""
      ],
      "execution_count": null,
      "outputs": []
    },
    {
      "cell_type": "code",
      "metadata": {
        "id": "EX-O4N4hMKCL"
      },
      "source": [
        ""
      ],
      "execution_count": null,
      "outputs": []
    },
    {
      "cell_type": "code",
      "metadata": {
        "id": "LupaJGNFNCKT"
      },
      "source": [
        ""
      ],
      "execution_count": null,
      "outputs": []
    },
    {
      "cell_type": "code",
      "metadata": {
        "id": "LUM0dV7bNLkj"
      },
      "source": [
        ""
      ],
      "execution_count": null,
      "outputs": []
    },
    {
      "cell_type": "code",
      "metadata": {
        "id": "Ak61swZoNhs0"
      },
      "source": [
        ""
      ],
      "execution_count": null,
      "outputs": []
    },
    {
      "cell_type": "code",
      "metadata": {
        "id": "k-Y6BmvNNyuy"
      },
      "source": [
        ""
      ],
      "execution_count": null,
      "outputs": []
    },
    {
      "cell_type": "code",
      "metadata": {
        "id": "5KZ4Tj3pQyn7"
      },
      "source": [
        ""
      ],
      "execution_count": null,
      "outputs": []
    },
    {
      "cell_type": "code",
      "metadata": {
        "id": "bNVsbg4uSNMO"
      },
      "source": [
        ""
      ],
      "execution_count": null,
      "outputs": []
    },
    {
      "cell_type": "markdown",
      "metadata": {
        "id": "JXPgVCgxXukp"
      },
      "source": [
        "### 텍스트 및 주석(Text and Annotation)"
      ]
    },
    {
      "cell_type": "code",
      "metadata": {
        "id": "rfj-RwgWUGWf"
      },
      "source": [
        ""
      ],
      "execution_count": null,
      "outputs": []
    },
    {
      "cell_type": "code",
      "metadata": {
        "id": "xdKjG3SzTaJd"
      },
      "source": [
        ""
      ],
      "execution_count": null,
      "outputs": []
    },
    {
      "cell_type": "code",
      "metadata": {
        "id": "66JeKRpDU8Hb"
      },
      "source": [
        ""
      ],
      "execution_count": null,
      "outputs": []
    },
    {
      "cell_type": "code",
      "metadata": {
        "id": "a-768FUZVsfj"
      },
      "source": [
        ""
      ],
      "execution_count": null,
      "outputs": []
    },
    {
      "cell_type": "code",
      "metadata": {
        "id": "NnLc35-KX_vI"
      },
      "source": [
        ""
      ],
      "execution_count": null,
      "outputs": []
    },
    {
      "cell_type": "code",
      "metadata": {
        "id": "AJfPwQSaaUil"
      },
      "source": [
        ""
      ],
      "execution_count": null,
      "outputs": []
    },
    {
      "cell_type": "code",
      "metadata": {
        "id": "E7MPsic9cC4H"
      },
      "source": [
        ""
      ],
      "execution_count": null,
      "outputs": []
    },
    {
      "cell_type": "code",
      "metadata": {
        "id": "ClCZxnaCcvSk"
      },
      "source": [
        ""
      ],
      "execution_count": null,
      "outputs": []
    },
    {
      "cell_type": "code",
      "metadata": {
        "id": "TzIP1Zqac_uK"
      },
      "source": [
        ""
      ],
      "execution_count": null,
      "outputs": []
    },
    {
      "cell_type": "code",
      "metadata": {
        "id": "O6ELp9FYeM7M"
      },
      "source": [
        ""
      ],
      "execution_count": null,
      "outputs": []
    },
    {
      "cell_type": "code",
      "metadata": {
        "id": "EK4aENTFhcXm"
      },
      "source": [
        ""
      ],
      "execution_count": null,
      "outputs": []
    },
    {
      "cell_type": "code",
      "metadata": {
        "id": "umuNTYpJlGyR"
      },
      "source": [
        ""
      ],
      "execution_count": null,
      "outputs": []
    },
    {
      "cell_type": "code",
      "metadata": {
        "id": "BBtSGraulX_V"
      },
      "source": [
        ""
      ],
      "execution_count": null,
      "outputs": []
    },
    {
      "cell_type": "markdown",
      "metadata": {
        "id": "16YQQ8glnnF8"
      },
      "source": [
        "### 모양(Shape)"
      ]
    },
    {
      "cell_type": "code",
      "metadata": {
        "id": "vSZa2JHLnqSU"
      },
      "source": [
        ""
      ],
      "execution_count": null,
      "outputs": []
    },
    {
      "cell_type": "code",
      "metadata": {
        "id": "wcumjmqaqBVz"
      },
      "source": [
        ""
      ],
      "execution_count": null,
      "outputs": []
    },
    {
      "cell_type": "code",
      "metadata": {
        "id": "OVpBG6IUqtHZ"
      },
      "source": [
        ""
      ],
      "execution_count": null,
      "outputs": []
    },
    {
      "cell_type": "code",
      "metadata": {
        "id": "xXSfkyYxrtY2"
      },
      "source": [
        ""
      ],
      "execution_count": null,
      "outputs": []
    },
    {
      "cell_type": "markdown",
      "metadata": {
        "id": "bk7U3hfitw4j"
      },
      "source": [
        "### 색상 척도(Color Scales)"
      ]
    },
    {
      "cell_type": "code",
      "metadata": {
        "id": "sof_DLYGt4aF"
      },
      "source": [
        ""
      ],
      "execution_count": null,
      "outputs": []
    },
    {
      "cell_type": "code",
      "metadata": {
        "id": "W8btUiz3xNoH"
      },
      "source": [
        ""
      ],
      "execution_count": null,
      "outputs": []
    },
    {
      "cell_type": "code",
      "metadata": {
        "id": "ddxo0UntxVbb"
      },
      "source": [
        ""
      ],
      "execution_count": null,
      "outputs": []
    },
    {
      "cell_type": "code",
      "metadata": {
        "id": "BagFnPybx4bt"
      },
      "source": [
        ""
      ],
      "execution_count": null,
      "outputs": []
    },
    {
      "cell_type": "markdown",
      "metadata": {
        "id": "4i47Bq-bFkHT"
      },
      "source": [
        "\n",
        "\n",
        "---\n",
        "\n"
      ]
    }
  ]
}