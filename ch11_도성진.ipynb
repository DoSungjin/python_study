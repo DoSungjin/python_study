{
  "cells": [
    {
      "cell_type": "markdown",
      "metadata": {
        "id": "view-in-github",
        "colab_type": "text"
      },
      "source": [
        "<a href=\"https://colab.research.google.com/github/sungjindo/python_study/blob/main/ch11_%EB%8F%84%EC%84%B1%EC%A7%84.ipynb\" target=\"_parent\"><img src=\"https://colab.research.google.com/assets/colab-badge.svg\" alt=\"Open In Colab\"/></a>"
      ]
    },
    {
      "cell_type": "markdown",
      "metadata": {
        "id": "h0rxmCQNCq_C"
      },
      "source": [
        "# Quotes to scrape 예제"
      ]
    },
    {
      "cell_type": "markdown",
      "metadata": {
        "id": "iUT-y7cgZuvr"
      },
      "source": [
        "[http://quotes.toscrape.com](http://quotes.toscrape.com)"
      ]
    },
    {
      "cell_type": "markdown",
      "metadata": {
        "id": "d655ogClZmp-"
      },
      "source": [
        "## BeautifulSoup 이용\n",
        "\n",
        "## 1. url에서서 BeautifulSoup를 활용해 'span'을 포함하는 quote들을 찾아보자"
      ]
    },
    {
      "cell_type": "code",
      "execution_count": null,
      "metadata": {
        "id": "dDvuZEA8YOpm"
      },
      "outputs": [],
      "source": [
        "import urllib.request as ur\n",
        "from bs4 import BeautifulSoup as bs"
      ]
    },
    {
      "cell_type": "code",
      "execution_count": null,
      "metadata": {
        "id": "suKRBSFyDYLt"
      },
      "outputs": [],
      "source": [
        "url = 'http://quotes.toscrape.com'\n",
        "soup = bs(ur.urlopen(url).read(),'html.parser')"
      ]
    },
    {
      "cell_type": "code",
      "execution_count": null,
      "metadata": {
        "colab": {
          "base_uri": "https://localhost:8080/"
        },
        "id": "THgkz8CNlUaY",
        "outputId": "860cee24-aeca-47d8-a79c-1cee8b0d42c5"
      },
      "outputs": [
        {
          "output_type": "execute_result",
          "data": {
            "text/plain": [
              "<span class=\"text\" itemprop=\"text\">“The world as we have created it is a process of our thinking. It cannot be changed without changing our thinking.”</span>"
            ]
          },
          "metadata": {},
          "execution_count": 3
        }
      ],
      "source": [
        "quote = soup.find_all('span') #hint find_all\n",
        "quote[0]"
      ]
    },
    {
      "cell_type": "code",
      "execution_count": null,
      "metadata": {
        "colab": {
          "base_uri": "https://localhost:8080/",
          "height": 35
        },
        "id": "XQ8kHG4DlUcd",
        "outputId": "a18774f6-9327-47eb-96d2-fc57270236f1"
      },
      "outputs": [
        {
          "output_type": "execute_result",
          "data": {
            "application/vnd.google.colaboratory.intrinsic+json": {
              "type": "string"
            },
            "text/plain": [
              "'“The world as we have created it is a process of our thinking. It cannot be changed without changing our thinking.”'"
            ]
          },
          "metadata": {},
          "execution_count": 4
        }
      ],
      "source": [
        "quote[0].text"
      ]
    },
    {
      "cell_type": "code",
      "execution_count": null,
      "metadata": {
        "colab": {
          "base_uri": "https://localhost:8080/"
        },
        "id": "eNj62r3llUel",
        "outputId": "61d2f687-faea-4ca1-bbed-0bb835b70e1b"
      },
      "outputs": [
        {
          "output_type": "stream",
          "name": "stdout",
          "text": [
            "“The world as we have created it is a process of our thinking. It cannot be changed without changing our thinking.”\n",
            "by Albert Einstein\n",
            "(about)\n",
            "\n",
            "“It is our choices, Harry, that show what we truly are, far more than our abilities.”\n",
            "by J.K. Rowling\n",
            "(about)\n",
            "\n",
            "“There are only two ways to live your life. One is as though nothing is a miracle. The other is as though everything is a miracle.”\n",
            "by Albert Einstein\n",
            "(about)\n",
            "\n",
            "“The person, be it gentleman or lady, who has not pleasure in a good novel, must be intolerably stupid.”\n",
            "by Jane Austen\n",
            "(about)\n",
            "\n",
            "“Imperfection is beauty, madness is genius and it's better to be absolutely ridiculous than absolutely boring.”\n",
            "by Marilyn Monroe\n",
            "(about)\n",
            "\n",
            "“Try not to become a man of success. Rather become a man of value.”\n",
            "by Albert Einstein\n",
            "(about)\n",
            "\n",
            "“It is better to be hated for what you are than to be loved for what you are not.”\n",
            "by André Gide\n",
            "(about)\n",
            "\n",
            "“I have not failed. I've just found 10,000 ways that won't work.”\n",
            "by Thomas A. Edison\n",
            "(about)\n",
            "\n",
            "“A woman is like a tea bag; you never know how strong it is until it's in hot water.”\n",
            "by Eleanor Roosevelt\n",
            "(about)\n",
            "\n",
            "“A day without sunshine is like, you know, night.”\n",
            "by Steve Martin\n",
            "(about)\n",
            "\n",
            "→\n",
            "\n",
            "love\n",
            "\n",
            "\n",
            "inspirational\n",
            "\n",
            "\n",
            "life\n",
            "\n",
            "\n",
            "humor\n",
            "\n",
            "\n",
            "books\n",
            "\n",
            "\n",
            "reading\n",
            "\n",
            "\n",
            "friendship\n",
            "\n",
            "\n",
            "friends\n",
            "\n",
            "\n",
            "truth\n",
            "\n",
            "\n",
            "simile\n",
            "\n",
            "❤\n"
          ]
        }
      ],
      "source": [
        "for i in quote:\n",
        "  print(i.text)"
      ]
    },
    {
      "cell_type": "markdown",
      "source": [
        "## 2. author와 text를 기준으로 list를 생성해보자."
      ],
      "metadata": {
        "id": "RgfOQoEuN5b3"
      }
    },
    {
      "cell_type": "code",
      "execution_count": null,
      "metadata": {
        "colab": {
          "base_uri": "https://localhost:8080/"
        },
        "id": "Fy2ZxOELlUhE",
        "outputId": "6188cff5-7d6a-45ea-c5f3-fc7428f1513d"
      },
      "outputs": [
        {
          "output_type": "execute_result",
          "data": {
            "text/plain": [
              "[<div class=\"quote\" itemscope=\"\" itemtype=\"http://schema.org/CreativeWork\">\n",
              " <span class=\"text\" itemprop=\"text\">“The world as we have created it is a process of our thinking. It cannot be changed without changing our thinking.”</span>\n",
              " <span>by <small class=\"author\" itemprop=\"author\">Albert Einstein</small>\n",
              " <a href=\"/author/Albert-Einstein\">(about)</a>\n",
              " </span>\n",
              " <div class=\"tags\">\n",
              "             Tags:\n",
              "             <meta class=\"keywords\" content=\"change,deep-thoughts,thinking,world\" itemprop=\"keywords\"/>\n",
              " <a class=\"tag\" href=\"/tag/change/page/1/\">change</a>\n",
              " <a class=\"tag\" href=\"/tag/deep-thoughts/page/1/\">deep-thoughts</a>\n",
              " <a class=\"tag\" href=\"/tag/thinking/page/1/\">thinking</a>\n",
              " <a class=\"tag\" href=\"/tag/world/page/1/\">world</a>\n",
              " </div>\n",
              " </div>,\n",
              " <div class=\"quote\" itemscope=\"\" itemtype=\"http://schema.org/CreativeWork\">\n",
              " <span class=\"text\" itemprop=\"text\">“It is our choices, Harry, that show what we truly are, far more than our abilities.”</span>\n",
              " <span>by <small class=\"author\" itemprop=\"author\">J.K. Rowling</small>\n",
              " <a href=\"/author/J-K-Rowling\">(about)</a>\n",
              " </span>\n",
              " <div class=\"tags\">\n",
              "             Tags:\n",
              "             <meta class=\"keywords\" content=\"abilities,choices\" itemprop=\"keywords\"/>\n",
              " <a class=\"tag\" href=\"/tag/abilities/page/1/\">abilities</a>\n",
              " <a class=\"tag\" href=\"/tag/choices/page/1/\">choices</a>\n",
              " </div>\n",
              " </div>,\n",
              " <div class=\"quote\" itemscope=\"\" itemtype=\"http://schema.org/CreativeWork\">\n",
              " <span class=\"text\" itemprop=\"text\">“There are only two ways to live your life. One is as though nothing is a miracle. The other is as though everything is a miracle.”</span>\n",
              " <span>by <small class=\"author\" itemprop=\"author\">Albert Einstein</small>\n",
              " <a href=\"/author/Albert-Einstein\">(about)</a>\n",
              " </span>\n",
              " <div class=\"tags\">\n",
              "             Tags:\n",
              "             <meta class=\"keywords\" content=\"inspirational,life,live,miracle,miracles\" itemprop=\"keywords\"/>\n",
              " <a class=\"tag\" href=\"/tag/inspirational/page/1/\">inspirational</a>\n",
              " <a class=\"tag\" href=\"/tag/life/page/1/\">life</a>\n",
              " <a class=\"tag\" href=\"/tag/live/page/1/\">live</a>\n",
              " <a class=\"tag\" href=\"/tag/miracle/page/1/\">miracle</a>\n",
              " <a class=\"tag\" href=\"/tag/miracles/page/1/\">miracles</a>\n",
              " </div>\n",
              " </div>,\n",
              " <div class=\"quote\" itemscope=\"\" itemtype=\"http://schema.org/CreativeWork\">\n",
              " <span class=\"text\" itemprop=\"text\">“The person, be it gentleman or lady, who has not pleasure in a good novel, must be intolerably stupid.”</span>\n",
              " <span>by <small class=\"author\" itemprop=\"author\">Jane Austen</small>\n",
              " <a href=\"/author/Jane-Austen\">(about)</a>\n",
              " </span>\n",
              " <div class=\"tags\">\n",
              "             Tags:\n",
              "             <meta class=\"keywords\" content=\"aliteracy,books,classic,humor\" itemprop=\"keywords\"/>\n",
              " <a class=\"tag\" href=\"/tag/aliteracy/page/1/\">aliteracy</a>\n",
              " <a class=\"tag\" href=\"/tag/books/page/1/\">books</a>\n",
              " <a class=\"tag\" href=\"/tag/classic/page/1/\">classic</a>\n",
              " <a class=\"tag\" href=\"/tag/humor/page/1/\">humor</a>\n",
              " </div>\n",
              " </div>,\n",
              " <div class=\"quote\" itemscope=\"\" itemtype=\"http://schema.org/CreativeWork\">\n",
              " <span class=\"text\" itemprop=\"text\">“Imperfection is beauty, madness is genius and it's better to be absolutely ridiculous than absolutely boring.”</span>\n",
              " <span>by <small class=\"author\" itemprop=\"author\">Marilyn Monroe</small>\n",
              " <a href=\"/author/Marilyn-Monroe\">(about)</a>\n",
              " </span>\n",
              " <div class=\"tags\">\n",
              "             Tags:\n",
              "             <meta class=\"keywords\" content=\"be-yourself,inspirational\" itemprop=\"keywords\"/>\n",
              " <a class=\"tag\" href=\"/tag/be-yourself/page/1/\">be-yourself</a>\n",
              " <a class=\"tag\" href=\"/tag/inspirational/page/1/\">inspirational</a>\n",
              " </div>\n",
              " </div>,\n",
              " <div class=\"quote\" itemscope=\"\" itemtype=\"http://schema.org/CreativeWork\">\n",
              " <span class=\"text\" itemprop=\"text\">“Try not to become a man of success. Rather become a man of value.”</span>\n",
              " <span>by <small class=\"author\" itemprop=\"author\">Albert Einstein</small>\n",
              " <a href=\"/author/Albert-Einstein\">(about)</a>\n",
              " </span>\n",
              " <div class=\"tags\">\n",
              "             Tags:\n",
              "             <meta class=\"keywords\" content=\"adulthood,success,value\" itemprop=\"keywords\"/>\n",
              " <a class=\"tag\" href=\"/tag/adulthood/page/1/\">adulthood</a>\n",
              " <a class=\"tag\" href=\"/tag/success/page/1/\">success</a>\n",
              " <a class=\"tag\" href=\"/tag/value/page/1/\">value</a>\n",
              " </div>\n",
              " </div>,\n",
              " <div class=\"quote\" itemscope=\"\" itemtype=\"http://schema.org/CreativeWork\">\n",
              " <span class=\"text\" itemprop=\"text\">“It is better to be hated for what you are than to be loved for what you are not.”</span>\n",
              " <span>by <small class=\"author\" itemprop=\"author\">André Gide</small>\n",
              " <a href=\"/author/Andre-Gide\">(about)</a>\n",
              " </span>\n",
              " <div class=\"tags\">\n",
              "             Tags:\n",
              "             <meta class=\"keywords\" content=\"life,love\" itemprop=\"keywords\"/>\n",
              " <a class=\"tag\" href=\"/tag/life/page/1/\">life</a>\n",
              " <a class=\"tag\" href=\"/tag/love/page/1/\">love</a>\n",
              " </div>\n",
              " </div>,\n",
              " <div class=\"quote\" itemscope=\"\" itemtype=\"http://schema.org/CreativeWork\">\n",
              " <span class=\"text\" itemprop=\"text\">“I have not failed. I've just found 10,000 ways that won't work.”</span>\n",
              " <span>by <small class=\"author\" itemprop=\"author\">Thomas A. Edison</small>\n",
              " <a href=\"/author/Thomas-A-Edison\">(about)</a>\n",
              " </span>\n",
              " <div class=\"tags\">\n",
              "             Tags:\n",
              "             <meta class=\"keywords\" content=\"edison,failure,inspirational,paraphrased\" itemprop=\"keywords\"/>\n",
              " <a class=\"tag\" href=\"/tag/edison/page/1/\">edison</a>\n",
              " <a class=\"tag\" href=\"/tag/failure/page/1/\">failure</a>\n",
              " <a class=\"tag\" href=\"/tag/inspirational/page/1/\">inspirational</a>\n",
              " <a class=\"tag\" href=\"/tag/paraphrased/page/1/\">paraphrased</a>\n",
              " </div>\n",
              " </div>,\n",
              " <div class=\"quote\" itemscope=\"\" itemtype=\"http://schema.org/CreativeWork\">\n",
              " <span class=\"text\" itemprop=\"text\">“A woman is like a tea bag; you never know how strong it is until it's in hot water.”</span>\n",
              " <span>by <small class=\"author\" itemprop=\"author\">Eleanor Roosevelt</small>\n",
              " <a href=\"/author/Eleanor-Roosevelt\">(about)</a>\n",
              " </span>\n",
              " <div class=\"tags\">\n",
              "             Tags:\n",
              "             <meta class=\"keywords\" content=\"misattributed-eleanor-roosevelt\" itemprop=\"keywords\"/>\n",
              " <a class=\"tag\" href=\"/tag/misattributed-eleanor-roosevelt/page/1/\">misattributed-eleanor-roosevelt</a>\n",
              " </div>\n",
              " </div>,\n",
              " <div class=\"quote\" itemscope=\"\" itemtype=\"http://schema.org/CreativeWork\">\n",
              " <span class=\"text\" itemprop=\"text\">“A day without sunshine is like, you know, night.”</span>\n",
              " <span>by <small class=\"author\" itemprop=\"author\">Steve Martin</small>\n",
              " <a href=\"/author/Steve-Martin\">(about)</a>\n",
              " </span>\n",
              " <div class=\"tags\">\n",
              "             Tags:\n",
              "             <meta class=\"keywords\" content=\"humor,obvious,simile\" itemprop=\"keywords\"/>\n",
              " <a class=\"tag\" href=\"/tag/humor/page/1/\">humor</a>\n",
              " <a class=\"tag\" href=\"/tag/obvious/page/1/\">obvious</a>\n",
              " <a class=\"tag\" href=\"/tag/simile/page/1/\">simile</a>\n",
              " </div>\n",
              " </div>]"
            ]
          },
          "metadata": {},
          "execution_count": 6
        }
      ],
      "source": [
        "soup.find_all('div',{\"class\":\"quote\"})"
      ]
    },
    {
      "cell_type": "markdown",
      "metadata": {
        "id": "xvtsmqncsp89"
      },
      "source": [
        "위의 결과를 보면 명언 뿐 아니라 다른 내용도 함께 추출된 것을 확인할 수 있음. html 구조를 더 자세히 살펴보면 ```<span>```태그는 ```<div>```태그로 감싸고 있고 ```<div>```태그의 class속성값은 quote인 것을 확인. "
      ]
    },
    {
      "cell_type": "code",
      "execution_count": null,
      "metadata": {
        "id": "V-bw-Xb6wTfS"
      },
      "outputs": [],
      "source": [
        "quotes = soup.find_all('span', {\"class\":\"text\"})"
      ]
    },
    {
      "cell_type": "code",
      "execution_count": null,
      "metadata": {
        "id": "PREPua2wwq7A"
      },
      "outputs": [],
      "source": [
        "\n",
        "by = soup.find_all('small', {\"class\":\"author\"})"
      ]
    },
    {
      "cell_type": "code",
      "execution_count": null,
      "metadata": {
        "colab": {
          "base_uri": "https://localhost:8080/"
        },
        "id": "DBDZnLFXZNRO",
        "outputId": "fd1aa5b5-a104-4ba5-8856-6a07a1d61fa3"
      },
      "outputs": [
        {
          "output_type": "execute_result",
          "data": {
            "text/plain": [
              "['“The world as we have created it is a process of our thinking. It cannot be changed without changing our thinking.”',\n",
              " '“It is our choices, Harry, that show what we truly are, far more than our abilities.”',\n",
              " '“There are only two ways to live your life. One is as though nothing is a miracle. The other is as though everything is a miracle.”',\n",
              " '“The person, be it gentleman or lady, who has not pleasure in a good novel, must be intolerably stupid.”',\n",
              " \"“Imperfection is beauty, madness is genius and it's better to be absolutely ridiculous than absolutely boring.”\",\n",
              " '“Try not to become a man of success. Rather become a man of value.”',\n",
              " '“It is better to be hated for what you are than to be loved for what you are not.”',\n",
              " \"“I have not failed. I've just found 10,000 ways that won't work.”\",\n",
              " \"“A woman is like a tea bag; you never know how strong it is until it's in hot water.”\",\n",
              " '“A day without sunshine is like, you know, night.”']"
            ]
          },
          "metadata": {},
          "execution_count": 10
        }
      ],
      "source": [
        "quotes_list = [i.text for i in quotes]\n",
        "quotes_list"
      ]
    },
    {
      "cell_type": "code",
      "execution_count": null,
      "metadata": {
        "colab": {
          "base_uri": "https://localhost:8080/"
        },
        "id": "15nTjscCZGZE",
        "outputId": "7c811781-87e4-4497-ae9c-814e5b40407c"
      },
      "outputs": [
        {
          "output_type": "execute_result",
          "data": {
            "text/plain": [
              "['Albert Einstein',\n",
              " 'J.K. Rowling',\n",
              " 'Albert Einstein',\n",
              " 'Jane Austen',\n",
              " 'Marilyn Monroe',\n",
              " 'Albert Einstein',\n",
              " 'André Gide',\n",
              " 'Thomas A. Edison',\n",
              " 'Eleanor Roosevelt',\n",
              " 'Steve Martin']"
            ]
          },
          "metadata": {},
          "execution_count": 11
        }
      ],
      "source": [
        "by_list = [i.text for i in by]\n",
        "by_list"
      ]
    },
    {
      "cell_type": "code",
      "execution_count": null,
      "metadata": {
        "colab": {
          "base_uri": "https://localhost:8080/"
        },
        "id": "K9XTYsF_lUiv",
        "outputId": "87f0e30f-1f8c-4911-e106-f9abd4732828"
      },
      "outputs": [
        {
          "output_type": "stream",
          "name": "stdout",
          "text": [
            "“The world as we have created it is a process of our thinking. It cannot be changed without changing our thinking.” by Albert Einstein\n",
            "“It is our choices, Harry, that show what we truly are, far more than our abilities.” by J.K. Rowling\n",
            "“There are only two ways to live your life. One is as though nothing is a miracle. The other is as though everything is a miracle.” by Albert Einstein\n",
            "“The person, be it gentleman or lady, who has not pleasure in a good novel, must be intolerably stupid.” by Jane Austen\n",
            "“Imperfection is beauty, madness is genius and it's better to be absolutely ridiculous than absolutely boring.” by Marilyn Monroe\n",
            "“Try not to become a man of success. Rather become a man of value.” by Albert Einstein\n",
            "“It is better to be hated for what you are than to be loved for what you are not.” by André Gide\n",
            "“I have not failed. I've just found 10,000 ways that won't work.” by Thomas A. Edison\n",
            "“A woman is like a tea bag; you never know how strong it is until it's in hot water.” by Eleanor Roosevelt\n",
            "“A day without sunshine is like, you know, night.” by Steve Martin\n"
          ]
        }
      ],
      "source": [
        "for i, j in zip(quotes, by):\n",
        "  print(i.text,\"by\",j.text)"
      ]
    },
    {
      "cell_type": "code",
      "source": [
        ""
      ],
      "metadata": {
        "id": "vxRMOAjDpy-i"
      },
      "execution_count": null,
      "outputs": []
    }
  ],
  "metadata": {
    "colab": {
      "collapsed_sections": [],
      "name": "ch11_도성진.ipynb",
      "provenance": [],
      "include_colab_link": true
    },
    "kernelspec": {
      "display_name": "Python 3",
      "language": "python",
      "name": "python3"
    },
    "language_info": {
      "codemirror_mode": {
        "name": "ipython",
        "version": 3
      },
      "file_extension": ".py",
      "mimetype": "text/x-python",
      "name": "python",
      "nbconvert_exporter": "python",
      "pygments_lexer": "ipython3",
      "version": "3.6.5"
    }
  },
  "nbformat": 4,
  "nbformat_minor": 0
}