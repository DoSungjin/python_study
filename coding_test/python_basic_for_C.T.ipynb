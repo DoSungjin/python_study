{
 "cells": [
  {
   "attachments": {},
   "cell_type": "markdown",
   "metadata": {},
   "source": [
    "# 자료형"
   ]
  },
  {
   "attachments": {},
   "cell_type": "markdown",
   "metadata": {},
   "source": [
    "## 정수형\n",
    "- 정수형에는 양의정수, 음의정수, 0이 있다.\n",
    "- 코딩테스트에서 출제되는 알고리즘 문제는 대부분 입력과 출력데이터가 정수형이다."
   ]
  },
  {
   "cell_type": "code",
   "execution_count": 1,
   "metadata": {},
   "outputs": [
    {
     "name": "stdout",
     "output_type": "stream",
     "text": [
      "1000\n",
      "-7\n",
      "0\n"
     ]
    }
   ],
   "source": [
    "a = 1000 # 양의 정수\n",
    "print(a)\n",
    "\n",
    "a = -7 # 음의 정수\n",
    "print(a)\n",
    "\n",
    "# 0\n",
    "a = 0\n",
    "print(a)"
   ]
  },
  {
   "attachments": {},
   "cell_type": "markdown",
   "metadata": {},
   "source": [
    "## 실수형\n",
    "- 실수형운 소수점 아래의 데이터를 포함하는 수 자료형이다."
   ]
  },
  {
   "cell_type": "code",
   "execution_count": 2,
   "metadata": {},
   "outputs": [
    {
     "name": "stdout",
     "output_type": "stream",
     "text": [
      "157.93\n",
      "(-1837, 2)\n",
      "5.0\n",
      "-0.7\n"
     ]
    }
   ],
   "source": [
    "# 양의 실수\n",
    "a = 157.93\n",
    "print(a)\n",
    "\n",
    "# 음의 실수\n",
    "a = -1837,2\n",
    "print(a)\n",
    "\n",
    "# 소수부가 0일 때 0을 생략\n",
    "a = 5.\n",
    "print(a)\n",
    "\n",
    "# 정수부가 0일 때 0을 생략\n",
    "a = -.7\n",
    "print(a)"
   ]
  },
  {
   "cell_type": "code",
   "execution_count": 4,
   "metadata": {},
   "outputs": [
    {
     "name": "stdout",
     "output_type": "stream",
     "text": [
      "1000000000.0\n",
      "inf\n"
     ]
    }
   ],
   "source": [
    "# 지수 표현 방식\n",
    "a = 1e9\n",
    "print(a) # 10의 9제곱 , 무한을 나타내기도 함 \n",
    "\n",
    "\n",
    "# 무한을 표현할 때는 inf를 사용\n",
    "a = float('inf')\n",
    "print(a)"
   ]
  },
  {
   "cell_type": "code",
   "execution_count": 6,
   "metadata": {},
   "outputs": [
    {
     "name": "stdout",
     "output_type": "stream",
     "text": [
      "752.5\n",
      "3.954\n",
      "0.045\n"
     ]
    }
   ],
   "source": [
    "# 752.5\n",
    "a = 75.25e1\n",
    "print(a)\n",
    "\n",
    "# 3.954\n",
    "a = 3954e-3\n",
    "print(a)\n",
    "\n",
    "# 0.045\n",
    "a = 45e-3\n",
    "print(a)"
   ]
  },
  {
   "cell_type": "code",
   "execution_count": 7,
   "metadata": {},
   "outputs": [
    {
     "name": "stdout",
     "output_type": "stream",
     "text": [
      "0.8999999999999999\n",
      "False\n"
     ]
    }
   ],
   "source": [
    "# 실수형이 항상 정확하게 계산되는 것은 아니다.\n",
    "a = 0.3 + 0.6\n",
    "print(a)\n",
    "\n",
    "if a == 0.9:\n",
    "    print(True)\n",
    "else:\n",
    "    print(False)"
   ]
  },
  {
   "cell_type": "code",
   "execution_count": 11,
   "metadata": {},
   "outputs": [
    {
     "name": "stdout",
     "output_type": "stream",
     "text": [
      "0.9\n",
      "True\n"
     ]
    }
   ],
   "source": [
    "# round() 함수 이용\n",
    "a = 0.3 + 0.6\n",
    "print(round(a, 2))\n",
    "\n",
    "if round(a, 2) == 0.9:\n",
    "    print(True)\n",
    "else:\n",
    "    print(False)"
   ]
  },
  {
   "cell_type": "code",
   "execution_count": 12,
   "metadata": {},
   "outputs": [
    {
     "name": "stdout",
     "output_type": "stream",
     "text": [
      "2.3333333333333335\n",
      "1\n",
      "2\n"
     ]
    }
   ],
   "source": [
    "# 수 자료형의 연산 \n",
    "a = 7\n",
    "b = 3\n",
    "\n",
    "# 나누기\n",
    "print(a / b)\n",
    "\n",
    "# 나머지 \n",
    "print(a % b)\n",
    "\n",
    "# 몫\n",
    "print(a // b)\n"
   ]
  },
  {
   "cell_type": "code",
   "execution_count": 13,
   "metadata": {},
   "outputs": [
    {
     "name": "stdout",
     "output_type": "stream",
     "text": [
      "343\n"
     ]
    }
   ],
   "source": [
    "# 거듭제곱\n",
    "print(a ** b)"
   ]
  },
  {
   "attachments": {},
   "cell_type": "markdown",
   "metadata": {},
   "source": [
    "## 리스트 자료형\n",
    "- 리스트는 대괄호([]) 안에 원소를 넣어 초기화 하며, 쉼표(,)로 원소를 구분한다. \n",
    "- 리스트의 원소에 접근할 때는 인덱스 값을 괄호 안에 넣는다.(0부터 시작)\n",
    "- 비어있는 리스트 선언 -> list() or []"
   ]
  },
  {
   "cell_type": "code",
   "execution_count": 17,
   "metadata": {},
   "outputs": [
    {
     "name": "stdout",
     "output_type": "stream",
     "text": [
      "[1, 2, 3, 4, 5, 6, 7, 8, 9]\n",
      "[1, 2, 3, 4, 5, 6, 7, 8, 9]\n",
      "5\n",
      "[]\n",
      "[]\n"
     ]
    }
   ],
   "source": [
    "# 리스트 만들기     \n",
    "a = [1, 2, 3, 4, 5, 6, 7, 8, 9]\n",
    "print(a)\n",
    "\n",
    "b = list(range(1, 10))\n",
    "print(b)\n",
    "\n",
    "print(a[4])\n",
    "\n",
    "# 빈 리스트 선언 방법 1\n",
    "a = list()\n",
    "print(a)\n",
    "\n",
    "# 빈 리스트 선언 방법 2\n",
    "a = []\n",
    "print(a)"
   ]
  },
  {
   "cell_type": "code",
   "execution_count": 18,
   "metadata": {},
   "outputs": [
    {
     "name": "stdout",
     "output_type": "stream",
     "text": [
      "[0, 0, 0, 0, 0, 0, 0, 0, 0, 0]\n"
     ]
    }
   ],
   "source": [
    "# 크기가 N이고, 모든 값이 0인 1차원 리스트 초기화\n",
    "n = 10\n",
    "a = [0] * n\n",
    "print(a)"
   ]
  },
  {
   "attachments": {},
   "cell_type": "markdown",
   "metadata": {},
   "source": [
    "### 리스트의 인덱싱과 슬라이싱\n",
    "- 인덱스값을 입력하여 리스트의 특정한 원소에 접근하는 것을 인덱싱이라고 한다.\n",
    "- 파이썬의 인덱스 값은 양의 정수와 음의 정수를 모두 사용할 수 있다. (음의 정수는 거꾸로 탐색)\n",
    "\n",
    "- 리스트에서 연속적인 위치를 갖는 원소들을 가져와야 할때 -> 슬라이싱\n",
    "- 대괄호 안에 콜론(:)을 넣어 설정 가능\n"
   ]
  },
  {
   "cell_type": "code",
   "execution_count": 26,
   "metadata": {},
   "outputs": [
    {
     "name": "stdout",
     "output_type": "stream",
     "text": [
      "9\n",
      "7\n",
      "[1, 2, 3, 7, 5, 6, 7, 8, 9]\n"
     ]
    }
   ],
   "source": [
    "a = list(range(1,10))\n",
    "# 뒤에서 첫 번째 원소 출력\n",
    "print(a[-1])\n",
    "\n",
    "# 뒤에서 세 번째 원소 출력\n",
    "print(a[-3])\n",
    "\n",
    "# 네 번째 원소 값 변경\n",
    "a[3] = 7\n",
    "print(a)"
   ]
  },
  {
   "cell_type": "code",
   "execution_count": 27,
   "metadata": {},
   "outputs": [
    {
     "name": "stdout",
     "output_type": "stream",
     "text": [
      "[2, 3, 7]\n"
     ]
    }
   ],
   "source": [
    "# 두 번째 원소부터 네 번째 원소까지\n",
    "print(a[1:4])"
   ]
  },
  {
   "attachments": {},
   "cell_type": "markdown",
   "metadata": {},
   "source": [
    "### 리스트 컴프리헨션\n",
    "- 리스트를 초기화 하는 방법 중 하나\n",
    "- 대괄호([])안에 조건문과 반복문을 넣는 방식으로 리스트를 초기화할 수 있다.\n"
   ]
  },
  {
   "cell_type": "code",
   "execution_count": 29,
   "metadata": {},
   "outputs": [
    {
     "name": "stdout",
     "output_type": "stream",
     "text": [
      "[1, 3, 5, 7, 9, 11, 13, 15, 17, 19]\n"
     ]
    }
   ],
   "source": [
    "# 0부터 19까지의 수 중에서 홀수만 포함하는 리스트\n",
    "array = [i for i in range(20) if i % 2 == 1]\n",
    "print(array)"
   ]
  },
  {
   "cell_type": "code",
   "execution_count": 46,
   "metadata": {},
   "outputs": [
    {
     "name": "stdout",
     "output_type": "stream",
     "text": [
      "[[0, 0, 0, 0], [0, 0, 0, 0], [0, 0, 0, 0]]\n",
      "[[0, 0, 0, 0], [0, 5, 0, 0], [0, 0, 0, 0]]\n"
     ]
    }
   ],
   "source": [
    "# N * M 크기의 2차원 리스트 초기화\n",
    "n = 3\n",
    "m = 4\n",
    "array = [[0] * m for _ in range(n) ]  # 중요\n",
    "print(array)\n",
    "\n",
    "array[1][1] = 5\n",
    "print(array)\n"
   ]
  },
  {
   "attachments": {},
   "cell_type": "markdown",
   "metadata": {},
   "source": [
    "##### _ 의 역할\n",
    "- 반복을 수행하되 반복을 위한 변수의 값을 무시하고자 할 때 언더바(_)를 자주 사용한다. 예를 들어 1부터 9까지의 자연수를 더할 때는 왼쪽 예시처럼 작성하지만, 단순히 \"Hello World\"를 5번 출력할 때는 오른쪽처럼 언더바(_)를 이용하여 무시할 수 있다. "
   ]
  },
  {
   "cell_type": "code",
   "execution_count": 41,
   "metadata": {},
   "outputs": [
    {
     "name": "stdout",
     "output_type": "stream",
     "text": [
      "45\n",
      "Hello World\n",
      "Hello World\n",
      "Hello World\n",
      "Hello World\n",
      "Hello World\n"
     ]
    }
   ],
   "source": [
    "summary = 0\n",
    "for i in range(1, 10):\n",
    "    summary += i\n",
    "print(summary)\n",
    "\n",
    "for _ in range(5):\n",
    "    print(\"Hello World\")\n"
   ]
  },
  {
   "cell_type": "code",
   "execution_count": 45,
   "metadata": {},
   "outputs": [
    {
     "name": "stdout",
     "output_type": "stream",
     "text": [
      "[[0, 0, 0, 0], [0, 0, 0, 0], [0, 0, 0, 0]]\n",
      "[[0, 3, 0, 0], [0, 3, 0, 0], [0, 3, 0, 0]]\n"
     ]
    }
   ],
   "source": [
    "# N * M 크기의 2차원 리스트 초기화(잘못된 방법)\n",
    "n = 3\n",
    "m = 4\n",
    "array = [[0] * m] * n\n",
    "print(array)\n",
    "\n",
    "array[2][1] = 3\n",
    "print(array)\n",
    "\n",
    "# 2차원 리스트를 초기화할 때는 반드시 리스트 컴프리헨션을 이용해야 한다."
   ]
  },
  {
   "attachments": {},
   "cell_type": "markdown",
   "metadata": {},
   "source": [
    "#### 리스트 관련 기타 메서드"
   ]
  },
  {
   "cell_type": "code",
   "execution_count": 51,
   "metadata": {},
   "outputs": [
    {
     "name": "stdout",
     "output_type": "stream",
     "text": [
      "기본 리스트:  [1, 4, 3]\n",
      "삽입:  [1, 4, 3, 2]\n",
      "오름차순 정렬 [1, 2, 3, 4]\n",
      "내림차순 정렬 [4, 3, 2, 1]\n"
     ]
    }
   ],
   "source": [
    "# append() 메서드\n",
    "a = [1, 4, 3]\n",
    "print(\"기본 리스트: \", a)\n",
    "\n",
    "a.append(2)\n",
    "print(\"삽입: \", a)\n",
    "\n",
    "a.sort()\n",
    "print(\"오름차순 정렬\", a)\n",
    "\n",
    "a.sort(reverse = True)\n",
    "print(\"내림차순 정렬\", a)"
   ]
  },
  {
   "cell_type": "code",
   "execution_count": 52,
   "metadata": {},
   "outputs": [
    {
     "name": "stdout",
     "output_type": "stream",
     "text": [
      "원소 뒤집기:  [1, 2, 3, 4]\n",
      "인덱스 2에 3 추가:  [1, 2, 3, 3, 4]\n",
      "값이 3인 데이터 개수: 2\n",
      "값이 1인 데이터 삭제:  [2, 3, 3, 4]\n"
     ]
    }
   ],
   "source": [
    "# 리스트 원소 뒤집기\n",
    "a.reverse()\n",
    "print(\"원소 뒤집기: \", a)\n",
    "\n",
    "# 특정 인덱스에 데이터 추가\n",
    "a.insert(2, 3)\n",
    "print(\"인덱스 2에 3 추가: \", a)\n",
    "\n",
    "# 특정 값인 데이터 개수 세기\n",
    "print(\"값이 3인 데이터 개수:\" , a.count(3))\n",
    "\n",
    "# 특정 값 데이터 삭제\n",
    "a.remove(1)\n",
    "print(\"값이 1인 데이터 삭제: \", a)\n",
    "\n",
    "# 특히 insert() 함수와 append(), remove() 함수의 시작 복잡도는 O(N)이다."
   ]
  },
  {
   "attachments": {},
   "cell_type": "markdown",
   "metadata": {},
   "source": [
    "#### 시간복잡도 관련 원소 추가 및 제거\n",
    "- insert(), remove() 함수는 O(N) 시간 복잡도를 가진다."
   ]
  },
  {
   "cell_type": "code",
   "execution_count": 55,
   "metadata": {},
   "outputs": [
    {
     "name": "stdout",
     "output_type": "stream",
     "text": [
      "[1, 2, 4]\n"
     ]
    }
   ],
   "source": [
    "# 특정 값을 가지는 원소를 모두 제거하기\n",
    "a = [1, 2, 3, 4, 5, 5, 5]\n",
    "remove_set = {3, 5}\n",
    "\n",
    "result = [i for i in a if i not in remove_set]\n",
    "print(result)\n"
   ]
  },
  {
   "attachments": {},
   "cell_type": "markdown",
   "metadata": {},
   "source": [
    "### 문자열 자료형\n",
    "#### 문자열 초기화\n",
    "- 문자열 변수를 초기화할 때는 큰따옴표(\")나 작은 따옴표(')를 이용한다. \n",
    "- 내부적으로 이용하고 싶다면 큰따옴표 안에 작은 따옴표를 넣거나, 작은 따옴표 안에 큰 따옴표를 넣는다. 혹은 백슬래쉬(\\)를 이용하면 가능하다."
   ]
  },
  {
   "cell_type": "code",
   "execution_count": 58,
   "metadata": {},
   "outputs": [
    {
     "name": "stdout",
     "output_type": "stream",
     "text": [
      "Hello World\n",
      "Don't you know \"Python\"?\n"
     ]
    }
   ],
   "source": [
    "data = \"Hello World\"\n",
    "print(data)\n",
    "\n",
    "data = \"Don't you know \\\"Python\\\"?\"\n",
    "print(data)"
   ]
  },
  {
   "attachments": {},
   "cell_type": "markdown",
   "metadata": {},
   "source": [
    "#### 문자열 연산 ####"
   ]
  },
  {
   "cell_type": "code",
   "execution_count": 64,
   "metadata": {},
   "outputs": [
    {
     "name": "stdout",
     "output_type": "stream",
     "text": [
      "Hello World\n"
     ]
    }
   ],
   "source": [
    "a = \"Hello\"\n",
    "b = \"World\"\n",
    "\n",
    "print(a + \" \" + b)"
   ]
  },
  {
   "cell_type": "code",
   "execution_count": 67,
   "metadata": {},
   "outputs": [
    {
     "name": "stdout",
     "output_type": "stream",
     "text": [
      "String String String \n"
     ]
    }
   ],
   "source": [
    "a = \"String\"\n",
    "print((a + \" \") * 3)"
   ]
  },
  {
   "cell_type": "code",
   "execution_count": 68,
   "metadata": {},
   "outputs": [
    {
     "name": "stdout",
     "output_type": "stream",
     "text": [
      "CD\n"
     ]
    }
   ],
   "source": [
    "a = \"ABCDEF\"\n",
    "print(a[2:4])"
   ]
  },
  {
   "cell_type": "code",
   "execution_count": null,
   "metadata": {},
   "outputs": [],
   "source": []
  }
 ],
 "metadata": {
  "kernelspec": {
   "display_name": "Python 3",
   "language": "python",
   "name": "python3"
  },
  "language_info": {
   "codemirror_mode": {
    "name": "ipython",
    "version": 3
   },
   "file_extension": ".py",
   "mimetype": "text/x-python",
   "name": "python",
   "nbconvert_exporter": "python",
   "pygments_lexer": "ipython3",
   "version": "3.9.6"
  },
  "orig_nbformat": 4
 },
 "nbformat": 4,
 "nbformat_minor": 2
}
