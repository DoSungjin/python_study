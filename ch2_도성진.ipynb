{
  "cells": [
    {
      "cell_type": "markdown",
      "metadata": {
        "id": "view-in-github",
        "colab_type": "text"
      },
      "source": [
        "<a href=\"https://colab.research.google.com/github/sungjindo/python_study/blob/main/ch2_%EB%8F%84%EC%84%B1%EC%A7%84.ipynb\" target=\"_parent\"><img src=\"https://colab.research.google.com/assets/colab-badge.svg\" alt=\"Open In Colab\"/></a>"
      ]
    },
    {
      "cell_type": "markdown",
      "source": [
        "**이름: 도성진**"
      ],
      "metadata": {
        "id": "Sakaugd26DK-"
      }
    },
    {
      "cell_type": "markdown",
      "metadata": {
        "id": "fOqx33tc5-jH"
      },
      "source": [
        "### 1. 다음 코드의 결괏값은 무엇일까?"
      ]
    },
    {
      "cell_type": "code",
      "execution_count": null,
      "metadata": {
        "id": "EmXdSm-qEKgu",
        "colab": {
          "base_uri": "https://localhost:8080/"
        },
        "outputId": "4afd1b5b-dd8d-45a1-e693-45a766216bee"
      },
      "outputs": [
        {
          "output_type": "stream",
          "name": "stdout",
          "text": [
            "shirt\n"
          ]
        }
      ],
      "source": [
        "a = \"Life is too short, you need python\"\n",
        "if \"wife\" in a: print(\"wife\")\n",
        "elif \"python\" in a and \"you\" not in a: print(\"python\")\n",
        "elif \"shirt\" not in a: print(\"shirt\")\n",
        "elif \"need\" in a: print(\"need\")\n",
        "else: print(\"none\")\n",
        "#shirt가 프린트 된다. 3번째 줄의 elif문은 and로 you가 객체에 존재하여 조건이 성립 안된다."
      ]
    },
    {
      "cell_type": "markdown",
      "metadata": {
        "id": "m-2UfzIF5-jS"
      },
      "source": [
        "### 2. while문을 사용해 1부터 1000까지의 자연수 중 3의 배수의 합을 구해 보자. "
      ]
    },
    {
      "cell_type": "code",
      "execution_count": null,
      "metadata": {
        "id": "1MVVxDOgFQt9",
        "colab": {
          "base_uri": "https://localhost:8080/"
        },
        "outputId": "05d7438c-ab96-4932-fa88-ebecd93d4a7c"
      },
      "outputs": [
        {
          "output_type": "stream",
          "name": "stdout",
          "text": [
            "166833\n"
          ]
        }
      ],
      "source": [
        "# 2\n",
        "result = 0\n",
        "i = 1\n",
        "while i < 1000 :\n",
        "    if i%3 == 0 :\n",
        "        result += i\n",
        "    i += 1\n",
        "print(result)"
      ]
    },
    {
      "cell_type": "markdown",
      "metadata": {
        "id": "o4YdLg1A5-jV"
      },
      "source": [
        "### 3. 리스트 중에서 홀수에만 2를 곱하여 저장하는 다음 코드가 있다."
      ]
    },
    {
      "cell_type": "code",
      "execution_count": null,
      "metadata": {
        "id": "XKJLEhc5GTdZ",
        "colab": {
          "base_uri": "https://localhost:8080/"
        },
        "outputId": "ad1899ff-7886-4658-e010-e0b2e3c6392c"
      },
      "outputs": [
        {
          "output_type": "stream",
          "name": "stdout",
          "text": [
            "[2]\n",
            "[2, 6]\n",
            "[2, 6, 10]\n"
          ]
        }
      ],
      "source": [
        "numbers = [1, 2, 3, 4, 5]\n",
        "\n",
        "result = []\n",
        "for n in numbers:\n",
        "    if n % 2 == 1:\n",
        "        result.append(n*2)\n",
        "        print(result)"
      ]
    },
    {
      "cell_type": "markdown",
      "metadata": {
        "id": "bexWat3k5-jX"
      },
      "source": [
        "### 위 코드를 리스트 내포를 사용하여 표현해 보자."
      ]
    },
    {
      "cell_type": "code",
      "execution_count": null,
      "metadata": {
        "id": "GAaIceoPNKnM",
        "colab": {
          "base_uri": "https://localhost:8080/"
        },
        "outputId": "c5f874a6-83a4-445a-990e-e9e1d9158cb8"
      },
      "outputs": [
        {
          "output_type": "stream",
          "name": "stdout",
          "text": [
            "[2, 6, 10]\n"
          ]
        }
      ],
      "source": [
        "numbers = [1, 2, 3, 4, 5]\n",
        "result = [n*2 for n in numbers if n%2 == 1]\n",
        "print(result)"
      ]
    },
    {
      "cell_type": "markdown",
      "metadata": {
        "id": "3OjFTlzT5-jZ"
      },
      "source": [
        "### 4. 주어진 자연수가 홀수인지 짝수인지 판별해 주는 함수를 작성해 보자. "
      ]
    },
    {
      "cell_type": "code",
      "execution_count": null,
      "metadata": {
        "id": "V1s8AkhPOZbd"
      },
      "outputs": [],
      "source": [
        "def is_odd(number):\n",
        "    if number%2 == 1:\n",
        "        return True\n",
        "    else:\n",
        "        return False"
      ]
    },
    {
      "cell_type": "code",
      "execution_count": null,
      "metadata": {
        "id": "MoMCYl8JO1nr",
        "colab": {
          "base_uri": "https://localhost:8080/"
        },
        "outputId": "030c66c3-338a-4551-a3c0-8309c1bae411"
      },
      "outputs": [
        {
          "output_type": "execute_result",
          "data": {
            "text/plain": [
              "True"
            ]
          },
          "metadata": {},
          "execution_count": 11
        }
      ],
      "source": [
        "is_odd(3)"
      ]
    },
    {
      "cell_type": "code",
      "execution_count": null,
      "metadata": {
        "id": "oNyXUs1nO1xz",
        "colab": {
          "base_uri": "https://localhost:8080/"
        },
        "outputId": "60ba3989-d567-4bcf-d93a-13b501ec1fb9"
      },
      "outputs": [
        {
          "output_type": "execute_result",
          "data": {
            "text/plain": [
              "False"
            ]
          },
          "metadata": {},
          "execution_count": 12
        }
      ],
      "source": [
        "is_odd(4)"
      ]
    },
    {
      "cell_type": "markdown",
      "metadata": {
        "id": "Ayx9_KyB5-jb"
      },
      "source": [
        "### 5. 입력으로 들어오는 모든 수의 평균 값을 계산해 주는 함수를 작성해 보자. "
      ]
    },
    {
      "cell_type": "code",
      "execution_count": null,
      "metadata": {
        "id": "N0Wyn9DxO5wq"
      },
      "outputs": [],
      "source": [
        "def avg_numbers(*args):\n",
        "    result = 0\n",
        "    for i in args:\n",
        "        result += i\n",
        "    return result/len(args)"
      ]
    },
    {
      "cell_type": "code",
      "execution_count": null,
      "metadata": {
        "id": "FV8YMOQSPY34",
        "colab": {
          "base_uri": "https://localhost:8080/"
        },
        "outputId": "e876cb4d-e487-4b64-e86f-34a37aee0ded"
      },
      "outputs": [
        {
          "output_type": "execute_result",
          "data": {
            "text/plain": [
              "1.5"
            ]
          },
          "metadata": {},
          "execution_count": 17
        }
      ],
      "source": [
        "avg_numbers(1,2)"
      ]
    },
    {
      "cell_type": "code",
      "execution_count": null,
      "metadata": {
        "id": "o9Ofw2FwPb8V",
        "colab": {
          "base_uri": "https://localhost:8080/"
        },
        "outputId": "c03c98ce-f537-437d-fbb2-da133e78df2e"
      },
      "outputs": [
        {
          "output_type": "execute_result",
          "data": {
            "text/plain": [
              "3.0"
            ]
          },
          "metadata": {},
          "execution_count": 18
        }
      ],
      "source": [
        "avg_numbers(1,2,3,4,5)"
      ]
    }
  ],
  "metadata": {
    "colab": {
      "name": "ch2_도성진.ipynb",
      "provenance": [],
      "collapsed_sections": [],
      "include_colab_link": true
    },
    "kernelspec": {
      "display_name": "Python 3",
      "language": "python",
      "name": "python3"
    },
    "language_info": {
      "codemirror_mode": {
        "name": "ipython",
        "version": 3
      },
      "file_extension": ".py",
      "mimetype": "text/x-python",
      "name": "python",
      "nbconvert_exporter": "python",
      "pygments_lexer": "ipython3",
      "version": "3.6.5"
    }
  },
  "nbformat": 4,
  "nbformat_minor": 0
}