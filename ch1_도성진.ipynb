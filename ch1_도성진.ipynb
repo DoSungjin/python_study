{
  "cells": [
    {
      "cell_type": "markdown",
      "metadata": {
        "id": "view-in-github",
        "colab_type": "text"
      },
      "source": [
        "<a href=\"https://colab.research.google.com/github/sungjindo/python_study/blob/main/ch1_%EB%8F%84%EC%84%B1%EC%A7%84.ipynb\" target=\"_parent\"><img src=\"https://colab.research.google.com/assets/colab-badge.svg\" alt=\"Open In Colab\"/></a>"
      ]
    },
    {
      "cell_type": "markdown",
      "source": [
        "**이름: 도성진**"
      ],
      "metadata": {
        "id": "Y703EjA25sMB"
      }
    },
    {
      "cell_type": "markdown",
      "metadata": {
        "id": "OtsCFcK75rU6"
      },
      "source": [
        "### 1. A학생의 과목별 점수는 다음과 같다. 평균 점수를 구하여라.\n",
        "* 국어:80, 영어:75, 수학:55"
      ]
    },
    {
      "cell_type": "code",
      "execution_count": null,
      "metadata": {
        "id": "8tLWZhe2_M6M",
        "colab": {
          "base_uri": "https://localhost:8080/"
        },
        "outputId": "eb194e08-500a-4111-806a-46337163b2fc"
      },
      "outputs": [
        {
          "output_type": "stream",
          "name": "stdout",
          "text": [
            "70.0\n",
            "70.0\n"
          ]
        }
      ],
      "source": [
        "a = 80\n",
        "b = 75\n",
        "c = 55\n",
        "print((a+b+c)/3)\n",
        "avg = (a+b+c)/3\n",
        "print(avg)\n",
        "#이처럼 여러방법 가능함.\n",
        "#주석처리\n",
        "#=은 대입연산자로 뒤의 값을 앞의 값으로 정의 ==가 같다라는 것을 정의 하고 표시함\n",
        "#에서는 소괄호만 나타내도됨"
      ]
    },
    {
      "cell_type": "markdown",
      "metadata": {
        "id": "E7Mm2--05rU-"
      },
      "source": [
        "### 2. 자연수 13이 홀수인지 짝수인지 판별할 수 있는 방법에 대해 설명하라."
      ]
    },
    {
      "cell_type": "code",
      "execution_count": null,
      "metadata": {
        "id": "mAZvYXnk_8LO",
        "colab": {
          "base_uri": "https://localhost:8080/"
        },
        "outputId": "2de709d0-e456-4aa5-9140-cdb9b9e5af20"
      },
      "outputs": [
        {
          "output_type": "stream",
          "name": "stdout",
          "text": [
            "홀수\n"
          ]
        }
      ],
      "source": [
        "if 13 % 2 is 1:\n",
        "    print(\"홀수\")\n",
        "else:\n",
        "    print(\"짝수\")"
      ]
    },
    {
      "cell_type": "markdown",
      "metadata": {
        "id": "NpmqxgFq5rU_"
      },
      "source": [
        "### 3. A의 주민등록번호는 881122-1234567이다. A의 주민등록번호를 연월일(yymmdd)부분과 그 뒤의 숫자부분으로 나누어 출력해보자."
      ]
    },
    {
      "cell_type": "code",
      "execution_count": null,
      "metadata": {
        "id": "OeLNkRFvAE6l",
        "colab": {
          "base_uri": "https://localhost:8080/"
        },
        "outputId": "f96b9805-5ce2-46b2-c1f3-6493a600a592"
      },
      "outputs": [
        {
          "output_type": "stream",
          "name": "stdout",
          "text": [
            "주민등록 앞자리: 881122\n",
            "주민등록 뒷자리: 1234567\n"
          ]
        }
      ],
      "source": [
        "pin = \"881122-1234567\"\n",
        "yymmdd = pin[0:6]\n",
        "num = pin[7:14]\n",
        "print(\"주민등록 앞자리:\", yymmdd)\n",
        "print(\"주민등록 뒷자리:\", num)"
      ]
    },
    {
      "cell_type": "markdown",
      "metadata": {
        "id": "Ag1AFL705rVA"
      },
      "source": [
        "### 4. 주민등록번호에서 성별을 나타내는 숫자를 출력해 보자."
      ]
    },
    {
      "cell_type": "code",
      "execution_count": null,
      "metadata": {
        "id": "fbyXLMOBAHIG",
        "colab": {
          "base_uri": "https://localhost:8080/"
        },
        "outputId": "328a4d7a-3927-4462-b044-2ad996483618"
      },
      "outputs": [
        {
          "output_type": "stream",
          "name": "stdout",
          "text": [
            "주민등록성별: 1\n"
          ]
        }
      ],
      "source": [
        "print(\"주민등록성별:\", pin[7])"
      ]
    },
    {
      "cell_type": "markdown",
      "metadata": {
        "id": "RC-Zmh3W5rVB"
      },
      "source": [
        "### 5. (1,2,3) 튜플에 값 4를 추가하여 (1,2,3,4)를 만들어 출력해 보자. "
      ]
    },
    {
      "cell_type": "code",
      "execution_count": null,
      "metadata": {
        "id": "bCC8R1dRAuuA",
        "colab": {
          "base_uri": "https://localhost:8080/"
        },
        "outputId": "1a77add7-3862-41df-c38c-3fb01d70d874"
      },
      "outputs": [
        {
          "output_type": "stream",
          "name": "stdout",
          "text": [
            "(1, 2, 3, 4)\n"
          ]
        }
      ],
      "source": [
        "a = (1,2,3)\n",
        "a = a + (4,)\n",
        "print(a)"
      ]
    },
    {
      "cell_type": "markdown",
      "metadata": {
        "id": "TTWLmNAq5rVC"
      },
      "source": [
        "### 6. 다음과 같은 딕셔너리 a가 있다."
      ]
    },
    {
      "cell_type": "code",
      "execution_count": null,
      "metadata": {
        "id": "fqxZTh8yA4te",
        "colab": {
          "base_uri": "https://localhost:8080/"
        },
        "outputId": "a5011789-1fd0-49f4-d702-4cad2695c41d"
      },
      "outputs": [
        {
          "output_type": "execute_result",
          "data": {
            "text/plain": [
              "{'b': 'some', 'hard': 'python'}"
            ]
          },
          "metadata": {},
          "execution_count": 42
        }
      ],
      "source": [
        "a = dict({'b' : 'some', 'hard' : 'python'})\n",
        "a"
      ]
    },
    {
      "cell_type": "markdown",
      "metadata": {
        "id": "3kYSdHn25rVD"
      },
      "source": [
        "### 다음 중 오류가 발생하는 경우를 고르고, 그 이유를 설명해 보자. "
      ]
    },
    {
      "cell_type": "code",
      "execution_count": null,
      "metadata": {
        "id": "ckg6STAJBvUk"
      },
      "outputs": [],
      "source": [
        "a['name'] = 'python'"
      ]
    },
    {
      "cell_type": "code",
      "execution_count": null,
      "metadata": {
        "id": "XAGuduDTBzn-"
      },
      "outputs": [],
      "source": [
        "a[('a',)] = 'python'"
      ]
    },
    {
      "cell_type": "code",
      "execution_count": null,
      "metadata": {
        "id": "e0XBpjFiB4Z2",
        "colab": {
          "base_uri": "https://localhost:8080/",
          "height": 174
        },
        "outputId": "dd3b5637-857a-4212-988e-bd7e88c90f89"
      },
      "outputs": [
        {
          "output_type": "error",
          "ename": "TypeError",
          "evalue": "ignored",
          "traceback": [
            "\u001b[0;31m---------------------------------------------------------------------------\u001b[0m",
            "\u001b[0;31mTypeError\u001b[0m                                 Traceback (most recent call last)",
            "\u001b[0;32m<ipython-input-45-3976fbf303e6>\u001b[0m in \u001b[0;36m<module>\u001b[0;34m()\u001b[0m\n\u001b[0;32m----> 1\u001b[0;31m \u001b[0ma\u001b[0m\u001b[0;34m[\u001b[0m\u001b[0;34m[\u001b[0m\u001b[0;36m1\u001b[0m\u001b[0;34m]\u001b[0m\u001b[0;34m]\u001b[0m \u001b[0;34m=\u001b[0m \u001b[0;34m'python'\u001b[0m\u001b[0;34m\u001b[0m\u001b[0;34m\u001b[0m\u001b[0m\n\u001b[0m",
            "\u001b[0;31mTypeError\u001b[0m: unhashable type: 'list'"
          ]
        }
      ],
      "source": [
        "a[[1]] = 'python'"
      ]
    },
    {
      "cell_type": "code",
      "execution_count": null,
      "metadata": {
        "id": "jQKNKImYB7VT"
      },
      "outputs": [],
      "source": [
        "a[250] = 'python'"
      ]
    },
    {
      "cell_type": "code",
      "execution_count": null,
      "metadata": {
        "id": "gEg_MEO_5rVE",
        "colab": {
          "base_uri": "https://localhost:8080/",
          "height": 137
        },
        "outputId": "77df1f93-3a3e-4dc3-9b0c-b8f2fc5f50ea"
      },
      "outputs": [
        {
          "output_type": "error",
          "ename": "SyntaxError",
          "evalue": "ignored",
          "traceback": [
            "\u001b[0;36m  File \u001b[0;32m\"<ipython-input-47-13e2ea9f01e8>\"\u001b[0;36m, line \u001b[0;32m1\u001b[0m\n\u001b[0;31m    이유: ???\u001b[0m\n\u001b[0m        ^\u001b[0m\n\u001b[0;31mSyntaxError\u001b[0m\u001b[0;31m:\u001b[0m invalid syntax\n"
          ]
        }
      ],
      "source": [
        "이유: key의 값에 muteble한 변수인 list[]가 입력 되었기 때문?"
      ]
    },
    {
      "cell_type": "markdown",
      "metadata": {
        "id": "3-bxqnO-5rVE"
      },
      "source": [
        "### 7. [1, 3, 5, 4, 2] 리스트를 [5, 4, 3, 2, 1]로 만들어 보자."
      ]
    },
    {
      "cell_type": "code",
      "execution_count": null,
      "metadata": {
        "id": "8oyswjYvB-j7",
        "colab": {
          "base_uri": "https://localhost:8080/"
        },
        "outputId": "8435f5a6-d88c-44f7-f419-beee6280ad3e"
      },
      "outputs": [
        {
          "output_type": "stream",
          "name": "stdout",
          "text": [
            "[5, 4, 3, 2, 1]\n"
          ]
        }
      ],
      "source": [
        "a = [1, 3, 5, 4, 2]\n",
        "a.sort()\n",
        "a.reverse()\n",
        "print(a)"
      ]
    },
    {
      "cell_type": "markdown",
      "metadata": {
        "id": "etMq3Vrw5rVF"
      },
      "source": [
        "### 8. 파이썬은 다음처럼 동일한 값에 여러 개의 변수를 선언할 수 있다. 다음과 같이 a, b 변수를 선언한 후 a의 두 번째 요솟값을 변경하면 b 값은 어떻게 될까? 그리고 이런 결과가 나오는 이유에 대해 설명해 보자. "
      ]
    },
    {
      "cell_type": "code",
      "execution_count": null,
      "metadata": {
        "id": "5vsD_fbFCNVH",
        "colab": {
          "base_uri": "https://localhost:8080/"
        },
        "outputId": "cd5468fd-affb-48b9-8e8d-ed44740a602c"
      },
      "outputs": [
        {
          "output_type": "stream",
          "name": "stdout",
          "text": [
            "[1, 4, 3]\n"
          ]
        }
      ],
      "source": [
        "a = b = [1,2,3]\n",
        "a[1] = 4\n",
        "print(b)"
      ]
    },
    {
      "cell_type": "code",
      "execution_count": null,
      "metadata": {
        "id": "_7jWz95C5rVF"
      },
      "outputs": [],
      "source": [
        "이유: b값은 4가 추가된 [1,4,3]이 된다. 이유는 리스트는 muterble한 객체로 a와 b가 같은 객체로 만들어 졌다. a의 객체가 변하면 b도 변한 객체로 설정이 된다."
      ]
    }
  ],
  "metadata": {
    "colab": {
      "collapsed_sections": [],
      "name": "ch1_도성진.ipynb",
      "provenance": [],
      "include_colab_link": true
    },
    "kernelspec": {
      "display_name": "Python 3",
      "language": "python",
      "name": "python3"
    },
    "language_info": {
      "codemirror_mode": {
        "name": "ipython",
        "version": 3
      },
      "file_extension": ".py",
      "mimetype": "text/x-python",
      "name": "python",
      "nbconvert_exporter": "python",
      "pygments_lexer": "ipython3",
      "version": "3.8.3"
    }
  },
  "nbformat": 4,
  "nbformat_minor": 0
}