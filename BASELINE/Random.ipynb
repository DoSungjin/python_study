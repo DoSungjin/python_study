{
  "nbformat": 4,
  "nbformat_minor": 0,
  "metadata": {
    "colab": {
      "provenance": [],
      "authorship_tag": "ABX9TyNKoBZUHU9Cu/DAP84b32rz",
      "include_colab_link": true
    },
    "kernelspec": {
      "name": "python3",
      "display_name": "Python 3"
    },
    "language_info": {
      "name": "python"
    }
  },
  "cells": [
    {
      "cell_type": "markdown",
      "metadata": {
        "id": "view-in-github",
        "colab_type": "text"
      },
      "source": [
        "<a href=\"https://colab.research.google.com/github/sungjindo/python_study/blob/main/Random.ipynb\" target=\"_parent\"><img src=\"https://colab.research.google.com/assets/colab-badge.svg\" alt=\"Open In Colab\"/></a>"
      ]
    },
    {
      "cell_type": "code",
      "source": [
        "import random"
      ],
      "metadata": {
        "id": "3SWEch02i7Wz"
      },
      "execution_count": 90,
      "outputs": []
    },
    {
      "cell_type": "code",
      "execution_count": 91,
      "metadata": {
        "id": "SudhPKwocyL3"
      },
      "outputs": [],
      "source": [
        "R_list = ['유토빌',\n",
        "'페달링',\n",
        "'브이티코퍼레이션',\n",
        "\n",
        "'언더라인',\n",
        "'에임비랩',\n",
        "'히어로',\n",
        "'트랙팜',\n",
        "'클리카',\n",
        "'스프레틱스',\n",
        "'위아쏘리얼',\n",
        "# '리치크루',\n",
        "'스위트앤데이터',\n",
        "\n",
        "# '루토닉스',\n",
        "\n",
        "'피아스페이스',\n",
        "'블루레이커스',\n",
        "'릴리프마인드',\n",
        "'로빈후드 플레인',\n",
        "'스무슬리',\n",
        "'스밈팩토리',\n",
        "# '타임패스',\n",
        "'무니스',\n",
        "'필드쉐어']\n"
      ]
    },
    {
      "cell_type": "code",
      "source": [
        "list_4 = ['제이엔제이테크', '스카이온에듀', '옴프','드온']"
      ],
      "metadata": {
        "id": "LAz9YWu0jLC9"
      },
      "execution_count": 92,
      "outputs": []
    },
    {
      "cell_type": "code",
      "source": [
        "random.seed(15551)\n",
        "Kim = random.sample(R_list, 7)\n",
        "for i in range(len(Kim)):\n",
        "  R_list.remove(Kim[i])\n",
        "Park = random.sample(R_list, 7)\n",
        "for j in range(len(Park)):\n",
        "  R_list.remove(Park[j])\n",
        "Do=R_list\n",
        "for k in range(len(list_4)):\n",
        "     Do.append(list_4[k])\n",
        "print(f'{Kim} 총 {len(Kim)} 개 입니다.')\n",
        "print(f'{Park} 총 {len(Park)} 개 입니다.')\n",
        "print(f'{Do} 총 {len(Do)} 개 입니다.')"
      ],
      "metadata": {
        "colab": {
          "base_uri": "https://localhost:8080/"
        },
        "id": "Vjkf6rctdw3C",
        "outputId": "4da813e3-d109-4eab-e75b-c79023a55bc3"
      },
      "execution_count": 88,
      "outputs": [
        {
          "output_type": "stream",
          "name": "stdout",
          "text": [
            "['블루레이커스', '히어로', '로빈후드 플레인', '스무슬리', '스밈팩토리', '릴리프마인드', '스프레틱스'] 총 7 개 입니다.\n",
            "['무니스', '필드쉐어', '클리카', '브이티코퍼레이션', '유토빌', '스위트앤데이터', '피아스페이스'] 총 7 개 입니다.\n",
            "['페달링', '언더라인', '에임비랩', '트랙팜', '위아쏘리얼', '제이엔제이테크', '스카이온에듀', '옴프', '드온'] 총 9 개 입니다.\n"
          ]
        }
      ]
    },
    {
      "cell_type": "code",
      "source": [
        "random.seed(6)\n",
        "R_list=Rlist\n",
        "Kim = random.sample(R_list, 8)\n",
        "for i in range(len(Kim)):\n",
        "  R_list.remove(Kim[i])\n",
        "Park = random.sample(R_list, 8)\n",
        "for j in range(len(Park)):\n",
        "  R_list.remove(Park[j])\n",
        "Do=R_list\n",
        "for k in range(len(list_4)):\n",
        "     Do.append(list_4[k])\n",
        "print(f'{Kim} 총 {len(kim)} 개 입니다.')\n",
        "print(f'{Park} 총 {len(Park)} 개 입니다.')\n",
        "print(f'{Do} 총 {len(Do)} 개 입니다.')"
      ],
      "metadata": {
        "id": "zA2yrgE0gnf9"
      },
      "execution_count": null,
      "outputs": []
    }
  ]
}