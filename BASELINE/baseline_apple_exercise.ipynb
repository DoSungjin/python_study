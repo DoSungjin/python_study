{
  "nbformat": 4,
  "nbformat_minor": 0,
  "metadata": {
    "colab": {
      "provenance": [],
      "include_colab_link": true
    },
    "kernelspec": {
      "name": "python3",
      "display_name": "Python 3"
    },
    "language_info": {
      "name": "python"
    },
    "accelerator": "GPU",
    "gpuClass": "standard"
  },
  "cells": [
    {
      "cell_type": "markdown",
      "metadata": {
        "id": "view-in-github",
        "colab_type": "text"
      },
      "source": [
        "<a href=\"https://colab.research.google.com/github/DoSungjin/python_study/blob/main/baseline_apple_exercise.ipynb\" target=\"_parent\"><img src=\"https://colab.research.google.com/assets/colab-badge.svg\" alt=\"Open In Colab\"/></a>"
      ]
    },
    {
      "cell_type": "markdown",
      "source": [
        "# 사과 종 분류 과제\n",
        "\n",
        "## 데이터 구조\n",
        "\n",
        "```\n",
        "$ DATA/\n",
        "├── train/\n",
        "│   ├── xxx.jpg\n",
        "│   ├── yyy.jpg\n",
        "│   └── zzz.jpg\n",
        "├── test/\n",
        "│   ├── xxx.jpg\n",
        "│   ├── yyy.jpg\n",
        "│   └── zzz.jpg\n",
        "├── train.csv\n",
        "├── test.csv\n",
        "├── sample_submission.csv\n",
        "├── train_labels.csv (코드 실행 후 생성)\n",
        "└── valid_labels.csv (코드 실행 후 생성)\n",
        "```\n",
        "\n"
      ],
      "metadata": {
        "id": "x7oEKith_Q9s"
      }
    },
    {
      "cell_type": "markdown",
      "source": [
        "## 0. 사전 준비"
      ],
      "metadata": {
        "id": "pvXV21S9BJHQ"
      }
    },
    {
      "cell_type": "markdown",
      "source": [
        "### 구글 드라이브 마운트"
      ],
      "metadata": {
        "id": "zzlliosv9w_s"
      }
    },
    {
      "cell_type": "code",
      "execution_count": null,
      "metadata": {
        "id": "se-TrCZetiy-",
        "colab": {
          "base_uri": "https://localhost:8080/"
        },
        "outputId": "ae807c6b-db33-4a09-96a1-732913822483"
      },
      "outputs": [
        {
          "output_type": "stream",
          "name": "stdout",
          "text": [
            "Mounted at /content/drive\n"
          ]
        }
      ],
      "source": [
        "from google.colab import drive\n",
        "drive.mount('/content/drive')"
      ]
    },
    {
      "cell_type": "markdown",
      "source": [
        "\n",
        "### 데이터 압축 풀기"
      ],
      "metadata": {
        "id": "UYNsZgNjQtGe"
      }
    },
    {
      "cell_type": "code",
      "source": [
        "import os\n",
        "os.chdir('/content/drive/MyDrive/apple/DATA')"
      ],
      "metadata": {
        "id": "KLtbiDCKOFyN"
      },
      "execution_count": null,
      "outputs": []
    },
    {
      "cell_type": "code",
      "source": [
        "# !unzip train.zip"
      ],
      "metadata": {
        "id": "e0hyh_eGOKmp"
      },
      "execution_count": null,
      "outputs": []
    },
    {
      "cell_type": "code",
      "source": [
        "# !unzip test.zip"
      ],
      "metadata": {
        "id": "nmx4BX7fR8Rf"
      },
      "execution_count": null,
      "outputs": []
    },
    {
      "cell_type": "markdown",
      "source": [
        "### 필요 라이브러리 설치 (timm / scikitlearnin)"
      ],
      "metadata": {
        "id": "9tHwP6sV7QND"
      }
    },
    {
      "cell_type": "code",
      "source": [
        "!pip install timm\n",
        "!pip install -U scikit-learn"
      ],
      "metadata": {
        "id": "DtkfePvY_U6K"
      },
      "execution_count": null,
      "outputs": []
    },
    {
      "cell_type": "markdown",
      "source": [
        "## 1. 라이브러리 불러오기"
      ],
      "metadata": {
        "id": "LYB4NCPy90Q8"
      }
    },
    {
      "cell_type": "code",
      "source": [
        "import torch\n",
        "import torchvision.transforms as transforms\n",
        "from torch.utils.data import DataLoader\n",
        "\n",
        "from datetime import datetime, timezone, timedelta\n",
        "import numpy as np\n",
        "import random\n",
        "import os\n",
        "import copy\n",
        "\n",
        "import pandas as pd\n",
        "import matplotlib.pyplot as plt\n",
        "\n",
        "from PIL import Image\n",
        "\n",
        "from sklearn.model_selection import train_test_split\n",
        "from tqdm import tqdm\n",
        "import random\n",
        "\n",
        "import timm\n",
        "from torch import nn\n",
        "\n",
        "from sklearn.metrics import accuracy_score, f1_score"
      ],
      "metadata": {
        "id": "2uxefAm6nYWB"
      },
      "execution_count": null,
      "outputs": []
    },
    {
      "cell_type": "markdown",
      "source": [
        "## 2. 경로 / 기타 인자 설정"
      ],
      "metadata": {
        "id": "2mq8B7vGnvgI"
      }
    },
    {
      "cell_type": "markdown",
      "source": [
        "### 데이터 경로 설정"
      ],
      "metadata": {
        "id": "QujP6aU59EuE"
      }
    },
    {
      "cell_type": "code",
      "source": [
        "# 프로젝트 경로\n",
        "PROJECT_DIR = '/content/drive/MyDrive/apple'\n",
        "os.chdir(PROJECT_DIR)\n",
        "\n",
        "# 데이터 경로\n",
        "DATA_DIR = os.path.join(PROJECT_DIR, 'DATA')\n",
        "TRAIN_IMG_DIR = os.path.join(DATA_DIR, 'train')\n",
        "TRAIN_LABEL_DIR = os.path.join(DATA_DIR, 'train.csv')\n",
        "TEST_IMG_DIR = os.path.join(DATA_DIR, 'test')\n",
        "TEST_LABEL_DIR = os.path.join(DATA_DIR, 'test.csv')\n",
        "SAMPLE_DIR = os.path.join(DATA_DIR, 'sample_submission.csv')"
      ],
      "metadata": {
        "id": "qgayAGWan_sU"
      },
      "execution_count": null,
      "outputs": []
    },
    {
      "cell_type": "code",
      "source": [
        "# 파일 수 확인 \n",
        "print(len(os.listdir(TRAIN_IMG_DIR)))\n",
        "print(len(os.listdir(TEST_IMG_DIR)))"
      ],
      "metadata": {
        "id": "xITqguKqd9j5"
      },
      "execution_count": null,
      "outputs": []
    },
    {
      "cell_type": "markdown",
      "source": [
        "### 결과 저장 경로 설정"
      ],
      "metadata": {
        "id": "hcdHvBJeoQ1o"
      }
    },
    {
      "cell_type": "code",
      "source": [
        "# 시간 고유값 \n",
        "kst = timezone(timedelta(hours=9))        \n",
        "train_serial = datetime.now(tz=kst).strftime(\"%Y%m%d_%H%M%S\")\n",
        "\n",
        "# 기록 경로\n",
        "RECORDER_DIR = os.path.join(PROJECT_DIR, 'results', 'train', train_serial)\n",
        "# 현재 시간 기준 폴더 생성\n",
        "os.makedirs(RECORDER_DIR, exist_ok=True)    "
      ],
      "metadata": {
        "id": "7LpinGGroRkV"
      },
      "execution_count": null,
      "outputs": []
    },
    {
      "cell_type": "markdown",
      "source": [
        "### 시드 설정"
      ],
      "metadata": {
        "id": "O_YRt3MToLOn"
      }
    },
    {
      "cell_type": "code",
      "source": [
        "# 시드\n",
        "RANDOM_SEED = 42\n",
        "torch.manual_seed(RANDOM_SEED)\n",
        "torch.backends.cudnn.deterministic = True\n",
        "torch.backends.cudnn.benchmark = False\n",
        "np.random.seed(RANDOM_SEED)\n",
        "random.seed(RANDOM_SEED)"
      ],
      "metadata": {
        "id": "rzzY0Lj7nyJ7"
      },
      "execution_count": null,
      "outputs": []
    },
    {
      "cell_type": "markdown",
      "source": [
        "### 디바이스 설정"
      ],
      "metadata": {
        "id": "RfZsR4qrnzTM"
      }
    },
    {
      "cell_type": "code",
      "source": [
        "# GPU\n",
        "device = torch.device('cuda' if torch.cuda.is_available() else 'cpu')"
      ],
      "metadata": {
        "id": "lziMVSbFnzdh"
      },
      "execution_count": null,
      "outputs": []
    },
    {
      "cell_type": "markdown",
      "source": [
        "## 3. 데이터 불러오기 및 분할"
      ],
      "metadata": {
        "id": "-BjlfnEM9PBe"
      }
    },
    {
      "cell_type": "markdown",
      "source": [
        "### Train 라벨"
      ],
      "metadata": {
        "id": "c1Poqqr9n2Nt"
      }
    },
    {
      "cell_type": "code",
      "source": [
        "# 학습 파일\n",
        "traindf = pd.read_csv(TRAIN_LABEL_DIR)\n",
        "\n",
        "traindf.head()"
      ],
      "metadata": {
        "id": "JdDfAUwe-v4l"
      },
      "execution_count": null,
      "outputs": []
    },
    {
      "cell_type": "markdown",
      "source": [
        "### Train 이미지 예시"
      ],
      "metadata": {
        "id": "jbe_cLknA3lO"
      }
    },
    {
      "cell_type": "code",
      "source": [
        "# 이미지 예시\n",
        "example_index = random.randrange(len(traindf)) # 0,1,2,...\n",
        "example_imageid = traindf['img_id'][example_index]\n",
        "example_image_path = os.path.join(TRAIN_IMG_DIR, example_imageid)\n",
        "example_image = Image.open(example_image_path)\n",
        "\n",
        "plt.imshow(example_image)"
      ],
      "metadata": {
        "id": "jTErqDmlA_y0"
      },
      "execution_count": null,
      "outputs": []
    },
    {
      "cell_type": "markdown",
      "source": [
        "### Train / Validation 분할"
      ],
      "metadata": {
        "id": "IIf2Fq96CIGw"
      }
    },
    {
      "cell_type": "code",
      "source": [
        "# 80% / 20% 비율로 분할\n",
        "train,val = train_test_split(traindf, test_size=0.2, shuffle=True)\n",
        "\n",
        "# train / validation로 나눈 데이터 프레임 저장\n",
        "train.to_csv(os.path.join(DATA_DIR, 'train_labels.csv'), index=False)\n",
        "val.to_csv(os.path.join(DATA_DIR, 'val_labels.csv'),index=False)"
      ],
      "metadata": {
        "id": "IH7FMI8yCNGG"
      },
      "execution_count": null,
      "outputs": []
    },
    {
      "cell_type": "markdown",
      "source": [
        "## 4. Dataset "
      ],
      "metadata": {
        "id": "aslCWzx7F3Vr"
      }
    },
    {
      "cell_type": "markdown",
      "source": [
        "### Dataset 클래스 정의"
      ],
      "metadata": {
        "id": "QR6jIoWyG5Bi"
      }
    },
    {
      "cell_type": "code",
      "source": [
        "class AppleDataset(Dataset):\n",
        "  def __init__(self, img_folder, labelpath):\n",
        "    self.df = pd.read_csv(labelpath, usecols=['img_id','a_type'],dtype={'a_ty pe':str})\n",
        "    self.label_encoding = {'HJ':0, 'HR':1, 'SG':2, 'AR':3}\n",
        "    self.img_folder = img_folder\n",
        "    self.transforms = transforms.Compose([\n",
        "        transforms.ToTensor(),\n",
        "        transforms.Normalize([0.485,0.456,0.406],[0.229,0.224,0.225])\n",
        "    ])  \n",
        "    self.img_ids = list(self.df['img_id'])\n",
        "    self.labels = list(self.df['a_type'])\n",
        "  \n",
        "  def __len__(self):\n",
        "    return len(self.img_ids)\n",
        "\n",
        "  def __getitem__(self, index):\n",
        "    impath = os.path.join(self.img_folder, self.img_ids[index])\n",
        "    img = Image.open(impath)\n",
        "    img = self.transforms(img)\n",
        "    lbl = self.labels[index]\n",
        "    lbl = self.label_encoding[lbl]\n",
        "    return img,lbl\n"
      ],
      "metadata": {
        "id": "2Eo03nzZGAGQ"
      },
      "execution_count": null,
      "outputs": []
    },
    {
      "cell_type": "markdown",
      "source": [
        "## 5. 모델 정의"
      ],
      "metadata": {
        "id": "FcQXZyJkJDYB"
      }
    },
    {
      "cell_type": "markdown",
      "source": [
        "### 모델 Class 생성"
      ],
      "metadata": {
        "id": "nDv7sfQxuOl9"
      }
    },
    {
      "cell_type": "code",
      "source": [
        "F = nn.functional\n",
        "\n",
        "class CustomNet(nn.Module):\n",
        "  def __init__(self):\n",
        "    super(CustomNet, self).__init__()\n",
        "    # 합성곱 층\n",
        "    self.conv1 = nn.Conv2d(in_channels=3, out_channels=6, kernel_size=3)\n",
        "    self.pool1 = nn.MaxPool2d(2,2)\n",
        "    self.conv2 = nn.Conv2d(6,3,3,4)\n",
        "    self.pool2 = nn.MaxPool2d(2,2)\n",
        "    self.conv3 = nn.Conv2d(3,3,3,padding=1)\n",
        "\n",
        "    # 완전 연결 층\n",
        "    self.fc1 = nn.Linear(3072, 1036)\n",
        "    self.fc2 = nn.Linear(1036, 518)\n",
        "    self.fc3 = nn.Linear(518, 4)\n",
        "\n",
        "  def forward(self, x):\n",
        "    x = self.pool1(F.relu(self.conv1(x)))\n",
        "    x = self.pool2(F.relu(self.conv2(x)))\n",
        "    x = F.relu(self.conv3(x))\n",
        "    x = torch.flatten(x, 1) \n",
        "    x = F.relu(self.fc1(x))\n",
        "    x = F.relu(self.fc2(x))\n",
        "    output = self.fc3(x)   \n",
        "    return output\n",
        "  \n",
        "class EffNet(nn.Module):\n",
        "  def __init__(self):\n",
        "    super(EffNet, self).__init__()\n",
        "    self.model = timm.create_model('efficientnet_b4', pretrained=True)\n",
        "    self.model.classifier = nn.Sequential(\n",
        "        nn.Linear(in_features = 1792, out_features = 625),\n",
        "        nn.ReLU(),\n",
        "        nn.Dropout(p=0.3),\n",
        "        nn.Linear(625,256),\n",
        "        nn.ReLU(),\n",
        "        nn.Linear(256, 4)\n",
        "    )\n",
        "    for param in self.model.parameters():\n",
        "      param.requires_grad = False\n",
        "    for param in self.model.classifier.parameters():\n",
        "      param.requires_grad = True\n",
        "  \n",
        "  def forward(self, x):\n",
        "    output = self.model(x)\n",
        "    return output"
      ],
      "metadata": {
        "id": "i4cYWSMPJfow"
      },
      "execution_count": null,
      "outputs": []
    },
    {
      "cell_type": "markdown",
      "source": [
        "### 모델 선택 함수"
      ],
      "metadata": {
        "id": "Yyy1kCs7PF4J"
      }
    },
    {
      "cell_type": "code",
      "source": [
        "def get_model(model_name:str):\n",
        "  if model_name == 'Custom':\n",
        "    return CustomNet()\n",
        "  if model_name == 'effnet':\n",
        "    return EffNet()"
      ],
      "metadata": {
        "id": "CcP7QdBuNbqw"
      },
      "execution_count": null,
      "outputs": []
    },
    {
      "cell_type": "markdown",
      "source": [
        "## 6. 학습"
      ],
      "metadata": {
        "id": "f8hgXtEwPTS0"
      }
    },
    {
      "cell_type": "markdown",
      "source": [
        "### DataLoader 관련 인자 설정"
      ],
      "metadata": {
        "id": "SCyP6S-jG8Ii"
      }
    },
    {
      "cell_type": "code",
      "source": [
        "# Dataloader 관련 인자\n",
        "BATCH_SIZE = 16\n",
        "NUM_WORKERS = 1\n",
        "SHUFFLE = True\n",
        "PIN_MEMORY = True\n",
        "DROP_LAST = False"
      ],
      "metadata": {
        "id": "bTKFoUfRI3S_"
      },
      "execution_count": null,
      "outputs": []
    },
    {
      "cell_type": "markdown",
      "source": [
        "### Dataset 및 DataLoader 생성\n",
        "\n"
      ],
      "metadata": {
        "id": "el_Flb47wEWk"
      }
    },
    {
      "cell_type": "code",
      "source": [
        "# 데이터 셋 정의\n",
        "train_dataset = AppleDataset(img_folder = TRAIN_IMG_DIR, labelpath = os.path.join(DATA_DIR,'train_labels.csv'))\n",
        "valid_dataset = AppleDataset(img_folder = TRAIN_IMG_DIR, labelpath = os.path.join(DATA_DIR,'val_labels.csv'))\n",
        "\n",
        "# 데이터 로더 정의\n",
        "train_dataloader = DataLoader(dataset = train_dataset,\n",
        "                              batch_size = BATCH_SIZE,\n",
        "                              num_workers = NUM_WORKERS,\n",
        "                              shuffle = SHUFFLE,\n",
        "                              pin_memory = PIN_MEMORY,\n",
        "                              drop_last = DROP_LAST)\n",
        "\n",
        "valid_dataloader = DataLoader(dataset = valid_dataset,\n",
        "                              batch_size = BATCH_SIZE,\n",
        "                              num_workers = NUM_WORKERS,\n",
        "                              shuffle = SHUFFLE,\n",
        "                              pin_memory = PIN_MEMORY,\n",
        "                              drop_last = DROP_LAST)"
      ],
      "metadata": {
        "id": "DHtPTlQKHGpB"
      },
      "execution_count": null,
      "outputs": []
    },
    {
      "cell_type": "markdown",
      "source": [
        "### 모델 설정"
      ],
      "metadata": {
        "id": "KlK0ZZWc-p5C"
      }
    },
    {
      "cell_type": "code",
      "source": [
        "# Hyperparameter 설정\n",
        "LEARNING_RATE = 5e-5\n",
        "EPOCHS = 2"
      ],
      "metadata": {
        "id": "Bzka1IxAKIQm"
      },
      "execution_count": null,
      "outputs": []
    },
    {
      "cell_type": "code",
      "source": [
        "# 모델 불러오기\n",
        "model = get_model('Custom')\n",
        "model.to(device)\n",
        "\n",
        "# Loss와 optimizer 설정\n",
        "criterion = nn.CrossEntropyLoss()\n",
        "optimizer = torch.optim.Adam(model.parameters(), lr = LEARNING_RATE)"
      ],
      "metadata": {
        "id": "4-VK0NvdwWe5"
      },
      "execution_count": null,
      "outputs": []
    },
    {
      "cell_type": "markdown",
      "source": [
        "### 학습 진행"
      ],
      "metadata": {
        "id": "b2nW9Q2rQChe"
      }
    },
    {
      "cell_type": "code",
      "source": [
        "best_loss = np.Inf\n",
        "\n",
        "for epoch in range(EPOCHS):\n",
        "  ### 학습 ###\n",
        "  model.train()  # 모델 학습 적용\n",
        "  \n",
        "  train_total_loss = 0\n",
        "  target_list = [] # 실제 사과 종 추가할 리스트 \n",
        "  pred_list = []  # 예측 사과 종 추가할 리스트\n",
        "  \n",
        "  # train\n",
        "  for batch_index, (x,y) in tqdm(enumerate(train_dataloader)):\n",
        "    x,y = x.to(device), y.to(device)                          # x - image data, y - 실제 label을 GPU로 옮김 \n",
        "    y_pred = model(x)                                         # 모델을 통해 나온 output\n",
        "    loss = criterion(y_pred, y)                               # 실제값 y와 예측값 y_pred로 loss 계산\n",
        "    optimizer.zero_grad()                                     # optimizer 초기화\n",
        "    loss.backward()                                           # gradient 계산\n",
        "    optimizer.step()                                          # 역전파\n",
        "    train_total_loss += loss.item()                           # train_total_loss에 loss값을 누적\n",
        "    pred_list.extend(y_pred.argmax(dim=1).cpu().tolist())     # 예측한 값중 가장 높은 값의 인덱스를 추가\n",
        "    target_list.extend(y.cpu().tolist())                      # 실제 label 인덱스를 추가 \n",
        "  train_mean_loss = train_total_loss / batch_index            # 에폭의 평균 loss\n",
        "  train_accuracy = accuracy_score(target_list, pred_list)     # accuracy_score\n",
        "  train_f1score = f1_score(target_list, pred_list, average='macro')  # macro - f1 Score\n",
        "  \n",
        "  ### 검증 ###\n",
        "  model.eval()                                                # 학습 모드를 검증 모드로 변경\n",
        "  val_total_loss = 0                                          \n",
        "  target_list = []                                            \n",
        "  pred_list = []\n",
        "  with torch.no_grad():                                       # 역전파 하지 않음\n",
        "    for batch_index, (x,y) in tqdm(enumerate(valid_dataloader)):    \n",
        "      x = x.to(device)                                         \n",
        "      y = y.to(device)\n",
        "      y_pred = model(x)\n",
        "      loss = criterion(y_pred, y)\n",
        "      #\n",
        "      val_total_loss += loss.item()\n",
        "      target_list.extend(y.cpu().tolist())\n",
        "      pred_list.extend(y_pred.argmax(dim=1).cpu().tolist())\n",
        "  val_mean_loss = val_total_loss / batch_index\n",
        "  val_accuracy = accuracy_score(target_list, pred_list)\n",
        "  val_f1score = f1_score(target_list, pred_list, average='macro')\n",
        "\n",
        "  msg1 = f\"Epoch {epoch}/{EPOCHS} - Train loss: {train_mean_loss}; Train Accuracy: {train_accuracy}; Train F1: {train_f1score}\"\n",
        "  msg2 = f\"Valid loss: {val_mean_loss}; Val Accuracy: {val_accuracy}; Val F1: {val_f1score}\"\n",
        "  print(msg1)\n",
        "  print(msg2)\n",
        "\n",
        "  ### 결과 저장 ###\n",
        "  # validation loss가 개선될 때 모델 저장\n",
        "  if val_mean_loss < best_loss:                               \n",
        "    best_loss = val_mean_loss\n",
        "    check_point = {                                         \n",
        "        'model': model.state_dict(),\n",
        "        'optimizer': optimizer.state_dict(),\n",
        "    }\n",
        "    torch.save(check_point, os.path.join(RECORDER_DIR,'best.pt')) \n"
      ],
      "metadata": {
        "id": "RoQxieaWB3ML"
      },
      "execution_count": null,
      "outputs": []
    },
    {
      "cell_type": "markdown",
      "source": [
        "## 7. 추론"
      ],
      "metadata": {
        "id": "FPlmetfSKgP-"
      }
    },
    {
      "cell_type": "markdown",
      "source": [
        "### 데이터 셋 설정"
      ],
      "metadata": {
        "id": "lHLZo4HbJQXy"
      }
    },
    {
      "cell_type": "code",
      "source": [
        "class TestDataset(Dataset):\n",
        "  def __init__(self, img_folder, labelpath):\n",
        "    self.df = pd.read_csv(labelpath , usecols=['img_id'],dtype={'img_id':str})\n",
        "    self.img_folder = img_folder\n",
        "    self.transforms = transforms.Compose([\n",
        "    transforms.ToTensor(),\n",
        "    transforms.Normalize([0.485,0.456,0.406],[0.229,0.224,0.225])\n",
        "])\n",
        "    self.img_ids = list(self.df['img_id'])\n",
        "      \n",
        "  def __len__(self):\n",
        "    return len(self.img_ids)\n",
        "  \n",
        "  def __getitem__(self, index):\n",
        "    impath = os.path.join(self.img_folder, self.img_ids[index])\n",
        "    img = Image.open(impath)\n",
        "    img = self.transforms(img)\n",
        "    img_ids = self.img_ids[index]\n",
        "    \n",
        "    return img,img_ids"
      ],
      "metadata": {
        "id": "zwM0vLna9v14"
      },
      "execution_count": null,
      "outputs": []
    },
    {
      "cell_type": "markdown",
      "source": [
        "#### 모델설정"
      ],
      "metadata": {
        "id": "iNFe_nSf_kNO"
      }
    },
    {
      "cell_type": "code",
      "source": [
        "# 모델 Load\n",
        "model = get_model('Custom')\n",
        "checkpoint = torch.load(os.path.join(RECORDER_DIR, 'best.pt'))\n",
        "model.load_state_dict(checkpoint['model'])\n",
        "model.to(device)"
      ],
      "metadata": {
        "id": "A1dhEw_v_hcz"
      },
      "execution_count": null,
      "outputs": []
    },
    {
      "cell_type": "markdown",
      "source": [
        "### Dataset 및 DataLoader 설정"
      ],
      "metadata": {
        "id": "szpYxLCo8XQY"
      }
    },
    {
      "cell_type": "code",
      "source": [
        "# Dataloader 관련 인자\n",
        "BATCH_SIZE = 1\n",
        "NUM_WORKERS = 1\n",
        "SHUFFLE = False\n",
        "PIN_MEMORY = True\n",
        "DROP_LAST = False"
      ],
      "metadata": {
        "id": "i2NiD3Rw8XQY"
      },
      "execution_count": null,
      "outputs": []
    },
    {
      "cell_type": "code",
      "source": [
        "# Dataset\n",
        "test_dataset = TestDataset(img_folder = TEST_IMG_DIR, labelpath = os.path.join(TEST_LABEL_DIR))\n",
        "\n",
        "\n",
        "# DataLoader\n",
        "test_dataloader = DataLoader(dataset = test_dataset,\n",
        "                              batch_size = BATCH_SIZE,\n",
        "                              num_workers = NUM_WORKERS,\n",
        "                              shuffle = SHUFFLE,\n",
        "                              pin_memory = PIN_MEMORY,\n",
        "                              drop_last = DROP_LAST)"
      ],
      "metadata": {
        "id": "EAxtxKHs8XQY"
      },
      "execution_count": null,
      "outputs": []
    },
    {
      "cell_type": "markdown",
      "source": [
        "### 추론 진행"
      ],
      "metadata": {
        "id": "OjitDcMhHAxd"
      }
    },
    {
      "cell_type": "code",
      "source": [
        "model.eval()      # 학습 모드를 검증 모드로 변경\n",
        "\n",
        "# 예측 진행\n",
        "y_preds = []\n",
        "img_ids = []\n",
        "\n",
        "for batch_index, (x, img_id) in enumerate(tqdm(test_dataloader)):\n",
        "    x = x.to(device, dtype=torch.float)\n",
        "    y_logits = model(x).cpu()\n",
        "    y_pred = torch.argmax(y_logits, dim=1)\n",
        "    y_pred = y_pred.cpu().tolist()\n",
        "    img_ids.extend(img_id)\n",
        "    y_preds.extend(y_pred)"
      ],
      "metadata": {
        "id": "FEgKizOPAcgl"
      },
      "execution_count": null,
      "outputs": []
    },
    {
      "cell_type": "markdown",
      "source": [
        "### 추론 결과 저장"
      ],
      "metadata": {
        "id": "TY3p_KNfHTe5"
      }
    },
    {
      "cell_type": "code",
      "source": [
        "# 결과 데이터 프레임 생성 및 라벨 디코딩\n",
        "pred_df = pd.DataFrame(list(zip(img_ids, y_preds)), columns=['img_id','a_type'])\n",
        "label_decoding = {0:'HJ', 1:'HR', 2:'SG', 3:'AR'}\n",
        "pred_df['a_type'] = pred_df['a_type'].replace(label_decoding)"
      ],
      "metadata": {
        "id": "O-xuei1NDQ_V"
      },
      "execution_count": null,
      "outputs": []
    },
    {
      "cell_type": "code",
      "source": [
        "# 샘플과 동일한 순서로 변경\n",
        "sample_df = pd.read_csv(SAMPLE_DIR)\n",
        "sorter = list(sample_df['img_id'])\n",
        "resdf = pred_df.set_index('img_id')\n",
        "result = resdf.loc[sorter].reset_index()"
      ],
      "metadata": {
        "id": "qqJQqpl_Agxb"
      },
      "execution_count": null,
      "outputs": []
    },
    {
      "cell_type": "code",
      "source": [
        "result"
      ],
      "metadata": {
        "id": "JlY6wBkTL-1g"
      },
      "execution_count": null,
      "outputs": []
    },
    {
      "cell_type": "code",
      "source": [
        "result.to_csv(os.path.join(RECORDER_DIR,'result.csv'),index=False)"
      ],
      "metadata": {
        "id": "CkmIwv1qDd0f"
      },
      "execution_count": null,
      "outputs": []
    },
    {
      "cell_type": "code",
      "source": [],
      "metadata": {
        "id": "XXb4vq8yndxV"
      },
      "execution_count": null,
      "outputs": []
    }
  ]
}